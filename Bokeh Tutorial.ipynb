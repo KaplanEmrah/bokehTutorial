{
 "cells": [
  {
   "cell_type": "markdown",
   "metadata": {},
   "source": [
    "## Bokeh Tutorial\n",
    "**Utpal Kumar**\\\n",
    "IES, Academia Sinica"
   ]
  },
  {
   "cell_type": "code",
   "execution_count": 175,
   "metadata": {},
   "outputs": [
    {
     "data": {
      "text/html": [
       "\n",
       "    <div class=\"bk-root\">\n",
       "        <a href=\"https://bokeh.pydata.org\" target=\"_blank\" class=\"bk-logo bk-logo-small bk-logo-notebook\"></a>\n",
       "        <span id=\"58836\">Loading BokehJS ...</span>\n",
       "    </div>"
      ]
     },
     "metadata": {},
     "output_type": "display_data"
    },
    {
     "data": {
      "application/javascript": [
       "\n",
       "(function(root) {\n",
       "  function now() {\n",
       "    return new Date();\n",
       "  }\n",
       "\n",
       "  var force = true;\n",
       "\n",
       "  if (typeof root._bokeh_onload_callbacks === \"undefined\" || force === true) {\n",
       "    root._bokeh_onload_callbacks = [];\n",
       "    root._bokeh_is_loading = undefined;\n",
       "  }\n",
       "\n",
       "  var JS_MIME_TYPE = 'application/javascript';\n",
       "  var HTML_MIME_TYPE = 'text/html';\n",
       "  var EXEC_MIME_TYPE = 'application/vnd.bokehjs_exec.v0+json';\n",
       "  var CLASS_NAME = 'output_bokeh rendered_html';\n",
       "\n",
       "  /**\n",
       "   * Render data to the DOM node\n",
       "   */\n",
       "  function render(props, node) {\n",
       "    var script = document.createElement(\"script\");\n",
       "    node.appendChild(script);\n",
       "  }\n",
       "\n",
       "  /**\n",
       "   * Handle when an output is cleared or removed\n",
       "   */\n",
       "  function handleClearOutput(event, handle) {\n",
       "    var cell = handle.cell;\n",
       "\n",
       "    var id = cell.output_area._bokeh_element_id;\n",
       "    var server_id = cell.output_area._bokeh_server_id;\n",
       "    // Clean up Bokeh references\n",
       "    if (id != null && id in Bokeh.index) {\n",
       "      Bokeh.index[id].model.document.clear();\n",
       "      delete Bokeh.index[id];\n",
       "    }\n",
       "\n",
       "    if (server_id !== undefined) {\n",
       "      // Clean up Bokeh references\n",
       "      var cmd = \"from bokeh.io.state import curstate; print(curstate().uuid_to_server['\" + server_id + \"'].get_sessions()[0].document.roots[0]._id)\";\n",
       "      cell.notebook.kernel.execute(cmd, {\n",
       "        iopub: {\n",
       "          output: function(msg) {\n",
       "            var id = msg.content.text.trim();\n",
       "            if (id in Bokeh.index) {\n",
       "              Bokeh.index[id].model.document.clear();\n",
       "              delete Bokeh.index[id];\n",
       "            }\n",
       "          }\n",
       "        }\n",
       "      });\n",
       "      // Destroy server and session\n",
       "      var cmd = \"import bokeh.io.notebook as ion; ion.destroy_server('\" + server_id + \"')\";\n",
       "      cell.notebook.kernel.execute(cmd);\n",
       "    }\n",
       "  }\n",
       "\n",
       "  /**\n",
       "   * Handle when a new output is added\n",
       "   */\n",
       "  function handleAddOutput(event, handle) {\n",
       "    var output_area = handle.output_area;\n",
       "    var output = handle.output;\n",
       "\n",
       "    // limit handleAddOutput to display_data with EXEC_MIME_TYPE content only\n",
       "    if ((output.output_type != \"display_data\") || (!output.data.hasOwnProperty(EXEC_MIME_TYPE))) {\n",
       "      return\n",
       "    }\n",
       "\n",
       "    var toinsert = output_area.element.find(\".\" + CLASS_NAME.split(' ')[0]);\n",
       "\n",
       "    if (output.metadata[EXEC_MIME_TYPE][\"id\"] !== undefined) {\n",
       "      toinsert[toinsert.length - 1].firstChild.textContent = output.data[JS_MIME_TYPE];\n",
       "      // store reference to embed id on output_area\n",
       "      output_area._bokeh_element_id = output.metadata[EXEC_MIME_TYPE][\"id\"];\n",
       "    }\n",
       "    if (output.metadata[EXEC_MIME_TYPE][\"server_id\"] !== undefined) {\n",
       "      var bk_div = document.createElement(\"div\");\n",
       "      bk_div.innerHTML = output.data[HTML_MIME_TYPE];\n",
       "      var script_attrs = bk_div.children[0].attributes;\n",
       "      for (var i = 0; i < script_attrs.length; i++) {\n",
       "        toinsert[toinsert.length - 1].firstChild.setAttribute(script_attrs[i].name, script_attrs[i].value);\n",
       "      }\n",
       "      // store reference to server id on output_area\n",
       "      output_area._bokeh_server_id = output.metadata[EXEC_MIME_TYPE][\"server_id\"];\n",
       "    }\n",
       "  }\n",
       "\n",
       "  function register_renderer(events, OutputArea) {\n",
       "\n",
       "    function append_mime(data, metadata, element) {\n",
       "      // create a DOM node to render to\n",
       "      var toinsert = this.create_output_subarea(\n",
       "        metadata,\n",
       "        CLASS_NAME,\n",
       "        EXEC_MIME_TYPE\n",
       "      );\n",
       "      this.keyboard_manager.register_events(toinsert);\n",
       "      // Render to node\n",
       "      var props = {data: data, metadata: metadata[EXEC_MIME_TYPE]};\n",
       "      render(props, toinsert[toinsert.length - 1]);\n",
       "      element.append(toinsert);\n",
       "      return toinsert\n",
       "    }\n",
       "\n",
       "    /* Handle when an output is cleared or removed */\n",
       "    events.on('clear_output.CodeCell', handleClearOutput);\n",
       "    events.on('delete.Cell', handleClearOutput);\n",
       "\n",
       "    /* Handle when a new output is added */\n",
       "    events.on('output_added.OutputArea', handleAddOutput);\n",
       "\n",
       "    /**\n",
       "     * Register the mime type and append_mime function with output_area\n",
       "     */\n",
       "    OutputArea.prototype.register_mime_type(EXEC_MIME_TYPE, append_mime, {\n",
       "      /* Is output safe? */\n",
       "      safe: true,\n",
       "      /* Index of renderer in `output_area.display_order` */\n",
       "      index: 0\n",
       "    });\n",
       "  }\n",
       "\n",
       "  // register the mime type if in Jupyter Notebook environment and previously unregistered\n",
       "  if (root.Jupyter !== undefined) {\n",
       "    var events = require('base/js/events');\n",
       "    var OutputArea = require('notebook/js/outputarea').OutputArea;\n",
       "\n",
       "    if (OutputArea.prototype.mime_types().indexOf(EXEC_MIME_TYPE) == -1) {\n",
       "      register_renderer(events, OutputArea);\n",
       "    }\n",
       "  }\n",
       "\n",
       "  \n",
       "  if (typeof (root._bokeh_timeout) === \"undefined\" || force === true) {\n",
       "    root._bokeh_timeout = Date.now() + 5000;\n",
       "    root._bokeh_failed_load = false;\n",
       "  }\n",
       "\n",
       "  var NB_LOAD_WARNING = {'data': {'text/html':\n",
       "     \"<div style='background-color: #fdd'>\\n\"+\n",
       "     \"<p>\\n\"+\n",
       "     \"BokehJS does not appear to have successfully loaded. If loading BokehJS from CDN, this \\n\"+\n",
       "     \"may be due to a slow or bad network connection. Possible fixes:\\n\"+\n",
       "     \"</p>\\n\"+\n",
       "     \"<ul>\\n\"+\n",
       "     \"<li>re-rerun `output_notebook()` to attempt to load from CDN again, or</li>\\n\"+\n",
       "     \"<li>use INLINE resources instead, as so:</li>\\n\"+\n",
       "     \"</ul>\\n\"+\n",
       "     \"<code>\\n\"+\n",
       "     \"from bokeh.resources import INLINE\\n\"+\n",
       "     \"output_notebook(resources=INLINE)\\n\"+\n",
       "     \"</code>\\n\"+\n",
       "     \"</div>\"}};\n",
       "\n",
       "  function display_loaded() {\n",
       "    var el = document.getElementById(\"58836\");\n",
       "    if (el != null) {\n",
       "      el.textContent = \"BokehJS is loading...\";\n",
       "    }\n",
       "    if (root.Bokeh !== undefined) {\n",
       "      if (el != null) {\n",
       "        el.textContent = \"BokehJS \" + root.Bokeh.version + \" successfully loaded.\";\n",
       "      }\n",
       "    } else if (Date.now() < root._bokeh_timeout) {\n",
       "      setTimeout(display_loaded, 100)\n",
       "    }\n",
       "  }\n",
       "\n",
       "\n",
       "  function run_callbacks() {\n",
       "    try {\n",
       "      root._bokeh_onload_callbacks.forEach(function(callback) {\n",
       "        if (callback != null)\n",
       "          callback();\n",
       "      });\n",
       "    } finally {\n",
       "      delete root._bokeh_onload_callbacks\n",
       "    }\n",
       "    console.debug(\"Bokeh: all callbacks have finished\");\n",
       "  }\n",
       "\n",
       "  function load_libs(css_urls, js_urls, callback) {\n",
       "    if (css_urls == null) css_urls = [];\n",
       "    if (js_urls == null) js_urls = [];\n",
       "\n",
       "    root._bokeh_onload_callbacks.push(callback);\n",
       "    if (root._bokeh_is_loading > 0) {\n",
       "      console.debug(\"Bokeh: BokehJS is being loaded, scheduling callback at\", now());\n",
       "      return null;\n",
       "    }\n",
       "    if (js_urls == null || js_urls.length === 0) {\n",
       "      run_callbacks();\n",
       "      return null;\n",
       "    }\n",
       "    console.debug(\"Bokeh: BokehJS not loaded, scheduling load and callback at\", now());\n",
       "    root._bokeh_is_loading = css_urls.length + js_urls.length;\n",
       "\n",
       "    function on_load() {\n",
       "      root._bokeh_is_loading--;\n",
       "      if (root._bokeh_is_loading === 0) {\n",
       "        console.debug(\"Bokeh: all BokehJS libraries/stylesheets loaded\");\n",
       "        run_callbacks()\n",
       "      }\n",
       "    }\n",
       "\n",
       "    function on_error() {\n",
       "      console.error(\"failed to load \" + url);\n",
       "    }\n",
       "\n",
       "    for (var i = 0; i < css_urls.length; i++) {\n",
       "      var url = css_urls[i];\n",
       "      const element = document.createElement(\"link\");\n",
       "      element.onload = on_load;\n",
       "      element.onerror = on_error;\n",
       "      element.rel = \"stylesheet\";\n",
       "      element.type = \"text/css\";\n",
       "      element.href = url;\n",
       "      console.debug(\"Bokeh: injecting link tag for BokehJS stylesheet: \", url);\n",
       "      document.body.appendChild(element);\n",
       "    }\n",
       "\n",
       "    for (var i = 0; i < js_urls.length; i++) {\n",
       "      var url = js_urls[i];\n",
       "      var element = document.createElement('script');\n",
       "      element.onload = on_load;\n",
       "      element.onerror = on_error;\n",
       "      element.async = false;\n",
       "      element.src = url;\n",
       "      console.debug(\"Bokeh: injecting script tag for BokehJS library: \", url);\n",
       "      document.head.appendChild(element);\n",
       "    }\n",
       "  };var element = document.getElementById(\"58836\");\n",
       "  if (element == null) {\n",
       "    console.error(\"Bokeh: ERROR: autoload.js configured with elementid '58836' but no matching script tag was found. \")\n",
       "    return false;\n",
       "  }\n",
       "\n",
       "  function inject_raw_css(css) {\n",
       "    const element = document.createElement(\"style\");\n",
       "    element.appendChild(document.createTextNode(css));\n",
       "    document.body.appendChild(element);\n",
       "  }\n",
       "\n",
       "  var js_urls = [\"https://cdn.pydata.org/bokeh/release/bokeh-1.3.4.min.js\", \"https://cdn.pydata.org/bokeh/release/bokeh-widgets-1.3.4.min.js\", \"https://cdn.pydata.org/bokeh/release/bokeh-tables-1.3.4.min.js\", \"https://cdn.pydata.org/bokeh/release/bokeh-gl-1.3.4.min.js\"];\n",
       "  var css_urls = [];\n",
       "\n",
       "  var inline_js = [\n",
       "    function(Bokeh) {\n",
       "      Bokeh.set_log_level(\"info\");\n",
       "    },\n",
       "    \n",
       "    function(Bokeh) {\n",
       "      \n",
       "    },\n",
       "    function(Bokeh) {} // ensure no trailing comma for IE\n",
       "  ];\n",
       "\n",
       "  function run_inline_js() {\n",
       "    \n",
       "    if ((root.Bokeh !== undefined) || (force === true)) {\n",
       "      for (var i = 0; i < inline_js.length; i++) {\n",
       "        inline_js[i].call(root, root.Bokeh);\n",
       "      }if (force === true) {\n",
       "        display_loaded();\n",
       "      }} else if (Date.now() < root._bokeh_timeout) {\n",
       "      setTimeout(run_inline_js, 100);\n",
       "    } else if (!root._bokeh_failed_load) {\n",
       "      console.log(\"Bokeh: BokehJS failed to load within specified timeout.\");\n",
       "      root._bokeh_failed_load = true;\n",
       "    } else if (force !== true) {\n",
       "      var cell = $(document.getElementById(\"58836\")).parents('.cell').data().cell;\n",
       "      cell.output_area.append_execute_result(NB_LOAD_WARNING)\n",
       "    }\n",
       "\n",
       "  }\n",
       "\n",
       "  if (root._bokeh_is_loading === 0) {\n",
       "    console.debug(\"Bokeh: BokehJS loaded, going straight to plotting\");\n",
       "    run_inline_js();\n",
       "  } else {\n",
       "    load_libs(css_urls, js_urls, function() {\n",
       "      console.debug(\"Bokeh: BokehJS plotting callback run at\", now());\n",
       "      run_inline_js();\n",
       "    });\n",
       "  }\n",
       "}(window));"
      ],
      "application/vnd.bokehjs_load.v0+json": "\n(function(root) {\n  function now() {\n    return new Date();\n  }\n\n  var force = true;\n\n  if (typeof root._bokeh_onload_callbacks === \"undefined\" || force === true) {\n    root._bokeh_onload_callbacks = [];\n    root._bokeh_is_loading = undefined;\n  }\n\n  \n\n  \n  if (typeof (root._bokeh_timeout) === \"undefined\" || force === true) {\n    root._bokeh_timeout = Date.now() + 5000;\n    root._bokeh_failed_load = false;\n  }\n\n  var NB_LOAD_WARNING = {'data': {'text/html':\n     \"<div style='background-color: #fdd'>\\n\"+\n     \"<p>\\n\"+\n     \"BokehJS does not appear to have successfully loaded. If loading BokehJS from CDN, this \\n\"+\n     \"may be due to a slow or bad network connection. Possible fixes:\\n\"+\n     \"</p>\\n\"+\n     \"<ul>\\n\"+\n     \"<li>re-rerun `output_notebook()` to attempt to load from CDN again, or</li>\\n\"+\n     \"<li>use INLINE resources instead, as so:</li>\\n\"+\n     \"</ul>\\n\"+\n     \"<code>\\n\"+\n     \"from bokeh.resources import INLINE\\n\"+\n     \"output_notebook(resources=INLINE)\\n\"+\n     \"</code>\\n\"+\n     \"</div>\"}};\n\n  function display_loaded() {\n    var el = document.getElementById(\"58836\");\n    if (el != null) {\n      el.textContent = \"BokehJS is loading...\";\n    }\n    if (root.Bokeh !== undefined) {\n      if (el != null) {\n        el.textContent = \"BokehJS \" + root.Bokeh.version + \" successfully loaded.\";\n      }\n    } else if (Date.now() < root._bokeh_timeout) {\n      setTimeout(display_loaded, 100)\n    }\n  }\n\n\n  function run_callbacks() {\n    try {\n      root._bokeh_onload_callbacks.forEach(function(callback) {\n        if (callback != null)\n          callback();\n      });\n    } finally {\n      delete root._bokeh_onload_callbacks\n    }\n    console.debug(\"Bokeh: all callbacks have finished\");\n  }\n\n  function load_libs(css_urls, js_urls, callback) {\n    if (css_urls == null) css_urls = [];\n    if (js_urls == null) js_urls = [];\n\n    root._bokeh_onload_callbacks.push(callback);\n    if (root._bokeh_is_loading > 0) {\n      console.debug(\"Bokeh: BokehJS is being loaded, scheduling callback at\", now());\n      return null;\n    }\n    if (js_urls == null || js_urls.length === 0) {\n      run_callbacks();\n      return null;\n    }\n    console.debug(\"Bokeh: BokehJS not loaded, scheduling load and callback at\", now());\n    root._bokeh_is_loading = css_urls.length + js_urls.length;\n\n    function on_load() {\n      root._bokeh_is_loading--;\n      if (root._bokeh_is_loading === 0) {\n        console.debug(\"Bokeh: all BokehJS libraries/stylesheets loaded\");\n        run_callbacks()\n      }\n    }\n\n    function on_error() {\n      console.error(\"failed to load \" + url);\n    }\n\n    for (var i = 0; i < css_urls.length; i++) {\n      var url = css_urls[i];\n      const element = document.createElement(\"link\");\n      element.onload = on_load;\n      element.onerror = on_error;\n      element.rel = \"stylesheet\";\n      element.type = \"text/css\";\n      element.href = url;\n      console.debug(\"Bokeh: injecting link tag for BokehJS stylesheet: \", url);\n      document.body.appendChild(element);\n    }\n\n    for (var i = 0; i < js_urls.length; i++) {\n      var url = js_urls[i];\n      var element = document.createElement('script');\n      element.onload = on_load;\n      element.onerror = on_error;\n      element.async = false;\n      element.src = url;\n      console.debug(\"Bokeh: injecting script tag for BokehJS library: \", url);\n      document.head.appendChild(element);\n    }\n  };var element = document.getElementById(\"58836\");\n  if (element == null) {\n    console.error(\"Bokeh: ERROR: autoload.js configured with elementid '58836' but no matching script tag was found. \")\n    return false;\n  }\n\n  function inject_raw_css(css) {\n    const element = document.createElement(\"style\");\n    element.appendChild(document.createTextNode(css));\n    document.body.appendChild(element);\n  }\n\n  var js_urls = [\"https://cdn.pydata.org/bokeh/release/bokeh-1.3.4.min.js\", \"https://cdn.pydata.org/bokeh/release/bokeh-widgets-1.3.4.min.js\", \"https://cdn.pydata.org/bokeh/release/bokeh-tables-1.3.4.min.js\", \"https://cdn.pydata.org/bokeh/release/bokeh-gl-1.3.4.min.js\"];\n  var css_urls = [];\n\n  var inline_js = [\n    function(Bokeh) {\n      Bokeh.set_log_level(\"info\");\n    },\n    \n    function(Bokeh) {\n      \n    },\n    function(Bokeh) {} // ensure no trailing comma for IE\n  ];\n\n  function run_inline_js() {\n    \n    if ((root.Bokeh !== undefined) || (force === true)) {\n      for (var i = 0; i < inline_js.length; i++) {\n        inline_js[i].call(root, root.Bokeh);\n      }if (force === true) {\n        display_loaded();\n      }} else if (Date.now() < root._bokeh_timeout) {\n      setTimeout(run_inline_js, 100);\n    } else if (!root._bokeh_failed_load) {\n      console.log(\"Bokeh: BokehJS failed to load within specified timeout.\");\n      root._bokeh_failed_load = true;\n    } else if (force !== true) {\n      var cell = $(document.getElementById(\"58836\")).parents('.cell').data().cell;\n      cell.output_area.append_execute_result(NB_LOAD_WARNING)\n    }\n\n  }\n\n  if (root._bokeh_is_loading === 0) {\n    console.debug(\"Bokeh: BokehJS loaded, going straight to plotting\");\n    run_inline_js();\n  } else {\n    load_libs(css_urls, js_urls, function() {\n      console.debug(\"Bokeh: BokehJS plotting callback run at\", now());\n      run_inline_js();\n    });\n  }\n}(window));"
     },
     "metadata": {},
     "output_type": "display_data"
    }
   ],
   "source": [
    "import numpy as np\n",
    "from bokeh.plotting import figure\n",
    "from bokeh.io import output_file, save, show, output_notebook\n",
    "output_notebook()"
   ]
  },
  {
   "cell_type": "markdown",
   "metadata": {},
   "source": [
    "### Reference\n",
    "https://bokeh.pydata.org/en/latest/docs/reference.html"
   ]
  },
  {
   "cell_type": "markdown",
   "metadata": {},
   "source": [
    "### Step 1: \n",
    "Let's make some fake data and quickly plot it interactively"
   ]
  },
  {
   "cell_type": "markdown",
   "metadata": {},
   "source": [
    "We can set the figure size as the arguments of the figure object."
   ]
  },
  {
   "cell_type": "code",
   "execution_count": 176,
   "metadata": {
    "scrolled": false
   },
   "outputs": [
    {
     "data": {
      "text/html": [
       "\n",
       "\n",
       "\n",
       "\n",
       "\n",
       "\n",
       "  <div class=\"bk-root\" id=\"5a700c76-5009-426f-ba4d-8d25d771de23\" data-root-id=\"58837\"></div>\n"
      ]
     },
     "metadata": {},
     "output_type": "display_data"
    },
    {
     "data": {
      "application/javascript": [
       "(function(root) {\n",
       "  function embed_document(root) {\n",
       "    \n",
       "  var docs_json = {\"18c904d2-6d7d-407e-a4c9-a23e07a8d66f\":{\"roots\":{\"references\":[{\"attributes\":{\"below\":[{\"id\":\"58846\",\"type\":\"LinearAxis\"}],\"center\":[{\"id\":\"58850\",\"type\":\"Grid\"},{\"id\":\"58855\",\"type\":\"Grid\"}],\"left\":[{\"id\":\"58851\",\"type\":\"LinearAxis\"}],\"plot_height\":300,\"plot_width\":300,\"renderers\":[{\"id\":\"58872\",\"type\":\"GlyphRenderer\"}],\"title\":{\"id\":\"59910\",\"type\":\"Title\"},\"toolbar\":{\"id\":\"58862\",\"type\":\"Toolbar\"},\"x_range\":{\"id\":\"58838\",\"type\":\"DataRange1d\"},\"x_scale\":{\"id\":\"58842\",\"type\":\"LinearScale\"},\"y_range\":{\"id\":\"58840\",\"type\":\"DataRange1d\"},\"y_scale\":{\"id\":\"58844\",\"type\":\"LinearScale\"}},\"id\":\"58837\",\"subtype\":\"Figure\",\"type\":\"Plot\"},{\"attributes\":{},\"id\":\"58856\",\"type\":\"PanTool\"},{\"attributes\":{\"source\":{\"id\":\"58869\",\"type\":\"ColumnDataSource\"}},\"id\":\"58873\",\"type\":\"CDSView\"},{\"attributes\":{\"text\":\"\"},\"id\":\"59910\",\"type\":\"Title\"},{\"attributes\":{},\"id\":\"59917\",\"type\":\"UnionRenderers\"},{\"attributes\":{\"formatter\":{\"id\":\"59913\",\"type\":\"BasicTickFormatter\"},\"ticker\":{\"id\":\"58847\",\"type\":\"BasicTicker\"}},\"id\":\"58846\",\"type\":\"LinearAxis\"},{\"attributes\":{},\"id\":\"59913\",\"type\":\"BasicTickFormatter\"},{\"attributes\":{},\"id\":\"58847\",\"type\":\"BasicTicker\"},{\"attributes\":{\"dimension\":1,\"ticker\":{\"id\":\"58852\",\"type\":\"BasicTicker\"}},\"id\":\"58855\",\"type\":\"Grid\"},{\"attributes\":{\"fill_alpha\":{\"value\":0.1},\"fill_color\":{\"value\":\"#1f77b4\"},\"line_alpha\":{\"value\":0.1},\"line_color\":{\"value\":\"#1f77b4\"},\"x\":{\"field\":\"x\"},\"y\":{\"field\":\"y\"}},\"id\":\"58871\",\"type\":\"Circle\"},{\"attributes\":{\"callback\":null},\"id\":\"58840\",\"type\":\"DataRange1d\"},{\"attributes\":{},\"id\":\"58842\",\"type\":\"LinearScale\"},{\"attributes\":{\"overlay\":{\"id\":\"59915\",\"type\":\"BoxAnnotation\"}},\"id\":\"58858\",\"type\":\"BoxZoomTool\"},{\"attributes\":{\"formatter\":{\"id\":\"59911\",\"type\":\"BasicTickFormatter\"},\"ticker\":{\"id\":\"58852\",\"type\":\"BasicTicker\"}},\"id\":\"58851\",\"type\":\"LinearAxis\"},{\"attributes\":{\"callback\":null},\"id\":\"58838\",\"type\":\"DataRange1d\"},{\"attributes\":{},\"id\":\"58861\",\"type\":\"HelpTool\"},{\"attributes\":{\"callback\":null,\"data\":{\"x\":[1,2,3,4,5],\"y\":[6,7,8,9,10]},\"selected\":{\"id\":\"59916\",\"type\":\"Selection\"},\"selection_policy\":{\"id\":\"59917\",\"type\":\"UnionRenderers\"}},\"id\":\"58869\",\"type\":\"ColumnDataSource\"},{\"attributes\":{\"fill_color\":{\"value\":\"#1f77b4\"},\"line_color\":{\"value\":\"#1f77b4\"},\"x\":{\"field\":\"x\"},\"y\":{\"field\":\"y\"}},\"id\":\"58870\",\"type\":\"Circle\"},{\"attributes\":{\"bottom_units\":\"screen\",\"fill_alpha\":{\"value\":0.5},\"fill_color\":{\"value\":\"lightgrey\"},\"left_units\":\"screen\",\"level\":\"overlay\",\"line_alpha\":{\"value\":1.0},\"line_color\":{\"value\":\"black\"},\"line_dash\":[4,4],\"line_width\":{\"value\":2},\"render_mode\":\"css\",\"right_units\":\"screen\",\"top_units\":\"screen\"},\"id\":\"59915\",\"type\":\"BoxAnnotation\"},{\"attributes\":{},\"id\":\"59916\",\"type\":\"Selection\"},{\"attributes\":{},\"id\":\"58857\",\"type\":\"WheelZoomTool\"},{\"attributes\":{\"data_source\":{\"id\":\"58869\",\"type\":\"ColumnDataSource\"},\"glyph\":{\"id\":\"58870\",\"type\":\"Circle\"},\"hover_glyph\":null,\"muted_glyph\":null,\"nonselection_glyph\":{\"id\":\"58871\",\"type\":\"Circle\"},\"selection_glyph\":null,\"view\":{\"id\":\"58873\",\"type\":\"CDSView\"}},\"id\":\"58872\",\"type\":\"GlyphRenderer\"},{\"attributes\":{},\"id\":\"59911\",\"type\":\"BasicTickFormatter\"},{\"attributes\":{},\"id\":\"58852\",\"type\":\"BasicTicker\"},{\"attributes\":{},\"id\":\"58844\",\"type\":\"LinearScale\"},{\"attributes\":{\"active_drag\":\"auto\",\"active_inspect\":\"auto\",\"active_multi\":null,\"active_scroll\":\"auto\",\"active_tap\":\"auto\",\"tools\":[{\"id\":\"58856\",\"type\":\"PanTool\"},{\"id\":\"58857\",\"type\":\"WheelZoomTool\"},{\"id\":\"58858\",\"type\":\"BoxZoomTool\"},{\"id\":\"58859\",\"type\":\"SaveTool\"},{\"id\":\"58860\",\"type\":\"ResetTool\"},{\"id\":\"58861\",\"type\":\"HelpTool\"}]},\"id\":\"58862\",\"type\":\"Toolbar\"},{\"attributes\":{},\"id\":\"58859\",\"type\":\"SaveTool\"},{\"attributes\":{\"ticker\":{\"id\":\"58847\",\"type\":\"BasicTicker\"}},\"id\":\"58850\",\"type\":\"Grid\"},{\"attributes\":{},\"id\":\"58860\",\"type\":\"ResetTool\"}],\"root_ids\":[\"58837\"]},\"title\":\"Bokeh Application\",\"version\":\"1.3.4\"}};\n",
       "  var render_items = [{\"docid\":\"18c904d2-6d7d-407e-a4c9-a23e07a8d66f\",\"roots\":{\"58837\":\"5a700c76-5009-426f-ba4d-8d25d771de23\"}}];\n",
       "  root.Bokeh.embed.embed_items_notebook(docs_json, render_items);\n",
       "\n",
       "  }\n",
       "  if (root.Bokeh !== undefined) {\n",
       "    embed_document(root);\n",
       "  } else {\n",
       "    var attempts = 0;\n",
       "    var timer = setInterval(function(root) {\n",
       "      if (root.Bokeh !== undefined) {\n",
       "        embed_document(root);\n",
       "        clearInterval(timer);\n",
       "      }\n",
       "      attempts++;\n",
       "      if (attempts > 100) {\n",
       "        console.log(\"Bokeh: ERROR: Unable to run BokehJS code because BokehJS library is missing\");\n",
       "        clearInterval(timer);\n",
       "      }\n",
       "    }, 10, root)\n",
       "  }\n",
       "})(window);"
      ],
      "application/vnd.bokehjs_exec.v0+json": ""
     },
     "metadata": {
      "application/vnd.bokehjs_exec.v0+json": {
       "id": "58837"
      }
     },
     "output_type": "display_data"
    }
   ],
   "source": [
    "x = [1,2,3,4,5]\n",
    "y = [6,7,8,9,10]\n",
    "p = figure(plot_width=300, plot_height=300)\n",
    "circ=p.circle(x,y)\n",
    "show(p)"
   ]
  },
  {
   "cell_type": "code",
   "execution_count": 177,
   "metadata": {},
   "outputs": [
    {
     "data": {
      "text/plain": [
       "['__cached_all__overridden_defaults__',\n",
       " '__cached_all__properties__',\n",
       " '__cached_all__properties_with_refs__',\n",
       " '__class__',\n",
       " '__container_props__',\n",
       " '__dataspecs__',\n",
       " '__delattr__',\n",
       " '__dict__',\n",
       " '__dir__',\n",
       " '__doc__',\n",
       " '__eq__',\n",
       " '__format__',\n",
       " '__ge__',\n",
       " '__getattribute__',\n",
       " '__gt__',\n",
       " '__hash__',\n",
       " '__init__',\n",
       " '__init_subclass__',\n",
       " '__le__',\n",
       " '__lt__',\n",
       " '__module__',\n",
       " '__ne__',\n",
       " '__new__',\n",
       " '__overridden_defaults__',\n",
       " '__properties__',\n",
       " '__properties_with_refs__',\n",
       " '__reduce__',\n",
       " '__reduce_ex__',\n",
       " '__repr__',\n",
       " '__setattr__',\n",
       " '__sizeof__',\n",
       " '__str__',\n",
       " '__subclasshook__',\n",
       " '__subtype__',\n",
       " '__view_model__',\n",
       " '__weakref__',\n",
       " '_attach_document',\n",
       " '_axis',\n",
       " '_callbacks',\n",
       " '_check_bad_extra_range_name',\n",
       " '_check_compatible_scale_and_ranges',\n",
       " '_check_fixed_height_policy',\n",
       " '_check_fixed_sizing_mode',\n",
       " '_check_fixed_width_policy',\n",
       " '_check_missing_renderers',\n",
       " '_check_required_range',\n",
       " '_check_required_scale',\n",
       " '_clear_extensions',\n",
       " '_clone',\n",
       " '_detach_document',\n",
       " '_document',\n",
       " '_event_callbacks',\n",
       " '_grid',\n",
       " '_id',\n",
       " '_line_stack',\n",
       " '_min_preferred_max_height',\n",
       " '_min_preferred_max_width',\n",
       " '_overridden_defaults',\n",
       " '_property_values',\n",
       " '_repr_html_',\n",
       " '_scale',\n",
       " '_scatter',\n",
       " '_temp_document',\n",
       " '_to_json_like',\n",
       " '_trigger_event',\n",
       " '_unstable_default_values',\n",
       " '_unstable_themed_values',\n",
       " '_update_event_callbacks',\n",
       " 'above',\n",
       " 'add_glyph',\n",
       " 'add_layout',\n",
       " 'add_tile',\n",
       " 'add_tools',\n",
       " 'align',\n",
       " 'annular_wedge',\n",
       " 'annulus',\n",
       " 'apply_theme',\n",
       " 'arc',\n",
       " 'aspect_ratio',\n",
       " 'aspect_scale',\n",
       " 'asterisk',\n",
       " 'axis',\n",
       " 'background',\n",
       " 'background_fill_alpha',\n",
       " 'background_fill_color',\n",
       " 'below',\n",
       " 'bezier',\n",
       " 'border_fill_alpha',\n",
       " 'border_fill_color',\n",
       " 'center',\n",
       " 'circle',\n",
       " 'circle_cross',\n",
       " 'circle_x',\n",
       " 'column',\n",
       " 'cross',\n",
       " 'css_classes',\n",
       " 'dash',\n",
       " 'dataspecs',\n",
       " 'dataspecs_with_props',\n",
       " 'diamond',\n",
       " 'diamond_cross',\n",
       " 'disabled',\n",
       " 'document',\n",
       " 'ellipse',\n",
       " 'equals',\n",
       " 'extra_x_ranges',\n",
       " 'extra_y_ranges',\n",
       " 'frame_height',\n",
       " 'frame_width',\n",
       " 'graph',\n",
       " 'grid',\n",
       " 'h_symmetry',\n",
       " 'harea',\n",
       " 'harea_stack',\n",
       " 'hbar',\n",
       " 'hbar_stack',\n",
       " 'height',\n",
       " 'height_policy',\n",
       " 'hex',\n",
       " 'hex_tile',\n",
       " 'hexbin',\n",
       " 'hidpi',\n",
       " 'hline_stack',\n",
       " 'hover',\n",
       " 'id',\n",
       " 'image',\n",
       " 'image_rgba',\n",
       " 'image_url',\n",
       " 'inner_height',\n",
       " 'inner_width',\n",
       " 'inverted_triangle',\n",
       " 'js_event_callbacks',\n",
       " 'js_link',\n",
       " 'js_on_change',\n",
       " 'js_on_event',\n",
       " 'js_property_callbacks',\n",
       " 'layout',\n",
       " 'left',\n",
       " 'legend',\n",
       " 'line',\n",
       " 'lod_factor',\n",
       " 'lod_interval',\n",
       " 'lod_threshold',\n",
       " 'lod_timeout',\n",
       " 'lookup',\n",
       " 'margin',\n",
       " 'match_aspect',\n",
       " 'max_height',\n",
       " 'max_width',\n",
       " 'min_border',\n",
       " 'min_border_bottom',\n",
       " 'min_border_left',\n",
       " 'min_border_right',\n",
       " 'min_border_top',\n",
       " 'min_height',\n",
       " 'min_width',\n",
       " 'multi_line',\n",
       " 'multi_polygons',\n",
       " 'name',\n",
       " 'on_change',\n",
       " 'on_event',\n",
       " 'outer_height',\n",
       " 'outer_width',\n",
       " 'outline_line_alpha',\n",
       " 'outline_line_cap',\n",
       " 'outline_line_color',\n",
       " 'outline_line_dash',\n",
       " 'outline_line_dash_offset',\n",
       " 'outline_line_join',\n",
       " 'outline_line_width',\n",
       " 'output_backend',\n",
       " 'oval',\n",
       " 'patch',\n",
       " 'patches',\n",
       " 'plot_height',\n",
       " 'plot_width',\n",
       " 'properties',\n",
       " 'properties_containers',\n",
       " 'properties_with_refs',\n",
       " 'properties_with_values',\n",
       " 'quad',\n",
       " 'quadratic',\n",
       " 'query_properties_with_values',\n",
       " 'ray',\n",
       " 'rect',\n",
       " 'ref',\n",
       " 'references',\n",
       " 'remove_on_change',\n",
       " 'renderers',\n",
       " 'reset_policy',\n",
       " 'right',\n",
       " 'row',\n",
       " 'scatter',\n",
       " 'segment',\n",
       " 'select',\n",
       " 'select_one',\n",
       " 'set_from_json',\n",
       " 'set_select',\n",
       " 'sizing_mode',\n",
       " 'square',\n",
       " 'square_cross',\n",
       " 'square_x',\n",
       " 'step',\n",
       " 'subscribed_events',\n",
       " 'tags',\n",
       " 'text',\n",
       " 'themed_values',\n",
       " 'title',\n",
       " 'title_location',\n",
       " 'to_json',\n",
       " 'to_json_string',\n",
       " 'toolbar',\n",
       " 'toolbar_location',\n",
       " 'toolbar_sticky',\n",
       " 'tools',\n",
       " 'triangle',\n",
       " 'trigger',\n",
       " 'unapply_theme',\n",
       " 'update',\n",
       " 'update_from_json',\n",
       " 'v_symmetry',\n",
       " 'varea',\n",
       " 'varea_stack',\n",
       " 'vbar',\n",
       " 'vbar_stack',\n",
       " 'visible',\n",
       " 'vline_stack',\n",
       " 'wedge',\n",
       " 'width',\n",
       " 'width_policy',\n",
       " 'x',\n",
       " 'x_range',\n",
       " 'x_scale',\n",
       " 'xaxis',\n",
       " 'xgrid',\n",
       " 'y_range',\n",
       " 'y_scale',\n",
       " 'yaxis',\n",
       " 'ygrid']"
      ]
     },
     "execution_count": 177,
     "metadata": {},
     "output_type": "execute_result"
    }
   ],
   "source": [
    "dir(p)"
   ]
  },
  {
   "cell_type": "markdown",
   "metadata": {},
   "source": [
    "### Step 2: Styling the markers"
   ]
  },
  {
   "cell_type": "markdown",
   "metadata": {},
   "source": [
    "For the list of markers:\n",
    "https://bokeh.pydata.org/en/latest/docs/reference/plotting.html#bokeh-plotting"
   ]
  },
  {
   "cell_type": "code",
   "execution_count": 178,
   "metadata": {},
   "outputs": [
    {
     "data": {
      "text/html": [
       "\n",
       "\n",
       "\n",
       "\n",
       "\n",
       "\n",
       "  <div class=\"bk-root\" id=\"35c0af2b-0734-48c1-adbb-d8e5714b13f7\" data-root-id=\"59972\"></div>\n"
      ]
     },
     "metadata": {},
     "output_type": "display_data"
    },
    {
     "data": {
      "application/javascript": [
       "(function(root) {\n",
       "  function embed_document(root) {\n",
       "    \n",
       "  var docs_json = {\"890be074-1b7c-4fbc-bd40-5bc6c0bea5e2\":{\"roots\":{\"references\":[{\"attributes\":{\"background_fill_color\":{\"value\":\"lightgray\"},\"below\":[{\"id\":\"59981\",\"type\":\"LinearAxis\"}],\"center\":[{\"id\":\"59985\",\"type\":\"Grid\"},{\"id\":\"59990\",\"type\":\"Grid\"},{\"id\":\"60016\",\"type\":\"Legend\"}],\"left\":[{\"id\":\"59986\",\"type\":\"LinearAxis\"}],\"plot_height\":300,\"plot_width\":300,\"renderers\":[{\"id\":\"60007\",\"type\":\"GlyphRenderer\"},{\"id\":\"60021\",\"type\":\"GlyphRenderer\"},{\"id\":\"60036\",\"type\":\"GlyphRenderer\"}],\"title\":{\"id\":\"60010\",\"type\":\"Title\"},\"toolbar\":{\"id\":\"59997\",\"type\":\"Toolbar\"},\"x_range\":{\"id\":\"59973\",\"type\":\"DataRange1d\"},\"x_scale\":{\"id\":\"59977\",\"type\":\"LinearScale\"},\"y_range\":{\"id\":\"59975\",\"type\":\"DataRange1d\"},\"y_scale\":{\"id\":\"59979\",\"type\":\"LinearScale\"}},\"id\":\"59972\",\"subtype\":\"Figure\",\"type\":\"Plot\"},{\"attributes\":{},\"id\":\"61106\",\"type\":\"UnionRenderers\"},{\"attributes\":{},\"id\":\"59982\",\"type\":\"BasicTicker\"},{\"attributes\":{\"ticker\":{\"id\":\"59982\",\"type\":\"BasicTicker\"}},\"id\":\"59985\",\"type\":\"Grid\"},{\"attributes\":{\"dimension\":1,\"ticker\":{\"id\":\"59987\",\"type\":\"BasicTicker\"}},\"id\":\"59990\",\"type\":\"Grid\"},{\"attributes\":{\"fill_alpha\":{\"value\":0.1},\"fill_color\":{\"value\":\"#1f77b4\"},\"line_alpha\":{\"value\":0.1},\"line_color\":{\"value\":\"#1f77b4\"},\"x\":{\"field\":\"x\"},\"y\":{\"field\":\"y\"}},\"id\":\"60020\",\"type\":\"Triangle\"},{\"attributes\":{},\"id\":\"59995\",\"type\":\"ResetTool\"},{\"attributes\":{\"fill_color\":{\"value\":\"#1f77b4\"},\"line_color\":{\"value\":\"#1f77b4\"},\"x\":{\"field\":\"x\"},\"y\":{\"field\":\"y\"}},\"id\":\"60019\",\"type\":\"Triangle\"},{\"attributes\":{},\"id\":\"59996\",\"type\":\"HelpTool\"},{\"attributes\":{\"source\":{\"id\":\"60033\",\"type\":\"ColumnDataSource\"}},\"id\":\"60037\",\"type\":\"CDSView\"},{\"attributes\":{},\"id\":\"60048\",\"type\":\"UnionRenderers\"},{\"attributes\":{\"text\":\"\"},\"id\":\"60010\",\"type\":\"Title\"},{\"attributes\":{\"callback\":null,\"data\":{\"x\":{\"__ndarray__\":\"ZIpCKYpuCUAYobVnQaccQIoGYsNpGA1AEvjBS+hbIECEr3ZYgwr1P5eazxS0JgRApr3NA535HkB9CiDuCbkgQO4e86BFEPg/xIKb28vsFUA=\",\"dtype\":\"float64\",\"shape\":[10]},\"y\":{\"__ndarray__\":\"NKRnqCSaGUD0GOQFKhsgQMoBY+7Y1gZApxN+d9tTIEDcmcBtXl8VQJzaBIluEhZAELE4wX2CHECOZ+fgIeEjQDwpezge+wZAg+4ZQAkBFUA=\",\"dtype\":\"float64\",\"shape\":[10]}},\"selected\":{\"id\":\"60047\",\"type\":\"Selection\"},\"selection_policy\":{\"id\":\"60048\",\"type\":\"UnionRenderers\"}},\"id\":\"60018\",\"type\":\"ColumnDataSource\"},{\"attributes\":{},\"id\":\"59977\",\"type\":\"LinearScale\"},{\"attributes\":{\"active_drag\":\"auto\",\"active_inspect\":\"auto\",\"active_multi\":null,\"active_scroll\":\"auto\",\"active_tap\":\"auto\",\"tools\":[{\"id\":\"59991\",\"type\":\"PanTool\"},{\"id\":\"59992\",\"type\":\"WheelZoomTool\"},{\"id\":\"59993\",\"type\":\"BoxZoomTool\"},{\"id\":\"59994\",\"type\":\"SaveTool\"},{\"id\":\"59995\",\"type\":\"ResetTool\"},{\"id\":\"59996\",\"type\":\"HelpTool\"}]},\"id\":\"59997\",\"type\":\"Toolbar\"},{\"attributes\":{},\"id\":\"59991\",\"type\":\"PanTool\"},{\"attributes\":{\"callback\":null,\"data\":{\"x\":{\"__ndarray__\":\"2PXuw9IU7z8AkFuYUPqXP1mrWO/BUB5AwUzeywBKBkDl6XrV1/sXQGpbsGw/jBFAqpWdCjSKCECQbU6rxonSP032Wd37dfM/bod9eALn8T8=\",\"dtype\":\"float64\",\"shape\":[10]},\"y\":{\"__ndarray__\":\"vpsajoc4HUC/hcqHulfwP/rw845g0xlAYS6UUXn3I0Dooz7EBDvjP+JFWS0wqwFAFA4BfrGOFEDqFAUlRsAgQPZBYRXSYxRACi1VyTTIEEA=\",\"dtype\":\"float64\",\"shape\":[10]}},\"selected\":{\"id\":\"60030\",\"type\":\"Selection\"},\"selection_policy\":{\"id\":\"60031\",\"type\":\"UnionRenderers\"}},\"id\":\"60004\",\"type\":\"ColumnDataSource\"},{\"attributes\":{\"items\":[{\"id\":\"60017\",\"type\":\"LegendItem\"},{\"id\":\"60032\",\"type\":\"LegendItem\"},{\"id\":\"60049\",\"type\":\"LegendItem\"}]},\"id\":\"60016\",\"type\":\"Legend\"},{\"attributes\":{\"callback\":null},\"id\":\"59975\",\"type\":\"DataRange1d\"},{\"attributes\":{\"data_source\":{\"id\":\"60033\",\"type\":\"ColumnDataSource\"},\"glyph\":{\"id\":\"60034\",\"type\":\"Line\"},\"hover_glyph\":null,\"muted_glyph\":null,\"nonselection_glyph\":{\"id\":\"60035\",\"type\":\"Line\"},\"selection_glyph\":null,\"view\":{\"id\":\"60037\",\"type\":\"CDSView\"}},\"id\":\"60036\",\"type\":\"GlyphRenderer\"},{\"attributes\":{\"data_source\":{\"id\":\"60004\",\"type\":\"ColumnDataSource\"},\"glyph\":{\"id\":\"60005\",\"type\":\"Circle\"},\"hover_glyph\":null,\"muted_glyph\":null,\"nonselection_glyph\":{\"id\":\"60006\",\"type\":\"Circle\"},\"selection_glyph\":null,\"view\":{\"id\":\"60008\",\"type\":\"CDSView\"}},\"id\":\"60007\",\"type\":\"GlyphRenderer\"},{\"attributes\":{},\"id\":\"59979\",\"type\":\"LinearScale\"},{\"attributes\":{},\"id\":\"60030\",\"type\":\"Selection\"},{\"attributes\":{},\"id\":\"61105\",\"type\":\"Selection\"},{\"attributes\":{},\"id\":\"60011\",\"type\":\"BasicTickFormatter\"},{\"attributes\":{\"formatter\":{\"id\":\"60011\",\"type\":\"BasicTickFormatter\"},\"ticker\":{\"id\":\"59987\",\"type\":\"BasicTicker\"}},\"id\":\"59986\",\"type\":\"LinearAxis\"},{\"attributes\":{\"source\":{\"id\":\"60004\",\"type\":\"ColumnDataSource\"}},\"id\":\"60008\",\"type\":\"CDSView\"},{\"attributes\":{},\"id\":\"60031\",\"type\":\"UnionRenderers\"},{\"attributes\":{},\"id\":\"60047\",\"type\":\"Selection\"},{\"attributes\":{\"data_source\":{\"id\":\"60018\",\"type\":\"ColumnDataSource\"},\"glyph\":{\"id\":\"60019\",\"type\":\"Triangle\"},\"hover_glyph\":null,\"muted_glyph\":null,\"nonselection_glyph\":{\"id\":\"60020\",\"type\":\"Triangle\"},\"selection_glyph\":null,\"view\":{\"id\":\"60022\",\"type\":\"CDSView\"}},\"id\":\"60021\",\"type\":\"GlyphRenderer\"},{\"attributes\":{\"overlay\":{\"id\":\"60015\",\"type\":\"BoxAnnotation\"}},\"id\":\"59993\",\"type\":\"BoxZoomTool\"},{\"attributes\":{\"callback\":null,\"data\":{\"x\":{\"__ndarray__\":\"KidVELudGkA3m8+AWhEiQCfJJ03ZewNAXtI/HDI8HEBMvX+qq2USQAeBRYc2NCJASCT4+4BJ+z/d064rPcwQQBYOM7TyfiJA2Q70Lm0AE0A=\",\"dtype\":\"float64\",\"shape\":[10]},\"y\":{\"__ndarray__\":\"+uEFp41RIkBNSBVvy7sgQM7nl0kqHgZAsN5LLaGoIEDlDNK6L0wZQNdQobLkhBlAas/ffHJRHkBm1KNfztEFQGwDr4UC4QFATYG04J98IEA=\",\"dtype\":\"float64\",\"shape\":[10]}},\"selected\":{\"id\":\"61105\",\"type\":\"Selection\"},\"selection_policy\":{\"id\":\"61106\",\"type\":\"UnionRenderers\"}},\"id\":\"60033\",\"type\":\"ColumnDataSource\"},{\"attributes\":{\"line_alpha\":0.1,\"line_color\":\"#1f77b4\",\"x\":{\"field\":\"x\"},\"y\":{\"field\":\"y\"}},\"id\":\"60035\",\"type\":\"Line\"},{\"attributes\":{\"label\":{\"value\":\"triangle\"},\"renderers\":[{\"id\":\"60021\",\"type\":\"GlyphRenderer\"}]},\"id\":\"60032\",\"type\":\"LegendItem\"},{\"attributes\":{\"fill_alpha\":{\"value\":0.1},\"fill_color\":{\"value\":\"#1f77b4\"},\"line_alpha\":{\"value\":0.1},\"line_color\":{\"value\":\"#1f77b4\"},\"line_dash\":[6],\"radius\":{\"units\":\"data\",\"value\":0.1},\"x\":{\"field\":\"x\"},\"y\":{\"field\":\"y\"}},\"id\":\"60006\",\"type\":\"Circle\"},{\"attributes\":{\"label\":{\"value\":\"line\"},\"renderers\":[{\"id\":\"60036\",\"type\":\"GlyphRenderer\"}]},\"id\":\"60049\",\"type\":\"LegendItem\"},{\"attributes\":{\"bottom_units\":\"screen\",\"fill_alpha\":{\"value\":0.5},\"fill_color\":{\"value\":\"lightgrey\"},\"left_units\":\"screen\",\"level\":\"overlay\",\"line_alpha\":{\"value\":1.0},\"line_color\":{\"value\":\"black\"},\"line_dash\":[4,4],\"line_width\":{\"value\":2},\"render_mode\":\"css\",\"right_units\":\"screen\",\"top_units\":\"screen\"},\"id\":\"60015\",\"type\":\"BoxAnnotation\"},{\"attributes\":{\"formatter\":{\"id\":\"60013\",\"type\":\"BasicTickFormatter\"},\"ticker\":{\"id\":\"59982\",\"type\":\"BasicTicker\"}},\"id\":\"59981\",\"type\":\"LinearAxis\"},{\"attributes\":{\"source\":{\"id\":\"60018\",\"type\":\"ColumnDataSource\"}},\"id\":\"60022\",\"type\":\"CDSView\"},{\"attributes\":{},\"id\":\"59994\",\"type\":\"SaveTool\"},{\"attributes\":{\"fill_alpha\":{\"value\":0.7},\"fill_color\":{\"value\":\"red\"},\"line_color\":{\"value\":\"#1f77b4\"},\"line_dash\":[6],\"radius\":{\"units\":\"data\",\"value\":0.1},\"x\":{\"field\":\"x\"},\"y\":{\"field\":\"y\"}},\"id\":\"60005\",\"type\":\"Circle\"},{\"attributes\":{\"label\":{\"value\":\"circle\"},\"renderers\":[{\"id\":\"60007\",\"type\":\"GlyphRenderer\"}]},\"id\":\"60017\",\"type\":\"LegendItem\"},{\"attributes\":{},\"id\":\"59992\",\"type\":\"WheelZoomTool\"},{\"attributes\":{\"x\":{\"field\":\"x\"},\"y\":{\"field\":\"y\"}},\"id\":\"60034\",\"type\":\"Line\"},{\"attributes\":{},\"id\":\"60013\",\"type\":\"BasicTickFormatter\"},{\"attributes\":{},\"id\":\"59987\",\"type\":\"BasicTicker\"},{\"attributes\":{\"callback\":null},\"id\":\"59973\",\"type\":\"DataRange1d\"}],\"root_ids\":[\"59972\"]},\"title\":\"Bokeh Application\",\"version\":\"1.3.4\"}};\n",
       "  var render_items = [{\"docid\":\"890be074-1b7c-4fbc-bd40-5bc6c0bea5e2\",\"roots\":{\"59972\":\"35c0af2b-0734-48c1-adbb-d8e5714b13f7\"}}];\n",
       "  root.Bokeh.embed.embed_items_notebook(docs_json, render_items);\n",
       "\n",
       "  }\n",
       "  if (root.Bokeh !== undefined) {\n",
       "    embed_document(root);\n",
       "  } else {\n",
       "    var attempts = 0;\n",
       "    var timer = setInterval(function(root) {\n",
       "      if (root.Bokeh !== undefined) {\n",
       "        embed_document(root);\n",
       "        clearInterval(timer);\n",
       "      }\n",
       "      attempts++;\n",
       "      if (attempts > 100) {\n",
       "        console.log(\"Bokeh: ERROR: Unable to run BokehJS code because BokehJS library is missing\");\n",
       "        clearInterval(timer);\n",
       "      }\n",
       "    }, 10, root)\n",
       "  }\n",
       "})(window);"
      ],
      "application/vnd.bokehjs_exec.v0+json": ""
     },
     "metadata": {
      "application/vnd.bokehjs_exec.v0+json": {
       "id": "59972"
      }
     },
     "output_type": "display_data"
    }
   ],
   "source": [
    "# output_file(\"bokeh_tutorial.html\")\n",
    "x = np.random.rand(10)*10\n",
    "y = np.random.rand(10)*10\n",
    "p = figure(plot_width=300, plot_height=300)\n",
    "p.circle(x,y,radius=0.1,fill_color='red',fill_alpha=0.7,line_dash=\"dashed\",legend='circle')\n",
    "p.triangle(np.random.rand(10)*10,np.random.rand(10)*10,legend='triangle')\n",
    "p.line(np.random.rand(10)*10,np.random.rand(10)*10,line_color='black',legend='line')\n",
    "\n",
    "p.background_fill_color='lightgray'\n",
    "show(p)"
   ]
  },
  {
   "cell_type": "markdown",
   "metadata": {},
   "source": [
    "### Step 3: Title"
   ]
  },
  {
   "cell_type": "code",
   "execution_count": 179,
   "metadata": {},
   "outputs": [
    {
     "data": {
      "text/html": [
       "\n",
       "\n",
       "\n",
       "\n",
       "\n",
       "\n",
       "  <div class=\"bk-root\" id=\"9e270f8b-bdff-4fee-bd42-7f506f472b8a\" data-root-id=\"59972\"></div>\n"
      ]
     },
     "metadata": {},
     "output_type": "display_data"
    },
    {
     "data": {
      "application/javascript": [
       "(function(root) {\n",
       "  function embed_document(root) {\n",
       "    \n",
       "  var docs_json = {\"7bd329f8-a56d-4987-893a-4de35f20cf7b\":{\"roots\":{\"references\":[{\"attributes\":{\"background_fill_color\":{\"value\":\"lightgray\"},\"below\":[{\"id\":\"59981\",\"type\":\"LinearAxis\"}],\"center\":[{\"id\":\"59985\",\"type\":\"Grid\"},{\"id\":\"59990\",\"type\":\"Grid\"},{\"id\":\"60016\",\"type\":\"Legend\"}],\"left\":[{\"id\":\"59986\",\"type\":\"LinearAxis\"}],\"plot_height\":300,\"plot_width\":300,\"renderers\":[{\"id\":\"60007\",\"type\":\"GlyphRenderer\"},{\"id\":\"60021\",\"type\":\"GlyphRenderer\"},{\"id\":\"60036\",\"type\":\"GlyphRenderer\"}],\"title\":{\"id\":\"60010\",\"type\":\"Title\"},\"toolbar\":{\"id\":\"59997\",\"type\":\"Toolbar\"},\"x_range\":{\"id\":\"59973\",\"type\":\"DataRange1d\"},\"x_scale\":{\"id\":\"59977\",\"type\":\"LinearScale\"},\"y_range\":{\"id\":\"59975\",\"type\":\"DataRange1d\"},\"y_scale\":{\"id\":\"59979\",\"type\":\"LinearScale\"}},\"id\":\"59972\",\"subtype\":\"Figure\",\"type\":\"Plot\"},{\"attributes\":{},\"id\":\"61106\",\"type\":\"UnionRenderers\"},{\"attributes\":{},\"id\":\"59982\",\"type\":\"BasicTicker\"},{\"attributes\":{\"ticker\":{\"id\":\"59982\",\"type\":\"BasicTicker\"}},\"id\":\"59985\",\"type\":\"Grid\"},{\"attributes\":{\"dimension\":1,\"ticker\":{\"id\":\"59987\",\"type\":\"BasicTicker\"}},\"id\":\"59990\",\"type\":\"Grid\"},{\"attributes\":{\"fill_alpha\":{\"value\":0.1},\"fill_color\":{\"value\":\"#1f77b4\"},\"line_alpha\":{\"value\":0.1},\"line_color\":{\"value\":\"#1f77b4\"},\"x\":{\"field\":\"x\"},\"y\":{\"field\":\"y\"}},\"id\":\"60020\",\"type\":\"Triangle\"},{\"attributes\":{},\"id\":\"59995\",\"type\":\"ResetTool\"},{\"attributes\":{\"fill_color\":{\"value\":\"#1f77b4\"},\"line_color\":{\"value\":\"#1f77b4\"},\"x\":{\"field\":\"x\"},\"y\":{\"field\":\"y\"}},\"id\":\"60019\",\"type\":\"Triangle\"},{\"attributes\":{},\"id\":\"59996\",\"type\":\"HelpTool\"},{\"attributes\":{\"source\":{\"id\":\"60033\",\"type\":\"ColumnDataSource\"}},\"id\":\"60037\",\"type\":\"CDSView\"},{\"attributes\":{},\"id\":\"60048\",\"type\":\"UnionRenderers\"},{\"attributes\":{\"align\":\"center\",\"text\":\"Random Scatter\",\"text_color\":{\"value\":\"black\"},\"text_font\":\"times\",\"text_font_size\":{\"value\":\"25px\"}},\"id\":\"60010\",\"type\":\"Title\"},{\"attributes\":{\"callback\":null,\"data\":{\"x\":{\"__ndarray__\":\"ZIpCKYpuCUAYobVnQaccQIoGYsNpGA1AEvjBS+hbIECEr3ZYgwr1P5eazxS0JgRApr3NA535HkB9CiDuCbkgQO4e86BFEPg/xIKb28vsFUA=\",\"dtype\":\"float64\",\"shape\":[10]},\"y\":{\"__ndarray__\":\"NKRnqCSaGUD0GOQFKhsgQMoBY+7Y1gZApxN+d9tTIEDcmcBtXl8VQJzaBIluEhZAELE4wX2CHECOZ+fgIeEjQDwpezge+wZAg+4ZQAkBFUA=\",\"dtype\":\"float64\",\"shape\":[10]}},\"selected\":{\"id\":\"60047\",\"type\":\"Selection\"},\"selection_policy\":{\"id\":\"60048\",\"type\":\"UnionRenderers\"}},\"id\":\"60018\",\"type\":\"ColumnDataSource\"},{\"attributes\":{},\"id\":\"59977\",\"type\":\"LinearScale\"},{\"attributes\":{\"active_drag\":\"auto\",\"active_inspect\":\"auto\",\"active_multi\":null,\"active_scroll\":\"auto\",\"active_tap\":\"auto\",\"tools\":[{\"id\":\"59991\",\"type\":\"PanTool\"},{\"id\":\"59992\",\"type\":\"WheelZoomTool\"},{\"id\":\"59993\",\"type\":\"BoxZoomTool\"},{\"id\":\"59994\",\"type\":\"SaveTool\"},{\"id\":\"59995\",\"type\":\"ResetTool\"},{\"id\":\"59996\",\"type\":\"HelpTool\"}]},\"id\":\"59997\",\"type\":\"Toolbar\"},{\"attributes\":{},\"id\":\"59991\",\"type\":\"PanTool\"},{\"attributes\":{\"callback\":null,\"data\":{\"x\":{\"__ndarray__\":\"2PXuw9IU7z8AkFuYUPqXP1mrWO/BUB5AwUzeywBKBkDl6XrV1/sXQGpbsGw/jBFAqpWdCjSKCECQbU6rxonSP032Wd37dfM/bod9eALn8T8=\",\"dtype\":\"float64\",\"shape\":[10]},\"y\":{\"__ndarray__\":\"vpsajoc4HUC/hcqHulfwP/rw845g0xlAYS6UUXn3I0Dooz7EBDvjP+JFWS0wqwFAFA4BfrGOFEDqFAUlRsAgQPZBYRXSYxRACi1VyTTIEEA=\",\"dtype\":\"float64\",\"shape\":[10]}},\"selected\":{\"id\":\"60030\",\"type\":\"Selection\"},\"selection_policy\":{\"id\":\"60031\",\"type\":\"UnionRenderers\"}},\"id\":\"60004\",\"type\":\"ColumnDataSource\"},{\"attributes\":{\"items\":[{\"id\":\"60017\",\"type\":\"LegendItem\"},{\"id\":\"60032\",\"type\":\"LegendItem\"},{\"id\":\"60049\",\"type\":\"LegendItem\"}]},\"id\":\"60016\",\"type\":\"Legend\"},{\"attributes\":{\"callback\":null},\"id\":\"59975\",\"type\":\"DataRange1d\"},{\"attributes\":{\"data_source\":{\"id\":\"60033\",\"type\":\"ColumnDataSource\"},\"glyph\":{\"id\":\"60034\",\"type\":\"Line\"},\"hover_glyph\":null,\"muted_glyph\":null,\"nonselection_glyph\":{\"id\":\"60035\",\"type\":\"Line\"},\"selection_glyph\":null,\"view\":{\"id\":\"60037\",\"type\":\"CDSView\"}},\"id\":\"60036\",\"type\":\"GlyphRenderer\"},{\"attributes\":{\"data_source\":{\"id\":\"60004\",\"type\":\"ColumnDataSource\"},\"glyph\":{\"id\":\"60005\",\"type\":\"Circle\"},\"hover_glyph\":null,\"muted_glyph\":null,\"nonselection_glyph\":{\"id\":\"60006\",\"type\":\"Circle\"},\"selection_glyph\":null,\"view\":{\"id\":\"60008\",\"type\":\"CDSView\"}},\"id\":\"60007\",\"type\":\"GlyphRenderer\"},{\"attributes\":{},\"id\":\"59979\",\"type\":\"LinearScale\"},{\"attributes\":{},\"id\":\"60030\",\"type\":\"Selection\"},{\"attributes\":{},\"id\":\"61105\",\"type\":\"Selection\"},{\"attributes\":{},\"id\":\"60011\",\"type\":\"BasicTickFormatter\"},{\"attributes\":{\"formatter\":{\"id\":\"60011\",\"type\":\"BasicTickFormatter\"},\"ticker\":{\"id\":\"59987\",\"type\":\"BasicTicker\"}},\"id\":\"59986\",\"type\":\"LinearAxis\"},{\"attributes\":{\"source\":{\"id\":\"60004\",\"type\":\"ColumnDataSource\"}},\"id\":\"60008\",\"type\":\"CDSView\"},{\"attributes\":{},\"id\":\"60031\",\"type\":\"UnionRenderers\"},{\"attributes\":{},\"id\":\"60047\",\"type\":\"Selection\"},{\"attributes\":{\"data_source\":{\"id\":\"60018\",\"type\":\"ColumnDataSource\"},\"glyph\":{\"id\":\"60019\",\"type\":\"Triangle\"},\"hover_glyph\":null,\"muted_glyph\":null,\"nonselection_glyph\":{\"id\":\"60020\",\"type\":\"Triangle\"},\"selection_glyph\":null,\"view\":{\"id\":\"60022\",\"type\":\"CDSView\"}},\"id\":\"60021\",\"type\":\"GlyphRenderer\"},{\"attributes\":{\"overlay\":{\"id\":\"60015\",\"type\":\"BoxAnnotation\"}},\"id\":\"59993\",\"type\":\"BoxZoomTool\"},{\"attributes\":{\"callback\":null,\"data\":{\"x\":{\"__ndarray__\":\"KidVELudGkA3m8+AWhEiQCfJJ03ZewNAXtI/HDI8HEBMvX+qq2USQAeBRYc2NCJASCT4+4BJ+z/d064rPcwQQBYOM7TyfiJA2Q70Lm0AE0A=\",\"dtype\":\"float64\",\"shape\":[10]},\"y\":{\"__ndarray__\":\"+uEFp41RIkBNSBVvy7sgQM7nl0kqHgZAsN5LLaGoIEDlDNK6L0wZQNdQobLkhBlAas/ffHJRHkBm1KNfztEFQGwDr4UC4QFATYG04J98IEA=\",\"dtype\":\"float64\",\"shape\":[10]}},\"selected\":{\"id\":\"61105\",\"type\":\"Selection\"},\"selection_policy\":{\"id\":\"61106\",\"type\":\"UnionRenderers\"}},\"id\":\"60033\",\"type\":\"ColumnDataSource\"},{\"attributes\":{\"line_alpha\":0.1,\"line_color\":\"#1f77b4\",\"x\":{\"field\":\"x\"},\"y\":{\"field\":\"y\"}},\"id\":\"60035\",\"type\":\"Line\"},{\"attributes\":{\"label\":{\"value\":\"triangle\"},\"renderers\":[{\"id\":\"60021\",\"type\":\"GlyphRenderer\"}]},\"id\":\"60032\",\"type\":\"LegendItem\"},{\"attributes\":{\"fill_alpha\":{\"value\":0.1},\"fill_color\":{\"value\":\"#1f77b4\"},\"line_alpha\":{\"value\":0.1},\"line_color\":{\"value\":\"#1f77b4\"},\"line_dash\":[6],\"radius\":{\"units\":\"data\",\"value\":0.1},\"x\":{\"field\":\"x\"},\"y\":{\"field\":\"y\"}},\"id\":\"60006\",\"type\":\"Circle\"},{\"attributes\":{\"label\":{\"value\":\"line\"},\"renderers\":[{\"id\":\"60036\",\"type\":\"GlyphRenderer\"}]},\"id\":\"60049\",\"type\":\"LegendItem\"},{\"attributes\":{\"bottom_units\":\"screen\",\"fill_alpha\":{\"value\":0.5},\"fill_color\":{\"value\":\"lightgrey\"},\"left_units\":\"screen\",\"level\":\"overlay\",\"line_alpha\":{\"value\":1.0},\"line_color\":{\"value\":\"black\"},\"line_dash\":[4,4],\"line_width\":{\"value\":2},\"render_mode\":\"css\",\"right_units\":\"screen\",\"top_units\":\"screen\"},\"id\":\"60015\",\"type\":\"BoxAnnotation\"},{\"attributes\":{\"formatter\":{\"id\":\"60013\",\"type\":\"BasicTickFormatter\"},\"ticker\":{\"id\":\"59982\",\"type\":\"BasicTicker\"}},\"id\":\"59981\",\"type\":\"LinearAxis\"},{\"attributes\":{\"source\":{\"id\":\"60018\",\"type\":\"ColumnDataSource\"}},\"id\":\"60022\",\"type\":\"CDSView\"},{\"attributes\":{},\"id\":\"59994\",\"type\":\"SaveTool\"},{\"attributes\":{\"fill_alpha\":{\"value\":0.7},\"fill_color\":{\"value\":\"red\"},\"line_color\":{\"value\":\"#1f77b4\"},\"line_dash\":[6],\"radius\":{\"units\":\"data\",\"value\":0.1},\"x\":{\"field\":\"x\"},\"y\":{\"field\":\"y\"}},\"id\":\"60005\",\"type\":\"Circle\"},{\"attributes\":{\"label\":{\"value\":\"circle\"},\"renderers\":[{\"id\":\"60007\",\"type\":\"GlyphRenderer\"}]},\"id\":\"60017\",\"type\":\"LegendItem\"},{\"attributes\":{},\"id\":\"59992\",\"type\":\"WheelZoomTool\"},{\"attributes\":{\"x\":{\"field\":\"x\"},\"y\":{\"field\":\"y\"}},\"id\":\"60034\",\"type\":\"Line\"},{\"attributes\":{},\"id\":\"60013\",\"type\":\"BasicTickFormatter\"},{\"attributes\":{},\"id\":\"59987\",\"type\":\"BasicTicker\"},{\"attributes\":{\"callback\":null},\"id\":\"59973\",\"type\":\"DataRange1d\"}],\"root_ids\":[\"59972\"]},\"title\":\"Bokeh Application\",\"version\":\"1.3.4\"}};\n",
       "  var render_items = [{\"docid\":\"7bd329f8-a56d-4987-893a-4de35f20cf7b\",\"roots\":{\"59972\":\"9e270f8b-bdff-4fee-bd42-7f506f472b8a\"}}];\n",
       "  root.Bokeh.embed.embed_items_notebook(docs_json, render_items);\n",
       "\n",
       "  }\n",
       "  if (root.Bokeh !== undefined) {\n",
       "    embed_document(root);\n",
       "  } else {\n",
       "    var attempts = 0;\n",
       "    var timer = setInterval(function(root) {\n",
       "      if (root.Bokeh !== undefined) {\n",
       "        embed_document(root);\n",
       "        clearInterval(timer);\n",
       "      }\n",
       "      attempts++;\n",
       "      if (attempts > 100) {\n",
       "        console.log(\"Bokeh: ERROR: Unable to run BokehJS code because BokehJS library is missing\");\n",
       "        clearInterval(timer);\n",
       "      }\n",
       "    }, 10, root)\n",
       "  }\n",
       "})(window);"
      ],
      "application/vnd.bokehjs_exec.v0+json": ""
     },
     "metadata": {
      "application/vnd.bokehjs_exec.v0+json": {
       "id": "59972"
      }
     },
     "output_type": "display_data"
    }
   ],
   "source": [
    "p.title.text = \"Random Scatter\"\n",
    "p.title.text_color = \"black\"\n",
    "p.title.text_font = \"times\"\n",
    "p.title.text_font_size = \"25px\"\n",
    "p.title.align = \"center\"\n",
    "\n",
    "show(p)"
   ]
  },
  {
   "cell_type": "markdown",
   "metadata": {},
   "source": [
    "### Step 4: Styling the axes"
   ]
  },
  {
   "cell_type": "code",
   "execution_count": 180,
   "metadata": {},
   "outputs": [
    {
     "data": {
      "text/html": [
       "\n",
       "\n",
       "\n",
       "\n",
       "\n",
       "\n",
       "  <div class=\"bk-root\" id=\"65ef979f-4fe0-49b1-b22b-197690c8d464\" data-root-id=\"59972\"></div>\n"
      ]
     },
     "metadata": {},
     "output_type": "display_data"
    },
    {
     "data": {
      "application/javascript": [
       "(function(root) {\n",
       "  function embed_document(root) {\n",
       "    \n",
       "  var docs_json = {\"0511302b-e5c1-49e8-87cd-1b326cc92931\":{\"roots\":{\"references\":[{\"attributes\":{\"background_fill_color\":{\"value\":\"lightgray\"},\"below\":[{\"id\":\"59981\",\"type\":\"LinearAxis\"}],\"center\":[{\"id\":\"59985\",\"type\":\"Grid\"},{\"id\":\"59990\",\"type\":\"Grid\"},{\"id\":\"60016\",\"type\":\"Legend\"}],\"left\":[{\"id\":\"59986\",\"type\":\"LinearAxis\"}],\"plot_height\":300,\"plot_width\":300,\"renderers\":[{\"id\":\"60007\",\"type\":\"GlyphRenderer\"},{\"id\":\"60021\",\"type\":\"GlyphRenderer\"},{\"id\":\"60036\",\"type\":\"GlyphRenderer\"}],\"title\":{\"id\":\"60010\",\"type\":\"Title\"},\"toolbar\":{\"id\":\"59997\",\"type\":\"Toolbar\"},\"x_range\":{\"id\":\"61268\",\"type\":\"Range1d\"},\"x_scale\":{\"id\":\"59977\",\"type\":\"LinearScale\"},\"y_range\":{\"id\":\"62326\",\"type\":\"Range1d\"},\"y_scale\":{\"id\":\"59979\",\"type\":\"LinearScale\"}},\"id\":\"59972\",\"subtype\":\"Figure\",\"type\":\"Plot\"},{\"attributes\":{},\"id\":\"61106\",\"type\":\"UnionRenderers\"},{\"attributes\":{\"desired_num_ticks\":2},\"id\":\"59982\",\"type\":\"BasicTicker\"},{\"attributes\":{\"ticker\":{\"id\":\"59982\",\"type\":\"BasicTicker\"}},\"id\":\"59985\",\"type\":\"Grid\"},{\"attributes\":{\"dimension\":1,\"ticker\":{\"id\":\"59987\",\"type\":\"BasicTicker\"}},\"id\":\"59990\",\"type\":\"Grid\"},{\"attributes\":{\"bounds\":[-10,20],\"callback\":null,\"end\":10},\"id\":\"61268\",\"type\":\"Range1d\"},{\"attributes\":{\"fill_alpha\":{\"value\":0.1},\"fill_color\":{\"value\":\"#1f77b4\"},\"line_alpha\":{\"value\":0.1},\"line_color\":{\"value\":\"#1f77b4\"},\"x\":{\"field\":\"x\"},\"y\":{\"field\":\"y\"}},\"id\":\"60020\",\"type\":\"Triangle\"},{\"attributes\":{},\"id\":\"59995\",\"type\":\"ResetTool\"},{\"attributes\":{\"fill_color\":{\"value\":\"#1f77b4\"},\"line_color\":{\"value\":\"#1f77b4\"},\"x\":{\"field\":\"x\"},\"y\":{\"field\":\"y\"}},\"id\":\"60019\",\"type\":\"Triangle\"},{\"attributes\":{},\"id\":\"59996\",\"type\":\"HelpTool\"},{\"attributes\":{\"source\":{\"id\":\"60033\",\"type\":\"ColumnDataSource\"}},\"id\":\"60037\",\"type\":\"CDSView\"},{\"attributes\":{},\"id\":\"60048\",\"type\":\"UnionRenderers\"},{\"attributes\":{\"align\":\"center\",\"text\":\"Random Scatter\",\"text_color\":{\"value\":\"black\"},\"text_font\":\"times\",\"text_font_size\":{\"value\":\"25px\"}},\"id\":\"60010\",\"type\":\"Title\"},{\"attributes\":{\"callback\":null,\"end\":10},\"id\":\"62326\",\"type\":\"Range1d\"},{\"attributes\":{\"callback\":null,\"data\":{\"x\":{\"__ndarray__\":\"ZIpCKYpuCUAYobVnQaccQIoGYsNpGA1AEvjBS+hbIECEr3ZYgwr1P5eazxS0JgRApr3NA535HkB9CiDuCbkgQO4e86BFEPg/xIKb28vsFUA=\",\"dtype\":\"float64\",\"shape\":[10]},\"y\":{\"__ndarray__\":\"NKRnqCSaGUD0GOQFKhsgQMoBY+7Y1gZApxN+d9tTIEDcmcBtXl8VQJzaBIluEhZAELE4wX2CHECOZ+fgIeEjQDwpezge+wZAg+4ZQAkBFUA=\",\"dtype\":\"float64\",\"shape\":[10]}},\"selected\":{\"id\":\"60047\",\"type\":\"Selection\"},\"selection_policy\":{\"id\":\"60048\",\"type\":\"UnionRenderers\"}},\"id\":\"60018\",\"type\":\"ColumnDataSource\"},{\"attributes\":{},\"id\":\"59977\",\"type\":\"LinearScale\"},{\"attributes\":{\"active_drag\":\"auto\",\"active_inspect\":\"auto\",\"active_multi\":null,\"active_scroll\":\"auto\",\"active_tap\":\"auto\",\"tools\":[{\"id\":\"59991\",\"type\":\"PanTool\"},{\"id\":\"59992\",\"type\":\"WheelZoomTool\"},{\"id\":\"59993\",\"type\":\"BoxZoomTool\"},{\"id\":\"59994\",\"type\":\"SaveTool\"},{\"id\":\"59995\",\"type\":\"ResetTool\"},{\"id\":\"59996\",\"type\":\"HelpTool\"}]},\"id\":\"59997\",\"type\":\"Toolbar\"},{\"attributes\":{},\"id\":\"59991\",\"type\":\"PanTool\"},{\"attributes\":{\"callback\":null,\"data\":{\"x\":{\"__ndarray__\":\"2PXuw9IU7z8AkFuYUPqXP1mrWO/BUB5AwUzeywBKBkDl6XrV1/sXQGpbsGw/jBFAqpWdCjSKCECQbU6rxonSP032Wd37dfM/bod9eALn8T8=\",\"dtype\":\"float64\",\"shape\":[10]},\"y\":{\"__ndarray__\":\"vpsajoc4HUC/hcqHulfwP/rw845g0xlAYS6UUXn3I0Dooz7EBDvjP+JFWS0wqwFAFA4BfrGOFEDqFAUlRsAgQPZBYRXSYxRACi1VyTTIEEA=\",\"dtype\":\"float64\",\"shape\":[10]}},\"selected\":{\"id\":\"60030\",\"type\":\"Selection\"},\"selection_policy\":{\"id\":\"60031\",\"type\":\"UnionRenderers\"}},\"id\":\"60004\",\"type\":\"ColumnDataSource\"},{\"attributes\":{\"items\":[{\"id\":\"60017\",\"type\":\"LegendItem\"},{\"id\":\"60032\",\"type\":\"LegendItem\"},{\"id\":\"60049\",\"type\":\"LegendItem\"}]},\"id\":\"60016\",\"type\":\"Legend\"},{\"attributes\":{\"data_source\":{\"id\":\"60033\",\"type\":\"ColumnDataSource\"},\"glyph\":{\"id\":\"60034\",\"type\":\"Line\"},\"hover_glyph\":null,\"muted_glyph\":null,\"nonselection_glyph\":{\"id\":\"60035\",\"type\":\"Line\"},\"selection_glyph\":null,\"view\":{\"id\":\"60037\",\"type\":\"CDSView\"}},\"id\":\"60036\",\"type\":\"GlyphRenderer\"},{\"attributes\":{\"data_source\":{\"id\":\"60004\",\"type\":\"ColumnDataSource\"},\"glyph\":{\"id\":\"60005\",\"type\":\"Circle\"},\"hover_glyph\":null,\"muted_glyph\":null,\"nonselection_glyph\":{\"id\":\"60006\",\"type\":\"Circle\"},\"selection_glyph\":null,\"view\":{\"id\":\"60008\",\"type\":\"CDSView\"}},\"id\":\"60007\",\"type\":\"GlyphRenderer\"},{\"attributes\":{},\"id\":\"59979\",\"type\":\"LinearScale\"},{\"attributes\":{},\"id\":\"60030\",\"type\":\"Selection\"},{\"attributes\":{},\"id\":\"61105\",\"type\":\"Selection\"},{\"attributes\":{},\"id\":\"60011\",\"type\":\"BasicTickFormatter\"},{\"attributes\":{\"source\":{\"id\":\"60004\",\"type\":\"ColumnDataSource\"}},\"id\":\"60008\",\"type\":\"CDSView\"},{\"attributes\":{},\"id\":\"60031\",\"type\":\"UnionRenderers\"},{\"attributes\":{},\"id\":\"60047\",\"type\":\"Selection\"},{\"attributes\":{\"data_source\":{\"id\":\"60018\",\"type\":\"ColumnDataSource\"},\"glyph\":{\"id\":\"60019\",\"type\":\"Triangle\"},\"hover_glyph\":null,\"muted_glyph\":null,\"nonselection_glyph\":{\"id\":\"60020\",\"type\":\"Triangle\"},\"selection_glyph\":null,\"view\":{\"id\":\"60022\",\"type\":\"CDSView\"}},\"id\":\"60021\",\"type\":\"GlyphRenderer\"},{\"attributes\":{\"overlay\":{\"id\":\"60015\",\"type\":\"BoxAnnotation\"}},\"id\":\"59993\",\"type\":\"BoxZoomTool\"},{\"attributes\":{\"callback\":null,\"data\":{\"x\":{\"__ndarray__\":\"KidVELudGkA3m8+AWhEiQCfJJ03ZewNAXtI/HDI8HEBMvX+qq2USQAeBRYc2NCJASCT4+4BJ+z/d064rPcwQQBYOM7TyfiJA2Q70Lm0AE0A=\",\"dtype\":\"float64\",\"shape\":[10]},\"y\":{\"__ndarray__\":\"+uEFp41RIkBNSBVvy7sgQM7nl0kqHgZAsN5LLaGoIEDlDNK6L0wZQNdQobLkhBlAas/ffHJRHkBm1KNfztEFQGwDr4UC4QFATYG04J98IEA=\",\"dtype\":\"float64\",\"shape\":[10]}},\"selected\":{\"id\":\"61105\",\"type\":\"Selection\"},\"selection_policy\":{\"id\":\"61106\",\"type\":\"UnionRenderers\"}},\"id\":\"60033\",\"type\":\"ColumnDataSource\"},{\"attributes\":{\"line_alpha\":0.1,\"line_color\":\"#1f77b4\",\"x\":{\"field\":\"x\"},\"y\":{\"field\":\"y\"}},\"id\":\"60035\",\"type\":\"Line\"},{\"attributes\":{\"label\":{\"value\":\"triangle\"},\"renderers\":[{\"id\":\"60021\",\"type\":\"GlyphRenderer\"}]},\"id\":\"60032\",\"type\":\"LegendItem\"},{\"attributes\":{\"fill_alpha\":{\"value\":0.1},\"fill_color\":{\"value\":\"#1f77b4\"},\"line_alpha\":{\"value\":0.1},\"line_color\":{\"value\":\"#1f77b4\"},\"line_dash\":[6],\"radius\":{\"units\":\"data\",\"value\":0.1},\"x\":{\"field\":\"x\"},\"y\":{\"field\":\"y\"}},\"id\":\"60006\",\"type\":\"Circle\"},{\"attributes\":{\"label\":{\"value\":\"line\"},\"renderers\":[{\"id\":\"60036\",\"type\":\"GlyphRenderer\"}]},\"id\":\"60049\",\"type\":\"LegendItem\"},{\"attributes\":{\"bottom_units\":\"screen\",\"fill_alpha\":{\"value\":0.5},\"fill_color\":{\"value\":\"lightgrey\"},\"left_units\":\"screen\",\"level\":\"overlay\",\"line_alpha\":{\"value\":1.0},\"line_color\":{\"value\":\"black\"},\"line_dash\":[4,4],\"line_width\":{\"value\":2},\"render_mode\":\"css\",\"right_units\":\"screen\",\"top_units\":\"screen\"},\"id\":\"60015\",\"type\":\"BoxAnnotation\"},{\"attributes\":{\"axis_label\":\"X-axis\",\"axis_label_text_color\":{\"value\":\"blue\"},\"formatter\":{\"id\":\"60013\",\"type\":\"BasicTickFormatter\"},\"major_label_text_color\":{\"value\":\"orange\"},\"minor_tick_line_color\":{\"value\":\"red\"},\"ticker\":{\"id\":\"59982\",\"type\":\"BasicTicker\"}},\"id\":\"59981\",\"type\":\"LinearAxis\"},{\"attributes\":{\"source\":{\"id\":\"60018\",\"type\":\"ColumnDataSource\"}},\"id\":\"60022\",\"type\":\"CDSView\"},{\"attributes\":{},\"id\":\"59994\",\"type\":\"SaveTool\"},{\"attributes\":{\"fill_alpha\":{\"value\":0.7},\"fill_color\":{\"value\":\"red\"},\"line_color\":{\"value\":\"#1f77b4\"},\"line_dash\":[6],\"radius\":{\"units\":\"data\",\"value\":0.1},\"x\":{\"field\":\"x\"},\"y\":{\"field\":\"y\"}},\"id\":\"60005\",\"type\":\"Circle\"},{\"attributes\":{\"label\":{\"value\":\"circle\"},\"renderers\":[{\"id\":\"60007\",\"type\":\"GlyphRenderer\"}]},\"id\":\"60017\",\"type\":\"LegendItem\"},{\"attributes\":{},\"id\":\"59992\",\"type\":\"WheelZoomTool\"},{\"attributes\":{\"x\":{\"field\":\"x\"},\"y\":{\"field\":\"y\"}},\"id\":\"60034\",\"type\":\"Line\"},{\"attributes\":{},\"id\":\"60013\",\"type\":\"BasicTickFormatter\"},{\"attributes\":{\"axis_label\":\"Y-axis\",\"axis_label_text_color\":{\"value\":\"blue\"},\"formatter\":{\"id\":\"60011\",\"type\":\"BasicTickFormatter\"},\"major_label_orientation\":\"vertical\",\"major_label_text_color\":{\"value\":\"orange\"},\"minor_tick_line_color\":{\"value\":\"blue\"},\"ticker\":{\"id\":\"59987\",\"type\":\"BasicTicker\"}},\"id\":\"59986\",\"type\":\"LinearAxis\"},{\"attributes\":{\"desired_num_ticks\":10},\"id\":\"59987\",\"type\":\"BasicTicker\"}],\"root_ids\":[\"59972\"]},\"title\":\"Bokeh Application\",\"version\":\"1.3.4\"}};\n",
       "  var render_items = [{\"docid\":\"0511302b-e5c1-49e8-87cd-1b326cc92931\",\"roots\":{\"59972\":\"65ef979f-4fe0-49b1-b22b-197690c8d464\"}}];\n",
       "  root.Bokeh.embed.embed_items_notebook(docs_json, render_items);\n",
       "\n",
       "  }\n",
       "  if (root.Bokeh !== undefined) {\n",
       "    embed_document(root);\n",
       "  } else {\n",
       "    var attempts = 0;\n",
       "    var timer = setInterval(function(root) {\n",
       "      if (root.Bokeh !== undefined) {\n",
       "        embed_document(root);\n",
       "        clearInterval(timer);\n",
       "      }\n",
       "      attempts++;\n",
       "      if (attempts > 100) {\n",
       "        console.log(\"Bokeh: ERROR: Unable to run BokehJS code because BokehJS library is missing\");\n",
       "        clearInterval(timer);\n",
       "      }\n",
       "    }, 10, root)\n",
       "  }\n",
       "})(window);"
      ],
      "application/vnd.bokehjs_exec.v0+json": ""
     },
     "metadata": {
      "application/vnd.bokehjs_exec.v0+json": {
       "id": "59972"
      }
     },
     "output_type": "display_data"
    }
   ],
   "source": [
    "from bokeh.models import Range1d\n",
    "p.axis.minor_tick_line_color = \"blue\"\n",
    "p.xaxis.minor_tick_line_color = \"red\"\n",
    "# p.xaxis.minor_tick_line_color = None\n",
    "# p.yaxis.minor_tick_line_color = None\n",
    "\n",
    "p.yaxis.major_label_orientation = \"vertical\"\n",
    "p.xaxis.visible = True\n",
    "p.xaxis.axis_label = \"X-axis\"\n",
    "p.yaxis.axis_label = \"Y-axis\"\n",
    "\n",
    "p.axis.axis_label_text_color = \"blue\"\n",
    "p.axis.major_label_text_color = \"orange\"\n",
    "\n",
    "# Axes Geometry\n",
    "# p.x_range = Range1d(start=0,end=15)\n",
    "p.x_range = Range1d(start=0,end=10,bounds=(-10,20))\n",
    "p.y_range = Range1d(start=0,end=10)\n",
    "p.xaxis[0].ticker.desired_num_ticks=2\n",
    "p.yaxis[0].ticker.desired_num_ticks=10\n",
    "show(p)"
   ]
  },
  {
   "cell_type": "markdown",
   "metadata": {},
   "source": [
    "### Step 5: Styling the grid"
   ]
  },
  {
   "cell_type": "code",
   "execution_count": 181,
   "metadata": {},
   "outputs": [
    {
     "data": {
      "text/html": [
       "\n",
       "\n",
       "\n",
       "\n",
       "\n",
       "\n",
       "  <div class=\"bk-root\" id=\"a26bbc12-76f8-40fc-b062-e287d012b4f5\" data-root-id=\"59972\"></div>\n"
      ]
     },
     "metadata": {},
     "output_type": "display_data"
    },
    {
     "data": {
      "application/javascript": [
       "(function(root) {\n",
       "  function embed_document(root) {\n",
       "    \n",
       "  var docs_json = {\"d762266a-1874-46da-8c9e-6799ef9a4df7\":{\"roots\":{\"references\":[{\"attributes\":{\"background_fill_color\":{\"value\":\"lightgray\"},\"below\":[{\"id\":\"59981\",\"type\":\"LinearAxis\"}],\"center\":[{\"id\":\"59985\",\"type\":\"Grid\"},{\"id\":\"59990\",\"type\":\"Grid\"},{\"id\":\"60016\",\"type\":\"Legend\"}],\"left\":[{\"id\":\"59986\",\"type\":\"LinearAxis\"}],\"plot_height\":300,\"plot_width\":300,\"renderers\":[{\"id\":\"60007\",\"type\":\"GlyphRenderer\"},{\"id\":\"60021\",\"type\":\"GlyphRenderer\"},{\"id\":\"60036\",\"type\":\"GlyphRenderer\"}],\"title\":{\"id\":\"60010\",\"type\":\"Title\"},\"toolbar\":{\"id\":\"59997\",\"type\":\"Toolbar\"},\"x_range\":{\"id\":\"61268\",\"type\":\"Range1d\"},\"x_scale\":{\"id\":\"59977\",\"type\":\"LinearScale\"},\"y_range\":{\"id\":\"62326\",\"type\":\"Range1d\"},\"y_scale\":{\"id\":\"59979\",\"type\":\"LinearScale\"}},\"id\":\"59972\",\"subtype\":\"Figure\",\"type\":\"Plot\"},{\"attributes\":{},\"id\":\"61106\",\"type\":\"UnionRenderers\"},{\"attributes\":{\"desired_num_ticks\":2},\"id\":\"59982\",\"type\":\"BasicTicker\"},{\"attributes\":{\"grid_line_alpha\":0.3,\"grid_line_color\":\"gray\",\"grid_line_dash\":[5,3],\"ticker\":{\"id\":\"59982\",\"type\":\"BasicTicker\"}},\"id\":\"59985\",\"type\":\"Grid\"},{\"attributes\":{\"dimension\":1,\"grid_line_alpha\":0.3,\"grid_line_color\":\"gray\",\"grid_line_dash\":[5,3],\"ticker\":{\"id\":\"59987\",\"type\":\"BasicTicker\"}},\"id\":\"59990\",\"type\":\"Grid\"},{\"attributes\":{\"bounds\":[-10,20],\"callback\":null,\"end\":10},\"id\":\"61268\",\"type\":\"Range1d\"},{\"attributes\":{\"fill_alpha\":{\"value\":0.1},\"fill_color\":{\"value\":\"#1f77b4\"},\"line_alpha\":{\"value\":0.1},\"line_color\":{\"value\":\"#1f77b4\"},\"x\":{\"field\":\"x\"},\"y\":{\"field\":\"y\"}},\"id\":\"60020\",\"type\":\"Triangle\"},{\"attributes\":{},\"id\":\"59995\",\"type\":\"ResetTool\"},{\"attributes\":{\"fill_color\":{\"value\":\"#1f77b4\"},\"line_color\":{\"value\":\"#1f77b4\"},\"x\":{\"field\":\"x\"},\"y\":{\"field\":\"y\"}},\"id\":\"60019\",\"type\":\"Triangle\"},{\"attributes\":{},\"id\":\"59996\",\"type\":\"HelpTool\"},{\"attributes\":{\"source\":{\"id\":\"60033\",\"type\":\"ColumnDataSource\"}},\"id\":\"60037\",\"type\":\"CDSView\"},{\"attributes\":{},\"id\":\"60048\",\"type\":\"UnionRenderers\"},{\"attributes\":{\"align\":\"center\",\"text\":\"Random Scatter\",\"text_color\":{\"value\":\"black\"},\"text_font\":\"times\",\"text_font_size\":{\"value\":\"25px\"}},\"id\":\"60010\",\"type\":\"Title\"},{\"attributes\":{\"callback\":null,\"end\":10},\"id\":\"62326\",\"type\":\"Range1d\"},{\"attributes\":{\"callback\":null,\"data\":{\"x\":{\"__ndarray__\":\"ZIpCKYpuCUAYobVnQaccQIoGYsNpGA1AEvjBS+hbIECEr3ZYgwr1P5eazxS0JgRApr3NA535HkB9CiDuCbkgQO4e86BFEPg/xIKb28vsFUA=\",\"dtype\":\"float64\",\"shape\":[10]},\"y\":{\"__ndarray__\":\"NKRnqCSaGUD0GOQFKhsgQMoBY+7Y1gZApxN+d9tTIEDcmcBtXl8VQJzaBIluEhZAELE4wX2CHECOZ+fgIeEjQDwpezge+wZAg+4ZQAkBFUA=\",\"dtype\":\"float64\",\"shape\":[10]}},\"selected\":{\"id\":\"60047\",\"type\":\"Selection\"},\"selection_policy\":{\"id\":\"60048\",\"type\":\"UnionRenderers\"}},\"id\":\"60018\",\"type\":\"ColumnDataSource\"},{\"attributes\":{},\"id\":\"59977\",\"type\":\"LinearScale\"},{\"attributes\":{\"active_drag\":\"auto\",\"active_inspect\":\"auto\",\"active_multi\":null,\"active_scroll\":\"auto\",\"active_tap\":\"auto\",\"tools\":[{\"id\":\"59991\",\"type\":\"PanTool\"},{\"id\":\"59992\",\"type\":\"WheelZoomTool\"},{\"id\":\"59993\",\"type\":\"BoxZoomTool\"},{\"id\":\"59994\",\"type\":\"SaveTool\"},{\"id\":\"59995\",\"type\":\"ResetTool\"},{\"id\":\"59996\",\"type\":\"HelpTool\"}]},\"id\":\"59997\",\"type\":\"Toolbar\"},{\"attributes\":{},\"id\":\"59991\",\"type\":\"PanTool\"},{\"attributes\":{\"callback\":null,\"data\":{\"x\":{\"__ndarray__\":\"2PXuw9IU7z8AkFuYUPqXP1mrWO/BUB5AwUzeywBKBkDl6XrV1/sXQGpbsGw/jBFAqpWdCjSKCECQbU6rxonSP032Wd37dfM/bod9eALn8T8=\",\"dtype\":\"float64\",\"shape\":[10]},\"y\":{\"__ndarray__\":\"vpsajoc4HUC/hcqHulfwP/rw845g0xlAYS6UUXn3I0Dooz7EBDvjP+JFWS0wqwFAFA4BfrGOFEDqFAUlRsAgQPZBYRXSYxRACi1VyTTIEEA=\",\"dtype\":\"float64\",\"shape\":[10]}},\"selected\":{\"id\":\"60030\",\"type\":\"Selection\"},\"selection_policy\":{\"id\":\"60031\",\"type\":\"UnionRenderers\"}},\"id\":\"60004\",\"type\":\"ColumnDataSource\"},{\"attributes\":{\"items\":[{\"id\":\"60017\",\"type\":\"LegendItem\"},{\"id\":\"60032\",\"type\":\"LegendItem\"},{\"id\":\"60049\",\"type\":\"LegendItem\"}]},\"id\":\"60016\",\"type\":\"Legend\"},{\"attributes\":{\"data_source\":{\"id\":\"60033\",\"type\":\"ColumnDataSource\"},\"glyph\":{\"id\":\"60034\",\"type\":\"Line\"},\"hover_glyph\":null,\"muted_glyph\":null,\"nonselection_glyph\":{\"id\":\"60035\",\"type\":\"Line\"},\"selection_glyph\":null,\"view\":{\"id\":\"60037\",\"type\":\"CDSView\"}},\"id\":\"60036\",\"type\":\"GlyphRenderer\"},{\"attributes\":{\"data_source\":{\"id\":\"60004\",\"type\":\"ColumnDataSource\"},\"glyph\":{\"id\":\"60005\",\"type\":\"Circle\"},\"hover_glyph\":null,\"muted_glyph\":null,\"nonselection_glyph\":{\"id\":\"60006\",\"type\":\"Circle\"},\"selection_glyph\":null,\"view\":{\"id\":\"60008\",\"type\":\"CDSView\"}},\"id\":\"60007\",\"type\":\"GlyphRenderer\"},{\"attributes\":{},\"id\":\"59979\",\"type\":\"LinearScale\"},{\"attributes\":{},\"id\":\"60030\",\"type\":\"Selection\"},{\"attributes\":{},\"id\":\"61105\",\"type\":\"Selection\"},{\"attributes\":{},\"id\":\"60011\",\"type\":\"BasicTickFormatter\"},{\"attributes\":{\"source\":{\"id\":\"60004\",\"type\":\"ColumnDataSource\"}},\"id\":\"60008\",\"type\":\"CDSView\"},{\"attributes\":{},\"id\":\"60031\",\"type\":\"UnionRenderers\"},{\"attributes\":{},\"id\":\"60047\",\"type\":\"Selection\"},{\"attributes\":{\"data_source\":{\"id\":\"60018\",\"type\":\"ColumnDataSource\"},\"glyph\":{\"id\":\"60019\",\"type\":\"Triangle\"},\"hover_glyph\":null,\"muted_glyph\":null,\"nonselection_glyph\":{\"id\":\"60020\",\"type\":\"Triangle\"},\"selection_glyph\":null,\"view\":{\"id\":\"60022\",\"type\":\"CDSView\"}},\"id\":\"60021\",\"type\":\"GlyphRenderer\"},{\"attributes\":{\"overlay\":{\"id\":\"60015\",\"type\":\"BoxAnnotation\"}},\"id\":\"59993\",\"type\":\"BoxZoomTool\"},{\"attributes\":{\"callback\":null,\"data\":{\"x\":{\"__ndarray__\":\"KidVELudGkA3m8+AWhEiQCfJJ03ZewNAXtI/HDI8HEBMvX+qq2USQAeBRYc2NCJASCT4+4BJ+z/d064rPcwQQBYOM7TyfiJA2Q70Lm0AE0A=\",\"dtype\":\"float64\",\"shape\":[10]},\"y\":{\"__ndarray__\":\"+uEFp41RIkBNSBVvy7sgQM7nl0kqHgZAsN5LLaGoIEDlDNK6L0wZQNdQobLkhBlAas/ffHJRHkBm1KNfztEFQGwDr4UC4QFATYG04J98IEA=\",\"dtype\":\"float64\",\"shape\":[10]}},\"selected\":{\"id\":\"61105\",\"type\":\"Selection\"},\"selection_policy\":{\"id\":\"61106\",\"type\":\"UnionRenderers\"}},\"id\":\"60033\",\"type\":\"ColumnDataSource\"},{\"attributes\":{\"line_alpha\":0.1,\"line_color\":\"#1f77b4\",\"x\":{\"field\":\"x\"},\"y\":{\"field\":\"y\"}},\"id\":\"60035\",\"type\":\"Line\"},{\"attributes\":{\"label\":{\"value\":\"triangle\"},\"renderers\":[{\"id\":\"60021\",\"type\":\"GlyphRenderer\"}]},\"id\":\"60032\",\"type\":\"LegendItem\"},{\"attributes\":{\"fill_alpha\":{\"value\":0.1},\"fill_color\":{\"value\":\"#1f77b4\"},\"line_alpha\":{\"value\":0.1},\"line_color\":{\"value\":\"#1f77b4\"},\"line_dash\":[6],\"radius\":{\"units\":\"data\",\"value\":0.1},\"x\":{\"field\":\"x\"},\"y\":{\"field\":\"y\"}},\"id\":\"60006\",\"type\":\"Circle\"},{\"attributes\":{\"label\":{\"value\":\"line\"},\"renderers\":[{\"id\":\"60036\",\"type\":\"GlyphRenderer\"}]},\"id\":\"60049\",\"type\":\"LegendItem\"},{\"attributes\":{\"bottom_units\":\"screen\",\"fill_alpha\":{\"value\":0.5},\"fill_color\":{\"value\":\"lightgrey\"},\"left_units\":\"screen\",\"level\":\"overlay\",\"line_alpha\":{\"value\":1.0},\"line_color\":{\"value\":\"black\"},\"line_dash\":[4,4],\"line_width\":{\"value\":2},\"render_mode\":\"css\",\"right_units\":\"screen\",\"top_units\":\"screen\"},\"id\":\"60015\",\"type\":\"BoxAnnotation\"},{\"attributes\":{\"axis_label\":\"X-axis\",\"axis_label_text_color\":{\"value\":\"blue\"},\"formatter\":{\"id\":\"60013\",\"type\":\"BasicTickFormatter\"},\"major_label_text_color\":{\"value\":\"orange\"},\"minor_tick_line_color\":{\"value\":\"red\"},\"ticker\":{\"id\":\"59982\",\"type\":\"BasicTicker\"}},\"id\":\"59981\",\"type\":\"LinearAxis\"},{\"attributes\":{\"source\":{\"id\":\"60018\",\"type\":\"ColumnDataSource\"}},\"id\":\"60022\",\"type\":\"CDSView\"},{\"attributes\":{},\"id\":\"59994\",\"type\":\"SaveTool\"},{\"attributes\":{\"fill_alpha\":{\"value\":0.7},\"fill_color\":{\"value\":\"red\"},\"line_color\":{\"value\":\"#1f77b4\"},\"line_dash\":[6],\"radius\":{\"units\":\"data\",\"value\":0.1},\"x\":{\"field\":\"x\"},\"y\":{\"field\":\"y\"}},\"id\":\"60005\",\"type\":\"Circle\"},{\"attributes\":{\"label\":{\"value\":\"circle\"},\"renderers\":[{\"id\":\"60007\",\"type\":\"GlyphRenderer\"}]},\"id\":\"60017\",\"type\":\"LegendItem\"},{\"attributes\":{},\"id\":\"59992\",\"type\":\"WheelZoomTool\"},{\"attributes\":{\"x\":{\"field\":\"x\"},\"y\":{\"field\":\"y\"}},\"id\":\"60034\",\"type\":\"Line\"},{\"attributes\":{},\"id\":\"60013\",\"type\":\"BasicTickFormatter\"},{\"attributes\":{\"axis_label\":\"Y-axis\",\"axis_label_text_color\":{\"value\":\"blue\"},\"formatter\":{\"id\":\"60011\",\"type\":\"BasicTickFormatter\"},\"major_label_orientation\":\"vertical\",\"major_label_text_color\":{\"value\":\"orange\"},\"minor_tick_line_color\":{\"value\":\"blue\"},\"ticker\":{\"id\":\"59987\",\"type\":\"BasicTicker\"}},\"id\":\"59986\",\"type\":\"LinearAxis\"},{\"attributes\":{\"desired_num_ticks\":10},\"id\":\"59987\",\"type\":\"BasicTicker\"}],\"root_ids\":[\"59972\"]},\"title\":\"Bokeh Application\",\"version\":\"1.3.4\"}};\n",
       "  var render_items = [{\"docid\":\"d762266a-1874-46da-8c9e-6799ef9a4df7\",\"roots\":{\"59972\":\"a26bbc12-76f8-40fc-b062-e287d012b4f5\"}}];\n",
       "  root.Bokeh.embed.embed_items_notebook(docs_json, render_items);\n",
       "\n",
       "  }\n",
       "  if (root.Bokeh !== undefined) {\n",
       "    embed_document(root);\n",
       "  } else {\n",
       "    var attempts = 0;\n",
       "    var timer = setInterval(function(root) {\n",
       "      if (root.Bokeh !== undefined) {\n",
       "        embed_document(root);\n",
       "        clearInterval(timer);\n",
       "      }\n",
       "      attempts++;\n",
       "      if (attempts > 100) {\n",
       "        console.log(\"Bokeh: ERROR: Unable to run BokehJS code because BokehJS library is missing\");\n",
       "        clearInterval(timer);\n",
       "      }\n",
       "    }, 10, root)\n",
       "  }\n",
       "})(window);"
      ],
      "application/vnd.bokehjs_exec.v0+json": ""
     },
     "metadata": {
      "application/vnd.bokehjs_exec.v0+json": {
       "id": "59972"
      }
     },
     "output_type": "display_data"
    }
   ],
   "source": [
    "p.xgrid.grid_line_color = \"gray\"\n",
    "p.xgrid.grid_line_alpha = 0.3\n",
    "p.ygrid.grid_line_color = \"gray\"\n",
    "p.ygrid.grid_line_alpha = 0.3\n",
    "p.grid.grid_line_dash = [5,3]\n",
    "show(p)"
   ]
  },
  {
   "cell_type": "markdown",
   "metadata": {},
   "source": [
    "### Step 6: Legend"
   ]
  },
  {
   "cell_type": "code",
   "execution_count": 182,
   "metadata": {},
   "outputs": [
    {
     "data": {
      "text/html": [
       "\n",
       "\n",
       "\n",
       "\n",
       "\n",
       "\n",
       "  <div class=\"bk-root\" id=\"35bf070e-6a3d-40ef-a035-fb0524651426\" data-root-id=\"59972\"></div>\n"
      ]
     },
     "metadata": {},
     "output_type": "display_data"
    },
    {
     "data": {
      "application/javascript": [
       "(function(root) {\n",
       "  function embed_document(root) {\n",
       "    \n",
       "  var docs_json = {\"2c65d4a9-f6ea-488a-b25e-4c1c705d8c28\":{\"roots\":{\"references\":[{\"attributes\":{\"background_fill_color\":{\"value\":\"lightgray\"},\"below\":[{\"id\":\"59981\",\"type\":\"LinearAxis\"}],\"center\":[{\"id\":\"59985\",\"type\":\"Grid\"},{\"id\":\"59990\",\"type\":\"Grid\"},{\"id\":\"60016\",\"type\":\"Legend\"}],\"left\":[{\"id\":\"59986\",\"type\":\"LinearAxis\"}],\"plot_height\":300,\"plot_width\":300,\"renderers\":[{\"id\":\"60007\",\"type\":\"GlyphRenderer\"},{\"id\":\"60021\",\"type\":\"GlyphRenderer\"},{\"id\":\"60036\",\"type\":\"GlyphRenderer\"}],\"title\":{\"id\":\"60010\",\"type\":\"Title\"},\"toolbar\":{\"id\":\"59997\",\"type\":\"Toolbar\"},\"x_range\":{\"id\":\"61268\",\"type\":\"Range1d\"},\"x_scale\":{\"id\":\"59977\",\"type\":\"LinearScale\"},\"y_range\":{\"id\":\"62326\",\"type\":\"Range1d\"},\"y_scale\":{\"id\":\"59979\",\"type\":\"LinearScale\"}},\"id\":\"59972\",\"subtype\":\"Figure\",\"type\":\"Plot\"},{\"attributes\":{},\"id\":\"61106\",\"type\":\"UnionRenderers\"},{\"attributes\":{\"desired_num_ticks\":2},\"id\":\"59982\",\"type\":\"BasicTicker\"},{\"attributes\":{\"grid_line_alpha\":0.3,\"grid_line_color\":\"gray\",\"grid_line_dash\":[5,3],\"ticker\":{\"id\":\"59982\",\"type\":\"BasicTicker\"}},\"id\":\"59985\",\"type\":\"Grid\"},{\"attributes\":{\"dimension\":1,\"grid_line_alpha\":0.3,\"grid_line_color\":\"gray\",\"grid_line_dash\":[5,3],\"ticker\":{\"id\":\"59987\",\"type\":\"BasicTicker\"}},\"id\":\"59990\",\"type\":\"Grid\"},{\"attributes\":{\"bounds\":[-10,20],\"callback\":null,\"end\":10},\"id\":\"61268\",\"type\":\"Range1d\"},{\"attributes\":{\"fill_alpha\":{\"value\":0.1},\"fill_color\":{\"value\":\"#1f77b4\"},\"line_alpha\":{\"value\":0.1},\"line_color\":{\"value\":\"#1f77b4\"},\"x\":{\"field\":\"x\"},\"y\":{\"field\":\"y\"}},\"id\":\"60020\",\"type\":\"Triangle\"},{\"attributes\":{},\"id\":\"59995\",\"type\":\"ResetTool\"},{\"attributes\":{\"fill_color\":{\"value\":\"#1f77b4\"},\"line_color\":{\"value\":\"#1f77b4\"},\"x\":{\"field\":\"x\"},\"y\":{\"field\":\"y\"}},\"id\":\"60019\",\"type\":\"Triangle\"},{\"attributes\":{},\"id\":\"59996\",\"type\":\"HelpTool\"},{\"attributes\":{\"source\":{\"id\":\"60033\",\"type\":\"ColumnDataSource\"}},\"id\":\"60037\",\"type\":\"CDSView\"},{\"attributes\":{},\"id\":\"60048\",\"type\":\"UnionRenderers\"},{\"attributes\":{\"align\":\"center\",\"text\":\"Random Scatter\",\"text_color\":{\"value\":\"black\"},\"text_font\":\"times\",\"text_font_size\":{\"value\":\"25px\"}},\"id\":\"60010\",\"type\":\"Title\"},{\"attributes\":{\"callback\":null,\"end\":10},\"id\":\"62326\",\"type\":\"Range1d\"},{\"attributes\":{\"callback\":null,\"data\":{\"x\":{\"__ndarray__\":\"ZIpCKYpuCUAYobVnQaccQIoGYsNpGA1AEvjBS+hbIECEr3ZYgwr1P5eazxS0JgRApr3NA535HkB9CiDuCbkgQO4e86BFEPg/xIKb28vsFUA=\",\"dtype\":\"float64\",\"shape\":[10]},\"y\":{\"__ndarray__\":\"NKRnqCSaGUD0GOQFKhsgQMoBY+7Y1gZApxN+d9tTIEDcmcBtXl8VQJzaBIluEhZAELE4wX2CHECOZ+fgIeEjQDwpezge+wZAg+4ZQAkBFUA=\",\"dtype\":\"float64\",\"shape\":[10]}},\"selected\":{\"id\":\"60047\",\"type\":\"Selection\"},\"selection_policy\":{\"id\":\"60048\",\"type\":\"UnionRenderers\"}},\"id\":\"60018\",\"type\":\"ColumnDataSource\"},{\"attributes\":{},\"id\":\"59977\",\"type\":\"LinearScale\"},{\"attributes\":{\"active_drag\":\"auto\",\"active_inspect\":\"auto\",\"active_multi\":null,\"active_scroll\":\"auto\",\"active_tap\":\"auto\",\"tools\":[{\"id\":\"59991\",\"type\":\"PanTool\"},{\"id\":\"59992\",\"type\":\"WheelZoomTool\"},{\"id\":\"59993\",\"type\":\"BoxZoomTool\"},{\"id\":\"59994\",\"type\":\"SaveTool\"},{\"id\":\"59995\",\"type\":\"ResetTool\"},{\"id\":\"59996\",\"type\":\"HelpTool\"}]},\"id\":\"59997\",\"type\":\"Toolbar\"},{\"attributes\":{},\"id\":\"59991\",\"type\":\"PanTool\"},{\"attributes\":{\"callback\":null,\"data\":{\"x\":{\"__ndarray__\":\"2PXuw9IU7z8AkFuYUPqXP1mrWO/BUB5AwUzeywBKBkDl6XrV1/sXQGpbsGw/jBFAqpWdCjSKCECQbU6rxonSP032Wd37dfM/bod9eALn8T8=\",\"dtype\":\"float64\",\"shape\":[10]},\"y\":{\"__ndarray__\":\"vpsajoc4HUC/hcqHulfwP/rw845g0xlAYS6UUXn3I0Dooz7EBDvjP+JFWS0wqwFAFA4BfrGOFEDqFAUlRsAgQPZBYRXSYxRACi1VyTTIEEA=\",\"dtype\":\"float64\",\"shape\":[10]}},\"selected\":{\"id\":\"60030\",\"type\":\"Selection\"},\"selection_policy\":{\"id\":\"60031\",\"type\":\"UnionRenderers\"}},\"id\":\"60004\",\"type\":\"ColumnDataSource\"},{\"attributes\":{\"background_fill_alpha\":{\"value\":0.6},\"border_line_color\":{\"value\":null},\"items\":[{\"id\":\"60017\",\"type\":\"LegendItem\"},{\"id\":\"60032\",\"type\":\"LegendItem\"},{\"id\":\"60049\",\"type\":\"LegendItem\"}],\"label_text_color\":{\"value\":\"olive\"},\"label_text_font\":\"times\",\"location\":\"top_left\",\"padding\":18},\"id\":\"60016\",\"type\":\"Legend\"},{\"attributes\":{\"data_source\":{\"id\":\"60033\",\"type\":\"ColumnDataSource\"},\"glyph\":{\"id\":\"60034\",\"type\":\"Line\"},\"hover_glyph\":null,\"muted_glyph\":null,\"nonselection_glyph\":{\"id\":\"60035\",\"type\":\"Line\"},\"selection_glyph\":null,\"view\":{\"id\":\"60037\",\"type\":\"CDSView\"}},\"id\":\"60036\",\"type\":\"GlyphRenderer\"},{\"attributes\":{\"data_source\":{\"id\":\"60004\",\"type\":\"ColumnDataSource\"},\"glyph\":{\"id\":\"60005\",\"type\":\"Circle\"},\"hover_glyph\":null,\"muted_glyph\":null,\"nonselection_glyph\":{\"id\":\"60006\",\"type\":\"Circle\"},\"selection_glyph\":null,\"view\":{\"id\":\"60008\",\"type\":\"CDSView\"}},\"id\":\"60007\",\"type\":\"GlyphRenderer\"},{\"attributes\":{},\"id\":\"59979\",\"type\":\"LinearScale\"},{\"attributes\":{},\"id\":\"60030\",\"type\":\"Selection\"},{\"attributes\":{},\"id\":\"61105\",\"type\":\"Selection\"},{\"attributes\":{},\"id\":\"60011\",\"type\":\"BasicTickFormatter\"},{\"attributes\":{\"source\":{\"id\":\"60004\",\"type\":\"ColumnDataSource\"}},\"id\":\"60008\",\"type\":\"CDSView\"},{\"attributes\":{},\"id\":\"60031\",\"type\":\"UnionRenderers\"},{\"attributes\":{},\"id\":\"60047\",\"type\":\"Selection\"},{\"attributes\":{\"data_source\":{\"id\":\"60018\",\"type\":\"ColumnDataSource\"},\"glyph\":{\"id\":\"60019\",\"type\":\"Triangle\"},\"hover_glyph\":null,\"muted_glyph\":null,\"nonselection_glyph\":{\"id\":\"60020\",\"type\":\"Triangle\"},\"selection_glyph\":null,\"view\":{\"id\":\"60022\",\"type\":\"CDSView\"}},\"id\":\"60021\",\"type\":\"GlyphRenderer\"},{\"attributes\":{\"overlay\":{\"id\":\"60015\",\"type\":\"BoxAnnotation\"}},\"id\":\"59993\",\"type\":\"BoxZoomTool\"},{\"attributes\":{\"callback\":null,\"data\":{\"x\":{\"__ndarray__\":\"KidVELudGkA3m8+AWhEiQCfJJ03ZewNAXtI/HDI8HEBMvX+qq2USQAeBRYc2NCJASCT4+4BJ+z/d064rPcwQQBYOM7TyfiJA2Q70Lm0AE0A=\",\"dtype\":\"float64\",\"shape\":[10]},\"y\":{\"__ndarray__\":\"+uEFp41RIkBNSBVvy7sgQM7nl0kqHgZAsN5LLaGoIEDlDNK6L0wZQNdQobLkhBlAas/ffHJRHkBm1KNfztEFQGwDr4UC4QFATYG04J98IEA=\",\"dtype\":\"float64\",\"shape\":[10]}},\"selected\":{\"id\":\"61105\",\"type\":\"Selection\"},\"selection_policy\":{\"id\":\"61106\",\"type\":\"UnionRenderers\"}},\"id\":\"60033\",\"type\":\"ColumnDataSource\"},{\"attributes\":{\"line_alpha\":0.1,\"line_color\":\"#1f77b4\",\"x\":{\"field\":\"x\"},\"y\":{\"field\":\"y\"}},\"id\":\"60035\",\"type\":\"Line\"},{\"attributes\":{\"label\":{\"value\":\"triangle\"},\"renderers\":[{\"id\":\"60021\",\"type\":\"GlyphRenderer\"}]},\"id\":\"60032\",\"type\":\"LegendItem\"},{\"attributes\":{\"fill_alpha\":{\"value\":0.1},\"fill_color\":{\"value\":\"#1f77b4\"},\"line_alpha\":{\"value\":0.1},\"line_color\":{\"value\":\"#1f77b4\"},\"line_dash\":[6],\"radius\":{\"units\":\"data\",\"value\":0.1},\"x\":{\"field\":\"x\"},\"y\":{\"field\":\"y\"}},\"id\":\"60006\",\"type\":\"Circle\"},{\"attributes\":{\"label\":{\"value\":\"line\"},\"renderers\":[{\"id\":\"60036\",\"type\":\"GlyphRenderer\"}]},\"id\":\"60049\",\"type\":\"LegendItem\"},{\"attributes\":{\"bottom_units\":\"screen\",\"fill_alpha\":{\"value\":0.5},\"fill_color\":{\"value\":\"lightgrey\"},\"left_units\":\"screen\",\"level\":\"overlay\",\"line_alpha\":{\"value\":1.0},\"line_color\":{\"value\":\"black\"},\"line_dash\":[4,4],\"line_width\":{\"value\":2},\"render_mode\":\"css\",\"right_units\":\"screen\",\"top_units\":\"screen\"},\"id\":\"60015\",\"type\":\"BoxAnnotation\"},{\"attributes\":{\"axis_label\":\"X-axis\",\"axis_label_text_color\":{\"value\":\"blue\"},\"formatter\":{\"id\":\"60013\",\"type\":\"BasicTickFormatter\"},\"major_label_text_color\":{\"value\":\"orange\"},\"minor_tick_line_color\":{\"value\":\"red\"},\"ticker\":{\"id\":\"59982\",\"type\":\"BasicTicker\"}},\"id\":\"59981\",\"type\":\"LinearAxis\"},{\"attributes\":{\"source\":{\"id\":\"60018\",\"type\":\"ColumnDataSource\"}},\"id\":\"60022\",\"type\":\"CDSView\"},{\"attributes\":{},\"id\":\"59994\",\"type\":\"SaveTool\"},{\"attributes\":{\"fill_alpha\":{\"value\":0.7},\"fill_color\":{\"value\":\"red\"},\"line_color\":{\"value\":\"#1f77b4\"},\"line_dash\":[6],\"radius\":{\"units\":\"data\",\"value\":0.1},\"x\":{\"field\":\"x\"},\"y\":{\"field\":\"y\"}},\"id\":\"60005\",\"type\":\"Circle\"},{\"attributes\":{\"label\":{\"value\":\"circle\"},\"renderers\":[{\"id\":\"60007\",\"type\":\"GlyphRenderer\"}]},\"id\":\"60017\",\"type\":\"LegendItem\"},{\"attributes\":{},\"id\":\"59992\",\"type\":\"WheelZoomTool\"},{\"attributes\":{\"x\":{\"field\":\"x\"},\"y\":{\"field\":\"y\"}},\"id\":\"60034\",\"type\":\"Line\"},{\"attributes\":{},\"id\":\"60013\",\"type\":\"BasicTickFormatter\"},{\"attributes\":{\"axis_label\":\"Y-axis\",\"axis_label_text_color\":{\"value\":\"blue\"},\"formatter\":{\"id\":\"60011\",\"type\":\"BasicTickFormatter\"},\"major_label_orientation\":\"vertical\",\"major_label_text_color\":{\"value\":\"orange\"},\"minor_tick_line_color\":{\"value\":\"blue\"},\"ticker\":{\"id\":\"59987\",\"type\":\"BasicTicker\"}},\"id\":\"59986\",\"type\":\"LinearAxis\"},{\"attributes\":{\"desired_num_ticks\":10},\"id\":\"59987\",\"type\":\"BasicTicker\"}],\"root_ids\":[\"59972\"]},\"title\":\"Bokeh Application\",\"version\":\"1.3.4\"}};\n",
       "  var render_items = [{\"docid\":\"2c65d4a9-f6ea-488a-b25e-4c1c705d8c28\",\"roots\":{\"59972\":\"35bf070e-6a3d-40ef-a035-fb0524651426\"}}];\n",
       "  root.Bokeh.embed.embed_items_notebook(docs_json, render_items);\n",
       "\n",
       "  }\n",
       "  if (root.Bokeh !== undefined) {\n",
       "    embed_document(root);\n",
       "  } else {\n",
       "    var attempts = 0;\n",
       "    var timer = setInterval(function(root) {\n",
       "      if (root.Bokeh !== undefined) {\n",
       "        embed_document(root);\n",
       "        clearInterval(timer);\n",
       "      }\n",
       "      attempts++;\n",
       "      if (attempts > 100) {\n",
       "        console.log(\"Bokeh: ERROR: Unable to run BokehJS code because BokehJS library is missing\");\n",
       "        clearInterval(timer);\n",
       "      }\n",
       "    }, 10, root)\n",
       "  }\n",
       "})(window);"
      ],
      "application/vnd.bokehjs_exec.v0+json": ""
     },
     "metadata": {
      "application/vnd.bokehjs_exec.v0+json": {
       "id": "59972"
      }
     },
     "output_type": "display_data"
    }
   ],
   "source": [
    "# p.legend.location = (1,1)\n",
    "p.legend.location = 'top_left'\n",
    "p.legend.background_fill_alpha = 0.6\n",
    "p.legend.border_line_color = None\n",
    "p.legend.margin = 10\n",
    "p.legend.padding = 18\n",
    "p.legend.label_text_color = 'olive'\n",
    "p.legend.label_text_font = 'times'\n",
    "show(p)"
   ]
  },
  {
   "cell_type": "markdown",
   "metadata": {},
   "source": [
    "### Step 7: ColumnDataSource"
   ]
  },
  {
   "cell_type": "code",
   "execution_count": 183,
   "metadata": {},
   "outputs": [
    {
     "data": {
      "text/html": [
       "<div>\n",
       "<style scoped>\n",
       "    .dataframe tbody tr th:only-of-type {\n",
       "        vertical-align: middle;\n",
       "    }\n",
       "\n",
       "    .dataframe tbody tr th {\n",
       "        vertical-align: top;\n",
       "    }\n",
       "\n",
       "    .dataframe thead th {\n",
       "        text-align: right;\n",
       "    }\n",
       "</style>\n",
       "<table border=\"1\" class=\"dataframe\">\n",
       "  <thead>\n",
       "    <tr style=\"text-align: right;\">\n",
       "      <th></th>\n",
       "      <th>sepal_length</th>\n",
       "      <th>sepal_width</th>\n",
       "      <th>petal_length</th>\n",
       "      <th>petal_width</th>\n",
       "      <th>species</th>\n",
       "      <th>color</th>\n",
       "      <th>size</th>\n",
       "    </tr>\n",
       "  </thead>\n",
       "  <tbody>\n",
       "    <tr>\n",
       "      <th>0</th>\n",
       "      <td>5.1</td>\n",
       "      <td>3.5</td>\n",
       "      <td>1.4</td>\n",
       "      <td>0.2</td>\n",
       "      <td>setosa</td>\n",
       "      <td>red</td>\n",
       "      <td>17.5</td>\n",
       "    </tr>\n",
       "    <tr>\n",
       "      <th>1</th>\n",
       "      <td>4.9</td>\n",
       "      <td>3.0</td>\n",
       "      <td>1.4</td>\n",
       "      <td>0.2</td>\n",
       "      <td>setosa</td>\n",
       "      <td>red</td>\n",
       "      <td>15.0</td>\n",
       "    </tr>\n",
       "    <tr>\n",
       "      <th>2</th>\n",
       "      <td>4.7</td>\n",
       "      <td>3.2</td>\n",
       "      <td>1.3</td>\n",
       "      <td>0.2</td>\n",
       "      <td>setosa</td>\n",
       "      <td>red</td>\n",
       "      <td>16.0</td>\n",
       "    </tr>\n",
       "    <tr>\n",
       "      <th>3</th>\n",
       "      <td>4.6</td>\n",
       "      <td>3.1</td>\n",
       "      <td>1.5</td>\n",
       "      <td>0.2</td>\n",
       "      <td>setosa</td>\n",
       "      <td>red</td>\n",
       "      <td>15.5</td>\n",
       "    </tr>\n",
       "    <tr>\n",
       "      <th>4</th>\n",
       "      <td>5.0</td>\n",
       "      <td>3.6</td>\n",
       "      <td>1.4</td>\n",
       "      <td>0.2</td>\n",
       "      <td>setosa</td>\n",
       "      <td>red</td>\n",
       "      <td>18.0</td>\n",
       "    </tr>\n",
       "  </tbody>\n",
       "</table>\n",
       "</div>"
      ],
      "text/plain": [
       "   sepal_length  sepal_width  petal_length  petal_width species color  size\n",
       "0           5.1          3.5           1.4          0.2  setosa   red  17.5\n",
       "1           4.9          3.0           1.4          0.2  setosa   red  15.0\n",
       "2           4.7          3.2           1.3          0.2  setosa   red  16.0\n",
       "3           4.6          3.1           1.5          0.2  setosa   red  15.5\n",
       "4           5.0          3.6           1.4          0.2  setosa   red  18.0"
      ]
     },
     "execution_count": 183,
     "metadata": {},
     "output_type": "execute_result"
    }
   ],
   "source": [
    "from bokeh.sampledata.iris import flowers\n",
    "flowers.head()"
   ]
  },
  {
   "cell_type": "code",
   "execution_count": 184,
   "metadata": {},
   "outputs": [
    {
     "data": {
      "text/html": [
       "<div>\n",
       "<style scoped>\n",
       "    .dataframe tbody tr th:only-of-type {\n",
       "        vertical-align: middle;\n",
       "    }\n",
       "\n",
       "    .dataframe tbody tr th {\n",
       "        vertical-align: top;\n",
       "    }\n",
       "\n",
       "    .dataframe thead th {\n",
       "        text-align: right;\n",
       "    }\n",
       "</style>\n",
       "<table border=\"1\" class=\"dataframe\">\n",
       "  <thead>\n",
       "    <tr style=\"text-align: right;\">\n",
       "      <th></th>\n",
       "      <th>sepal_length</th>\n",
       "      <th>sepal_width</th>\n",
       "      <th>petal_length</th>\n",
       "      <th>petal_width</th>\n",
       "      <th>species</th>\n",
       "      <th>color</th>\n",
       "      <th>size</th>\n",
       "    </tr>\n",
       "  </thead>\n",
       "  <tbody>\n",
       "    <tr>\n",
       "      <th>145</th>\n",
       "      <td>6.7</td>\n",
       "      <td>3.0</td>\n",
       "      <td>5.2</td>\n",
       "      <td>2.3</td>\n",
       "      <td>virginica</td>\n",
       "      <td>blue</td>\n",
       "      <td>15.0</td>\n",
       "    </tr>\n",
       "    <tr>\n",
       "      <th>146</th>\n",
       "      <td>6.3</td>\n",
       "      <td>2.5</td>\n",
       "      <td>5.0</td>\n",
       "      <td>1.9</td>\n",
       "      <td>virginica</td>\n",
       "      <td>blue</td>\n",
       "      <td>12.5</td>\n",
       "    </tr>\n",
       "    <tr>\n",
       "      <th>147</th>\n",
       "      <td>6.5</td>\n",
       "      <td>3.0</td>\n",
       "      <td>5.2</td>\n",
       "      <td>2.0</td>\n",
       "      <td>virginica</td>\n",
       "      <td>blue</td>\n",
       "      <td>15.0</td>\n",
       "    </tr>\n",
       "    <tr>\n",
       "      <th>148</th>\n",
       "      <td>6.2</td>\n",
       "      <td>3.4</td>\n",
       "      <td>5.4</td>\n",
       "      <td>2.3</td>\n",
       "      <td>virginica</td>\n",
       "      <td>blue</td>\n",
       "      <td>17.0</td>\n",
       "    </tr>\n",
       "    <tr>\n",
       "      <th>149</th>\n",
       "      <td>5.9</td>\n",
       "      <td>3.0</td>\n",
       "      <td>5.1</td>\n",
       "      <td>1.8</td>\n",
       "      <td>virginica</td>\n",
       "      <td>blue</td>\n",
       "      <td>15.0</td>\n",
       "    </tr>\n",
       "  </tbody>\n",
       "</table>\n",
       "</div>"
      ],
      "text/plain": [
       "     sepal_length  sepal_width  petal_length  petal_width    species color  \\\n",
       "145           6.7          3.0           5.2          2.3  virginica  blue   \n",
       "146           6.3          2.5           5.0          1.9  virginica  blue   \n",
       "147           6.5          3.0           5.2          2.0  virginica  blue   \n",
       "148           6.2          3.4           5.4          2.3  virginica  blue   \n",
       "149           5.9          3.0           5.1          1.8  virginica  blue   \n",
       "\n",
       "     size  \n",
       "145  15.0  \n",
       "146  12.5  \n",
       "147  15.0  \n",
       "148  17.0  \n",
       "149  15.0  "
      ]
     },
     "execution_count": 184,
     "metadata": {},
     "output_type": "execute_result"
    }
   ],
   "source": [
    "colormap={'setosa':'red','versicolor':'green','virginica':'blue'}\n",
    "flowers['color'] = [colormap[x] for x in flowers['species']]\n",
    "flowers['size'] = flowers['sepal_width'] * 5\n",
    "flowers.tail()"
   ]
  },
  {
   "cell_type": "code",
   "execution_count": 185,
   "metadata": {},
   "outputs": [],
   "source": [
    "from bokeh.models import ColumnDataSource\n",
    "setosa = ColumnDataSource(flowers[flowers[\"species\"]==\"setosa\"])\n",
    "versicolor = ColumnDataSource(flowers[flowers[\"species\"]==\"versicolor\"])\n",
    "virginica = ColumnDataSource(flowers[flowers[\"species\"]==\"virginica\"])"
   ]
  },
  {
   "cell_type": "code",
   "execution_count": 186,
   "metadata": {},
   "outputs": [
    {
     "data": {
      "text/html": [
       "\n",
       "\n",
       "\n",
       "\n",
       "\n",
       "\n",
       "  <div class=\"bk-root\" id=\"e23c51a5-c721-4851-bdcc-3834a01f9a99\" data-root-id=\"63623\"></div>\n"
      ]
     },
     "metadata": {},
     "output_type": "display_data"
    },
    {
     "data": {
      "application/javascript": [
       "(function(root) {\n",
       "  function embed_document(root) {\n",
       "    \n",
       "  var docs_json = {\"007cbd63-89bb-4c92-95ae-2f34b68c99a0\":{\"roots\":{\"references\":[{\"attributes\":{\"below\":[{\"id\":\"63632\",\"type\":\"LinearAxis\"}],\"center\":[{\"id\":\"63636\",\"type\":\"Grid\"},{\"id\":\"63641\",\"type\":\"Grid\"},{\"id\":\"63667\",\"type\":\"Legend\"}],\"left\":[{\"id\":\"63637\",\"type\":\"LinearAxis\"}],\"plot_height\":500,\"plot_width\":500,\"renderers\":[{\"id\":\"63658\",\"type\":\"GlyphRenderer\"},{\"id\":\"63672\",\"type\":\"GlyphRenderer\"},{\"id\":\"63687\",\"type\":\"GlyphRenderer\"}],\"title\":{\"id\":\"63661\",\"type\":\"Title\"},\"toolbar\":{\"id\":\"63648\",\"type\":\"Toolbar\"},\"x_range\":{\"id\":\"63624\",\"type\":\"DataRange1d\"},\"x_scale\":{\"id\":\"63628\",\"type\":\"LinearScale\"},\"y_range\":{\"id\":\"63626\",\"type\":\"DataRange1d\"},\"y_scale\":{\"id\":\"63630\",\"type\":\"LinearScale\"}},\"id\":\"63623\",\"subtype\":\"Figure\",\"type\":\"Plot\"},{\"attributes\":{\"dimension\":1,\"ticker\":{\"id\":\"63638\",\"type\":\"BasicTicker\"}},\"id\":\"63641\",\"type\":\"Grid\"},{\"attributes\":{\"source\":{\"id\":\"63621\",\"type\":\"ColumnDataSource\"}},\"id\":\"63673\",\"type\":\"CDSView\"},{\"attributes\":{},\"id\":\"64771\",\"type\":\"UnionRenderers\"},{\"attributes\":{},\"id\":\"63642\",\"type\":\"PanTool\"},{\"attributes\":{},\"id\":\"63643\",\"type\":\"WheelZoomTool\"},{\"attributes\":{\"fill_alpha\":{\"value\":0.1},\"fill_color\":{\"value\":\"#1f77b4\"},\"line_alpha\":{\"value\":0.1},\"line_color\":{\"value\":\"#1f77b4\"},\"size\":{\"field\":\"size\",\"units\":\"screen\"},\"x\":{\"field\":\"petal_length\"},\"y\":{\"field\":\"petal_width\"}},\"id\":\"63657\",\"type\":\"Circle\"},{\"attributes\":{},\"id\":\"63682\",\"type\":\"UnionRenderers\"},{\"attributes\":{},\"id\":\"63628\",\"type\":\"LinearScale\"},{\"attributes\":{\"callback\":null,\"data\":{\"color\":[\"blue\",\"blue\",\"blue\",\"blue\",\"blue\",\"blue\",\"blue\",\"blue\",\"blue\",\"blue\",\"blue\",\"blue\",\"blue\",\"blue\",\"blue\",\"blue\",\"blue\",\"blue\",\"blue\",\"blue\",\"blue\",\"blue\",\"blue\",\"blue\",\"blue\",\"blue\",\"blue\",\"blue\",\"blue\",\"blue\",\"blue\",\"blue\",\"blue\",\"blue\",\"blue\",\"blue\",\"blue\",\"blue\",\"blue\",\"blue\",\"blue\",\"blue\",\"blue\",\"blue\",\"blue\",\"blue\",\"blue\",\"blue\",\"blue\",\"blue\"],\"index\":[100,101,102,103,104,105,106,107,108,109,110,111,112,113,114,115,116,117,118,119,120,121,122,123,124,125,126,127,128,129,130,131,132,133,134,135,136,137,138,139,140,141,142,143,144,145,146,147,148,149],\"petal_length\":{\"__ndarray__\":\"AAAAAAAAGEBmZmZmZmYUQJqZmZmZmRdAZmZmZmZmFkAzMzMzMzMXQGZmZmZmZhpAAAAAAAAAEkAzMzMzMzMZQDMzMzMzMxdAZmZmZmZmGEBmZmZmZmYUQDMzMzMzMxVAAAAAAAAAFkAAAAAAAAAUQGZmZmZmZhRAMzMzMzMzFUAAAAAAAAAWQM3MzMzMzBpAmpmZmZmZG0AAAAAAAAAUQM3MzMzMzBZAmpmZmZmZE0DNzMzMzMwaQJqZmZmZmRNAzczMzMzMFkAAAAAAAAAYQDMzMzMzMxNAmpmZmZmZE0BmZmZmZmYWQDMzMzMzMxdAZmZmZmZmGECamZmZmZkZQGZmZmZmZhZAZmZmZmZmFEBmZmZmZmYWQGZmZmZmZhhAZmZmZmZmFkAAAAAAAAAWQDMzMzMzMxNAmpmZmZmZFUBmZmZmZmYWQGZmZmZmZhRAZmZmZmZmFECamZmZmZkXQM3MzMzMzBZAzczMzMzMFEAAAAAAAAAUQM3MzMzMzBRAmpmZmZmZFUBmZmZmZmYUQA==\",\"dtype\":\"float64\",\"shape\":[50]},\"petal_width\":{\"__ndarray__\":\"AAAAAAAABEBmZmZmZmb+P83MzMzMzABAzczMzMzM/D+amZmZmZkBQM3MzMzMzABAMzMzMzMz+z/NzMzMzMz8P83MzMzMzPw/AAAAAAAABEAAAAAAAAAAQGZmZmZmZv4/zczMzMzMAEAAAAAAAAAAQDMzMzMzMwNAZmZmZmZmAkDNzMzMzMz8P5qZmZmZmQFAZmZmZmZmAkAAAAAAAAD4P2ZmZmZmZgJAAAAAAAAAAEAAAAAAAAAAQM3MzMzMzPw/zczMzMzMAEDNzMzMzMz8P83MzMzMzPw/zczMzMzM/D/NzMzMzMwAQJqZmZmZmfk/ZmZmZmZm/j8AAAAAAAAAQJqZmZmZmQFAAAAAAAAA+D9mZmZmZmb2P2ZmZmZmZgJAMzMzMzMzA0DNzMzMzMz8P83MzMzMzPw/zczMzMzMAEAzMzMzMzMDQGZmZmZmZgJAZmZmZmZm/j9mZmZmZmYCQAAAAAAAAARAZmZmZmZmAkBmZmZmZmb+PwAAAAAAAABAZmZmZmZmAkDNzMzMzMz8Pw==\",\"dtype\":\"float64\",\"shape\":[50]},\"sepal_length\":{\"__ndarray__\":\"MzMzMzMzGUAzMzMzMzMXQGZmZmZmZhxAMzMzMzMzGUAAAAAAAAAaQGZmZmZmZh5AmpmZmZmZE0AzMzMzMzMdQM3MzMzMzBpAzczMzMzMHEAAAAAAAAAaQJqZmZmZmRlAMzMzMzMzG0DNzMzMzMwWQDMzMzMzMxdAmpmZmZmZGUAAAAAAAAAaQM3MzMzMzB5AzczMzMzMHkAAAAAAAAAYQJqZmZmZmRtAZmZmZmZmFkDNzMzMzMweQDMzMzMzMxlAzczMzMzMGkDNzMzMzMwcQM3MzMzMzBhAZmZmZmZmGECamZmZmZkZQM3MzMzMzBxAmpmZmZmZHUCamZmZmZkfQJqZmZmZmRlAMzMzMzMzGUBmZmZmZmYYQM3MzMzMzB5AMzMzMzMzGUCamZmZmZkZQAAAAAAAABhAmpmZmZmZG0DNzMzMzMwaQJqZmZmZmRtAMzMzMzMzF0AzMzMzMzMbQM3MzMzMzBpAzczMzMzMGkAzMzMzMzMZQAAAAAAAABpAzczMzMzMGECamZmZmZkXQA==\",\"dtype\":\"float64\",\"shape\":[50]},\"sepal_width\":{\"__ndarray__\":\"ZmZmZmZmCkCamZmZmZkFQAAAAAAAAAhAMzMzMzMzB0AAAAAAAAAIQAAAAAAAAAhAAAAAAAAABEAzMzMzMzMHQAAAAAAAAARAzczMzMzMDECamZmZmZkJQJqZmZmZmQVAAAAAAAAACEAAAAAAAAAEQGZmZmZmZgZAmpmZmZmZCUAAAAAAAAAIQGZmZmZmZg5AzczMzMzMBECamZmZmZkBQJqZmZmZmQlAZmZmZmZmBkBmZmZmZmYGQJqZmZmZmQVAZmZmZmZmCkCamZmZmZkJQGZmZmZmZgZAAAAAAAAACEBmZmZmZmYGQAAAAAAAAAhAZmZmZmZmBkBmZmZmZmYOQGZmZmZmZgZAZmZmZmZmBkDNzMzMzMwEQAAAAAAAAAhAMzMzMzMzC0DNzMzMzMwIQAAAAAAAAAhAzczMzMzMCEDNzMzMzMwIQM3MzMzMzAhAmpmZmZmZBUCamZmZmZkJQGZmZmZmZgpAAAAAAAAACEAAAAAAAAAEQAAAAAAAAAhAMzMzMzMzC0AAAAAAAAAIQA==\",\"dtype\":\"float64\",\"shape\":[50]},\"size\":{\"__ndarray__\":\"AAAAAACAMEAAAAAAAAArQAAAAAAAAC5AAAAAAAAALUAAAAAAAAAuQAAAAAAAAC5AAAAAAAAAKUAAAAAAAAAtQAAAAAAAAClAAAAAAAAAMkAAAAAAAAAwQAAAAAAAACtAAAAAAAAALkAAAAAAAAApQAAAAAAAACxAAAAAAAAAMEAAAAAAAAAuQAAAAAAAADNAAAAAAAAAKkAAAAAAAAAmQAAAAAAAADBAAAAAAAAALEAAAAAAAAAsQAAAAAAAACtAAAAAAACAMEAAAAAAAAAwQAAAAAAAACxAAAAAAAAALkAAAAAAAAAsQAAAAAAAAC5AAAAAAAAALEAAAAAAAAAzQAAAAAAAACxAAAAAAAAALEAAAAAAAAAqQAAAAAAAAC5AAAAAAAAAMUAAAAAAAAAvQAAAAAAAAC5AAAAAAAAAL0AAAAAAAAAvQAAAAAAAAC9AAAAAAAAAK0AAAAAAAAAwQAAAAAAAgDBAAAAAAAAALkAAAAAAAAApQAAAAAAAAC5AAAAAAAAAMUAAAAAAAAAuQA==\",\"dtype\":\"float64\",\"shape\":[50]},\"species\":[\"virginica\",\"virginica\",\"virginica\",\"virginica\",\"virginica\",\"virginica\",\"virginica\",\"virginica\",\"virginica\",\"virginica\",\"virginica\",\"virginica\",\"virginica\",\"virginica\",\"virginica\",\"virginica\",\"virginica\",\"virginica\",\"virginica\",\"virginica\",\"virginica\",\"virginica\",\"virginica\",\"virginica\",\"virginica\",\"virginica\",\"virginica\",\"virginica\",\"virginica\",\"virginica\",\"virginica\",\"virginica\",\"virginica\",\"virginica\",\"virginica\",\"virginica\",\"virginica\",\"virginica\",\"virginica\",\"virginica\",\"virginica\",\"virginica\",\"virginica\",\"virginica\",\"virginica\",\"virginica\",\"virginica\",\"virginica\",\"virginica\",\"virginica\"]},\"selected\":{\"id\":\"64770\",\"type\":\"Selection\"},\"selection_policy\":{\"id\":\"64771\",\"type\":\"UnionRenderers\"}},\"id\":\"63622\",\"type\":\"ColumnDataSource\"},{\"attributes\":{\"overlay\":{\"id\":\"63666\",\"type\":\"BoxAnnotation\"}},\"id\":\"63644\",\"type\":\"BoxZoomTool\"},{\"attributes\":{\"fill_alpha\":{\"value\":0.1},\"fill_color\":{\"value\":\"#1f77b4\"},\"line_alpha\":{\"value\":0.1},\"line_color\":{\"value\":\"#1f77b4\"},\"size\":{\"field\":\"size\",\"units\":\"screen\"},\"x\":{\"field\":\"petal_length\"},\"y\":{\"field\":\"petal_width\"}},\"id\":\"63686\",\"type\":\"Circle\"},{\"attributes\":{\"data_source\":{\"id\":\"63621\",\"type\":\"ColumnDataSource\"},\"glyph\":{\"id\":\"63670\",\"type\":\"Circle\"},\"hover_glyph\":null,\"muted_glyph\":null,\"nonselection_glyph\":{\"id\":\"63671\",\"type\":\"Circle\"},\"selection_glyph\":null,\"view\":{\"id\":\"63673\",\"type\":\"CDSView\"}},\"id\":\"63672\",\"type\":\"GlyphRenderer\"},{\"attributes\":{\"source\":{\"id\":\"63622\",\"type\":\"ColumnDataSource\"}},\"id\":\"63688\",\"type\":\"CDSView\"},{\"attributes\":{\"label\":{\"value\":\"Versicolor\"},\"renderers\":[{\"id\":\"63672\",\"type\":\"GlyphRenderer\"}]},\"id\":\"63683\",\"type\":\"LegendItem\"},{\"attributes\":{\"bottom_units\":\"screen\",\"fill_alpha\":{\"value\":0.5},\"fill_color\":{\"value\":\"lightgrey\"},\"left_units\":\"screen\",\"level\":\"overlay\",\"line_alpha\":{\"value\":1.0},\"line_color\":{\"value\":\"black\"},\"line_dash\":[4,4],\"line_width\":{\"value\":2},\"render_mode\":\"css\",\"right_units\":\"screen\",\"top_units\":\"screen\"},\"id\":\"63666\",\"type\":\"BoxAnnotation\"},{\"attributes\":{},\"id\":\"63645\",\"type\":\"SaveTool\"},{\"attributes\":{},\"id\":\"64770\",\"type\":\"Selection\"},{\"attributes\":{},\"id\":\"63681\",\"type\":\"Selection\"},{\"attributes\":{},\"id\":\"63646\",\"type\":\"ResetTool\"},{\"attributes\":{\"data_source\":{\"id\":\"63622\",\"type\":\"ColumnDataSource\"},\"glyph\":{\"id\":\"63685\",\"type\":\"Circle\"},\"hover_glyph\":null,\"muted_glyph\":null,\"nonselection_glyph\":{\"id\":\"63686\",\"type\":\"Circle\"},\"selection_glyph\":null,\"view\":{\"id\":\"63688\",\"type\":\"CDSView\"}},\"id\":\"63687\",\"type\":\"GlyphRenderer\"},{\"attributes\":{\"fill_alpha\":{\"value\":0.2},\"fill_color\":{\"field\":\"color\"},\"line_color\":{\"field\":\"color\"},\"size\":{\"field\":\"size\",\"units\":\"screen\"},\"x\":{\"field\":\"petal_length\"},\"y\":{\"field\":\"petal_width\"}},\"id\":\"63656\",\"type\":\"Circle\"},{\"attributes\":{},\"id\":\"63647\",\"type\":\"HelpTool\"},{\"attributes\":{\"label\":{\"value\":\"Setosa\"},\"renderers\":[{\"id\":\"63658\",\"type\":\"GlyphRenderer\"}]},\"id\":\"63668\",\"type\":\"LegendItem\"},{\"attributes\":{\"axis_label\":\"Petal Width\",\"formatter\":{\"id\":\"63662\",\"type\":\"BasicTickFormatter\"},\"ticker\":{\"id\":\"63638\",\"type\":\"BasicTicker\"}},\"id\":\"63637\",\"type\":\"LinearAxis\"},{\"attributes\":{\"active_drag\":\"auto\",\"active_inspect\":\"auto\",\"active_multi\":null,\"active_scroll\":\"auto\",\"active_tap\":\"auto\",\"tools\":[{\"id\":\"63642\",\"type\":\"PanTool\"},{\"id\":\"63643\",\"type\":\"WheelZoomTool\"},{\"id\":\"63644\",\"type\":\"BoxZoomTool\"},{\"id\":\"63645\",\"type\":\"SaveTool\"},{\"id\":\"63646\",\"type\":\"ResetTool\"},{\"id\":\"63647\",\"type\":\"HelpTool\"}]},\"id\":\"63648\",\"type\":\"Toolbar\"},{\"attributes\":{\"source\":{\"id\":\"63620\",\"type\":\"ColumnDataSource\"}},\"id\":\"63659\",\"type\":\"CDSView\"},{\"attributes\":{},\"id\":\"63662\",\"type\":\"BasicTickFormatter\"},{\"attributes\":{\"callback\":null,\"data\":{\"color\":[\"green\",\"green\",\"green\",\"green\",\"green\",\"green\",\"green\",\"green\",\"green\",\"green\",\"green\",\"green\",\"green\",\"green\",\"green\",\"green\",\"green\",\"green\",\"green\",\"green\",\"green\",\"green\",\"green\",\"green\",\"green\",\"green\",\"green\",\"green\",\"green\",\"green\",\"green\",\"green\",\"green\",\"green\",\"green\",\"green\",\"green\",\"green\",\"green\",\"green\",\"green\",\"green\",\"green\",\"green\",\"green\",\"green\",\"green\",\"green\",\"green\",\"green\"],\"index\":[50,51,52,53,54,55,56,57,58,59,60,61,62,63,64,65,66,67,68,69,70,71,72,73,74,75,76,77,78,79,80,81,82,83,84,85,86,87,88,89,90,91,92,93,94,95,96,97,98,99],\"petal_length\":{\"__ndarray__\":\"zczMzMzMEkAAAAAAAAASQJqZmZmZmRNAAAAAAAAAEEBmZmZmZmYSQAAAAAAAABJAzczMzMzMEkBmZmZmZmYKQGZmZmZmZhJAMzMzMzMzD0AAAAAAAAAMQM3MzMzMzBBAAAAAAAAAEEDNzMzMzMwSQM3MzMzMzAxAmpmZmZmZEUAAAAAAAAASQGZmZmZmZhBAAAAAAAAAEkAzMzMzMzMPQDMzMzMzMxNAAAAAAAAAEECamZmZmZkTQM3MzMzMzBJAMzMzMzMzEUCamZmZmZkRQDMzMzMzMxNAAAAAAAAAFEAAAAAAAAASQAAAAAAAAAxAZmZmZmZmDkCamZmZmZkNQDMzMzMzMw9AZmZmZmZmFEAAAAAAAAASQAAAAAAAABJAzczMzMzMEkCamZmZmZkRQGZmZmZmZhBAAAAAAAAAEECamZmZmZkRQGZmZmZmZhJAAAAAAAAAEEBmZmZmZmYKQM3MzMzMzBBAzczMzMzMEEDNzMzMzMwQQDMzMzMzMxFAAAAAAAAACEBmZmZmZmYQQA==\",\"dtype\":\"float64\",\"shape\":[50]},\"petal_width\":{\"__ndarray__\":\"ZmZmZmZm9j8AAAAAAAD4PwAAAAAAAPg/zczMzMzM9D8AAAAAAAD4P83MzMzMzPQ/mpmZmZmZ+T8AAAAAAADwP83MzMzMzPQ/ZmZmZmZm9j8AAAAAAADwPwAAAAAAAPg/AAAAAAAA8D9mZmZmZmb2P83MzMzMzPQ/ZmZmZmZm9j8AAAAAAAD4PwAAAAAAAPA/AAAAAAAA+D+amZmZmZnxP83MzMzMzPw/zczMzMzM9D8AAAAAAAD4PzMzMzMzM/M/zczMzMzM9D9mZmZmZmb2P2ZmZmZmZvY/MzMzMzMz+z8AAAAAAAD4PwAAAAAAAPA/mpmZmZmZ8T8AAAAAAADwPzMzMzMzM/M/mpmZmZmZ+T8AAAAAAAD4P5qZmZmZmfk/AAAAAAAA+D/NzMzMzMz0P83MzMzMzPQ/zczMzMzM9D8zMzMzMzPzP2ZmZmZmZvY/MzMzMzMz8z8AAAAAAADwP83MzMzMzPQ/MzMzMzMz8z/NzMzMzMz0P83MzMzMzPQ/mpmZmZmZ8T/NzMzMzMz0Pw==\",\"dtype\":\"float64\",\"shape\":[50]},\"sepal_length\":{\"__ndarray__\":\"AAAAAAAAHECamZmZmZkZQJqZmZmZmRtAAAAAAAAAFkAAAAAAAAAaQM3MzMzMzBZAMzMzMzMzGUCamZmZmZkTQGZmZmZmZhpAzczMzMzMFEAAAAAAAAAUQJqZmZmZmRdAAAAAAAAAGEBmZmZmZmYYQGZmZmZmZhZAzczMzMzMGkBmZmZmZmYWQDMzMzMzMxdAzczMzMzMGEBmZmZmZmYWQJqZmZmZmRdAZmZmZmZmGEAzMzMzMzMZQGZmZmZmZhhAmpmZmZmZGUBmZmZmZmYaQDMzMzMzMxtAzczMzMzMGkAAAAAAAAAYQM3MzMzMzBZAAAAAAAAAFkAAAAAAAAAWQDMzMzMzMxdAAAAAAAAAGECamZmZmZkVQAAAAAAAABhAzczMzMzMGkAzMzMzMzMZQGZmZmZmZhZAAAAAAAAAFkAAAAAAAAAWQGZmZmZmZhhAMzMzMzMzF0AAAAAAAAAUQGZmZmZmZhZAzczMzMzMFkDNzMzMzMwWQM3MzMzMzBhAZmZmZmZmFEDNzMzMzMwWQA==\",\"dtype\":\"float64\",\"shape\":[50]},\"sepal_width\":{\"__ndarray__\":\"mpmZmZmZCUCamZmZmZkJQM3MzMzMzAhAZmZmZmZmAkBmZmZmZmYGQGZmZmZmZgZAZmZmZmZmCkAzMzMzMzMDQDMzMzMzMwdAmpmZmZmZBUAAAAAAAAAAQAAAAAAAAAhAmpmZmZmZAUAzMzMzMzMHQDMzMzMzMwdAzczMzMzMCEAAAAAAAAAIQJqZmZmZmQVAmpmZmZmZAUAAAAAAAAAEQJqZmZmZmQlAZmZmZmZmBkAAAAAAAAAEQGZmZmZmZgZAMzMzMzMzB0AAAAAAAAAIQGZmZmZmZgZAAAAAAAAACEAzMzMzMzMHQM3MzMzMzARAMzMzMzMzA0AzMzMzMzMDQJqZmZmZmQVAmpmZmZmZBUAAAAAAAAAIQDMzMzMzMwtAzczMzMzMCEBmZmZmZmYCQAAAAAAAAAhAAAAAAAAABEDNzMzMzMwEQAAAAAAAAAhAzczMzMzMBEBmZmZmZmYCQJqZmZmZmQVAAAAAAAAACEAzMzMzMzMHQDMzMzMzMwdAAAAAAAAABEBmZmZmZmYGQA==\",\"dtype\":\"float64\",\"shape\":[50]},\"size\":{\"__ndarray__\":\"AAAAAAAAMEAAAAAAAAAwQAAAAAAAAC9AAAAAAAAAJ0AAAAAAAAAsQAAAAAAAACxAAAAAAACAMEAAAAAAAAAoQAAAAAAAAC1AAAAAAAAAK0AAAAAAAAAkQAAAAAAAAC5AAAAAAAAAJkAAAAAAAAAtQAAAAAAAAC1AAAAAAAAAL0AAAAAAAAAuQAAAAAAAACtAAAAAAAAAJkAAAAAAAAApQAAAAAAAADBAAAAAAAAALEAAAAAAAAApQAAAAAAAACxAAAAAAAAALUAAAAAAAAAuQAAAAAAAACxAAAAAAAAALkAAAAAAAAAtQAAAAAAAACpAAAAAAAAAKEAAAAAAAAAoQAAAAAAAACtAAAAAAAAAK0AAAAAAAAAuQAAAAAAAADFAAAAAAAAAL0AAAAAAAAAnQAAAAAAAAC5AAAAAAAAAKUAAAAAAAAAqQAAAAAAAAC5AAAAAAAAAKkAAAAAAAAAnQAAAAAAAACtAAAAAAAAALkAAAAAAAAAtQAAAAAAAAC1AAAAAAAAAKUAAAAAAAAAsQA==\",\"dtype\":\"float64\",\"shape\":[50]},\"species\":[\"versicolor\",\"versicolor\",\"versicolor\",\"versicolor\",\"versicolor\",\"versicolor\",\"versicolor\",\"versicolor\",\"versicolor\",\"versicolor\",\"versicolor\",\"versicolor\",\"versicolor\",\"versicolor\",\"versicolor\",\"versicolor\",\"versicolor\",\"versicolor\",\"versicolor\",\"versicolor\",\"versicolor\",\"versicolor\",\"versicolor\",\"versicolor\",\"versicolor\",\"versicolor\",\"versicolor\",\"versicolor\",\"versicolor\",\"versicolor\",\"versicolor\",\"versicolor\",\"versicolor\",\"versicolor\",\"versicolor\",\"versicolor\",\"versicolor\",\"versicolor\",\"versicolor\",\"versicolor\",\"versicolor\",\"versicolor\",\"versicolor\",\"versicolor\",\"versicolor\",\"versicolor\",\"versicolor\",\"versicolor\",\"versicolor\",\"versicolor\"]},\"selected\":{\"id\":\"63698\",\"type\":\"Selection\"},\"selection_policy\":{\"id\":\"63699\",\"type\":\"UnionRenderers\"}},\"id\":\"63621\",\"type\":\"ColumnDataSource\"},{\"attributes\":{\"callback\":null,\"data\":{\"color\":[\"red\",\"red\",\"red\",\"red\",\"red\",\"red\",\"red\",\"red\",\"red\",\"red\",\"red\",\"red\",\"red\",\"red\",\"red\",\"red\",\"red\",\"red\",\"red\",\"red\",\"red\",\"red\",\"red\",\"red\",\"red\",\"red\",\"red\",\"red\",\"red\",\"red\",\"red\",\"red\",\"red\",\"red\",\"red\",\"red\",\"red\",\"red\",\"red\",\"red\",\"red\",\"red\",\"red\",\"red\",\"red\",\"red\",\"red\",\"red\",\"red\",\"red\"],\"index\":[0,1,2,3,4,5,6,7,8,9,10,11,12,13,14,15,16,17,18,19,20,21,22,23,24,25,26,27,28,29,30,31,32,33,34,35,36,37,38,39,40,41,42,43,44,45,46,47,48,49],\"petal_length\":{\"__ndarray__\":\"ZmZmZmZm9j9mZmZmZmb2P83MzMzMzPQ/AAAAAAAA+D9mZmZmZmb2PzMzMzMzM/s/ZmZmZmZm9j8AAAAAAAD4P2ZmZmZmZvY/AAAAAAAA+D8AAAAAAAD4P5qZmZmZmfk/ZmZmZmZm9j+amZmZmZnxPzMzMzMzM/M/AAAAAAAA+D/NzMzMzMz0P2ZmZmZmZvY/MzMzMzMz+z8AAAAAAAD4PzMzMzMzM/s/AAAAAAAA+D8AAAAAAADwPzMzMzMzM/s/ZmZmZmZm/j+amZmZmZn5P5qZmZmZmfk/AAAAAAAA+D9mZmZmZmb2P5qZmZmZmfk/mpmZmZmZ+T8AAAAAAAD4PwAAAAAAAPg/ZmZmZmZm9j8AAAAAAAD4PzMzMzMzM/M/zczMzMzM9D9mZmZmZmb2P83MzMzMzPQ/AAAAAAAA+D/NzMzMzMz0P83MzMzMzPQ/zczMzMzM9D+amZmZmZn5P2ZmZmZmZv4/ZmZmZmZm9j+amZmZmZn5P2ZmZmZmZvY/AAAAAAAA+D9mZmZmZmb2Pw==\",\"dtype\":\"float64\",\"shape\":[50]},\"petal_width\":{\"__ndarray__\":\"mpmZmZmZyT+amZmZmZnJP5qZmZmZmck/mpmZmZmZyT+amZmZmZnJP5qZmZmZmdk/MzMzMzMz0z+amZmZmZnJP5qZmZmZmck/mpmZmZmZuT+amZmZmZnJP5qZmZmZmck/mpmZmZmZuT+amZmZmZm5P5qZmZmZmck/mpmZmZmZ2T+amZmZmZnZPzMzMzMzM9M/MzMzMzMz0z8zMzMzMzPTP5qZmZmZmck/mpmZmZmZ2T+amZmZmZnJPwAAAAAAAOA/mpmZmZmZyT+amZmZmZnJP5qZmZmZmdk/mpmZmZmZyT+amZmZmZnJP5qZmZmZmck/mpmZmZmZyT+amZmZmZnZP5qZmZmZmbk/mpmZmZmZyT+amZmZmZnJP5qZmZmZmck/mpmZmZmZyT+amZmZmZm5P5qZmZmZmck/mpmZmZmZyT8zMzMzMzPTPzMzMzMzM9M/mpmZmZmZyT8zMzMzMzPjP5qZmZmZmdk/MzMzMzMz0z+amZmZmZnJP5qZmZmZmck/mpmZmZmZyT+amZmZmZnJPw==\",\"dtype\":\"float64\",\"shape\":[50]},\"sepal_length\":{\"__ndarray__\":\"ZmZmZmZmFECamZmZmZkTQM3MzMzMzBJAZmZmZmZmEkAAAAAAAAAUQJqZmZmZmRVAZmZmZmZmEkAAAAAAAAAUQJqZmZmZmRFAmpmZmZmZE0CamZmZmZkVQDMzMzMzMxNAMzMzMzMzE0AzMzMzMzMRQDMzMzMzMxdAzczMzMzMFkCamZmZmZkVQGZmZmZmZhRAzczMzMzMFkBmZmZmZmYUQJqZmZmZmRVAZmZmZmZmFEBmZmZmZmYSQGZmZmZmZhRAMzMzMzMzE0AAAAAAAAAUQAAAAAAAABRAzczMzMzMFEDNzMzMzMwUQM3MzMzMzBJAMzMzMzMzE0CamZmZmZkVQM3MzMzMzBRAAAAAAAAAFkCamZmZmZkTQAAAAAAAABRAAAAAAAAAFkCamZmZmZkTQJqZmZmZmRFAZmZmZmZmFEAAAAAAAAAUQAAAAAAAABJAmpmZmZmZEUAAAAAAAAAUQGZmZmZmZhRAMzMzMzMzE0BmZmZmZmYUQGZmZmZmZhJAMzMzMzMzFUAAAAAAAAAUQA==\",\"dtype\":\"float64\",\"shape\":[50]},\"sepal_width\":{\"__ndarray__\":\"AAAAAAAADEAAAAAAAAAIQJqZmZmZmQlAzczMzMzMCEDNzMzMzMwMQDMzMzMzMw9AMzMzMzMzC0AzMzMzMzMLQDMzMzMzMwdAzczMzMzMCECamZmZmZkNQDMzMzMzMwtAAAAAAAAACEAAAAAAAAAIQAAAAAAAABBAmpmZmZmZEUAzMzMzMzMPQAAAAAAAAAxAZmZmZmZmDkBmZmZmZmYOQDMzMzMzMwtAmpmZmZmZDUDNzMzMzMwMQGZmZmZmZgpAMzMzMzMzC0AAAAAAAAAIQDMzMzMzMwtAAAAAAAAADEAzMzMzMzMLQJqZmZmZmQlAzczMzMzMCEAzMzMzMzMLQGZmZmZmZhBAzczMzMzMEEDNzMzMzMwIQJqZmZmZmQlAAAAAAAAADEDNzMzMzMwMQAAAAAAAAAhAMzMzMzMzC0AAAAAAAAAMQGZmZmZmZgJAmpmZmZmZCUAAAAAAAAAMQGZmZmZmZg5AAAAAAAAACEBmZmZmZmYOQJqZmZmZmQlAmpmZmZmZDUBmZmZmZmYKQA==\",\"dtype\":\"float64\",\"shape\":[50]},\"size\":{\"__ndarray__\":\"AAAAAACAMUAAAAAAAAAuQAAAAAAAADBAAAAAAAAAL0AAAAAAAAAyQAAAAAAAgDNAAAAAAAAAMUAAAAAAAAAxQAAAAAAAAC1AAAAAAAAAL0AAAAAAAIAyQAAAAAAAADFAAAAAAAAALkAAAAAAAAAuQAAAAAAAADRAAAAAAAAANkAAAAAAAIAzQAAAAAAAgDFAAAAAAAAAM0AAAAAAAAAzQAAAAAAAADFAAAAAAACAMkAAAAAAAAAyQAAAAAAAgDBAAAAAAAAAMUAAAAAAAAAuQAAAAAAAADFAAAAAAACAMUAAAAAAAAAxQAAAAAAAADBAAAAAAAAAL0AAAAAAAAAxQAAAAAAAgDRAAAAAAAAANUAAAAAAAAAvQAAAAAAAADBAAAAAAACAMUAAAAAAAAAyQAAAAAAAAC5AAAAAAAAAMUAAAAAAAIAxQAAAAAAAACdAAAAAAAAAMEAAAAAAAIAxQAAAAAAAADNAAAAAAAAALkAAAAAAAAAzQAAAAAAAADBAAAAAAACAMkAAAAAAAIAwQA==\",\"dtype\":\"float64\",\"shape\":[50]},\"species\":[\"setosa\",\"setosa\",\"setosa\",\"setosa\",\"setosa\",\"setosa\",\"setosa\",\"setosa\",\"setosa\",\"setosa\",\"setosa\",\"setosa\",\"setosa\",\"setosa\",\"setosa\",\"setosa\",\"setosa\",\"setosa\",\"setosa\",\"setosa\",\"setosa\",\"setosa\",\"setosa\",\"setosa\",\"setosa\",\"setosa\",\"setosa\",\"setosa\",\"setosa\",\"setosa\",\"setosa\",\"setosa\",\"setosa\",\"setosa\",\"setosa\",\"setosa\",\"setosa\",\"setosa\",\"setosa\",\"setosa\",\"setosa\",\"setosa\",\"setosa\",\"setosa\",\"setosa\",\"setosa\",\"setosa\",\"setosa\",\"setosa\",\"setosa\"]},\"selected\":{\"id\":\"63681\",\"type\":\"Selection\"},\"selection_policy\":{\"id\":\"63682\",\"type\":\"UnionRenderers\"}},\"id\":\"63620\",\"type\":\"ColumnDataSource\"},{\"attributes\":{\"callback\":null},\"id\":\"63626\",\"type\":\"DataRange1d\"},{\"attributes\":{\"text\":\"Petal plot\"},\"id\":\"63661\",\"type\":\"Title\"},{\"attributes\":{\"click_policy\":\"hide\",\"items\":[{\"id\":\"63668\",\"type\":\"LegendItem\"},{\"id\":\"63683\",\"type\":\"LegendItem\"},{\"id\":\"63700\",\"type\":\"LegendItem\"}],\"location\":\"top_left\"},\"id\":\"63667\",\"type\":\"Legend\"},{\"attributes\":{},\"id\":\"63630\",\"type\":\"LinearScale\"},{\"attributes\":{\"data_source\":{\"id\":\"63620\",\"type\":\"ColumnDataSource\"},\"glyph\":{\"id\":\"63656\",\"type\":\"Circle\"},\"hover_glyph\":null,\"muted_glyph\":null,\"nonselection_glyph\":{\"id\":\"63657\",\"type\":\"Circle\"},\"selection_glyph\":null,\"view\":{\"id\":\"63659\",\"type\":\"CDSView\"}},\"id\":\"63658\",\"type\":\"GlyphRenderer\"},{\"attributes\":{},\"id\":\"63664\",\"type\":\"BasicTickFormatter\"},{\"attributes\":{},\"id\":\"63633\",\"type\":\"BasicTicker\"},{\"attributes\":{},\"id\":\"63698\",\"type\":\"Selection\"},{\"attributes\":{},\"id\":\"63638\",\"type\":\"BasicTicker\"},{\"attributes\":{\"label\":{\"value\":\"Virginica\"},\"renderers\":[{\"id\":\"63687\",\"type\":\"GlyphRenderer\"}]},\"id\":\"63700\",\"type\":\"LegendItem\"},{\"attributes\":{\"fill_alpha\":{\"value\":0.2},\"fill_color\":{\"field\":\"color\"},\"line_color\":{\"field\":\"color\"},\"size\":{\"field\":\"size\",\"units\":\"screen\"},\"x\":{\"field\":\"petal_length\"},\"y\":{\"field\":\"petal_width\"}},\"id\":\"63685\",\"type\":\"Circle\"},{\"attributes\":{\"callback\":null},\"id\":\"63624\",\"type\":\"DataRange1d\"},{\"attributes\":{\"fill_alpha\":{\"value\":0.2},\"fill_color\":{\"field\":\"color\"},\"line_color\":{\"field\":\"color\"},\"size\":{\"field\":\"size\",\"units\":\"screen\"},\"x\":{\"field\":\"petal_length\"},\"y\":{\"field\":\"petal_width\"}},\"id\":\"63670\",\"type\":\"Circle\"},{\"attributes\":{\"fill_alpha\":{\"value\":0.1},\"fill_color\":{\"value\":\"#1f77b4\"},\"line_alpha\":{\"value\":0.1},\"line_color\":{\"value\":\"#1f77b4\"},\"size\":{\"field\":\"size\",\"units\":\"screen\"},\"x\":{\"field\":\"petal_length\"},\"y\":{\"field\":\"petal_width\"}},\"id\":\"63671\",\"type\":\"Circle\"},{\"attributes\":{},\"id\":\"63699\",\"type\":\"UnionRenderers\"},{\"attributes\":{\"axis_label\":\"Petal Length\",\"formatter\":{\"id\":\"63664\",\"type\":\"BasicTickFormatter\"},\"ticker\":{\"id\":\"63633\",\"type\":\"BasicTicker\"}},\"id\":\"63632\",\"type\":\"LinearAxis\"},{\"attributes\":{\"ticker\":{\"id\":\"63633\",\"type\":\"BasicTicker\"}},\"id\":\"63636\",\"type\":\"Grid\"}],\"root_ids\":[\"63623\"]},\"title\":\"Bokeh Application\",\"version\":\"1.3.4\"}};\n",
       "  var render_items = [{\"docid\":\"007cbd63-89bb-4c92-95ae-2f34b68c99a0\",\"roots\":{\"63623\":\"e23c51a5-c721-4851-bdcc-3834a01f9a99\"}}];\n",
       "  root.Bokeh.embed.embed_items_notebook(docs_json, render_items);\n",
       "\n",
       "  }\n",
       "  if (root.Bokeh !== undefined) {\n",
       "    embed_document(root);\n",
       "  } else {\n",
       "    var attempts = 0;\n",
       "    var timer = setInterval(function(root) {\n",
       "      if (root.Bokeh !== undefined) {\n",
       "        embed_document(root);\n",
       "        clearInterval(timer);\n",
       "      }\n",
       "      attempts++;\n",
       "      if (attempts > 100) {\n",
       "        console.log(\"Bokeh: ERROR: Unable to run BokehJS code because BokehJS library is missing\");\n",
       "        clearInterval(timer);\n",
       "      }\n",
       "    }, 10, root)\n",
       "  }\n",
       "})(window);"
      ],
      "application/vnd.bokehjs_exec.v0+json": ""
     },
     "metadata": {
      "application/vnd.bokehjs_exec.v0+json": {
       "id": "63623"
      }
     },
     "output_type": "display_data"
    }
   ],
   "source": [
    "p = figure(height=500,width=500)\n",
    "p.circle(x=\"petal_length\", y=\"petal_width\", size='size', fill_alpha=0.2, \n",
    "color=\"color\", legend='Setosa', source=setosa)\n",
    "\n",
    "p.circle(x=\"petal_length\", y=\"petal_width\", size='size', fill_alpha=0.2, \n",
    "color=\"color\", legend='Versicolor', source=versicolor)\n",
    "\n",
    "p.circle(x=\"petal_length\", y=\"petal_width\", size='size', fill_alpha=0.2,\n",
    "color=\"color\", legend='Virginica', source=virginica)\n",
    "p.legend.location = 'top_left'\n",
    "p.xaxis.axis_label = \"Petal Length\"\n",
    "p.yaxis.axis_label = \"Petal Width\"\n",
    "p.title.text = \"Petal plot\"\n",
    "p.legend.click_policy='hide'\n",
    "show(p)"
   ]
  },
  {
   "cell_type": "markdown",
   "metadata": {},
   "source": [
    "### Step 8: Configuring Toolbars"
   ]
  },
  {
   "cell_type": "code",
   "execution_count": 187,
   "metadata": {},
   "outputs": [
    {
     "data": {
      "text/html": [
       "\n",
       "\n",
       "\n",
       "\n",
       "\n",
       "\n",
       "  <div class=\"bk-root\" id=\"2f6548ab-6910-4ddd-894b-fe6d1d50f659\" data-root-id=\"63623\"></div>\n"
      ]
     },
     "metadata": {},
     "output_type": "display_data"
    },
    {
     "data": {
      "application/javascript": [
       "(function(root) {\n",
       "  function embed_document(root) {\n",
       "    \n",
       "  var docs_json = {\"90e61ec9-a469-4223-9d3d-8c86c3ae76ce\":{\"roots\":{\"references\":[{\"attributes\":{\"below\":[{\"id\":\"63632\",\"type\":\"LinearAxis\"}],\"center\":[{\"id\":\"63636\",\"type\":\"Grid\"},{\"id\":\"63641\",\"type\":\"Grid\"},{\"id\":\"63667\",\"type\":\"Legend\"}],\"left\":[{\"id\":\"63637\",\"type\":\"LinearAxis\"}],\"plot_height\":500,\"plot_width\":500,\"renderers\":[{\"id\":\"63658\",\"type\":\"GlyphRenderer\"},{\"id\":\"63672\",\"type\":\"GlyphRenderer\"},{\"id\":\"63687\",\"type\":\"GlyphRenderer\"}],\"title\":{\"id\":\"63661\",\"type\":\"Title\"},\"toolbar\":{\"id\":\"63648\",\"type\":\"Toolbar\"},\"toolbar_location\":\"above\",\"x_range\":{\"id\":\"63624\",\"type\":\"DataRange1d\"},\"x_scale\":{\"id\":\"63628\",\"type\":\"LinearScale\"},\"y_range\":{\"id\":\"63626\",\"type\":\"DataRange1d\"},\"y_scale\":{\"id\":\"63630\",\"type\":\"LinearScale\"}},\"id\":\"63623\",\"subtype\":\"Figure\",\"type\":\"Plot\"},{\"attributes\":{\"dimension\":1,\"ticker\":{\"id\":\"63638\",\"type\":\"BasicTicker\"}},\"id\":\"63641\",\"type\":\"Grid\"},{\"attributes\":{\"source\":{\"id\":\"63621\",\"type\":\"ColumnDataSource\"}},\"id\":\"63673\",\"type\":\"CDSView\"},{\"attributes\":{},\"id\":\"64771\",\"type\":\"UnionRenderers\"},{\"attributes\":{\"fill_alpha\":{\"value\":0.1},\"fill_color\":{\"value\":\"#1f77b4\"},\"line_alpha\":{\"value\":0.1},\"line_color\":{\"value\":\"#1f77b4\"},\"size\":{\"field\":\"size\",\"units\":\"screen\"},\"x\":{\"field\":\"petal_length\"},\"y\":{\"field\":\"petal_width\"}},\"id\":\"63657\",\"type\":\"Circle\"},{\"attributes\":{},\"id\":\"63682\",\"type\":\"UnionRenderers\"},{\"attributes\":{},\"id\":\"63628\",\"type\":\"LinearScale\"},{\"attributes\":{\"callback\":null,\"data\":{\"color\":[\"blue\",\"blue\",\"blue\",\"blue\",\"blue\",\"blue\",\"blue\",\"blue\",\"blue\",\"blue\",\"blue\",\"blue\",\"blue\",\"blue\",\"blue\",\"blue\",\"blue\",\"blue\",\"blue\",\"blue\",\"blue\",\"blue\",\"blue\",\"blue\",\"blue\",\"blue\",\"blue\",\"blue\",\"blue\",\"blue\",\"blue\",\"blue\",\"blue\",\"blue\",\"blue\",\"blue\",\"blue\",\"blue\",\"blue\",\"blue\",\"blue\",\"blue\",\"blue\",\"blue\",\"blue\",\"blue\",\"blue\",\"blue\",\"blue\",\"blue\"],\"index\":[100,101,102,103,104,105,106,107,108,109,110,111,112,113,114,115,116,117,118,119,120,121,122,123,124,125,126,127,128,129,130,131,132,133,134,135,136,137,138,139,140,141,142,143,144,145,146,147,148,149],\"petal_length\":{\"__ndarray__\":\"AAAAAAAAGEBmZmZmZmYUQJqZmZmZmRdAZmZmZmZmFkAzMzMzMzMXQGZmZmZmZhpAAAAAAAAAEkAzMzMzMzMZQDMzMzMzMxdAZmZmZmZmGEBmZmZmZmYUQDMzMzMzMxVAAAAAAAAAFkAAAAAAAAAUQGZmZmZmZhRAMzMzMzMzFUAAAAAAAAAWQM3MzMzMzBpAmpmZmZmZG0AAAAAAAAAUQM3MzMzMzBZAmpmZmZmZE0DNzMzMzMwaQJqZmZmZmRNAzczMzMzMFkAAAAAAAAAYQDMzMzMzMxNAmpmZmZmZE0BmZmZmZmYWQDMzMzMzMxdAZmZmZmZmGECamZmZmZkZQGZmZmZmZhZAZmZmZmZmFEBmZmZmZmYWQGZmZmZmZhhAZmZmZmZmFkAAAAAAAAAWQDMzMzMzMxNAmpmZmZmZFUBmZmZmZmYWQGZmZmZmZhRAZmZmZmZmFECamZmZmZkXQM3MzMzMzBZAzczMzMzMFEAAAAAAAAAUQM3MzMzMzBRAmpmZmZmZFUBmZmZmZmYUQA==\",\"dtype\":\"float64\",\"shape\":[50]},\"petal_width\":{\"__ndarray__\":\"AAAAAAAABEBmZmZmZmb+P83MzMzMzABAzczMzMzM/D+amZmZmZkBQM3MzMzMzABAMzMzMzMz+z/NzMzMzMz8P83MzMzMzPw/AAAAAAAABEAAAAAAAAAAQGZmZmZmZv4/zczMzMzMAEAAAAAAAAAAQDMzMzMzMwNAZmZmZmZmAkDNzMzMzMz8P5qZmZmZmQFAZmZmZmZmAkAAAAAAAAD4P2ZmZmZmZgJAAAAAAAAAAEAAAAAAAAAAQM3MzMzMzPw/zczMzMzMAEDNzMzMzMz8P83MzMzMzPw/zczMzMzM/D/NzMzMzMwAQJqZmZmZmfk/ZmZmZmZm/j8AAAAAAAAAQJqZmZmZmQFAAAAAAAAA+D9mZmZmZmb2P2ZmZmZmZgJAMzMzMzMzA0DNzMzMzMz8P83MzMzMzPw/zczMzMzMAEAzMzMzMzMDQGZmZmZmZgJAZmZmZmZm/j9mZmZmZmYCQAAAAAAAAARAZmZmZmZmAkBmZmZmZmb+PwAAAAAAAABAZmZmZmZmAkDNzMzMzMz8Pw==\",\"dtype\":\"float64\",\"shape\":[50]},\"sepal_length\":{\"__ndarray__\":\"MzMzMzMzGUAzMzMzMzMXQGZmZmZmZhxAMzMzMzMzGUAAAAAAAAAaQGZmZmZmZh5AmpmZmZmZE0AzMzMzMzMdQM3MzMzMzBpAzczMzMzMHEAAAAAAAAAaQJqZmZmZmRlAMzMzMzMzG0DNzMzMzMwWQDMzMzMzMxdAmpmZmZmZGUAAAAAAAAAaQM3MzMzMzB5AzczMzMzMHkAAAAAAAAAYQJqZmZmZmRtAZmZmZmZmFkDNzMzMzMweQDMzMzMzMxlAzczMzMzMGkDNzMzMzMwcQM3MzMzMzBhAZmZmZmZmGECamZmZmZkZQM3MzMzMzBxAmpmZmZmZHUCamZmZmZkfQJqZmZmZmRlAMzMzMzMzGUBmZmZmZmYYQM3MzMzMzB5AMzMzMzMzGUCamZmZmZkZQAAAAAAAABhAmpmZmZmZG0DNzMzMzMwaQJqZmZmZmRtAMzMzMzMzF0AzMzMzMzMbQM3MzMzMzBpAzczMzMzMGkAzMzMzMzMZQAAAAAAAABpAzczMzMzMGECamZmZmZkXQA==\",\"dtype\":\"float64\",\"shape\":[50]},\"sepal_width\":{\"__ndarray__\":\"ZmZmZmZmCkCamZmZmZkFQAAAAAAAAAhAMzMzMzMzB0AAAAAAAAAIQAAAAAAAAAhAAAAAAAAABEAzMzMzMzMHQAAAAAAAAARAzczMzMzMDECamZmZmZkJQJqZmZmZmQVAAAAAAAAACEAAAAAAAAAEQGZmZmZmZgZAmpmZmZmZCUAAAAAAAAAIQGZmZmZmZg5AzczMzMzMBECamZmZmZkBQJqZmZmZmQlAZmZmZmZmBkBmZmZmZmYGQJqZmZmZmQVAZmZmZmZmCkCamZmZmZkJQGZmZmZmZgZAAAAAAAAACEBmZmZmZmYGQAAAAAAAAAhAZmZmZmZmBkBmZmZmZmYOQGZmZmZmZgZAZmZmZmZmBkDNzMzMzMwEQAAAAAAAAAhAMzMzMzMzC0DNzMzMzMwIQAAAAAAAAAhAzczMzMzMCEDNzMzMzMwIQM3MzMzMzAhAmpmZmZmZBUCamZmZmZkJQGZmZmZmZgpAAAAAAAAACEAAAAAAAAAEQAAAAAAAAAhAMzMzMzMzC0AAAAAAAAAIQA==\",\"dtype\":\"float64\",\"shape\":[50]},\"size\":{\"__ndarray__\":\"AAAAAACAMEAAAAAAAAArQAAAAAAAAC5AAAAAAAAALUAAAAAAAAAuQAAAAAAAAC5AAAAAAAAAKUAAAAAAAAAtQAAAAAAAAClAAAAAAAAAMkAAAAAAAAAwQAAAAAAAACtAAAAAAAAALkAAAAAAAAApQAAAAAAAACxAAAAAAAAAMEAAAAAAAAAuQAAAAAAAADNAAAAAAAAAKkAAAAAAAAAmQAAAAAAAADBAAAAAAAAALEAAAAAAAAAsQAAAAAAAACtAAAAAAACAMEAAAAAAAAAwQAAAAAAAACxAAAAAAAAALkAAAAAAAAAsQAAAAAAAAC5AAAAAAAAALEAAAAAAAAAzQAAAAAAAACxAAAAAAAAALEAAAAAAAAAqQAAAAAAAAC5AAAAAAAAAMUAAAAAAAAAvQAAAAAAAAC5AAAAAAAAAL0AAAAAAAAAvQAAAAAAAAC9AAAAAAAAAK0AAAAAAAAAwQAAAAAAAgDBAAAAAAAAALkAAAAAAAAApQAAAAAAAAC5AAAAAAAAAMUAAAAAAAAAuQA==\",\"dtype\":\"float64\",\"shape\":[50]},\"species\":[\"virginica\",\"virginica\",\"virginica\",\"virginica\",\"virginica\",\"virginica\",\"virginica\",\"virginica\",\"virginica\",\"virginica\",\"virginica\",\"virginica\",\"virginica\",\"virginica\",\"virginica\",\"virginica\",\"virginica\",\"virginica\",\"virginica\",\"virginica\",\"virginica\",\"virginica\",\"virginica\",\"virginica\",\"virginica\",\"virginica\",\"virginica\",\"virginica\",\"virginica\",\"virginica\",\"virginica\",\"virginica\",\"virginica\",\"virginica\",\"virginica\",\"virginica\",\"virginica\",\"virginica\",\"virginica\",\"virginica\",\"virginica\",\"virginica\",\"virginica\",\"virginica\",\"virginica\",\"virginica\",\"virginica\",\"virginica\",\"virginica\",\"virginica\"]},\"selected\":{\"id\":\"64770\",\"type\":\"Selection\"},\"selection_policy\":{\"id\":\"64771\",\"type\":\"UnionRenderers\"}},\"id\":\"63622\",\"type\":\"ColumnDataSource\"},{\"attributes\":{\"fill_alpha\":{\"value\":0.1},\"fill_color\":{\"value\":\"#1f77b4\"},\"line_alpha\":{\"value\":0.1},\"line_color\":{\"value\":\"#1f77b4\"},\"size\":{\"field\":\"size\",\"units\":\"screen\"},\"x\":{\"field\":\"petal_length\"},\"y\":{\"field\":\"petal_width\"}},\"id\":\"63686\",\"type\":\"Circle\"},{\"attributes\":{\"data_source\":{\"id\":\"63621\",\"type\":\"ColumnDataSource\"},\"glyph\":{\"id\":\"63670\",\"type\":\"Circle\"},\"hover_glyph\":null,\"muted_glyph\":null,\"nonselection_glyph\":{\"id\":\"63671\",\"type\":\"Circle\"},\"selection_glyph\":null,\"view\":{\"id\":\"63673\",\"type\":\"CDSView\"}},\"id\":\"63672\",\"type\":\"GlyphRenderer\"},{\"attributes\":{},\"id\":\"64854\",\"type\":\"SaveTool\"},{\"attributes\":{\"callback\":null,\"tooltips\":[[\"Species\",\"@species\"],[\"Sepal Width\",\"@sepal_width\"]]},\"id\":\"65926\",\"type\":\"HoverTool\"},{\"attributes\":{\"source\":{\"id\":\"63622\",\"type\":\"ColumnDataSource\"}},\"id\":\"63688\",\"type\":\"CDSView\"},{\"attributes\":{\"label\":{\"value\":\"Versicolor\"},\"renderers\":[{\"id\":\"63672\",\"type\":\"GlyphRenderer\"}]},\"id\":\"63683\",\"type\":\"LegendItem\"},{\"attributes\":{},\"id\":\"64770\",\"type\":\"Selection\"},{\"attributes\":{},\"id\":\"63681\",\"type\":\"Selection\"},{\"attributes\":{\"data_source\":{\"id\":\"63622\",\"type\":\"ColumnDataSource\"},\"glyph\":{\"id\":\"63685\",\"type\":\"Circle\"},\"hover_glyph\":null,\"muted_glyph\":null,\"nonselection_glyph\":{\"id\":\"63686\",\"type\":\"Circle\"},\"selection_glyph\":null,\"view\":{\"id\":\"63688\",\"type\":\"CDSView\"}},\"id\":\"63687\",\"type\":\"GlyphRenderer\"},{\"attributes\":{\"fill_alpha\":{\"value\":0.2},\"fill_color\":{\"field\":\"color\"},\"line_color\":{\"field\":\"color\"},\"size\":{\"field\":\"size\",\"units\":\"screen\"},\"x\":{\"field\":\"petal_length\"},\"y\":{\"field\":\"petal_width\"}},\"id\":\"63656\",\"type\":\"Circle\"},{\"attributes\":{\"label\":{\"value\":\"Setosa\"},\"renderers\":[{\"id\":\"63658\",\"type\":\"GlyphRenderer\"}]},\"id\":\"63668\",\"type\":\"LegendItem\"},{\"attributes\":{\"axis_label\":\"Petal Width\",\"formatter\":{\"id\":\"63662\",\"type\":\"BasicTickFormatter\"},\"ticker\":{\"id\":\"63638\",\"type\":\"BasicTicker\"}},\"id\":\"63637\",\"type\":\"LinearAxis\"},{\"attributes\":{\"overlay\":{\"id\":\"65919\",\"type\":\"BoxAnnotation\"}},\"id\":\"64853\",\"type\":\"BoxZoomTool\"},{\"attributes\":{\"active_drag\":\"auto\",\"active_inspect\":\"auto\",\"active_multi\":null,\"active_scroll\":\"auto\",\"active_tap\":\"auto\",\"logo\":null,\"tools\":[{\"id\":\"64850\",\"type\":\"PanTool\"},{\"id\":\"64851\",\"type\":\"ResetTool\"},{\"id\":\"64852\",\"type\":\"WheelZoomTool\"},{\"id\":\"64853\",\"type\":\"BoxZoomTool\"},{\"id\":\"64854\",\"type\":\"SaveTool\"},{\"id\":\"65926\",\"type\":\"HoverTool\"}]},\"id\":\"63648\",\"type\":\"Toolbar\"},{\"attributes\":{\"source\":{\"id\":\"63620\",\"type\":\"ColumnDataSource\"}},\"id\":\"63659\",\"type\":\"CDSView\"},{\"attributes\":{},\"id\":\"63662\",\"type\":\"BasicTickFormatter\"},{\"attributes\":{},\"id\":\"64852\",\"type\":\"WheelZoomTool\"},{\"attributes\":{\"callback\":null,\"data\":{\"color\":[\"green\",\"green\",\"green\",\"green\",\"green\",\"green\",\"green\",\"green\",\"green\",\"green\",\"green\",\"green\",\"green\",\"green\",\"green\",\"green\",\"green\",\"green\",\"green\",\"green\",\"green\",\"green\",\"green\",\"green\",\"green\",\"green\",\"green\",\"green\",\"green\",\"green\",\"green\",\"green\",\"green\",\"green\",\"green\",\"green\",\"green\",\"green\",\"green\",\"green\",\"green\",\"green\",\"green\",\"green\",\"green\",\"green\",\"green\",\"green\",\"green\",\"green\"],\"index\":[50,51,52,53,54,55,56,57,58,59,60,61,62,63,64,65,66,67,68,69,70,71,72,73,74,75,76,77,78,79,80,81,82,83,84,85,86,87,88,89,90,91,92,93,94,95,96,97,98,99],\"petal_length\":{\"__ndarray__\":\"zczMzMzMEkAAAAAAAAASQJqZmZmZmRNAAAAAAAAAEEBmZmZmZmYSQAAAAAAAABJAzczMzMzMEkBmZmZmZmYKQGZmZmZmZhJAMzMzMzMzD0AAAAAAAAAMQM3MzMzMzBBAAAAAAAAAEEDNzMzMzMwSQM3MzMzMzAxAmpmZmZmZEUAAAAAAAAASQGZmZmZmZhBAAAAAAAAAEkAzMzMzMzMPQDMzMzMzMxNAAAAAAAAAEECamZmZmZkTQM3MzMzMzBJAMzMzMzMzEUCamZmZmZkRQDMzMzMzMxNAAAAAAAAAFEAAAAAAAAASQAAAAAAAAAxAZmZmZmZmDkCamZmZmZkNQDMzMzMzMw9AZmZmZmZmFEAAAAAAAAASQAAAAAAAABJAzczMzMzMEkCamZmZmZkRQGZmZmZmZhBAAAAAAAAAEECamZmZmZkRQGZmZmZmZhJAAAAAAAAAEEBmZmZmZmYKQM3MzMzMzBBAzczMzMzMEEDNzMzMzMwQQDMzMzMzMxFAAAAAAAAACEBmZmZmZmYQQA==\",\"dtype\":\"float64\",\"shape\":[50]},\"petal_width\":{\"__ndarray__\":\"ZmZmZmZm9j8AAAAAAAD4PwAAAAAAAPg/zczMzMzM9D8AAAAAAAD4P83MzMzMzPQ/mpmZmZmZ+T8AAAAAAADwP83MzMzMzPQ/ZmZmZmZm9j8AAAAAAADwPwAAAAAAAPg/AAAAAAAA8D9mZmZmZmb2P83MzMzMzPQ/ZmZmZmZm9j8AAAAAAAD4PwAAAAAAAPA/AAAAAAAA+D+amZmZmZnxP83MzMzMzPw/zczMzMzM9D8AAAAAAAD4PzMzMzMzM/M/zczMzMzM9D9mZmZmZmb2P2ZmZmZmZvY/MzMzMzMz+z8AAAAAAAD4PwAAAAAAAPA/mpmZmZmZ8T8AAAAAAADwPzMzMzMzM/M/mpmZmZmZ+T8AAAAAAAD4P5qZmZmZmfk/AAAAAAAA+D/NzMzMzMz0P83MzMzMzPQ/zczMzMzM9D8zMzMzMzPzP2ZmZmZmZvY/MzMzMzMz8z8AAAAAAADwP83MzMzMzPQ/MzMzMzMz8z/NzMzMzMz0P83MzMzMzPQ/mpmZmZmZ8T/NzMzMzMz0Pw==\",\"dtype\":\"float64\",\"shape\":[50]},\"sepal_length\":{\"__ndarray__\":\"AAAAAAAAHECamZmZmZkZQJqZmZmZmRtAAAAAAAAAFkAAAAAAAAAaQM3MzMzMzBZAMzMzMzMzGUCamZmZmZkTQGZmZmZmZhpAzczMzMzMFEAAAAAAAAAUQJqZmZmZmRdAAAAAAAAAGEBmZmZmZmYYQGZmZmZmZhZAzczMzMzMGkBmZmZmZmYWQDMzMzMzMxdAzczMzMzMGEBmZmZmZmYWQJqZmZmZmRdAZmZmZmZmGEAzMzMzMzMZQGZmZmZmZhhAmpmZmZmZGUBmZmZmZmYaQDMzMzMzMxtAzczMzMzMGkAAAAAAAAAYQM3MzMzMzBZAAAAAAAAAFkAAAAAAAAAWQDMzMzMzMxdAAAAAAAAAGECamZmZmZkVQAAAAAAAABhAzczMzMzMGkAzMzMzMzMZQGZmZmZmZhZAAAAAAAAAFkAAAAAAAAAWQGZmZmZmZhhAMzMzMzMzF0AAAAAAAAAUQGZmZmZmZhZAzczMzMzMFkDNzMzMzMwWQM3MzMzMzBhAZmZmZmZmFEDNzMzMzMwWQA==\",\"dtype\":\"float64\",\"shape\":[50]},\"sepal_width\":{\"__ndarray__\":\"mpmZmZmZCUCamZmZmZkJQM3MzMzMzAhAZmZmZmZmAkBmZmZmZmYGQGZmZmZmZgZAZmZmZmZmCkAzMzMzMzMDQDMzMzMzMwdAmpmZmZmZBUAAAAAAAAAAQAAAAAAAAAhAmpmZmZmZAUAzMzMzMzMHQDMzMzMzMwdAzczMzMzMCEAAAAAAAAAIQJqZmZmZmQVAmpmZmZmZAUAAAAAAAAAEQJqZmZmZmQlAZmZmZmZmBkAAAAAAAAAEQGZmZmZmZgZAMzMzMzMzB0AAAAAAAAAIQGZmZmZmZgZAAAAAAAAACEAzMzMzMzMHQM3MzMzMzARAMzMzMzMzA0AzMzMzMzMDQJqZmZmZmQVAmpmZmZmZBUAAAAAAAAAIQDMzMzMzMwtAzczMzMzMCEBmZmZmZmYCQAAAAAAAAAhAAAAAAAAABEDNzMzMzMwEQAAAAAAAAAhAzczMzMzMBEBmZmZmZmYCQJqZmZmZmQVAAAAAAAAACEAzMzMzMzMHQDMzMzMzMwdAAAAAAAAABEBmZmZmZmYGQA==\",\"dtype\":\"float64\",\"shape\":[50]},\"size\":{\"__ndarray__\":\"AAAAAAAAMEAAAAAAAAAwQAAAAAAAAC9AAAAAAAAAJ0AAAAAAAAAsQAAAAAAAACxAAAAAAACAMEAAAAAAAAAoQAAAAAAAAC1AAAAAAAAAK0AAAAAAAAAkQAAAAAAAAC5AAAAAAAAAJkAAAAAAAAAtQAAAAAAAAC1AAAAAAAAAL0AAAAAAAAAuQAAAAAAAACtAAAAAAAAAJkAAAAAAAAApQAAAAAAAADBAAAAAAAAALEAAAAAAAAApQAAAAAAAACxAAAAAAAAALUAAAAAAAAAuQAAAAAAAACxAAAAAAAAALkAAAAAAAAAtQAAAAAAAACpAAAAAAAAAKEAAAAAAAAAoQAAAAAAAACtAAAAAAAAAK0AAAAAAAAAuQAAAAAAAADFAAAAAAAAAL0AAAAAAAAAnQAAAAAAAAC5AAAAAAAAAKUAAAAAAAAAqQAAAAAAAAC5AAAAAAAAAKkAAAAAAAAAnQAAAAAAAACtAAAAAAAAALkAAAAAAAAAtQAAAAAAAAC1AAAAAAAAAKUAAAAAAAAAsQA==\",\"dtype\":\"float64\",\"shape\":[50]},\"species\":[\"versicolor\",\"versicolor\",\"versicolor\",\"versicolor\",\"versicolor\",\"versicolor\",\"versicolor\",\"versicolor\",\"versicolor\",\"versicolor\",\"versicolor\",\"versicolor\",\"versicolor\",\"versicolor\",\"versicolor\",\"versicolor\",\"versicolor\",\"versicolor\",\"versicolor\",\"versicolor\",\"versicolor\",\"versicolor\",\"versicolor\",\"versicolor\",\"versicolor\",\"versicolor\",\"versicolor\",\"versicolor\",\"versicolor\",\"versicolor\",\"versicolor\",\"versicolor\",\"versicolor\",\"versicolor\",\"versicolor\",\"versicolor\",\"versicolor\",\"versicolor\",\"versicolor\",\"versicolor\",\"versicolor\",\"versicolor\",\"versicolor\",\"versicolor\",\"versicolor\",\"versicolor\",\"versicolor\",\"versicolor\",\"versicolor\",\"versicolor\"]},\"selected\":{\"id\":\"63698\",\"type\":\"Selection\"},\"selection_policy\":{\"id\":\"63699\",\"type\":\"UnionRenderers\"}},\"id\":\"63621\",\"type\":\"ColumnDataSource\"},{\"attributes\":{},\"id\":\"64851\",\"type\":\"ResetTool\"},{\"attributes\":{\"callback\":null,\"data\":{\"color\":[\"red\",\"red\",\"red\",\"red\",\"red\",\"red\",\"red\",\"red\",\"red\",\"red\",\"red\",\"red\",\"red\",\"red\",\"red\",\"red\",\"red\",\"red\",\"red\",\"red\",\"red\",\"red\",\"red\",\"red\",\"red\",\"red\",\"red\",\"red\",\"red\",\"red\",\"red\",\"red\",\"red\",\"red\",\"red\",\"red\",\"red\",\"red\",\"red\",\"red\",\"red\",\"red\",\"red\",\"red\",\"red\",\"red\",\"red\",\"red\",\"red\",\"red\"],\"index\":[0,1,2,3,4,5,6,7,8,9,10,11,12,13,14,15,16,17,18,19,20,21,22,23,24,25,26,27,28,29,30,31,32,33,34,35,36,37,38,39,40,41,42,43,44,45,46,47,48,49],\"petal_length\":{\"__ndarray__\":\"ZmZmZmZm9j9mZmZmZmb2P83MzMzMzPQ/AAAAAAAA+D9mZmZmZmb2PzMzMzMzM/s/ZmZmZmZm9j8AAAAAAAD4P2ZmZmZmZvY/AAAAAAAA+D8AAAAAAAD4P5qZmZmZmfk/ZmZmZmZm9j+amZmZmZnxPzMzMzMzM/M/AAAAAAAA+D/NzMzMzMz0P2ZmZmZmZvY/MzMzMzMz+z8AAAAAAAD4PzMzMzMzM/s/AAAAAAAA+D8AAAAAAADwPzMzMzMzM/s/ZmZmZmZm/j+amZmZmZn5P5qZmZmZmfk/AAAAAAAA+D9mZmZmZmb2P5qZmZmZmfk/mpmZmZmZ+T8AAAAAAAD4PwAAAAAAAPg/ZmZmZmZm9j8AAAAAAAD4PzMzMzMzM/M/zczMzMzM9D9mZmZmZmb2P83MzMzMzPQ/AAAAAAAA+D/NzMzMzMz0P83MzMzMzPQ/zczMzMzM9D+amZmZmZn5P2ZmZmZmZv4/ZmZmZmZm9j+amZmZmZn5P2ZmZmZmZvY/AAAAAAAA+D9mZmZmZmb2Pw==\",\"dtype\":\"float64\",\"shape\":[50]},\"petal_width\":{\"__ndarray__\":\"mpmZmZmZyT+amZmZmZnJP5qZmZmZmck/mpmZmZmZyT+amZmZmZnJP5qZmZmZmdk/MzMzMzMz0z+amZmZmZnJP5qZmZmZmck/mpmZmZmZuT+amZmZmZnJP5qZmZmZmck/mpmZmZmZuT+amZmZmZm5P5qZmZmZmck/mpmZmZmZ2T+amZmZmZnZPzMzMzMzM9M/MzMzMzMz0z8zMzMzMzPTP5qZmZmZmck/mpmZmZmZ2T+amZmZmZnJPwAAAAAAAOA/mpmZmZmZyT+amZmZmZnJP5qZmZmZmdk/mpmZmZmZyT+amZmZmZnJP5qZmZmZmck/mpmZmZmZyT+amZmZmZnZP5qZmZmZmbk/mpmZmZmZyT+amZmZmZnJP5qZmZmZmck/mpmZmZmZyT+amZmZmZm5P5qZmZmZmck/mpmZmZmZyT8zMzMzMzPTPzMzMzMzM9M/mpmZmZmZyT8zMzMzMzPjP5qZmZmZmdk/MzMzMzMz0z+amZmZmZnJP5qZmZmZmck/mpmZmZmZyT+amZmZmZnJPw==\",\"dtype\":\"float64\",\"shape\":[50]},\"sepal_length\":{\"__ndarray__\":\"ZmZmZmZmFECamZmZmZkTQM3MzMzMzBJAZmZmZmZmEkAAAAAAAAAUQJqZmZmZmRVAZmZmZmZmEkAAAAAAAAAUQJqZmZmZmRFAmpmZmZmZE0CamZmZmZkVQDMzMzMzMxNAMzMzMzMzE0AzMzMzMzMRQDMzMzMzMxdAzczMzMzMFkCamZmZmZkVQGZmZmZmZhRAzczMzMzMFkBmZmZmZmYUQJqZmZmZmRVAZmZmZmZmFEBmZmZmZmYSQGZmZmZmZhRAMzMzMzMzE0AAAAAAAAAUQAAAAAAAABRAzczMzMzMFEDNzMzMzMwUQM3MzMzMzBJAMzMzMzMzE0CamZmZmZkVQM3MzMzMzBRAAAAAAAAAFkCamZmZmZkTQAAAAAAAABRAAAAAAAAAFkCamZmZmZkTQJqZmZmZmRFAZmZmZmZmFEAAAAAAAAAUQAAAAAAAABJAmpmZmZmZEUAAAAAAAAAUQGZmZmZmZhRAMzMzMzMzE0BmZmZmZmYUQGZmZmZmZhJAMzMzMzMzFUAAAAAAAAAUQA==\",\"dtype\":\"float64\",\"shape\":[50]},\"sepal_width\":{\"__ndarray__\":\"AAAAAAAADEAAAAAAAAAIQJqZmZmZmQlAzczMzMzMCEDNzMzMzMwMQDMzMzMzMw9AMzMzMzMzC0AzMzMzMzMLQDMzMzMzMwdAzczMzMzMCECamZmZmZkNQDMzMzMzMwtAAAAAAAAACEAAAAAAAAAIQAAAAAAAABBAmpmZmZmZEUAzMzMzMzMPQAAAAAAAAAxAZmZmZmZmDkBmZmZmZmYOQDMzMzMzMwtAmpmZmZmZDUDNzMzMzMwMQGZmZmZmZgpAMzMzMzMzC0AAAAAAAAAIQDMzMzMzMwtAAAAAAAAADEAzMzMzMzMLQJqZmZmZmQlAzczMzMzMCEAzMzMzMzMLQGZmZmZmZhBAzczMzMzMEEDNzMzMzMwIQJqZmZmZmQlAAAAAAAAADEDNzMzMzMwMQAAAAAAAAAhAMzMzMzMzC0AAAAAAAAAMQGZmZmZmZgJAmpmZmZmZCUAAAAAAAAAMQGZmZmZmZg5AAAAAAAAACEBmZmZmZmYOQJqZmZmZmQlAmpmZmZmZDUBmZmZmZmYKQA==\",\"dtype\":\"float64\",\"shape\":[50]},\"size\":{\"__ndarray__\":\"AAAAAACAMUAAAAAAAAAuQAAAAAAAADBAAAAAAAAAL0AAAAAAAAAyQAAAAAAAgDNAAAAAAAAAMUAAAAAAAAAxQAAAAAAAAC1AAAAAAAAAL0AAAAAAAIAyQAAAAAAAADFAAAAAAAAALkAAAAAAAAAuQAAAAAAAADRAAAAAAAAANkAAAAAAAIAzQAAAAAAAgDFAAAAAAAAAM0AAAAAAAAAzQAAAAAAAADFAAAAAAACAMkAAAAAAAAAyQAAAAAAAgDBAAAAAAAAAMUAAAAAAAAAuQAAAAAAAADFAAAAAAACAMUAAAAAAAAAxQAAAAAAAADBAAAAAAAAAL0AAAAAAAAAxQAAAAAAAgDRAAAAAAAAANUAAAAAAAAAvQAAAAAAAADBAAAAAAACAMUAAAAAAAAAyQAAAAAAAAC5AAAAAAAAAMUAAAAAAAIAxQAAAAAAAACdAAAAAAAAAMEAAAAAAAIAxQAAAAAAAADNAAAAAAAAALkAAAAAAAAAzQAAAAAAAADBAAAAAAACAMkAAAAAAAIAwQA==\",\"dtype\":\"float64\",\"shape\":[50]},\"species\":[\"setosa\",\"setosa\",\"setosa\",\"setosa\",\"setosa\",\"setosa\",\"setosa\",\"setosa\",\"setosa\",\"setosa\",\"setosa\",\"setosa\",\"setosa\",\"setosa\",\"setosa\",\"setosa\",\"setosa\",\"setosa\",\"setosa\",\"setosa\",\"setosa\",\"setosa\",\"setosa\",\"setosa\",\"setosa\",\"setosa\",\"setosa\",\"setosa\",\"setosa\",\"setosa\",\"setosa\",\"setosa\",\"setosa\",\"setosa\",\"setosa\",\"setosa\",\"setosa\",\"setosa\",\"setosa\",\"setosa\",\"setosa\",\"setosa\",\"setosa\",\"setosa\",\"setosa\",\"setosa\",\"setosa\",\"setosa\",\"setosa\",\"setosa\"]},\"selected\":{\"id\":\"63681\",\"type\":\"Selection\"},\"selection_policy\":{\"id\":\"63682\",\"type\":\"UnionRenderers\"}},\"id\":\"63620\",\"type\":\"ColumnDataSource\"},{\"attributes\":{\"callback\":null},\"id\":\"63626\",\"type\":\"DataRange1d\"},{\"attributes\":{\"text\":\"Petal plot\"},\"id\":\"63661\",\"type\":\"Title\"},{\"attributes\":{\"click_policy\":\"hide\",\"items\":[{\"id\":\"63668\",\"type\":\"LegendItem\"},{\"id\":\"63683\",\"type\":\"LegendItem\"},{\"id\":\"63700\",\"type\":\"LegendItem\"}],\"location\":\"top_left\"},\"id\":\"63667\",\"type\":\"Legend\"},{\"attributes\":{},\"id\":\"63630\",\"type\":\"LinearScale\"},{\"attributes\":{},\"id\":\"64850\",\"type\":\"PanTool\"},{\"attributes\":{\"data_source\":{\"id\":\"63620\",\"type\":\"ColumnDataSource\"},\"glyph\":{\"id\":\"63656\",\"type\":\"Circle\"},\"hover_glyph\":null,\"muted_glyph\":null,\"nonselection_glyph\":{\"id\":\"63657\",\"type\":\"Circle\"},\"selection_glyph\":null,\"view\":{\"id\":\"63659\",\"type\":\"CDSView\"}},\"id\":\"63658\",\"type\":\"GlyphRenderer\"},{\"attributes\":{},\"id\":\"63664\",\"type\":\"BasicTickFormatter\"},{\"attributes\":{},\"id\":\"63633\",\"type\":\"BasicTicker\"},{\"attributes\":{},\"id\":\"63698\",\"type\":\"Selection\"},{\"attributes\":{},\"id\":\"63638\",\"type\":\"BasicTicker\"},{\"attributes\":{\"label\":{\"value\":\"Virginica\"},\"renderers\":[{\"id\":\"63687\",\"type\":\"GlyphRenderer\"}]},\"id\":\"63700\",\"type\":\"LegendItem\"},{\"attributes\":{\"fill_alpha\":{\"value\":0.2},\"fill_color\":{\"field\":\"color\"},\"line_color\":{\"field\":\"color\"},\"size\":{\"field\":\"size\",\"units\":\"screen\"},\"x\":{\"field\":\"petal_length\"},\"y\":{\"field\":\"petal_width\"}},\"id\":\"63685\",\"type\":\"Circle\"},{\"attributes\":{\"callback\":null},\"id\":\"63624\",\"type\":\"DataRange1d\"},{\"attributes\":{\"fill_alpha\":{\"value\":0.2},\"fill_color\":{\"field\":\"color\"},\"line_color\":{\"field\":\"color\"},\"size\":{\"field\":\"size\",\"units\":\"screen\"},\"x\":{\"field\":\"petal_length\"},\"y\":{\"field\":\"petal_width\"}},\"id\":\"63670\",\"type\":\"Circle\"},{\"attributes\":{\"fill_alpha\":{\"value\":0.1},\"fill_color\":{\"value\":\"#1f77b4\"},\"line_alpha\":{\"value\":0.1},\"line_color\":{\"value\":\"#1f77b4\"},\"size\":{\"field\":\"size\",\"units\":\"screen\"},\"x\":{\"field\":\"petal_length\"},\"y\":{\"field\":\"petal_width\"}},\"id\":\"63671\",\"type\":\"Circle\"},{\"attributes\":{\"bottom_units\":\"screen\",\"fill_alpha\":{\"value\":0.5},\"fill_color\":{\"value\":\"lightgrey\"},\"left_units\":\"screen\",\"level\":\"overlay\",\"line_alpha\":{\"value\":1.0},\"line_color\":{\"value\":\"black\"},\"line_dash\":[4,4],\"line_width\":{\"value\":2},\"render_mode\":\"css\",\"right_units\":\"screen\",\"top_units\":\"screen\"},\"id\":\"65919\",\"type\":\"BoxAnnotation\"},{\"attributes\":{\"axis_label\":\"Petal Length\",\"formatter\":{\"id\":\"63664\",\"type\":\"BasicTickFormatter\"},\"ticker\":{\"id\":\"63633\",\"type\":\"BasicTicker\"}},\"id\":\"63632\",\"type\":\"LinearAxis\"},{\"attributes\":{},\"id\":\"63699\",\"type\":\"UnionRenderers\"},{\"attributes\":{\"ticker\":{\"id\":\"63633\",\"type\":\"BasicTicker\"}},\"id\":\"63636\",\"type\":\"Grid\"}],\"root_ids\":[\"63623\"]},\"title\":\"Bokeh Application\",\"version\":\"1.3.4\"}};\n",
       "  var render_items = [{\"docid\":\"90e61ec9-a469-4223-9d3d-8c86c3ae76ce\",\"roots\":{\"63623\":\"2f6548ab-6910-4ddd-894b-fe6d1d50f659\"}}];\n",
       "  root.Bokeh.embed.embed_items_notebook(docs_json, render_items);\n",
       "\n",
       "  }\n",
       "  if (root.Bokeh !== undefined) {\n",
       "    embed_document(root);\n",
       "  } else {\n",
       "    var attempts = 0;\n",
       "    var timer = setInterval(function(root) {\n",
       "      if (root.Bokeh !== undefined) {\n",
       "        embed_document(root);\n",
       "        clearInterval(timer);\n",
       "      }\n",
       "      attempts++;\n",
       "      if (attempts > 100) {\n",
       "        console.log(\"Bokeh: ERROR: Unable to run BokehJS code because BokehJS library is missing\");\n",
       "        clearInterval(timer);\n",
       "      }\n",
       "    }, 10, root)\n",
       "  }\n",
       "})(window);"
      ],
      "application/vnd.bokehjs_exec.v0+json": ""
     },
     "metadata": {
      "application/vnd.bokehjs_exec.v0+json": {
       "id": "63623"
      }
     },
     "output_type": "display_data"
    }
   ],
   "source": [
    "from bokeh.models import PanTool, ResetTool, HoverTool, WheelZoomTool, BoxZoomTool, HoverTool, SaveTool\n",
    "p.tools = [PanTool(),ResetTool(), WheelZoomTool(), BoxZoomTool(), SaveTool()]\n",
    "hover = HoverTool(tooltips=[(\"Species\",\"@species\"), (\"Sepal Width\",\"@sepal_width\")])\n",
    "p.add_tools(hover)\n",
    "p.toolbar_location = 'above'\n",
    "p.toolbar.logo = None\n",
    "show(p)"
   ]
  },
  {
   "cell_type": "markdown",
   "metadata": {},
   "source": [
    "### Step 9: Layout"
   ]
  },
  {
   "cell_type": "code",
   "execution_count": 188,
   "metadata": {},
   "outputs": [
    {
     "data": {
      "text/html": [
       "\n",
       "\n",
       "\n",
       "\n",
       "\n",
       "\n",
       "  <div class=\"bk-root\" id=\"bd0d7dba-a27c-4125-8608-2fa2cca0d738\" data-root-id=\"67077\"></div>\n"
      ]
     },
     "metadata": {},
     "output_type": "display_data"
    },
    {
     "data": {
      "application/javascript": [
       "(function(root) {\n",
       "  function embed_document(root) {\n",
       "    \n",
       "  var docs_json = {\"5d5ccadb-7c07-4084-9e85-0b001c7df245\":{\"roots\":{\"references\":[{\"attributes\":{\"below\":[{\"id\":\"67086\",\"type\":\"LinearAxis\"}],\"center\":[{\"id\":\"67090\",\"type\":\"Grid\"},{\"id\":\"67095\",\"type\":\"Grid\"},{\"id\":\"67121\",\"type\":\"Legend\"}],\"left\":[{\"id\":\"67091\",\"type\":\"LinearAxis\"}],\"plot_height\":500,\"plot_width\":500,\"renderers\":[{\"id\":\"67112\",\"type\":\"GlyphRenderer\"},{\"id\":\"67126\",\"type\":\"GlyphRenderer\"},{\"id\":\"67141\",\"type\":\"GlyphRenderer\"}],\"title\":{\"id\":\"67115\",\"type\":\"Title\"},\"toolbar\":{\"id\":\"67102\",\"type\":\"Toolbar\"},\"toolbar_location\":\"above\",\"x_range\":{\"id\":\"67078\",\"type\":\"DataRange1d\"},\"x_scale\":{\"id\":\"67082\",\"type\":\"LinearScale\"},\"y_range\":{\"id\":\"67080\",\"type\":\"DataRange1d\"},\"y_scale\":{\"id\":\"67084\",\"type\":\"LinearScale\"}},\"id\":\"67077\",\"subtype\":\"Figure\",\"type\":\"Plot\"},{\"attributes\":{\"fill_alpha\":{\"value\":0.1},\"fill_color\":{\"value\":\"#1f77b4\"},\"line_alpha\":{\"value\":0.1},\"line_color\":{\"value\":\"#1f77b4\"},\"size\":{\"field\":\"size\",\"units\":\"screen\"},\"x\":{\"field\":\"sepal_length\"},\"y\":{\"field\":\"sepal_width\"}},\"id\":\"67140\",\"type\":\"Circle\"},{\"attributes\":{},\"id\":\"64771\",\"type\":\"UnionRenderers\"},{\"attributes\":{},\"id\":\"67082\",\"type\":\"LinearScale\"},{\"attributes\":{\"click_policy\":\"hide\",\"items\":[{\"id\":\"67122\",\"type\":\"LegendItem\"},{\"id\":\"67137\",\"type\":\"LegendItem\"},{\"id\":\"67154\",\"type\":\"LegendItem\"}],\"location\":\"top_left\"},\"id\":\"67121\",\"type\":\"Legend\"},{\"attributes\":{},\"id\":\"67084\",\"type\":\"LinearScale\"},{\"attributes\":{},\"id\":\"63682\",\"type\":\"UnionRenderers\"},{\"attributes\":{\"callback\":null,\"tooltips\":[[\"Species\",\"@species\"],[\"Sepal Width\",\"@petal_width\"]]},\"id\":\"67161\",\"type\":\"HoverTool\"},{\"attributes\":{\"callback\":null,\"data\":{\"color\":[\"blue\",\"blue\",\"blue\",\"blue\",\"blue\",\"blue\",\"blue\",\"blue\",\"blue\",\"blue\",\"blue\",\"blue\",\"blue\",\"blue\",\"blue\",\"blue\",\"blue\",\"blue\",\"blue\",\"blue\",\"blue\",\"blue\",\"blue\",\"blue\",\"blue\",\"blue\",\"blue\",\"blue\",\"blue\",\"blue\",\"blue\",\"blue\",\"blue\",\"blue\",\"blue\",\"blue\",\"blue\",\"blue\",\"blue\",\"blue\",\"blue\",\"blue\",\"blue\",\"blue\",\"blue\",\"blue\",\"blue\",\"blue\",\"blue\",\"blue\"],\"index\":[100,101,102,103,104,105,106,107,108,109,110,111,112,113,114,115,116,117,118,119,120,121,122,123,124,125,126,127,128,129,130,131,132,133,134,135,136,137,138,139,140,141,142,143,144,145,146,147,148,149],\"petal_length\":{\"__ndarray__\":\"AAAAAAAAGEBmZmZmZmYUQJqZmZmZmRdAZmZmZmZmFkAzMzMzMzMXQGZmZmZmZhpAAAAAAAAAEkAzMzMzMzMZQDMzMzMzMxdAZmZmZmZmGEBmZmZmZmYUQDMzMzMzMxVAAAAAAAAAFkAAAAAAAAAUQGZmZmZmZhRAMzMzMzMzFUAAAAAAAAAWQM3MzMzMzBpAmpmZmZmZG0AAAAAAAAAUQM3MzMzMzBZAmpmZmZmZE0DNzMzMzMwaQJqZmZmZmRNAzczMzMzMFkAAAAAAAAAYQDMzMzMzMxNAmpmZmZmZE0BmZmZmZmYWQDMzMzMzMxdAZmZmZmZmGECamZmZmZkZQGZmZmZmZhZAZmZmZmZmFEBmZmZmZmYWQGZmZmZmZhhAZmZmZmZmFkAAAAAAAAAWQDMzMzMzMxNAmpmZmZmZFUBmZmZmZmYWQGZmZmZmZhRAZmZmZmZmFECamZmZmZkXQM3MzMzMzBZAzczMzMzMFEAAAAAAAAAUQM3MzMzMzBRAmpmZmZmZFUBmZmZmZmYUQA==\",\"dtype\":\"float64\",\"shape\":[50]},\"petal_width\":{\"__ndarray__\":\"AAAAAAAABEBmZmZmZmb+P83MzMzMzABAzczMzMzM/D+amZmZmZkBQM3MzMzMzABAMzMzMzMz+z/NzMzMzMz8P83MzMzMzPw/AAAAAAAABEAAAAAAAAAAQGZmZmZmZv4/zczMzMzMAEAAAAAAAAAAQDMzMzMzMwNAZmZmZmZmAkDNzMzMzMz8P5qZmZmZmQFAZmZmZmZmAkAAAAAAAAD4P2ZmZmZmZgJAAAAAAAAAAEAAAAAAAAAAQM3MzMzMzPw/zczMzMzMAEDNzMzMzMz8P83MzMzMzPw/zczMzMzM/D/NzMzMzMwAQJqZmZmZmfk/ZmZmZmZm/j8AAAAAAAAAQJqZmZmZmQFAAAAAAAAA+D9mZmZmZmb2P2ZmZmZmZgJAMzMzMzMzA0DNzMzMzMz8P83MzMzMzPw/zczMzMzMAEAzMzMzMzMDQGZmZmZmZgJAZmZmZmZm/j9mZmZmZmYCQAAAAAAAAARAZmZmZmZmAkBmZmZmZmb+PwAAAAAAAABAZmZmZmZmAkDNzMzMzMz8Pw==\",\"dtype\":\"float64\",\"shape\":[50]},\"sepal_length\":{\"__ndarray__\":\"MzMzMzMzGUAzMzMzMzMXQGZmZmZmZhxAMzMzMzMzGUAAAAAAAAAaQGZmZmZmZh5AmpmZmZmZE0AzMzMzMzMdQM3MzMzMzBpAzczMzMzMHEAAAAAAAAAaQJqZmZmZmRlAMzMzMzMzG0DNzMzMzMwWQDMzMzMzMxdAmpmZmZmZGUAAAAAAAAAaQM3MzMzMzB5AzczMzMzMHkAAAAAAAAAYQJqZmZmZmRtAZmZmZmZmFkDNzMzMzMweQDMzMzMzMxlAzczMzMzMGkDNzMzMzMwcQM3MzMzMzBhAZmZmZmZmGECamZmZmZkZQM3MzMzMzBxAmpmZmZmZHUCamZmZmZkfQJqZmZmZmRlAMzMzMzMzGUBmZmZmZmYYQM3MzMzMzB5AMzMzMzMzGUCamZmZmZkZQAAAAAAAABhAmpmZmZmZG0DNzMzMzMwaQJqZmZmZmRtAMzMzMzMzF0AzMzMzMzMbQM3MzMzMzBpAzczMzMzMGkAzMzMzMzMZQAAAAAAAABpAzczMzMzMGECamZmZmZkXQA==\",\"dtype\":\"float64\",\"shape\":[50]},\"sepal_width\":{\"__ndarray__\":\"ZmZmZmZmCkCamZmZmZkFQAAAAAAAAAhAMzMzMzMzB0AAAAAAAAAIQAAAAAAAAAhAAAAAAAAABEAzMzMzMzMHQAAAAAAAAARAzczMzMzMDECamZmZmZkJQJqZmZmZmQVAAAAAAAAACEAAAAAAAAAEQGZmZmZmZgZAmpmZmZmZCUAAAAAAAAAIQGZmZmZmZg5AzczMzMzMBECamZmZmZkBQJqZmZmZmQlAZmZmZmZmBkBmZmZmZmYGQJqZmZmZmQVAZmZmZmZmCkCamZmZmZkJQGZmZmZmZgZAAAAAAAAACEBmZmZmZmYGQAAAAAAAAAhAZmZmZmZmBkBmZmZmZmYOQGZmZmZmZgZAZmZmZmZmBkDNzMzMzMwEQAAAAAAAAAhAMzMzMzMzC0DNzMzMzMwIQAAAAAAAAAhAzczMzMzMCEDNzMzMzMwIQM3MzMzMzAhAmpmZmZmZBUCamZmZmZkJQGZmZmZmZgpAAAAAAAAACEAAAAAAAAAEQAAAAAAAAAhAMzMzMzMzC0AAAAAAAAAIQA==\",\"dtype\":\"float64\",\"shape\":[50]},\"size\":{\"__ndarray__\":\"AAAAAACAMEAAAAAAAAArQAAAAAAAAC5AAAAAAAAALUAAAAAAAAAuQAAAAAAAAC5AAAAAAAAAKUAAAAAAAAAtQAAAAAAAAClAAAAAAAAAMkAAAAAAAAAwQAAAAAAAACtAAAAAAAAALkAAAAAAAAApQAAAAAAAACxAAAAAAAAAMEAAAAAAAAAuQAAAAAAAADNAAAAAAAAAKkAAAAAAAAAmQAAAAAAAADBAAAAAAAAALEAAAAAAAAAsQAAAAAAAACtAAAAAAACAMEAAAAAAAAAwQAAAAAAAACxAAAAAAAAALkAAAAAAAAAsQAAAAAAAAC5AAAAAAAAALEAAAAAAAAAzQAAAAAAAACxAAAAAAAAALEAAAAAAAAAqQAAAAAAAAC5AAAAAAAAAMUAAAAAAAAAvQAAAAAAAAC5AAAAAAAAAL0AAAAAAAAAvQAAAAAAAAC9AAAAAAAAAK0AAAAAAAAAwQAAAAAAAgDBAAAAAAAAALkAAAAAAAAApQAAAAAAAAC5AAAAAAAAAMUAAAAAAAAAuQA==\",\"dtype\":\"float64\",\"shape\":[50]},\"species\":[\"virginica\",\"virginica\",\"virginica\",\"virginica\",\"virginica\",\"virginica\",\"virginica\",\"virginica\",\"virginica\",\"virginica\",\"virginica\",\"virginica\",\"virginica\",\"virginica\",\"virginica\",\"virginica\",\"virginica\",\"virginica\",\"virginica\",\"virginica\",\"virginica\",\"virginica\",\"virginica\",\"virginica\",\"virginica\",\"virginica\",\"virginica\",\"virginica\",\"virginica\",\"virginica\",\"virginica\",\"virginica\",\"virginica\",\"virginica\",\"virginica\",\"virginica\",\"virginica\",\"virginica\",\"virginica\",\"virginica\",\"virginica\",\"virginica\",\"virginica\",\"virginica\",\"virginica\",\"virginica\",\"virginica\",\"virginica\",\"virginica\",\"virginica\"]},\"selected\":{\"id\":\"64770\",\"type\":\"Selection\"},\"selection_policy\":{\"id\":\"64771\",\"type\":\"UnionRenderers\"}},\"id\":\"63622\",\"type\":\"ColumnDataSource\"},{\"attributes\":{\"fill_alpha\":{\"value\":0.2},\"fill_color\":{\"field\":\"color\"},\"line_color\":{\"field\":\"color\"},\"size\":{\"field\":\"size\",\"units\":\"screen\"},\"x\":{\"field\":\"sepal_length\"},\"y\":{\"field\":\"sepal_width\"}},\"id\":\"67139\",\"type\":\"Circle\"},{\"attributes\":{\"active_drag\":\"auto\",\"active_inspect\":\"auto\",\"active_multi\":null,\"active_scroll\":\"auto\",\"active_tap\":\"auto\",\"logo\":null,\"tools\":[{\"id\":\"67155\",\"type\":\"PanTool\"},{\"id\":\"67156\",\"type\":\"ResetTool\"},{\"id\":\"67157\",\"type\":\"WheelZoomTool\"},{\"id\":\"67158\",\"type\":\"BoxZoomTool\"},{\"id\":\"67159\",\"type\":\"SaveTool\"},{\"id\":\"67161\",\"type\":\"HoverTool\"}]},\"id\":\"67102\",\"type\":\"Toolbar\"},{\"attributes\":{\"source\":{\"id\":\"63621\",\"type\":\"ColumnDataSource\"}},\"id\":\"67127\",\"type\":\"CDSView\"},{\"attributes\":{\"label\":{\"value\":\"Versicolor\"},\"renderers\":[{\"id\":\"67126\",\"type\":\"GlyphRenderer\"}]},\"id\":\"67137\",\"type\":\"LegendItem\"},{\"attributes\":{},\"id\":\"64770\",\"type\":\"Selection\"},{\"attributes\":{\"axis_label\":\"Sepal Length\",\"formatter\":{\"id\":\"67118\",\"type\":\"BasicTickFormatter\"},\"ticker\":{\"id\":\"67087\",\"type\":\"BasicTicker\"}},\"id\":\"67086\",\"type\":\"LinearAxis\"},{\"attributes\":{},\"id\":\"63681\",\"type\":\"Selection\"},{\"attributes\":{},\"id\":\"67116\",\"type\":\"BasicTickFormatter\"},{\"attributes\":{},\"id\":\"67092\",\"type\":\"BasicTicker\"},{\"attributes\":{},\"id\":\"67087\",\"type\":\"BasicTicker\"},{\"attributes\":{\"overlay\":{\"id\":\"68241\",\"type\":\"BoxAnnotation\"}},\"id\":\"67158\",\"type\":\"BoxZoomTool\"},{\"attributes\":{},\"id\":\"67159\",\"type\":\"SaveTool\"},{\"attributes\":{},\"id\":\"67155\",\"type\":\"PanTool\"},{\"attributes\":{\"ticker\":{\"id\":\"67087\",\"type\":\"BasicTicker\"}},\"id\":\"67090\",\"type\":\"Grid\"},{\"attributes\":{\"source\":{\"id\":\"63620\",\"type\":\"ColumnDataSource\"}},\"id\":\"67113\",\"type\":\"CDSView\"},{\"attributes\":{\"source\":{\"id\":\"63622\",\"type\":\"ColumnDataSource\"}},\"id\":\"67142\",\"type\":\"CDSView\"},{\"attributes\":{\"bottom_units\":\"screen\",\"fill_alpha\":{\"value\":0.5},\"fill_color\":{\"value\":\"lightgrey\"},\"left_units\":\"screen\",\"level\":\"overlay\",\"line_alpha\":{\"value\":1.0},\"line_color\":{\"value\":\"black\"},\"line_dash\":[4,4],\"line_width\":{\"value\":2},\"render_mode\":\"css\",\"right_units\":\"screen\",\"top_units\":\"screen\"},\"id\":\"68241\",\"type\":\"BoxAnnotation\"},{\"attributes\":{\"dimension\":1,\"ticker\":{\"id\":\"67092\",\"type\":\"BasicTicker\"}},\"id\":\"67095\",\"type\":\"Grid\"},{\"attributes\":{\"label\":{\"value\":\"Setosa\"},\"renderers\":[{\"id\":\"67112\",\"type\":\"GlyphRenderer\"}]},\"id\":\"67122\",\"type\":\"LegendItem\"},{\"attributes\":{\"axis_label\":\"Sepal Width\",\"formatter\":{\"id\":\"67116\",\"type\":\"BasicTickFormatter\"},\"ticker\":{\"id\":\"67092\",\"type\":\"BasicTicker\"}},\"id\":\"67091\",\"type\":\"LinearAxis\"},{\"attributes\":{\"callback\":null,\"data\":{\"color\":[\"green\",\"green\",\"green\",\"green\",\"green\",\"green\",\"green\",\"green\",\"green\",\"green\",\"green\",\"green\",\"green\",\"green\",\"green\",\"green\",\"green\",\"green\",\"green\",\"green\",\"green\",\"green\",\"green\",\"green\",\"green\",\"green\",\"green\",\"green\",\"green\",\"green\",\"green\",\"green\",\"green\",\"green\",\"green\",\"green\",\"green\",\"green\",\"green\",\"green\",\"green\",\"green\",\"green\",\"green\",\"green\",\"green\",\"green\",\"green\",\"green\",\"green\"],\"index\":[50,51,52,53,54,55,56,57,58,59,60,61,62,63,64,65,66,67,68,69,70,71,72,73,74,75,76,77,78,79,80,81,82,83,84,85,86,87,88,89,90,91,92,93,94,95,96,97,98,99],\"petal_length\":{\"__ndarray__\":\"zczMzMzMEkAAAAAAAAASQJqZmZmZmRNAAAAAAAAAEEBmZmZmZmYSQAAAAAAAABJAzczMzMzMEkBmZmZmZmYKQGZmZmZmZhJAMzMzMzMzD0AAAAAAAAAMQM3MzMzMzBBAAAAAAAAAEEDNzMzMzMwSQM3MzMzMzAxAmpmZmZmZEUAAAAAAAAASQGZmZmZmZhBAAAAAAAAAEkAzMzMzMzMPQDMzMzMzMxNAAAAAAAAAEECamZmZmZkTQM3MzMzMzBJAMzMzMzMzEUCamZmZmZkRQDMzMzMzMxNAAAAAAAAAFEAAAAAAAAASQAAAAAAAAAxAZmZmZmZmDkCamZmZmZkNQDMzMzMzMw9AZmZmZmZmFEAAAAAAAAASQAAAAAAAABJAzczMzMzMEkCamZmZmZkRQGZmZmZmZhBAAAAAAAAAEECamZmZmZkRQGZmZmZmZhJAAAAAAAAAEEBmZmZmZmYKQM3MzMzMzBBAzczMzMzMEEDNzMzMzMwQQDMzMzMzMxFAAAAAAAAACEBmZmZmZmYQQA==\",\"dtype\":\"float64\",\"shape\":[50]},\"petal_width\":{\"__ndarray__\":\"ZmZmZmZm9j8AAAAAAAD4PwAAAAAAAPg/zczMzMzM9D8AAAAAAAD4P83MzMzMzPQ/mpmZmZmZ+T8AAAAAAADwP83MzMzMzPQ/ZmZmZmZm9j8AAAAAAADwPwAAAAAAAPg/AAAAAAAA8D9mZmZmZmb2P83MzMzMzPQ/ZmZmZmZm9j8AAAAAAAD4PwAAAAAAAPA/AAAAAAAA+D+amZmZmZnxP83MzMzMzPw/zczMzMzM9D8AAAAAAAD4PzMzMzMzM/M/zczMzMzM9D9mZmZmZmb2P2ZmZmZmZvY/MzMzMzMz+z8AAAAAAAD4PwAAAAAAAPA/mpmZmZmZ8T8AAAAAAADwPzMzMzMzM/M/mpmZmZmZ+T8AAAAAAAD4P5qZmZmZmfk/AAAAAAAA+D/NzMzMzMz0P83MzMzMzPQ/zczMzMzM9D8zMzMzMzPzP2ZmZmZmZvY/MzMzMzMz8z8AAAAAAADwP83MzMzMzPQ/MzMzMzMz8z/NzMzMzMz0P83MzMzMzPQ/mpmZmZmZ8T/NzMzMzMz0Pw==\",\"dtype\":\"float64\",\"shape\":[50]},\"sepal_length\":{\"__ndarray__\":\"AAAAAAAAHECamZmZmZkZQJqZmZmZmRtAAAAAAAAAFkAAAAAAAAAaQM3MzMzMzBZAMzMzMzMzGUCamZmZmZkTQGZmZmZmZhpAzczMzMzMFEAAAAAAAAAUQJqZmZmZmRdAAAAAAAAAGEBmZmZmZmYYQGZmZmZmZhZAzczMzMzMGkBmZmZmZmYWQDMzMzMzMxdAzczMzMzMGEBmZmZmZmYWQJqZmZmZmRdAZmZmZmZmGEAzMzMzMzMZQGZmZmZmZhhAmpmZmZmZGUBmZmZmZmYaQDMzMzMzMxtAzczMzMzMGkAAAAAAAAAYQM3MzMzMzBZAAAAAAAAAFkAAAAAAAAAWQDMzMzMzMxdAAAAAAAAAGECamZmZmZkVQAAAAAAAABhAzczMzMzMGkAzMzMzMzMZQGZmZmZmZhZAAAAAAAAAFkAAAAAAAAAWQGZmZmZmZhhAMzMzMzMzF0AAAAAAAAAUQGZmZmZmZhZAzczMzMzMFkDNzMzMzMwWQM3MzMzMzBhAZmZmZmZmFEDNzMzMzMwWQA==\",\"dtype\":\"float64\",\"shape\":[50]},\"sepal_width\":{\"__ndarray__\":\"mpmZmZmZCUCamZmZmZkJQM3MzMzMzAhAZmZmZmZmAkBmZmZmZmYGQGZmZmZmZgZAZmZmZmZmCkAzMzMzMzMDQDMzMzMzMwdAmpmZmZmZBUAAAAAAAAAAQAAAAAAAAAhAmpmZmZmZAUAzMzMzMzMHQDMzMzMzMwdAzczMzMzMCEAAAAAAAAAIQJqZmZmZmQVAmpmZmZmZAUAAAAAAAAAEQJqZmZmZmQlAZmZmZmZmBkAAAAAAAAAEQGZmZmZmZgZAMzMzMzMzB0AAAAAAAAAIQGZmZmZmZgZAAAAAAAAACEAzMzMzMzMHQM3MzMzMzARAMzMzMzMzA0AzMzMzMzMDQJqZmZmZmQVAmpmZmZmZBUAAAAAAAAAIQDMzMzMzMwtAzczMzMzMCEBmZmZmZmYCQAAAAAAAAAhAAAAAAAAABEDNzMzMzMwEQAAAAAAAAAhAzczMzMzMBEBmZmZmZmYCQJqZmZmZmQVAAAAAAAAACEAzMzMzMzMHQDMzMzMzMwdAAAAAAAAABEBmZmZmZmYGQA==\",\"dtype\":\"float64\",\"shape\":[50]},\"size\":{\"__ndarray__\":\"AAAAAAAAMEAAAAAAAAAwQAAAAAAAAC9AAAAAAAAAJ0AAAAAAAAAsQAAAAAAAACxAAAAAAACAMEAAAAAAAAAoQAAAAAAAAC1AAAAAAAAAK0AAAAAAAAAkQAAAAAAAAC5AAAAAAAAAJkAAAAAAAAAtQAAAAAAAAC1AAAAAAAAAL0AAAAAAAAAuQAAAAAAAACtAAAAAAAAAJkAAAAAAAAApQAAAAAAAADBAAAAAAAAALEAAAAAAAAApQAAAAAAAACxAAAAAAAAALUAAAAAAAAAuQAAAAAAAACxAAAAAAAAALkAAAAAAAAAtQAAAAAAAACpAAAAAAAAAKEAAAAAAAAAoQAAAAAAAACtAAAAAAAAAK0AAAAAAAAAuQAAAAAAAADFAAAAAAAAAL0AAAAAAAAAnQAAAAAAAAC5AAAAAAAAAKUAAAAAAAAAqQAAAAAAAAC5AAAAAAAAAKkAAAAAAAAAnQAAAAAAAACtAAAAAAAAALkAAAAAAAAAtQAAAAAAAAC1AAAAAAAAAKUAAAAAAAAAsQA==\",\"dtype\":\"float64\",\"shape\":[50]},\"species\":[\"versicolor\",\"versicolor\",\"versicolor\",\"versicolor\",\"versicolor\",\"versicolor\",\"versicolor\",\"versicolor\",\"versicolor\",\"versicolor\",\"versicolor\",\"versicolor\",\"versicolor\",\"versicolor\",\"versicolor\",\"versicolor\",\"versicolor\",\"versicolor\",\"versicolor\",\"versicolor\",\"versicolor\",\"versicolor\",\"versicolor\",\"versicolor\",\"versicolor\",\"versicolor\",\"versicolor\",\"versicolor\",\"versicolor\",\"versicolor\",\"versicolor\",\"versicolor\",\"versicolor\",\"versicolor\",\"versicolor\",\"versicolor\",\"versicolor\",\"versicolor\",\"versicolor\",\"versicolor\",\"versicolor\",\"versicolor\",\"versicolor\",\"versicolor\",\"versicolor\",\"versicolor\",\"versicolor\",\"versicolor\",\"versicolor\",\"versicolor\"]},\"selected\":{\"id\":\"63698\",\"type\":\"Selection\"},\"selection_policy\":{\"id\":\"63699\",\"type\":\"UnionRenderers\"}},\"id\":\"63621\",\"type\":\"ColumnDataSource\"},{\"attributes\":{\"callback\":null,\"data\":{\"color\":[\"red\",\"red\",\"red\",\"red\",\"red\",\"red\",\"red\",\"red\",\"red\",\"red\",\"red\",\"red\",\"red\",\"red\",\"red\",\"red\",\"red\",\"red\",\"red\",\"red\",\"red\",\"red\",\"red\",\"red\",\"red\",\"red\",\"red\",\"red\",\"red\",\"red\",\"red\",\"red\",\"red\",\"red\",\"red\",\"red\",\"red\",\"red\",\"red\",\"red\",\"red\",\"red\",\"red\",\"red\",\"red\",\"red\",\"red\",\"red\",\"red\",\"red\"],\"index\":[0,1,2,3,4,5,6,7,8,9,10,11,12,13,14,15,16,17,18,19,20,21,22,23,24,25,26,27,28,29,30,31,32,33,34,35,36,37,38,39,40,41,42,43,44,45,46,47,48,49],\"petal_length\":{\"__ndarray__\":\"ZmZmZmZm9j9mZmZmZmb2P83MzMzMzPQ/AAAAAAAA+D9mZmZmZmb2PzMzMzMzM/s/ZmZmZmZm9j8AAAAAAAD4P2ZmZmZmZvY/AAAAAAAA+D8AAAAAAAD4P5qZmZmZmfk/ZmZmZmZm9j+amZmZmZnxPzMzMzMzM/M/AAAAAAAA+D/NzMzMzMz0P2ZmZmZmZvY/MzMzMzMz+z8AAAAAAAD4PzMzMzMzM/s/AAAAAAAA+D8AAAAAAADwPzMzMzMzM/s/ZmZmZmZm/j+amZmZmZn5P5qZmZmZmfk/AAAAAAAA+D9mZmZmZmb2P5qZmZmZmfk/mpmZmZmZ+T8AAAAAAAD4PwAAAAAAAPg/ZmZmZmZm9j8AAAAAAAD4PzMzMzMzM/M/zczMzMzM9D9mZmZmZmb2P83MzMzMzPQ/AAAAAAAA+D/NzMzMzMz0P83MzMzMzPQ/zczMzMzM9D+amZmZmZn5P2ZmZmZmZv4/ZmZmZmZm9j+amZmZmZn5P2ZmZmZmZvY/AAAAAAAA+D9mZmZmZmb2Pw==\",\"dtype\":\"float64\",\"shape\":[50]},\"petal_width\":{\"__ndarray__\":\"mpmZmZmZyT+amZmZmZnJP5qZmZmZmck/mpmZmZmZyT+amZmZmZnJP5qZmZmZmdk/MzMzMzMz0z+amZmZmZnJP5qZmZmZmck/mpmZmZmZuT+amZmZmZnJP5qZmZmZmck/mpmZmZmZuT+amZmZmZm5P5qZmZmZmck/mpmZmZmZ2T+amZmZmZnZPzMzMzMzM9M/MzMzMzMz0z8zMzMzMzPTP5qZmZmZmck/mpmZmZmZ2T+amZmZmZnJPwAAAAAAAOA/mpmZmZmZyT+amZmZmZnJP5qZmZmZmdk/mpmZmZmZyT+amZmZmZnJP5qZmZmZmck/mpmZmZmZyT+amZmZmZnZP5qZmZmZmbk/mpmZmZmZyT+amZmZmZnJP5qZmZmZmck/mpmZmZmZyT+amZmZmZm5P5qZmZmZmck/mpmZmZmZyT8zMzMzMzPTPzMzMzMzM9M/mpmZmZmZyT8zMzMzMzPjP5qZmZmZmdk/MzMzMzMz0z+amZmZmZnJP5qZmZmZmck/mpmZmZmZyT+amZmZmZnJPw==\",\"dtype\":\"float64\",\"shape\":[50]},\"sepal_length\":{\"__ndarray__\":\"ZmZmZmZmFECamZmZmZkTQM3MzMzMzBJAZmZmZmZmEkAAAAAAAAAUQJqZmZmZmRVAZmZmZmZmEkAAAAAAAAAUQJqZmZmZmRFAmpmZmZmZE0CamZmZmZkVQDMzMzMzMxNAMzMzMzMzE0AzMzMzMzMRQDMzMzMzMxdAzczMzMzMFkCamZmZmZkVQGZmZmZmZhRAzczMzMzMFkBmZmZmZmYUQJqZmZmZmRVAZmZmZmZmFEBmZmZmZmYSQGZmZmZmZhRAMzMzMzMzE0AAAAAAAAAUQAAAAAAAABRAzczMzMzMFEDNzMzMzMwUQM3MzMzMzBJAMzMzMzMzE0CamZmZmZkVQM3MzMzMzBRAAAAAAAAAFkCamZmZmZkTQAAAAAAAABRAAAAAAAAAFkCamZmZmZkTQJqZmZmZmRFAZmZmZmZmFEAAAAAAAAAUQAAAAAAAABJAmpmZmZmZEUAAAAAAAAAUQGZmZmZmZhRAMzMzMzMzE0BmZmZmZmYUQGZmZmZmZhJAMzMzMzMzFUAAAAAAAAAUQA==\",\"dtype\":\"float64\",\"shape\":[50]},\"sepal_width\":{\"__ndarray__\":\"AAAAAAAADEAAAAAAAAAIQJqZmZmZmQlAzczMzMzMCEDNzMzMzMwMQDMzMzMzMw9AMzMzMzMzC0AzMzMzMzMLQDMzMzMzMwdAzczMzMzMCECamZmZmZkNQDMzMzMzMwtAAAAAAAAACEAAAAAAAAAIQAAAAAAAABBAmpmZmZmZEUAzMzMzMzMPQAAAAAAAAAxAZmZmZmZmDkBmZmZmZmYOQDMzMzMzMwtAmpmZmZmZDUDNzMzMzMwMQGZmZmZmZgpAMzMzMzMzC0AAAAAAAAAIQDMzMzMzMwtAAAAAAAAADEAzMzMzMzMLQJqZmZmZmQlAzczMzMzMCEAzMzMzMzMLQGZmZmZmZhBAzczMzMzMEEDNzMzMzMwIQJqZmZmZmQlAAAAAAAAADEDNzMzMzMwMQAAAAAAAAAhAMzMzMzMzC0AAAAAAAAAMQGZmZmZmZgJAmpmZmZmZCUAAAAAAAAAMQGZmZmZmZg5AAAAAAAAACEBmZmZmZmYOQJqZmZmZmQlAmpmZmZmZDUBmZmZmZmYKQA==\",\"dtype\":\"float64\",\"shape\":[50]},\"size\":{\"__ndarray__\":\"AAAAAACAMUAAAAAAAAAuQAAAAAAAADBAAAAAAAAAL0AAAAAAAAAyQAAAAAAAgDNAAAAAAAAAMUAAAAAAAAAxQAAAAAAAAC1AAAAAAAAAL0AAAAAAAIAyQAAAAAAAADFAAAAAAAAALkAAAAAAAAAuQAAAAAAAADRAAAAAAAAANkAAAAAAAIAzQAAAAAAAgDFAAAAAAAAAM0AAAAAAAAAzQAAAAAAAADFAAAAAAACAMkAAAAAAAAAyQAAAAAAAgDBAAAAAAAAAMUAAAAAAAAAuQAAAAAAAADFAAAAAAACAMUAAAAAAAAAxQAAAAAAAADBAAAAAAAAAL0AAAAAAAAAxQAAAAAAAgDRAAAAAAAAANUAAAAAAAAAvQAAAAAAAADBAAAAAAACAMUAAAAAAAAAyQAAAAAAAAC5AAAAAAAAAMUAAAAAAAIAxQAAAAAAAACdAAAAAAAAAMEAAAAAAAIAxQAAAAAAAADNAAAAAAAAALkAAAAAAAAAzQAAAAAAAADBAAAAAAACAMkAAAAAAAIAwQA==\",\"dtype\":\"float64\",\"shape\":[50]},\"species\":[\"setosa\",\"setosa\",\"setosa\",\"setosa\",\"setosa\",\"setosa\",\"setosa\",\"setosa\",\"setosa\",\"setosa\",\"setosa\",\"setosa\",\"setosa\",\"setosa\",\"setosa\",\"setosa\",\"setosa\",\"setosa\",\"setosa\",\"setosa\",\"setosa\",\"setosa\",\"setosa\",\"setosa\",\"setosa\",\"setosa\",\"setosa\",\"setosa\",\"setosa\",\"setosa\",\"setosa\",\"setosa\",\"setosa\",\"setosa\",\"setosa\",\"setosa\",\"setosa\",\"setosa\",\"setosa\",\"setosa\",\"setosa\",\"setosa\",\"setosa\",\"setosa\",\"setosa\",\"setosa\",\"setosa\",\"setosa\",\"setosa\",\"setosa\"]},\"selected\":{\"id\":\"63681\",\"type\":\"Selection\"},\"selection_policy\":{\"id\":\"63682\",\"type\":\"UnionRenderers\"}},\"id\":\"63620\",\"type\":\"ColumnDataSource\"},{\"attributes\":{\"fill_alpha\":{\"value\":0.1},\"fill_color\":{\"value\":\"#1f77b4\"},\"line_alpha\":{\"value\":0.1},\"line_color\":{\"value\":\"#1f77b4\"},\"size\":{\"field\":\"size\",\"units\":\"screen\"},\"x\":{\"field\":\"sepal_length\"},\"y\":{\"field\":\"sepal_width\"}},\"id\":\"67111\",\"type\":\"Circle\"},{\"attributes\":{\"fill_alpha\":{\"value\":0.1},\"fill_color\":{\"value\":\"#1f77b4\"},\"line_alpha\":{\"value\":0.1},\"line_color\":{\"value\":\"#1f77b4\"},\"size\":{\"field\":\"size\",\"units\":\"screen\"},\"x\":{\"field\":\"sepal_length\"},\"y\":{\"field\":\"sepal_width\"}},\"id\":\"67125\",\"type\":\"Circle\"},{\"attributes\":{\"data_source\":{\"id\":\"63620\",\"type\":\"ColumnDataSource\"},\"glyph\":{\"id\":\"67110\",\"type\":\"Circle\"},\"hover_glyph\":null,\"muted_glyph\":null,\"nonselection_glyph\":{\"id\":\"67111\",\"type\":\"Circle\"},\"selection_glyph\":null,\"view\":{\"id\":\"67113\",\"type\":\"CDSView\"}},\"id\":\"67112\",\"type\":\"GlyphRenderer\"},{\"attributes\":{},\"id\":\"67156\",\"type\":\"ResetTool\"},{\"attributes\":{},\"id\":\"67157\",\"type\":\"WheelZoomTool\"},{\"attributes\":{\"label\":{\"value\":\"Virginica\"},\"renderers\":[{\"id\":\"67141\",\"type\":\"GlyphRenderer\"}]},\"id\":\"67154\",\"type\":\"LegendItem\"},{\"attributes\":{\"data_source\":{\"id\":\"63621\",\"type\":\"ColumnDataSource\"},\"glyph\":{\"id\":\"67124\",\"type\":\"Circle\"},\"hover_glyph\":null,\"muted_glyph\":null,\"nonselection_glyph\":{\"id\":\"67125\",\"type\":\"Circle\"},\"selection_glyph\":null,\"view\":{\"id\":\"67127\",\"type\":\"CDSView\"}},\"id\":\"67126\",\"type\":\"GlyphRenderer\"},{\"attributes\":{\"fill_alpha\":{\"value\":0.2},\"fill_color\":{\"field\":\"color\"},\"line_color\":{\"field\":\"color\"},\"size\":{\"field\":\"size\",\"units\":\"screen\"},\"x\":{\"field\":\"sepal_length\"},\"y\":{\"field\":\"sepal_width\"}},\"id\":\"67110\",\"type\":\"Circle\"},{\"attributes\":{},\"id\":\"67118\",\"type\":\"BasicTickFormatter\"},{\"attributes\":{},\"id\":\"63698\",\"type\":\"Selection\"},{\"attributes\":{\"fill_alpha\":{\"value\":0.2},\"fill_color\":{\"field\":\"color\"},\"line_color\":{\"field\":\"color\"},\"size\":{\"field\":\"size\",\"units\":\"screen\"},\"x\":{\"field\":\"sepal_length\"},\"y\":{\"field\":\"sepal_width\"}},\"id\":\"67124\",\"type\":\"Circle\"},{\"attributes\":{\"text\":\"Sepal plot\"},\"id\":\"67115\",\"type\":\"Title\"},{\"attributes\":{\"callback\":null},\"id\":\"67078\",\"type\":\"DataRange1d\"},{\"attributes\":{\"data_source\":{\"id\":\"63622\",\"type\":\"ColumnDataSource\"},\"glyph\":{\"id\":\"67139\",\"type\":\"Circle\"},\"hover_glyph\":null,\"muted_glyph\":null,\"nonselection_glyph\":{\"id\":\"67140\",\"type\":\"Circle\"},\"selection_glyph\":null,\"view\":{\"id\":\"67142\",\"type\":\"CDSView\"}},\"id\":\"67141\",\"type\":\"GlyphRenderer\"},{\"attributes\":{},\"id\":\"63699\",\"type\":\"UnionRenderers\"},{\"attributes\":{\"callback\":null},\"id\":\"67080\",\"type\":\"DataRange1d\"}],\"root_ids\":[\"67077\"]},\"title\":\"Bokeh Application\",\"version\":\"1.3.4\"}};\n",
       "  var render_items = [{\"docid\":\"5d5ccadb-7c07-4084-9e85-0b001c7df245\",\"roots\":{\"67077\":\"bd0d7dba-a27c-4125-8608-2fa2cca0d738\"}}];\n",
       "  root.Bokeh.embed.embed_items_notebook(docs_json, render_items);\n",
       "\n",
       "  }\n",
       "  if (root.Bokeh !== undefined) {\n",
       "    embed_document(root);\n",
       "  } else {\n",
       "    var attempts = 0;\n",
       "    var timer = setInterval(function(root) {\n",
       "      if (root.Bokeh !== undefined) {\n",
       "        embed_document(root);\n",
       "        clearInterval(timer);\n",
       "      }\n",
       "      attempts++;\n",
       "      if (attempts > 100) {\n",
       "        console.log(\"Bokeh: ERROR: Unable to run BokehJS code because BokehJS library is missing\");\n",
       "        clearInterval(timer);\n",
       "      }\n",
       "    }, 10, root)\n",
       "  }\n",
       "})(window);"
      ],
      "application/vnd.bokehjs_exec.v0+json": ""
     },
     "metadata": {
      "application/vnd.bokehjs_exec.v0+json": {
       "id": "67077"
      }
     },
     "output_type": "display_data"
    }
   ],
   "source": [
    "p2 = figure(height=500,width=500)\n",
    "p2.circle(x=\"sepal_length\", y=\"sepal_width\", size='size', fill_alpha=0.2, \n",
    "color=\"color\", legend='Setosa', source=setosa)\n",
    "\n",
    "p2.circle(x=\"sepal_length\", y=\"sepal_width\", size='size', fill_alpha=0.2, \n",
    "color=\"color\", legend='Versicolor', source=versicolor)\n",
    "\n",
    "p2.circle(x=\"sepal_length\", y=\"sepal_width\", size='size', fill_alpha=0.2,\n",
    "color=\"color\", legend='Virginica', source=virginica)\n",
    "p2.legend.location = 'top_left'\n",
    "p2.xaxis.axis_label = \"Sepal Length\"\n",
    "p2.yaxis.axis_label = \"Sepal Width\"\n",
    "p2.tools = [PanTool(),ResetTool(), WheelZoomTool(), BoxZoomTool(), SaveTool()]\n",
    "hover2 = HoverTool(tooltips=[(\"Species\",\"@species\"), (\"Sepal Width\",\"@petal_width\")])\n",
    "p2.add_tools(hover2)\n",
    "p2.toolbar_location = 'above'\n",
    "p2.toolbar.logo = None\n",
    "p2.title.text = \"Sepal plot\"\n",
    "p2.legend.click_policy='hide'\n",
    "show(p2)"
   ]
  },
  {
   "cell_type": "code",
   "execution_count": 189,
   "metadata": {},
   "outputs": [
    {
     "data": {
      "text/html": [
       "\n",
       "\n",
       "\n",
       "\n",
       "\n",
       "\n",
       "  <div class=\"bk-root\" id=\"329689f2-73c2-4382-bf38-6a6845662838\" data-root-id=\"68326\"></div>\n"
      ]
     },
     "metadata": {},
     "output_type": "display_data"
    },
    {
     "data": {
      "application/javascript": [
       "(function(root) {\n",
       "  function embed_document(root) {\n",
       "    \n",
       "  var docs_json = {\"40fb8006-a13b-415f-9918-6fa07dcd65b1\":{\"roots\":{\"references\":[{\"attributes\":{\"children\":[{\"id\":\"63623\",\"subtype\":\"Figure\",\"type\":\"Plot\"},{\"id\":\"67077\",\"subtype\":\"Figure\",\"type\":\"Plot\"}]},\"id\":\"68326\",\"type\":\"Column\"},{\"attributes\":{},\"id\":\"67082\",\"type\":\"LinearScale\"},{\"attributes\":{},\"id\":\"67084\",\"type\":\"LinearScale\"},{\"attributes\":{\"axis_label\":\"Sepal Length\",\"formatter\":{\"id\":\"67118\",\"type\":\"BasicTickFormatter\"},\"ticker\":{\"id\":\"67087\",\"type\":\"BasicTicker\"}},\"id\":\"67086\",\"type\":\"LinearAxis\"},{\"attributes\":{},\"id\":\"67092\",\"type\":\"BasicTicker\"},{\"attributes\":{},\"id\":\"67087\",\"type\":\"BasicTicker\"},{\"attributes\":{\"ticker\":{\"id\":\"67087\",\"type\":\"BasicTicker\"}},\"id\":\"67090\",\"type\":\"Grid\"},{\"attributes\":{\"source\":{\"id\":\"63622\",\"type\":\"ColumnDataSource\"}},\"id\":\"67142\",\"type\":\"CDSView\"},{\"attributes\":{\"dimension\":1,\"ticker\":{\"id\":\"67092\",\"type\":\"BasicTicker\"}},\"id\":\"67095\",\"type\":\"Grid\"},{\"attributes\":{\"axis_label\":\"Sepal Width\",\"formatter\":{\"id\":\"67116\",\"type\":\"BasicTickFormatter\"},\"ticker\":{\"id\":\"67092\",\"type\":\"BasicTicker\"}},\"id\":\"67091\",\"type\":\"LinearAxis\"},{\"attributes\":{\"fill_alpha\":{\"value\":0.1},\"fill_color\":{\"value\":\"#1f77b4\"},\"line_alpha\":{\"value\":0.1},\"line_color\":{\"value\":\"#1f77b4\"},\"size\":{\"field\":\"size\",\"units\":\"screen\"},\"x\":{\"field\":\"sepal_length\"},\"y\":{\"field\":\"sepal_width\"}},\"id\":\"67111\",\"type\":\"Circle\"},{\"attributes\":{\"data_source\":{\"id\":\"63620\",\"type\":\"ColumnDataSource\"},\"glyph\":{\"id\":\"67110\",\"type\":\"Circle\"},\"hover_glyph\":null,\"muted_glyph\":null,\"nonselection_glyph\":{\"id\":\"67111\",\"type\":\"Circle\"},\"selection_glyph\":null,\"view\":{\"id\":\"67113\",\"type\":\"CDSView\"}},\"id\":\"67112\",\"type\":\"GlyphRenderer\"},{\"attributes\":{\"fill_alpha\":{\"value\":0.2},\"fill_color\":{\"field\":\"color\"},\"line_color\":{\"field\":\"color\"},\"size\":{\"field\":\"size\",\"units\":\"screen\"},\"x\":{\"field\":\"petal_length\"},\"y\":{\"field\":\"petal_width\"}},\"id\":\"63685\",\"type\":\"Circle\"},{\"attributes\":{},\"id\":\"64771\",\"type\":\"UnionRenderers\"},{\"attributes\":{},\"id\":\"64770\",\"type\":\"Selection\"},{\"attributes\":{},\"id\":\"67159\",\"type\":\"SaveTool\"},{\"attributes\":{\"source\":{\"id\":\"63620\",\"type\":\"ColumnDataSource\"}},\"id\":\"67113\",\"type\":\"CDSView\"},{\"attributes\":{\"bottom_units\":\"screen\",\"fill_alpha\":{\"value\":0.5},\"fill_color\":{\"value\":\"lightgrey\"},\"left_units\":\"screen\",\"level\":\"overlay\",\"line_alpha\":{\"value\":1.0},\"line_color\":{\"value\":\"black\"},\"line_dash\":[4,4],\"line_width\":{\"value\":2},\"render_mode\":\"css\",\"right_units\":\"screen\",\"top_units\":\"screen\"},\"id\":\"68241\",\"type\":\"BoxAnnotation\"},{\"attributes\":{\"fill_alpha\":{\"value\":0.1},\"fill_color\":{\"value\":\"#1f77b4\"},\"line_alpha\":{\"value\":0.1},\"line_color\":{\"value\":\"#1f77b4\"},\"size\":{\"field\":\"size\",\"units\":\"screen\"},\"x\":{\"field\":\"sepal_length\"},\"y\":{\"field\":\"sepal_width\"}},\"id\":\"67125\",\"type\":\"Circle\"},{\"attributes\":{\"fill_alpha\":{\"value\":0.2},\"fill_color\":{\"field\":\"color\"},\"line_color\":{\"field\":\"color\"},\"size\":{\"field\":\"size\",\"units\":\"screen\"},\"x\":{\"field\":\"sepal_length\"},\"y\":{\"field\":\"sepal_width\"}},\"id\":\"67110\",\"type\":\"Circle\"},{\"attributes\":{\"below\":[{\"id\":\"67086\",\"type\":\"LinearAxis\"}],\"center\":[{\"id\":\"67090\",\"type\":\"Grid\"},{\"id\":\"67095\",\"type\":\"Grid\"},{\"id\":\"67121\",\"type\":\"Legend\"}],\"left\":[{\"id\":\"67091\",\"type\":\"LinearAxis\"}],\"plot_height\":500,\"plot_width\":500,\"renderers\":[{\"id\":\"67112\",\"type\":\"GlyphRenderer\"},{\"id\":\"67126\",\"type\":\"GlyphRenderer\"},{\"id\":\"67141\",\"type\":\"GlyphRenderer\"}],\"title\":{\"id\":\"67115\",\"type\":\"Title\"},\"toolbar\":{\"id\":\"67102\",\"type\":\"Toolbar\"},\"toolbar_location\":\"above\",\"x_range\":{\"id\":\"67078\",\"type\":\"DataRange1d\"},\"x_scale\":{\"id\":\"67082\",\"type\":\"LinearScale\"},\"y_range\":{\"id\":\"67080\",\"type\":\"DataRange1d\"},\"y_scale\":{\"id\":\"67084\",\"type\":\"LinearScale\"}},\"id\":\"67077\",\"subtype\":\"Figure\",\"type\":\"Plot\"},{\"attributes\":{\"fill_alpha\":{\"value\":0.2},\"fill_color\":{\"field\":\"color\"},\"line_color\":{\"field\":\"color\"},\"size\":{\"field\":\"size\",\"units\":\"screen\"},\"x\":{\"field\":\"sepal_length\"},\"y\":{\"field\":\"sepal_width\"}},\"id\":\"67124\",\"type\":\"Circle\"},{\"attributes\":{\"text\":\"Sepal plot\"},\"id\":\"67115\",\"type\":\"Title\"},{\"attributes\":{\"callback\":null},\"id\":\"67078\",\"type\":\"DataRange1d\"},{\"attributes\":{},\"id\":\"63699\",\"type\":\"UnionRenderers\"},{\"attributes\":{\"callback\":null},\"id\":\"67080\",\"type\":\"DataRange1d\"},{\"attributes\":{},\"id\":\"63682\",\"type\":\"UnionRenderers\"},{\"attributes\":{\"callback\":null,\"tooltips\":[[\"Species\",\"@species\"],[\"Sepal Width\",\"@petal_width\"]]},\"id\":\"67161\",\"type\":\"HoverTool\"},{\"attributes\":{\"fill_alpha\":{\"value\":0.1},\"fill_color\":{\"value\":\"#1f77b4\"},\"line_alpha\":{\"value\":0.1},\"line_color\":{\"value\":\"#1f77b4\"},\"size\":{\"field\":\"size\",\"units\":\"screen\"},\"x\":{\"field\":\"petal_length\"},\"y\":{\"field\":\"petal_width\"}},\"id\":\"63686\",\"type\":\"Circle\"},{\"attributes\":{\"fill_alpha\":{\"value\":0.2},\"fill_color\":{\"field\":\"color\"},\"line_color\":{\"field\":\"color\"},\"size\":{\"field\":\"size\",\"units\":\"screen\"},\"x\":{\"field\":\"sepal_length\"},\"y\":{\"field\":\"sepal_width\"}},\"id\":\"67139\",\"type\":\"Circle\"},{\"attributes\":{\"source\":{\"id\":\"63622\",\"type\":\"ColumnDataSource\"}},\"id\":\"63688\",\"type\":\"CDSView\"},{\"attributes\":{\"source\":{\"id\":\"63621\",\"type\":\"ColumnDataSource\"}},\"id\":\"67127\",\"type\":\"CDSView\"},{\"attributes\":{\"data_source\":{\"id\":\"63622\",\"type\":\"ColumnDataSource\"},\"glyph\":{\"id\":\"63685\",\"type\":\"Circle\"},\"hover_glyph\":null,\"muted_glyph\":null,\"nonselection_glyph\":{\"id\":\"63686\",\"type\":\"Circle\"},\"selection_glyph\":null,\"view\":{\"id\":\"63688\",\"type\":\"CDSView\"}},\"id\":\"63687\",\"type\":\"GlyphRenderer\"},{\"attributes\":{\"overlay\":{\"id\":\"68241\",\"type\":\"BoxAnnotation\"}},\"id\":\"67158\",\"type\":\"BoxZoomTool\"},{\"attributes\":{\"active_drag\":\"auto\",\"active_inspect\":\"auto\",\"active_multi\":null,\"active_scroll\":\"auto\",\"active_tap\":\"auto\",\"logo\":null,\"tools\":[{\"id\":\"64850\",\"type\":\"PanTool\"},{\"id\":\"64851\",\"type\":\"ResetTool\"},{\"id\":\"64852\",\"type\":\"WheelZoomTool\"},{\"id\":\"64853\",\"type\":\"BoxZoomTool\"},{\"id\":\"64854\",\"type\":\"SaveTool\"},{\"id\":\"65926\",\"type\":\"HoverTool\"}]},\"id\":\"63648\",\"type\":\"Toolbar\"},{\"attributes\":{\"label\":{\"value\":\"Setosa\"},\"renderers\":[{\"id\":\"67112\",\"type\":\"GlyphRenderer\"}]},\"id\":\"67122\",\"type\":\"LegendItem\"},{\"attributes\":{\"callback\":null,\"data\":{\"color\":[\"red\",\"red\",\"red\",\"red\",\"red\",\"red\",\"red\",\"red\",\"red\",\"red\",\"red\",\"red\",\"red\",\"red\",\"red\",\"red\",\"red\",\"red\",\"red\",\"red\",\"red\",\"red\",\"red\",\"red\",\"red\",\"red\",\"red\",\"red\",\"red\",\"red\",\"red\",\"red\",\"red\",\"red\",\"red\",\"red\",\"red\",\"red\",\"red\",\"red\",\"red\",\"red\",\"red\",\"red\",\"red\",\"red\",\"red\",\"red\",\"red\",\"red\"],\"index\":[0,1,2,3,4,5,6,7,8,9,10,11,12,13,14,15,16,17,18,19,20,21,22,23,24,25,26,27,28,29,30,31,32,33,34,35,36,37,38,39,40,41,42,43,44,45,46,47,48,49],\"petal_length\":{\"__ndarray__\":\"ZmZmZmZm9j9mZmZmZmb2P83MzMzMzPQ/AAAAAAAA+D9mZmZmZmb2PzMzMzMzM/s/ZmZmZmZm9j8AAAAAAAD4P2ZmZmZmZvY/AAAAAAAA+D8AAAAAAAD4P5qZmZmZmfk/ZmZmZmZm9j+amZmZmZnxPzMzMzMzM/M/AAAAAAAA+D/NzMzMzMz0P2ZmZmZmZvY/MzMzMzMz+z8AAAAAAAD4PzMzMzMzM/s/AAAAAAAA+D8AAAAAAADwPzMzMzMzM/s/ZmZmZmZm/j+amZmZmZn5P5qZmZmZmfk/AAAAAAAA+D9mZmZmZmb2P5qZmZmZmfk/mpmZmZmZ+T8AAAAAAAD4PwAAAAAAAPg/ZmZmZmZm9j8AAAAAAAD4PzMzMzMzM/M/zczMzMzM9D9mZmZmZmb2P83MzMzMzPQ/AAAAAAAA+D/NzMzMzMz0P83MzMzMzPQ/zczMzMzM9D+amZmZmZn5P2ZmZmZmZv4/ZmZmZmZm9j+amZmZmZn5P2ZmZmZmZvY/AAAAAAAA+D9mZmZmZmb2Pw==\",\"dtype\":\"float64\",\"shape\":[50]},\"petal_width\":{\"__ndarray__\":\"mpmZmZmZyT+amZmZmZnJP5qZmZmZmck/mpmZmZmZyT+amZmZmZnJP5qZmZmZmdk/MzMzMzMz0z+amZmZmZnJP5qZmZmZmck/mpmZmZmZuT+amZmZmZnJP5qZmZmZmck/mpmZmZmZuT+amZmZmZm5P5qZmZmZmck/mpmZmZmZ2T+amZmZmZnZPzMzMzMzM9M/MzMzMzMz0z8zMzMzMzPTP5qZmZmZmck/mpmZmZmZ2T+amZmZmZnJPwAAAAAAAOA/mpmZmZmZyT+amZmZmZnJP5qZmZmZmdk/mpmZmZmZyT+amZmZmZnJP5qZmZmZmck/mpmZmZmZyT+amZmZmZnZP5qZmZmZmbk/mpmZmZmZyT+amZmZmZnJP5qZmZmZmck/mpmZmZmZyT+amZmZmZm5P5qZmZmZmck/mpmZmZmZyT8zMzMzMzPTPzMzMzMzM9M/mpmZmZmZyT8zMzMzMzPjP5qZmZmZmdk/MzMzMzMz0z+amZmZmZnJP5qZmZmZmck/mpmZmZmZyT+amZmZmZnJPw==\",\"dtype\":\"float64\",\"shape\":[50]},\"sepal_length\":{\"__ndarray__\":\"ZmZmZmZmFECamZmZmZkTQM3MzMzMzBJAZmZmZmZmEkAAAAAAAAAUQJqZmZmZmRVAZmZmZmZmEkAAAAAAAAAUQJqZmZmZmRFAmpmZmZmZE0CamZmZmZkVQDMzMzMzMxNAMzMzMzMzE0AzMzMzMzMRQDMzMzMzMxdAzczMzMzMFkCamZmZmZkVQGZmZmZmZhRAzczMzMzMFkBmZmZmZmYUQJqZmZmZmRVAZmZmZmZmFEBmZmZmZmYSQGZmZmZmZhRAMzMzMzMzE0AAAAAAAAAUQAAAAAAAABRAzczMzMzMFEDNzMzMzMwUQM3MzMzMzBJAMzMzMzMzE0CamZmZmZkVQM3MzMzMzBRAAAAAAAAAFkCamZmZmZkTQAAAAAAAABRAAAAAAAAAFkCamZmZmZkTQJqZmZmZmRFAZmZmZmZmFEAAAAAAAAAUQAAAAAAAABJAmpmZmZmZEUAAAAAAAAAUQGZmZmZmZhRAMzMzMzMzE0BmZmZmZmYUQGZmZmZmZhJAMzMzMzMzFUAAAAAAAAAUQA==\",\"dtype\":\"float64\",\"shape\":[50]},\"sepal_width\":{\"__ndarray__\":\"AAAAAAAADEAAAAAAAAAIQJqZmZmZmQlAzczMzMzMCEDNzMzMzMwMQDMzMzMzMw9AMzMzMzMzC0AzMzMzMzMLQDMzMzMzMwdAzczMzMzMCECamZmZmZkNQDMzMzMzMwtAAAAAAAAACEAAAAAAAAAIQAAAAAAAABBAmpmZmZmZEUAzMzMzMzMPQAAAAAAAAAxAZmZmZmZmDkBmZmZmZmYOQDMzMzMzMwtAmpmZmZmZDUDNzMzMzMwMQGZmZmZmZgpAMzMzMzMzC0AAAAAAAAAIQDMzMzMzMwtAAAAAAAAADEAzMzMzMzMLQJqZmZmZmQlAzczMzMzMCEAzMzMzMzMLQGZmZmZmZhBAzczMzMzMEEDNzMzMzMwIQJqZmZmZmQlAAAAAAAAADEDNzMzMzMwMQAAAAAAAAAhAMzMzMzMzC0AAAAAAAAAMQGZmZmZmZgJAmpmZmZmZCUAAAAAAAAAMQGZmZmZmZg5AAAAAAAAACEBmZmZmZmYOQJqZmZmZmQlAmpmZmZmZDUBmZmZmZmYKQA==\",\"dtype\":\"float64\",\"shape\":[50]},\"size\":{\"__ndarray__\":\"AAAAAACAMUAAAAAAAAAuQAAAAAAAADBAAAAAAAAAL0AAAAAAAAAyQAAAAAAAgDNAAAAAAAAAMUAAAAAAAAAxQAAAAAAAAC1AAAAAAAAAL0AAAAAAAIAyQAAAAAAAADFAAAAAAAAALkAAAAAAAAAuQAAAAAAAADRAAAAAAAAANkAAAAAAAIAzQAAAAAAAgDFAAAAAAAAAM0AAAAAAAAAzQAAAAAAAADFAAAAAAACAMkAAAAAAAAAyQAAAAAAAgDBAAAAAAAAAMUAAAAAAAAAuQAAAAAAAADFAAAAAAACAMUAAAAAAAAAxQAAAAAAAADBAAAAAAAAAL0AAAAAAAAAxQAAAAAAAgDRAAAAAAAAANUAAAAAAAAAvQAAAAAAAADBAAAAAAACAMUAAAAAAAAAyQAAAAAAAAC5AAAAAAAAAMUAAAAAAAIAxQAAAAAAAACdAAAAAAAAAMEAAAAAAAIAxQAAAAAAAADNAAAAAAAAALkAAAAAAAAAzQAAAAAAAADBAAAAAAACAMkAAAAAAAIAwQA==\",\"dtype\":\"float64\",\"shape\":[50]},\"species\":[\"setosa\",\"setosa\",\"setosa\",\"setosa\",\"setosa\",\"setosa\",\"setosa\",\"setosa\",\"setosa\",\"setosa\",\"setosa\",\"setosa\",\"setosa\",\"setosa\",\"setosa\",\"setosa\",\"setosa\",\"setosa\",\"setosa\",\"setosa\",\"setosa\",\"setosa\",\"setosa\",\"setosa\",\"setosa\",\"setosa\",\"setosa\",\"setosa\",\"setosa\",\"setosa\",\"setosa\",\"setosa\",\"setosa\",\"setosa\",\"setosa\",\"setosa\",\"setosa\",\"setosa\",\"setosa\",\"setosa\",\"setosa\",\"setosa\",\"setosa\",\"setosa\",\"setosa\",\"setosa\",\"setosa\",\"setosa\",\"setosa\",\"setosa\"]},\"selected\":{\"id\":\"63681\",\"type\":\"Selection\"},\"selection_policy\":{\"id\":\"63682\",\"type\":\"UnionRenderers\"}},\"id\":\"63620\",\"type\":\"ColumnDataSource\"},{\"attributes\":{\"text\":\"Petal plot\"},\"id\":\"63661\",\"type\":\"Title\"},{\"attributes\":{},\"id\":\"63630\",\"type\":\"LinearScale\"},{\"attributes\":{\"data_source\":{\"id\":\"63620\",\"type\":\"ColumnDataSource\"},\"glyph\":{\"id\":\"63656\",\"type\":\"Circle\"},\"hover_glyph\":null,\"muted_glyph\":null,\"nonselection_glyph\":{\"id\":\"63657\",\"type\":\"Circle\"},\"selection_glyph\":null,\"view\":{\"id\":\"63659\",\"type\":\"CDSView\"}},\"id\":\"63658\",\"type\":\"GlyphRenderer\"},{\"attributes\":{},\"id\":\"67157\",\"type\":\"WheelZoomTool\"},{\"attributes\":{\"label\":{\"value\":\"Virginica\"},\"renderers\":[{\"id\":\"67141\",\"type\":\"GlyphRenderer\"}]},\"id\":\"67154\",\"type\":\"LegendItem\"},{\"attributes\":{},\"id\":\"63664\",\"type\":\"BasicTickFormatter\"},{\"attributes\":{},\"id\":\"63698\",\"type\":\"Selection\"},{\"attributes\":{\"label\":{\"value\":\"Virginica\"},\"renderers\":[{\"id\":\"63687\",\"type\":\"GlyphRenderer\"}]},\"id\":\"63700\",\"type\":\"LegendItem\"},{\"attributes\":{\"data_source\":{\"id\":\"63622\",\"type\":\"ColumnDataSource\"},\"glyph\":{\"id\":\"67139\",\"type\":\"Circle\"},\"hover_glyph\":null,\"muted_glyph\":null,\"nonselection_glyph\":{\"id\":\"67140\",\"type\":\"Circle\"},\"selection_glyph\":null,\"view\":{\"id\":\"67142\",\"type\":\"CDSView\"}},\"id\":\"67141\",\"type\":\"GlyphRenderer\"},{\"attributes\":{\"fill_alpha\":{\"value\":0.2},\"fill_color\":{\"field\":\"color\"},\"line_color\":{\"field\":\"color\"},\"size\":{\"field\":\"size\",\"units\":\"screen\"},\"x\":{\"field\":\"petal_length\"},\"y\":{\"field\":\"petal_width\"}},\"id\":\"63670\",\"type\":\"Circle\"},{\"attributes\":{\"fill_alpha\":{\"value\":0.1},\"fill_color\":{\"value\":\"#1f77b4\"},\"line_alpha\":{\"value\":0.1},\"line_color\":{\"value\":\"#1f77b4\"},\"size\":{\"field\":\"size\",\"units\":\"screen\"},\"x\":{\"field\":\"petal_length\"},\"y\":{\"field\":\"petal_width\"}},\"id\":\"63671\",\"type\":\"Circle\"},{\"attributes\":{\"bottom_units\":\"screen\",\"fill_alpha\":{\"value\":0.5},\"fill_color\":{\"value\":\"lightgrey\"},\"left_units\":\"screen\",\"level\":\"overlay\",\"line_alpha\":{\"value\":1.0},\"line_color\":{\"value\":\"black\"},\"line_dash\":[4,4],\"line_width\":{\"value\":2},\"render_mode\":\"css\",\"right_units\":\"screen\",\"top_units\":\"screen\"},\"id\":\"65919\",\"type\":\"BoxAnnotation\"},{\"attributes\":{\"data_source\":{\"id\":\"63621\",\"type\":\"ColumnDataSource\"},\"glyph\":{\"id\":\"63670\",\"type\":\"Circle\"},\"hover_glyph\":null,\"muted_glyph\":null,\"nonselection_glyph\":{\"id\":\"63671\",\"type\":\"Circle\"},\"selection_glyph\":null,\"view\":{\"id\":\"63673\",\"type\":\"CDSView\"}},\"id\":\"63672\",\"type\":\"GlyphRenderer\"},{\"attributes\":{},\"id\":\"64854\",\"type\":\"SaveTool\"},{\"attributes\":{},\"id\":\"67155\",\"type\":\"PanTool\"},{\"attributes\":{\"dimension\":1,\"ticker\":{\"id\":\"63638\",\"type\":\"BasicTicker\"}},\"id\":\"63641\",\"type\":\"Grid\"},{\"attributes\":{\"source\":{\"id\":\"63621\",\"type\":\"ColumnDataSource\"}},\"id\":\"63673\",\"type\":\"CDSView\"},{\"attributes\":{\"fill_alpha\":{\"value\":0.1},\"fill_color\":{\"value\":\"#1f77b4\"},\"line_alpha\":{\"value\":0.1},\"line_color\":{\"value\":\"#1f77b4\"},\"size\":{\"field\":\"size\",\"units\":\"screen\"},\"x\":{\"field\":\"sepal_length\"},\"y\":{\"field\":\"sepal_width\"}},\"id\":\"67140\",\"type\":\"Circle\"},{\"attributes\":{\"click_policy\":\"hide\",\"items\":[{\"id\":\"67122\",\"type\":\"LegendItem\"},{\"id\":\"67137\",\"type\":\"LegendItem\"},{\"id\":\"67154\",\"type\":\"LegendItem\"}],\"location\":\"top_left\"},\"id\":\"67121\",\"type\":\"Legend\"},{\"attributes\":{\"fill_alpha\":{\"value\":0.1},\"fill_color\":{\"value\":\"#1f77b4\"},\"line_alpha\":{\"value\":0.1},\"line_color\":{\"value\":\"#1f77b4\"},\"size\":{\"field\":\"size\",\"units\":\"screen\"},\"x\":{\"field\":\"petal_length\"},\"y\":{\"field\":\"petal_width\"}},\"id\":\"63657\",\"type\":\"Circle\"},{\"attributes\":{},\"id\":\"63628\",\"type\":\"LinearScale\"},{\"attributes\":{\"callback\":null,\"data\":{\"color\":[\"blue\",\"blue\",\"blue\",\"blue\",\"blue\",\"blue\",\"blue\",\"blue\",\"blue\",\"blue\",\"blue\",\"blue\",\"blue\",\"blue\",\"blue\",\"blue\",\"blue\",\"blue\",\"blue\",\"blue\",\"blue\",\"blue\",\"blue\",\"blue\",\"blue\",\"blue\",\"blue\",\"blue\",\"blue\",\"blue\",\"blue\",\"blue\",\"blue\",\"blue\",\"blue\",\"blue\",\"blue\",\"blue\",\"blue\",\"blue\",\"blue\",\"blue\",\"blue\",\"blue\",\"blue\",\"blue\",\"blue\",\"blue\",\"blue\",\"blue\"],\"index\":[100,101,102,103,104,105,106,107,108,109,110,111,112,113,114,115,116,117,118,119,120,121,122,123,124,125,126,127,128,129,130,131,132,133,134,135,136,137,138,139,140,141,142,143,144,145,146,147,148,149],\"petal_length\":{\"__ndarray__\":\"AAAAAAAAGEBmZmZmZmYUQJqZmZmZmRdAZmZmZmZmFkAzMzMzMzMXQGZmZmZmZhpAAAAAAAAAEkAzMzMzMzMZQDMzMzMzMxdAZmZmZmZmGEBmZmZmZmYUQDMzMzMzMxVAAAAAAAAAFkAAAAAAAAAUQGZmZmZmZhRAMzMzMzMzFUAAAAAAAAAWQM3MzMzMzBpAmpmZmZmZG0AAAAAAAAAUQM3MzMzMzBZAmpmZmZmZE0DNzMzMzMwaQJqZmZmZmRNAzczMzMzMFkAAAAAAAAAYQDMzMzMzMxNAmpmZmZmZE0BmZmZmZmYWQDMzMzMzMxdAZmZmZmZmGECamZmZmZkZQGZmZmZmZhZAZmZmZmZmFEBmZmZmZmYWQGZmZmZmZhhAZmZmZmZmFkAAAAAAAAAWQDMzMzMzMxNAmpmZmZmZFUBmZmZmZmYWQGZmZmZmZhRAZmZmZmZmFECamZmZmZkXQM3MzMzMzBZAzczMzMzMFEAAAAAAAAAUQM3MzMzMzBRAmpmZmZmZFUBmZmZmZmYUQA==\",\"dtype\":\"float64\",\"shape\":[50]},\"petal_width\":{\"__ndarray__\":\"AAAAAAAABEBmZmZmZmb+P83MzMzMzABAzczMzMzM/D+amZmZmZkBQM3MzMzMzABAMzMzMzMz+z/NzMzMzMz8P83MzMzMzPw/AAAAAAAABEAAAAAAAAAAQGZmZmZmZv4/zczMzMzMAEAAAAAAAAAAQDMzMzMzMwNAZmZmZmZmAkDNzMzMzMz8P5qZmZmZmQFAZmZmZmZmAkAAAAAAAAD4P2ZmZmZmZgJAAAAAAAAAAEAAAAAAAAAAQM3MzMzMzPw/zczMzMzMAEDNzMzMzMz8P83MzMzMzPw/zczMzMzM/D/NzMzMzMwAQJqZmZmZmfk/ZmZmZmZm/j8AAAAAAAAAQJqZmZmZmQFAAAAAAAAA+D9mZmZmZmb2P2ZmZmZmZgJAMzMzMzMzA0DNzMzMzMz8P83MzMzMzPw/zczMzMzMAEAzMzMzMzMDQGZmZmZmZgJAZmZmZmZm/j9mZmZmZmYCQAAAAAAAAARAZmZmZmZmAkBmZmZmZmb+PwAAAAAAAABAZmZmZmZmAkDNzMzMzMz8Pw==\",\"dtype\":\"float64\",\"shape\":[50]},\"sepal_length\":{\"__ndarray__\":\"MzMzMzMzGUAzMzMzMzMXQGZmZmZmZhxAMzMzMzMzGUAAAAAAAAAaQGZmZmZmZh5AmpmZmZmZE0AzMzMzMzMdQM3MzMzMzBpAzczMzMzMHEAAAAAAAAAaQJqZmZmZmRlAMzMzMzMzG0DNzMzMzMwWQDMzMzMzMxdAmpmZmZmZGUAAAAAAAAAaQM3MzMzMzB5AzczMzMzMHkAAAAAAAAAYQJqZmZmZmRtAZmZmZmZmFkDNzMzMzMweQDMzMzMzMxlAzczMzMzMGkDNzMzMzMwcQM3MzMzMzBhAZmZmZmZmGECamZmZmZkZQM3MzMzMzBxAmpmZmZmZHUCamZmZmZkfQJqZmZmZmRlAMzMzMzMzGUBmZmZmZmYYQM3MzMzMzB5AMzMzMzMzGUCamZmZmZkZQAAAAAAAABhAmpmZmZmZG0DNzMzMzMwaQJqZmZmZmRtAMzMzMzMzF0AzMzMzMzMbQM3MzMzMzBpAzczMzMzMGkAzMzMzMzMZQAAAAAAAABpAzczMzMzMGECamZmZmZkXQA==\",\"dtype\":\"float64\",\"shape\":[50]},\"sepal_width\":{\"__ndarray__\":\"ZmZmZmZmCkCamZmZmZkFQAAAAAAAAAhAMzMzMzMzB0AAAAAAAAAIQAAAAAAAAAhAAAAAAAAABEAzMzMzMzMHQAAAAAAAAARAzczMzMzMDECamZmZmZkJQJqZmZmZmQVAAAAAAAAACEAAAAAAAAAEQGZmZmZmZgZAmpmZmZmZCUAAAAAAAAAIQGZmZmZmZg5AzczMzMzMBECamZmZmZkBQJqZmZmZmQlAZmZmZmZmBkBmZmZmZmYGQJqZmZmZmQVAZmZmZmZmCkCamZmZmZkJQGZmZmZmZgZAAAAAAAAACEBmZmZmZmYGQAAAAAAAAAhAZmZmZmZmBkBmZmZmZmYOQGZmZmZmZgZAZmZmZmZmBkDNzMzMzMwEQAAAAAAAAAhAMzMzMzMzC0DNzMzMzMwIQAAAAAAAAAhAzczMzMzMCEDNzMzMzMwIQM3MzMzMzAhAmpmZmZmZBUCamZmZmZkJQGZmZmZmZgpAAAAAAAAACEAAAAAAAAAEQAAAAAAAAAhAMzMzMzMzC0AAAAAAAAAIQA==\",\"dtype\":\"float64\",\"shape\":[50]},\"size\":{\"__ndarray__\":\"AAAAAACAMEAAAAAAAAArQAAAAAAAAC5AAAAAAAAALUAAAAAAAAAuQAAAAAAAAC5AAAAAAAAAKUAAAAAAAAAtQAAAAAAAAClAAAAAAAAAMkAAAAAAAAAwQAAAAAAAACtAAAAAAAAALkAAAAAAAAApQAAAAAAAACxAAAAAAAAAMEAAAAAAAAAuQAAAAAAAADNAAAAAAAAAKkAAAAAAAAAmQAAAAAAAADBAAAAAAAAALEAAAAAAAAAsQAAAAAAAACtAAAAAAACAMEAAAAAAAAAwQAAAAAAAACxAAAAAAAAALkAAAAAAAAAsQAAAAAAAAC5AAAAAAAAALEAAAAAAAAAzQAAAAAAAACxAAAAAAAAALEAAAAAAAAAqQAAAAAAAAC5AAAAAAAAAMUAAAAAAAAAvQAAAAAAAAC5AAAAAAAAAL0AAAAAAAAAvQAAAAAAAAC9AAAAAAAAAK0AAAAAAAAAwQAAAAAAAgDBAAAAAAAAALkAAAAAAAAApQAAAAAAAAC5AAAAAAAAAMUAAAAAAAAAuQA==\",\"dtype\":\"float64\",\"shape\":[50]},\"species\":[\"virginica\",\"virginica\",\"virginica\",\"virginica\",\"virginica\",\"virginica\",\"virginica\",\"virginica\",\"virginica\",\"virginica\",\"virginica\",\"virginica\",\"virginica\",\"virginica\",\"virginica\",\"virginica\",\"virginica\",\"virginica\",\"virginica\",\"virginica\",\"virginica\",\"virginica\",\"virginica\",\"virginica\",\"virginica\",\"virginica\",\"virginica\",\"virginica\",\"virginica\",\"virginica\",\"virginica\",\"virginica\",\"virginica\",\"virginica\",\"virginica\",\"virginica\",\"virginica\",\"virginica\",\"virginica\",\"virginica\",\"virginica\",\"virginica\",\"virginica\",\"virginica\",\"virginica\",\"virginica\",\"virginica\",\"virginica\",\"virginica\",\"virginica\"]},\"selected\":{\"id\":\"64770\",\"type\":\"Selection\"},\"selection_policy\":{\"id\":\"64771\",\"type\":\"UnionRenderers\"}},\"id\":\"63622\",\"type\":\"ColumnDataSource\"},{\"attributes\":{\"active_drag\":\"auto\",\"active_inspect\":\"auto\",\"active_multi\":null,\"active_scroll\":\"auto\",\"active_tap\":\"auto\",\"logo\":null,\"tools\":[{\"id\":\"67155\",\"type\":\"PanTool\"},{\"id\":\"67156\",\"type\":\"ResetTool\"},{\"id\":\"67157\",\"type\":\"WheelZoomTool\"},{\"id\":\"67158\",\"type\":\"BoxZoomTool\"},{\"id\":\"67159\",\"type\":\"SaveTool\"},{\"id\":\"67161\",\"type\":\"HoverTool\"}]},\"id\":\"67102\",\"type\":\"Toolbar\"},{\"attributes\":{\"callback\":null,\"tooltips\":[[\"Species\",\"@species\"],[\"Sepal Width\",\"@sepal_width\"]]},\"id\":\"65926\",\"type\":\"HoverTool\"},{\"attributes\":{\"label\":{\"value\":\"Versicolor\"},\"renderers\":[{\"id\":\"63672\",\"type\":\"GlyphRenderer\"}]},\"id\":\"63683\",\"type\":\"LegendItem\"},{\"attributes\":{\"label\":{\"value\":\"Versicolor\"},\"renderers\":[{\"id\":\"67126\",\"type\":\"GlyphRenderer\"}]},\"id\":\"67137\",\"type\":\"LegendItem\"},{\"attributes\":{\"below\":[{\"id\":\"63632\",\"type\":\"LinearAxis\"}],\"center\":[{\"id\":\"63636\",\"type\":\"Grid\"},{\"id\":\"63641\",\"type\":\"Grid\"},{\"id\":\"63667\",\"type\":\"Legend\"}],\"left\":[{\"id\":\"63637\",\"type\":\"LinearAxis\"}],\"plot_height\":500,\"plot_width\":500,\"renderers\":[{\"id\":\"63658\",\"type\":\"GlyphRenderer\"},{\"id\":\"63672\",\"type\":\"GlyphRenderer\"},{\"id\":\"63687\",\"type\":\"GlyphRenderer\"}],\"title\":{\"id\":\"63661\",\"type\":\"Title\"},\"toolbar\":{\"id\":\"63648\",\"type\":\"Toolbar\"},\"toolbar_location\":\"above\",\"x_range\":{\"id\":\"63624\",\"type\":\"DataRange1d\"},\"x_scale\":{\"id\":\"63628\",\"type\":\"LinearScale\"},\"y_range\":{\"id\":\"63626\",\"type\":\"DataRange1d\"},\"y_scale\":{\"id\":\"63630\",\"type\":\"LinearScale\"}},\"id\":\"63623\",\"subtype\":\"Figure\",\"type\":\"Plot\"},{\"attributes\":{},\"id\":\"63681\",\"type\":\"Selection\"},{\"attributes\":{},\"id\":\"67116\",\"type\":\"BasicTickFormatter\"},{\"attributes\":{\"fill_alpha\":{\"value\":0.2},\"fill_color\":{\"field\":\"color\"},\"line_color\":{\"field\":\"color\"},\"size\":{\"field\":\"size\",\"units\":\"screen\"},\"x\":{\"field\":\"petal_length\"},\"y\":{\"field\":\"petal_width\"}},\"id\":\"63656\",\"type\":\"Circle\"},{\"attributes\":{\"label\":{\"value\":\"Setosa\"},\"renderers\":[{\"id\":\"63658\",\"type\":\"GlyphRenderer\"}]},\"id\":\"63668\",\"type\":\"LegendItem\"},{\"attributes\":{\"axis_label\":\"Petal Width\",\"formatter\":{\"id\":\"63662\",\"type\":\"BasicTickFormatter\"},\"ticker\":{\"id\":\"63638\",\"type\":\"BasicTicker\"}},\"id\":\"63637\",\"type\":\"LinearAxis\"},{\"attributes\":{\"overlay\":{\"id\":\"65919\",\"type\":\"BoxAnnotation\"}},\"id\":\"64853\",\"type\":\"BoxZoomTool\"},{\"attributes\":{\"source\":{\"id\":\"63620\",\"type\":\"ColumnDataSource\"}},\"id\":\"63659\",\"type\":\"CDSView\"},{\"attributes\":{},\"id\":\"63662\",\"type\":\"BasicTickFormatter\"},{\"attributes\":{},\"id\":\"64852\",\"type\":\"WheelZoomTool\"},{\"attributes\":{\"callback\":null,\"data\":{\"color\":[\"green\",\"green\",\"green\",\"green\",\"green\",\"green\",\"green\",\"green\",\"green\",\"green\",\"green\",\"green\",\"green\",\"green\",\"green\",\"green\",\"green\",\"green\",\"green\",\"green\",\"green\",\"green\",\"green\",\"green\",\"green\",\"green\",\"green\",\"green\",\"green\",\"green\",\"green\",\"green\",\"green\",\"green\",\"green\",\"green\",\"green\",\"green\",\"green\",\"green\",\"green\",\"green\",\"green\",\"green\",\"green\",\"green\",\"green\",\"green\",\"green\",\"green\"],\"index\":[50,51,52,53,54,55,56,57,58,59,60,61,62,63,64,65,66,67,68,69,70,71,72,73,74,75,76,77,78,79,80,81,82,83,84,85,86,87,88,89,90,91,92,93,94,95,96,97,98,99],\"petal_length\":{\"__ndarray__\":\"zczMzMzMEkAAAAAAAAASQJqZmZmZmRNAAAAAAAAAEEBmZmZmZmYSQAAAAAAAABJAzczMzMzMEkBmZmZmZmYKQGZmZmZmZhJAMzMzMzMzD0AAAAAAAAAMQM3MzMzMzBBAAAAAAAAAEEDNzMzMzMwSQM3MzMzMzAxAmpmZmZmZEUAAAAAAAAASQGZmZmZmZhBAAAAAAAAAEkAzMzMzMzMPQDMzMzMzMxNAAAAAAAAAEECamZmZmZkTQM3MzMzMzBJAMzMzMzMzEUCamZmZmZkRQDMzMzMzMxNAAAAAAAAAFEAAAAAAAAASQAAAAAAAAAxAZmZmZmZmDkCamZmZmZkNQDMzMzMzMw9AZmZmZmZmFEAAAAAAAAASQAAAAAAAABJAzczMzMzMEkCamZmZmZkRQGZmZmZmZhBAAAAAAAAAEECamZmZmZkRQGZmZmZmZhJAAAAAAAAAEEBmZmZmZmYKQM3MzMzMzBBAzczMzMzMEEDNzMzMzMwQQDMzMzMzMxFAAAAAAAAACEBmZmZmZmYQQA==\",\"dtype\":\"float64\",\"shape\":[50]},\"petal_width\":{\"__ndarray__\":\"ZmZmZmZm9j8AAAAAAAD4PwAAAAAAAPg/zczMzMzM9D8AAAAAAAD4P83MzMzMzPQ/mpmZmZmZ+T8AAAAAAADwP83MzMzMzPQ/ZmZmZmZm9j8AAAAAAADwPwAAAAAAAPg/AAAAAAAA8D9mZmZmZmb2P83MzMzMzPQ/ZmZmZmZm9j8AAAAAAAD4PwAAAAAAAPA/AAAAAAAA+D+amZmZmZnxP83MzMzMzPw/zczMzMzM9D8AAAAAAAD4PzMzMzMzM/M/zczMzMzM9D9mZmZmZmb2P2ZmZmZmZvY/MzMzMzMz+z8AAAAAAAD4PwAAAAAAAPA/mpmZmZmZ8T8AAAAAAADwPzMzMzMzM/M/mpmZmZmZ+T8AAAAAAAD4P5qZmZmZmfk/AAAAAAAA+D/NzMzMzMz0P83MzMzMzPQ/zczMzMzM9D8zMzMzMzPzP2ZmZmZmZvY/MzMzMzMz8z8AAAAAAADwP83MzMzMzPQ/MzMzMzMz8z/NzMzMzMz0P83MzMzMzPQ/mpmZmZmZ8T/NzMzMzMz0Pw==\",\"dtype\":\"float64\",\"shape\":[50]},\"sepal_length\":{\"__ndarray__\":\"AAAAAAAAHECamZmZmZkZQJqZmZmZmRtAAAAAAAAAFkAAAAAAAAAaQM3MzMzMzBZAMzMzMzMzGUCamZmZmZkTQGZmZmZmZhpAzczMzMzMFEAAAAAAAAAUQJqZmZmZmRdAAAAAAAAAGEBmZmZmZmYYQGZmZmZmZhZAzczMzMzMGkBmZmZmZmYWQDMzMzMzMxdAzczMzMzMGEBmZmZmZmYWQJqZmZmZmRdAZmZmZmZmGEAzMzMzMzMZQGZmZmZmZhhAmpmZmZmZGUBmZmZmZmYaQDMzMzMzMxtAzczMzMzMGkAAAAAAAAAYQM3MzMzMzBZAAAAAAAAAFkAAAAAAAAAWQDMzMzMzMxdAAAAAAAAAGECamZmZmZkVQAAAAAAAABhAzczMzMzMGkAzMzMzMzMZQGZmZmZmZhZAAAAAAAAAFkAAAAAAAAAWQGZmZmZmZhhAMzMzMzMzF0AAAAAAAAAUQGZmZmZmZhZAzczMzMzMFkDNzMzMzMwWQM3MzMzMzBhAZmZmZmZmFEDNzMzMzMwWQA==\",\"dtype\":\"float64\",\"shape\":[50]},\"sepal_width\":{\"__ndarray__\":\"mpmZmZmZCUCamZmZmZkJQM3MzMzMzAhAZmZmZmZmAkBmZmZmZmYGQGZmZmZmZgZAZmZmZmZmCkAzMzMzMzMDQDMzMzMzMwdAmpmZmZmZBUAAAAAAAAAAQAAAAAAAAAhAmpmZmZmZAUAzMzMzMzMHQDMzMzMzMwdAzczMzMzMCEAAAAAAAAAIQJqZmZmZmQVAmpmZmZmZAUAAAAAAAAAEQJqZmZmZmQlAZmZmZmZmBkAAAAAAAAAEQGZmZmZmZgZAMzMzMzMzB0AAAAAAAAAIQGZmZmZmZgZAAAAAAAAACEAzMzMzMzMHQM3MzMzMzARAMzMzMzMzA0AzMzMzMzMDQJqZmZmZmQVAmpmZmZmZBUAAAAAAAAAIQDMzMzMzMwtAzczMzMzMCEBmZmZmZmYCQAAAAAAAAAhAAAAAAAAABEDNzMzMzMwEQAAAAAAAAAhAzczMzMzMBEBmZmZmZmYCQJqZmZmZmQVAAAAAAAAACEAzMzMzMzMHQDMzMzMzMwdAAAAAAAAABEBmZmZmZmYGQA==\",\"dtype\":\"float64\",\"shape\":[50]},\"size\":{\"__ndarray__\":\"AAAAAAAAMEAAAAAAAAAwQAAAAAAAAC9AAAAAAAAAJ0AAAAAAAAAsQAAAAAAAACxAAAAAAACAMEAAAAAAAAAoQAAAAAAAAC1AAAAAAAAAK0AAAAAAAAAkQAAAAAAAAC5AAAAAAAAAJkAAAAAAAAAtQAAAAAAAAC1AAAAAAAAAL0AAAAAAAAAuQAAAAAAAACtAAAAAAAAAJkAAAAAAAAApQAAAAAAAADBAAAAAAAAALEAAAAAAAAApQAAAAAAAACxAAAAAAAAALUAAAAAAAAAuQAAAAAAAACxAAAAAAAAALkAAAAAAAAAtQAAAAAAAACpAAAAAAAAAKEAAAAAAAAAoQAAAAAAAACtAAAAAAAAAK0AAAAAAAAAuQAAAAAAAADFAAAAAAAAAL0AAAAAAAAAnQAAAAAAAAC5AAAAAAAAAKUAAAAAAAAAqQAAAAAAAAC5AAAAAAAAAKkAAAAAAAAAnQAAAAAAAACtAAAAAAAAALkAAAAAAAAAtQAAAAAAAAC1AAAAAAAAAKUAAAAAAAAAsQA==\",\"dtype\":\"float64\",\"shape\":[50]},\"species\":[\"versicolor\",\"versicolor\",\"versicolor\",\"versicolor\",\"versicolor\",\"versicolor\",\"versicolor\",\"versicolor\",\"versicolor\",\"versicolor\",\"versicolor\",\"versicolor\",\"versicolor\",\"versicolor\",\"versicolor\",\"versicolor\",\"versicolor\",\"versicolor\",\"versicolor\",\"versicolor\",\"versicolor\",\"versicolor\",\"versicolor\",\"versicolor\",\"versicolor\",\"versicolor\",\"versicolor\",\"versicolor\",\"versicolor\",\"versicolor\",\"versicolor\",\"versicolor\",\"versicolor\",\"versicolor\",\"versicolor\",\"versicolor\",\"versicolor\",\"versicolor\",\"versicolor\",\"versicolor\",\"versicolor\",\"versicolor\",\"versicolor\",\"versicolor\",\"versicolor\",\"versicolor\",\"versicolor\",\"versicolor\",\"versicolor\",\"versicolor\"]},\"selected\":{\"id\":\"63698\",\"type\":\"Selection\"},\"selection_policy\":{\"id\":\"63699\",\"type\":\"UnionRenderers\"}},\"id\":\"63621\",\"type\":\"ColumnDataSource\"},{\"attributes\":{},\"id\":\"64851\",\"type\":\"ResetTool\"},{\"attributes\":{\"callback\":null},\"id\":\"63626\",\"type\":\"DataRange1d\"},{\"attributes\":{\"click_policy\":\"hide\",\"items\":[{\"id\":\"63668\",\"type\":\"LegendItem\"},{\"id\":\"63683\",\"type\":\"LegendItem\"},{\"id\":\"63700\",\"type\":\"LegendItem\"}],\"location\":\"top_left\"},\"id\":\"63667\",\"type\":\"Legend\"},{\"attributes\":{},\"id\":\"64850\",\"type\":\"PanTool\"},{\"attributes\":{},\"id\":\"67156\",\"type\":\"ResetTool\"},{\"attributes\":{\"data_source\":{\"id\":\"63621\",\"type\":\"ColumnDataSource\"},\"glyph\":{\"id\":\"67124\",\"type\":\"Circle\"},\"hover_glyph\":null,\"muted_glyph\":null,\"nonselection_glyph\":{\"id\":\"67125\",\"type\":\"Circle\"},\"selection_glyph\":null,\"view\":{\"id\":\"67127\",\"type\":\"CDSView\"}},\"id\":\"67126\",\"type\":\"GlyphRenderer\"},{\"attributes\":{},\"id\":\"63633\",\"type\":\"BasicTicker\"},{\"attributes\":{},\"id\":\"67118\",\"type\":\"BasicTickFormatter\"},{\"attributes\":{},\"id\":\"63638\",\"type\":\"BasicTicker\"},{\"attributes\":{\"callback\":null},\"id\":\"63624\",\"type\":\"DataRange1d\"},{\"attributes\":{\"axis_label\":\"Petal Length\",\"formatter\":{\"id\":\"63664\",\"type\":\"BasicTickFormatter\"},\"ticker\":{\"id\":\"63633\",\"type\":\"BasicTicker\"}},\"id\":\"63632\",\"type\":\"LinearAxis\"},{\"attributes\":{\"ticker\":{\"id\":\"63633\",\"type\":\"BasicTicker\"}},\"id\":\"63636\",\"type\":\"Grid\"}],\"root_ids\":[\"68326\"]},\"title\":\"Bokeh Application\",\"version\":\"1.3.4\"}};\n",
       "  var render_items = [{\"docid\":\"40fb8006-a13b-415f-9918-6fa07dcd65b1\",\"roots\":{\"68326\":\"329689f2-73c2-4382-bf38-6a6845662838\"}}];\n",
       "  root.Bokeh.embed.embed_items_notebook(docs_json, render_items);\n",
       "\n",
       "  }\n",
       "  if (root.Bokeh !== undefined) {\n",
       "    embed_document(root);\n",
       "  } else {\n",
       "    var attempts = 0;\n",
       "    var timer = setInterval(function(root) {\n",
       "      if (root.Bokeh !== undefined) {\n",
       "        embed_document(root);\n",
       "        clearInterval(timer);\n",
       "      }\n",
       "      attempts++;\n",
       "      if (attempts > 100) {\n",
       "        console.log(\"Bokeh: ERROR: Unable to run BokehJS code because BokehJS library is missing\");\n",
       "        clearInterval(timer);\n",
       "      }\n",
       "    }, 10, root)\n",
       "  }\n",
       "})(window);"
      ],
      "application/vnd.bokehjs_exec.v0+json": ""
     },
     "metadata": {
      "application/vnd.bokehjs_exec.v0+json": {
       "id": "68326"
      }
     },
     "output_type": "display_data"
    }
   ],
   "source": [
    "from bokeh.layouts import column\n",
    "show(column(p, p2))"
   ]
  },
  {
   "cell_type": "code",
   "execution_count": 190,
   "metadata": {},
   "outputs": [
    {
     "data": {
      "text/html": [
       "\n",
       "\n",
       "\n",
       "\n",
       "\n",
       "\n",
       "  <div class=\"bk-root\" id=\"d854d69d-179b-47b9-ad2d-853083cf3991\" data-root-id=\"69556\"></div>\n"
      ]
     },
     "metadata": {},
     "output_type": "display_data"
    },
    {
     "data": {
      "application/javascript": [
       "(function(root) {\n",
       "  function embed_document(root) {\n",
       "    \n",
       "  var docs_json = {\"dcba670a-75cd-44ec-9157-ef89a3d9c8d3\":{\"roots\":{\"references\":[{\"attributes\":{\"children\":[{\"id\":\"63623\",\"subtype\":\"Figure\",\"type\":\"Plot\"},{\"id\":\"67077\",\"subtype\":\"Figure\",\"type\":\"Plot\"}]},\"id\":\"69556\",\"type\":\"Row\"},{\"attributes\":{},\"id\":\"67082\",\"type\":\"LinearScale\"},{\"attributes\":{},\"id\":\"67084\",\"type\":\"LinearScale\"},{\"attributes\":{\"axis_label\":\"Sepal Length\",\"formatter\":{\"id\":\"67118\",\"type\":\"BasicTickFormatter\"},\"ticker\":{\"id\":\"67087\",\"type\":\"BasicTicker\"}},\"id\":\"67086\",\"type\":\"LinearAxis\"},{\"attributes\":{},\"id\":\"67092\",\"type\":\"BasicTicker\"},{\"attributes\":{},\"id\":\"67087\",\"type\":\"BasicTicker\"},{\"attributes\":{\"ticker\":{\"id\":\"67087\",\"type\":\"BasicTicker\"}},\"id\":\"67090\",\"type\":\"Grid\"},{\"attributes\":{\"source\":{\"id\":\"63622\",\"type\":\"ColumnDataSource\"}},\"id\":\"67142\",\"type\":\"CDSView\"},{\"attributes\":{\"dimension\":1,\"ticker\":{\"id\":\"67092\",\"type\":\"BasicTicker\"}},\"id\":\"67095\",\"type\":\"Grid\"},{\"attributes\":{\"axis_label\":\"Sepal Width\",\"formatter\":{\"id\":\"67116\",\"type\":\"BasicTickFormatter\"},\"ticker\":{\"id\":\"67092\",\"type\":\"BasicTicker\"}},\"id\":\"67091\",\"type\":\"LinearAxis\"},{\"attributes\":{\"fill_alpha\":{\"value\":0.1},\"fill_color\":{\"value\":\"#1f77b4\"},\"line_alpha\":{\"value\":0.1},\"line_color\":{\"value\":\"#1f77b4\"},\"size\":{\"field\":\"size\",\"units\":\"screen\"},\"x\":{\"field\":\"sepal_length\"},\"y\":{\"field\":\"sepal_width\"}},\"id\":\"67111\",\"type\":\"Circle\"},{\"attributes\":{\"data_source\":{\"id\":\"63620\",\"type\":\"ColumnDataSource\"},\"glyph\":{\"id\":\"67110\",\"type\":\"Circle\"},\"hover_glyph\":null,\"muted_glyph\":null,\"nonselection_glyph\":{\"id\":\"67111\",\"type\":\"Circle\"},\"selection_glyph\":null,\"view\":{\"id\":\"67113\",\"type\":\"CDSView\"}},\"id\":\"67112\",\"type\":\"GlyphRenderer\"},{\"attributes\":{\"fill_alpha\":{\"value\":0.2},\"fill_color\":{\"field\":\"color\"},\"line_color\":{\"field\":\"color\"},\"size\":{\"field\":\"size\",\"units\":\"screen\"},\"x\":{\"field\":\"petal_length\"},\"y\":{\"field\":\"petal_width\"}},\"id\":\"63685\",\"type\":\"Circle\"},{\"attributes\":{},\"id\":\"64771\",\"type\":\"UnionRenderers\"},{\"attributes\":{},\"id\":\"64770\",\"type\":\"Selection\"},{\"attributes\":{},\"id\":\"67159\",\"type\":\"SaveTool\"},{\"attributes\":{\"source\":{\"id\":\"63620\",\"type\":\"ColumnDataSource\"}},\"id\":\"67113\",\"type\":\"CDSView\"},{\"attributes\":{\"bottom_units\":\"screen\",\"fill_alpha\":{\"value\":0.5},\"fill_color\":{\"value\":\"lightgrey\"},\"left_units\":\"screen\",\"level\":\"overlay\",\"line_alpha\":{\"value\":1.0},\"line_color\":{\"value\":\"black\"},\"line_dash\":[4,4],\"line_width\":{\"value\":2},\"render_mode\":\"css\",\"right_units\":\"screen\",\"top_units\":\"screen\"},\"id\":\"68241\",\"type\":\"BoxAnnotation\"},{\"attributes\":{\"fill_alpha\":{\"value\":0.1},\"fill_color\":{\"value\":\"#1f77b4\"},\"line_alpha\":{\"value\":0.1},\"line_color\":{\"value\":\"#1f77b4\"},\"size\":{\"field\":\"size\",\"units\":\"screen\"},\"x\":{\"field\":\"sepal_length\"},\"y\":{\"field\":\"sepal_width\"}},\"id\":\"67125\",\"type\":\"Circle\"},{\"attributes\":{\"fill_alpha\":{\"value\":0.2},\"fill_color\":{\"field\":\"color\"},\"line_color\":{\"field\":\"color\"},\"size\":{\"field\":\"size\",\"units\":\"screen\"},\"x\":{\"field\":\"sepal_length\"},\"y\":{\"field\":\"sepal_width\"}},\"id\":\"67110\",\"type\":\"Circle\"},{\"attributes\":{\"below\":[{\"id\":\"67086\",\"type\":\"LinearAxis\"}],\"center\":[{\"id\":\"67090\",\"type\":\"Grid\"},{\"id\":\"67095\",\"type\":\"Grid\"},{\"id\":\"67121\",\"type\":\"Legend\"}],\"left\":[{\"id\":\"67091\",\"type\":\"LinearAxis\"}],\"plot_height\":500,\"plot_width\":500,\"renderers\":[{\"id\":\"67112\",\"type\":\"GlyphRenderer\"},{\"id\":\"67126\",\"type\":\"GlyphRenderer\"},{\"id\":\"67141\",\"type\":\"GlyphRenderer\"}],\"title\":{\"id\":\"67115\",\"type\":\"Title\"},\"toolbar\":{\"id\":\"67102\",\"type\":\"Toolbar\"},\"toolbar_location\":\"above\",\"x_range\":{\"id\":\"67078\",\"type\":\"DataRange1d\"},\"x_scale\":{\"id\":\"67082\",\"type\":\"LinearScale\"},\"y_range\":{\"id\":\"67080\",\"type\":\"DataRange1d\"},\"y_scale\":{\"id\":\"67084\",\"type\":\"LinearScale\"}},\"id\":\"67077\",\"subtype\":\"Figure\",\"type\":\"Plot\"},{\"attributes\":{\"fill_alpha\":{\"value\":0.2},\"fill_color\":{\"field\":\"color\"},\"line_color\":{\"field\":\"color\"},\"size\":{\"field\":\"size\",\"units\":\"screen\"},\"x\":{\"field\":\"sepal_length\"},\"y\":{\"field\":\"sepal_width\"}},\"id\":\"67124\",\"type\":\"Circle\"},{\"attributes\":{\"text\":\"Sepal plot\"},\"id\":\"67115\",\"type\":\"Title\"},{\"attributes\":{\"callback\":null},\"id\":\"67078\",\"type\":\"DataRange1d\"},{\"attributes\":{},\"id\":\"63699\",\"type\":\"UnionRenderers\"},{\"attributes\":{\"callback\":null},\"id\":\"67080\",\"type\":\"DataRange1d\"},{\"attributes\":{},\"id\":\"63682\",\"type\":\"UnionRenderers\"},{\"attributes\":{\"callback\":null,\"tooltips\":[[\"Species\",\"@species\"],[\"Sepal Width\",\"@petal_width\"]]},\"id\":\"67161\",\"type\":\"HoverTool\"},{\"attributes\":{\"fill_alpha\":{\"value\":0.1},\"fill_color\":{\"value\":\"#1f77b4\"},\"line_alpha\":{\"value\":0.1},\"line_color\":{\"value\":\"#1f77b4\"},\"size\":{\"field\":\"size\",\"units\":\"screen\"},\"x\":{\"field\":\"petal_length\"},\"y\":{\"field\":\"petal_width\"}},\"id\":\"63686\",\"type\":\"Circle\"},{\"attributes\":{\"fill_alpha\":{\"value\":0.2},\"fill_color\":{\"field\":\"color\"},\"line_color\":{\"field\":\"color\"},\"size\":{\"field\":\"size\",\"units\":\"screen\"},\"x\":{\"field\":\"sepal_length\"},\"y\":{\"field\":\"sepal_width\"}},\"id\":\"67139\",\"type\":\"Circle\"},{\"attributes\":{\"source\":{\"id\":\"63622\",\"type\":\"ColumnDataSource\"}},\"id\":\"63688\",\"type\":\"CDSView\"},{\"attributes\":{\"source\":{\"id\":\"63621\",\"type\":\"ColumnDataSource\"}},\"id\":\"67127\",\"type\":\"CDSView\"},{\"attributes\":{\"data_source\":{\"id\":\"63622\",\"type\":\"ColumnDataSource\"},\"glyph\":{\"id\":\"63685\",\"type\":\"Circle\"},\"hover_glyph\":null,\"muted_glyph\":null,\"nonselection_glyph\":{\"id\":\"63686\",\"type\":\"Circle\"},\"selection_glyph\":null,\"view\":{\"id\":\"63688\",\"type\":\"CDSView\"}},\"id\":\"63687\",\"type\":\"GlyphRenderer\"},{\"attributes\":{\"overlay\":{\"id\":\"68241\",\"type\":\"BoxAnnotation\"}},\"id\":\"67158\",\"type\":\"BoxZoomTool\"},{\"attributes\":{\"active_drag\":\"auto\",\"active_inspect\":\"auto\",\"active_multi\":null,\"active_scroll\":\"auto\",\"active_tap\":\"auto\",\"logo\":null,\"tools\":[{\"id\":\"64850\",\"type\":\"PanTool\"},{\"id\":\"64851\",\"type\":\"ResetTool\"},{\"id\":\"64852\",\"type\":\"WheelZoomTool\"},{\"id\":\"64853\",\"type\":\"BoxZoomTool\"},{\"id\":\"64854\",\"type\":\"SaveTool\"},{\"id\":\"65926\",\"type\":\"HoverTool\"}]},\"id\":\"63648\",\"type\":\"Toolbar\"},{\"attributes\":{\"label\":{\"value\":\"Setosa\"},\"renderers\":[{\"id\":\"67112\",\"type\":\"GlyphRenderer\"}]},\"id\":\"67122\",\"type\":\"LegendItem\"},{\"attributes\":{\"callback\":null,\"data\":{\"color\":[\"red\",\"red\",\"red\",\"red\",\"red\",\"red\",\"red\",\"red\",\"red\",\"red\",\"red\",\"red\",\"red\",\"red\",\"red\",\"red\",\"red\",\"red\",\"red\",\"red\",\"red\",\"red\",\"red\",\"red\",\"red\",\"red\",\"red\",\"red\",\"red\",\"red\",\"red\",\"red\",\"red\",\"red\",\"red\",\"red\",\"red\",\"red\",\"red\",\"red\",\"red\",\"red\",\"red\",\"red\",\"red\",\"red\",\"red\",\"red\",\"red\",\"red\"],\"index\":[0,1,2,3,4,5,6,7,8,9,10,11,12,13,14,15,16,17,18,19,20,21,22,23,24,25,26,27,28,29,30,31,32,33,34,35,36,37,38,39,40,41,42,43,44,45,46,47,48,49],\"petal_length\":{\"__ndarray__\":\"ZmZmZmZm9j9mZmZmZmb2P83MzMzMzPQ/AAAAAAAA+D9mZmZmZmb2PzMzMzMzM/s/ZmZmZmZm9j8AAAAAAAD4P2ZmZmZmZvY/AAAAAAAA+D8AAAAAAAD4P5qZmZmZmfk/ZmZmZmZm9j+amZmZmZnxPzMzMzMzM/M/AAAAAAAA+D/NzMzMzMz0P2ZmZmZmZvY/MzMzMzMz+z8AAAAAAAD4PzMzMzMzM/s/AAAAAAAA+D8AAAAAAADwPzMzMzMzM/s/ZmZmZmZm/j+amZmZmZn5P5qZmZmZmfk/AAAAAAAA+D9mZmZmZmb2P5qZmZmZmfk/mpmZmZmZ+T8AAAAAAAD4PwAAAAAAAPg/ZmZmZmZm9j8AAAAAAAD4PzMzMzMzM/M/zczMzMzM9D9mZmZmZmb2P83MzMzMzPQ/AAAAAAAA+D/NzMzMzMz0P83MzMzMzPQ/zczMzMzM9D+amZmZmZn5P2ZmZmZmZv4/ZmZmZmZm9j+amZmZmZn5P2ZmZmZmZvY/AAAAAAAA+D9mZmZmZmb2Pw==\",\"dtype\":\"float64\",\"shape\":[50]},\"petal_width\":{\"__ndarray__\":\"mpmZmZmZyT+amZmZmZnJP5qZmZmZmck/mpmZmZmZyT+amZmZmZnJP5qZmZmZmdk/MzMzMzMz0z+amZmZmZnJP5qZmZmZmck/mpmZmZmZuT+amZmZmZnJP5qZmZmZmck/mpmZmZmZuT+amZmZmZm5P5qZmZmZmck/mpmZmZmZ2T+amZmZmZnZPzMzMzMzM9M/MzMzMzMz0z8zMzMzMzPTP5qZmZmZmck/mpmZmZmZ2T+amZmZmZnJPwAAAAAAAOA/mpmZmZmZyT+amZmZmZnJP5qZmZmZmdk/mpmZmZmZyT+amZmZmZnJP5qZmZmZmck/mpmZmZmZyT+amZmZmZnZP5qZmZmZmbk/mpmZmZmZyT+amZmZmZnJP5qZmZmZmck/mpmZmZmZyT+amZmZmZm5P5qZmZmZmck/mpmZmZmZyT8zMzMzMzPTPzMzMzMzM9M/mpmZmZmZyT8zMzMzMzPjP5qZmZmZmdk/MzMzMzMz0z+amZmZmZnJP5qZmZmZmck/mpmZmZmZyT+amZmZmZnJPw==\",\"dtype\":\"float64\",\"shape\":[50]},\"sepal_length\":{\"__ndarray__\":\"ZmZmZmZmFECamZmZmZkTQM3MzMzMzBJAZmZmZmZmEkAAAAAAAAAUQJqZmZmZmRVAZmZmZmZmEkAAAAAAAAAUQJqZmZmZmRFAmpmZmZmZE0CamZmZmZkVQDMzMzMzMxNAMzMzMzMzE0AzMzMzMzMRQDMzMzMzMxdAzczMzMzMFkCamZmZmZkVQGZmZmZmZhRAzczMzMzMFkBmZmZmZmYUQJqZmZmZmRVAZmZmZmZmFEBmZmZmZmYSQGZmZmZmZhRAMzMzMzMzE0AAAAAAAAAUQAAAAAAAABRAzczMzMzMFEDNzMzMzMwUQM3MzMzMzBJAMzMzMzMzE0CamZmZmZkVQM3MzMzMzBRAAAAAAAAAFkCamZmZmZkTQAAAAAAAABRAAAAAAAAAFkCamZmZmZkTQJqZmZmZmRFAZmZmZmZmFEAAAAAAAAAUQAAAAAAAABJAmpmZmZmZEUAAAAAAAAAUQGZmZmZmZhRAMzMzMzMzE0BmZmZmZmYUQGZmZmZmZhJAMzMzMzMzFUAAAAAAAAAUQA==\",\"dtype\":\"float64\",\"shape\":[50]},\"sepal_width\":{\"__ndarray__\":\"AAAAAAAADEAAAAAAAAAIQJqZmZmZmQlAzczMzMzMCEDNzMzMzMwMQDMzMzMzMw9AMzMzMzMzC0AzMzMzMzMLQDMzMzMzMwdAzczMzMzMCECamZmZmZkNQDMzMzMzMwtAAAAAAAAACEAAAAAAAAAIQAAAAAAAABBAmpmZmZmZEUAzMzMzMzMPQAAAAAAAAAxAZmZmZmZmDkBmZmZmZmYOQDMzMzMzMwtAmpmZmZmZDUDNzMzMzMwMQGZmZmZmZgpAMzMzMzMzC0AAAAAAAAAIQDMzMzMzMwtAAAAAAAAADEAzMzMzMzMLQJqZmZmZmQlAzczMzMzMCEAzMzMzMzMLQGZmZmZmZhBAzczMzMzMEEDNzMzMzMwIQJqZmZmZmQlAAAAAAAAADEDNzMzMzMwMQAAAAAAAAAhAMzMzMzMzC0AAAAAAAAAMQGZmZmZmZgJAmpmZmZmZCUAAAAAAAAAMQGZmZmZmZg5AAAAAAAAACEBmZmZmZmYOQJqZmZmZmQlAmpmZmZmZDUBmZmZmZmYKQA==\",\"dtype\":\"float64\",\"shape\":[50]},\"size\":{\"__ndarray__\":\"AAAAAACAMUAAAAAAAAAuQAAAAAAAADBAAAAAAAAAL0AAAAAAAAAyQAAAAAAAgDNAAAAAAAAAMUAAAAAAAAAxQAAAAAAAAC1AAAAAAAAAL0AAAAAAAIAyQAAAAAAAADFAAAAAAAAALkAAAAAAAAAuQAAAAAAAADRAAAAAAAAANkAAAAAAAIAzQAAAAAAAgDFAAAAAAAAAM0AAAAAAAAAzQAAAAAAAADFAAAAAAACAMkAAAAAAAAAyQAAAAAAAgDBAAAAAAAAAMUAAAAAAAAAuQAAAAAAAADFAAAAAAACAMUAAAAAAAAAxQAAAAAAAADBAAAAAAAAAL0AAAAAAAAAxQAAAAAAAgDRAAAAAAAAANUAAAAAAAAAvQAAAAAAAADBAAAAAAACAMUAAAAAAAAAyQAAAAAAAAC5AAAAAAAAAMUAAAAAAAIAxQAAAAAAAACdAAAAAAAAAMEAAAAAAAIAxQAAAAAAAADNAAAAAAAAALkAAAAAAAAAzQAAAAAAAADBAAAAAAACAMkAAAAAAAIAwQA==\",\"dtype\":\"float64\",\"shape\":[50]},\"species\":[\"setosa\",\"setosa\",\"setosa\",\"setosa\",\"setosa\",\"setosa\",\"setosa\",\"setosa\",\"setosa\",\"setosa\",\"setosa\",\"setosa\",\"setosa\",\"setosa\",\"setosa\",\"setosa\",\"setosa\",\"setosa\",\"setosa\",\"setosa\",\"setosa\",\"setosa\",\"setosa\",\"setosa\",\"setosa\",\"setosa\",\"setosa\",\"setosa\",\"setosa\",\"setosa\",\"setosa\",\"setosa\",\"setosa\",\"setosa\",\"setosa\",\"setosa\",\"setosa\",\"setosa\",\"setosa\",\"setosa\",\"setosa\",\"setosa\",\"setosa\",\"setosa\",\"setosa\",\"setosa\",\"setosa\",\"setosa\",\"setosa\",\"setosa\"]},\"selected\":{\"id\":\"63681\",\"type\":\"Selection\"},\"selection_policy\":{\"id\":\"63682\",\"type\":\"UnionRenderers\"}},\"id\":\"63620\",\"type\":\"ColumnDataSource\"},{\"attributes\":{\"text\":\"Petal plot\"},\"id\":\"63661\",\"type\":\"Title\"},{\"attributes\":{},\"id\":\"63630\",\"type\":\"LinearScale\"},{\"attributes\":{\"data_source\":{\"id\":\"63620\",\"type\":\"ColumnDataSource\"},\"glyph\":{\"id\":\"63656\",\"type\":\"Circle\"},\"hover_glyph\":null,\"muted_glyph\":null,\"nonselection_glyph\":{\"id\":\"63657\",\"type\":\"Circle\"},\"selection_glyph\":null,\"view\":{\"id\":\"63659\",\"type\":\"CDSView\"}},\"id\":\"63658\",\"type\":\"GlyphRenderer\"},{\"attributes\":{},\"id\":\"67157\",\"type\":\"WheelZoomTool\"},{\"attributes\":{\"label\":{\"value\":\"Virginica\"},\"renderers\":[{\"id\":\"67141\",\"type\":\"GlyphRenderer\"}]},\"id\":\"67154\",\"type\":\"LegendItem\"},{\"attributes\":{},\"id\":\"63664\",\"type\":\"BasicTickFormatter\"},{\"attributes\":{},\"id\":\"63698\",\"type\":\"Selection\"},{\"attributes\":{\"label\":{\"value\":\"Virginica\"},\"renderers\":[{\"id\":\"63687\",\"type\":\"GlyphRenderer\"}]},\"id\":\"63700\",\"type\":\"LegendItem\"},{\"attributes\":{\"data_source\":{\"id\":\"63622\",\"type\":\"ColumnDataSource\"},\"glyph\":{\"id\":\"67139\",\"type\":\"Circle\"},\"hover_glyph\":null,\"muted_glyph\":null,\"nonselection_glyph\":{\"id\":\"67140\",\"type\":\"Circle\"},\"selection_glyph\":null,\"view\":{\"id\":\"67142\",\"type\":\"CDSView\"}},\"id\":\"67141\",\"type\":\"GlyphRenderer\"},{\"attributes\":{\"fill_alpha\":{\"value\":0.2},\"fill_color\":{\"field\":\"color\"},\"line_color\":{\"field\":\"color\"},\"size\":{\"field\":\"size\",\"units\":\"screen\"},\"x\":{\"field\":\"petal_length\"},\"y\":{\"field\":\"petal_width\"}},\"id\":\"63670\",\"type\":\"Circle\"},{\"attributes\":{\"fill_alpha\":{\"value\":0.1},\"fill_color\":{\"value\":\"#1f77b4\"},\"line_alpha\":{\"value\":0.1},\"line_color\":{\"value\":\"#1f77b4\"},\"size\":{\"field\":\"size\",\"units\":\"screen\"},\"x\":{\"field\":\"petal_length\"},\"y\":{\"field\":\"petal_width\"}},\"id\":\"63671\",\"type\":\"Circle\"},{\"attributes\":{\"bottom_units\":\"screen\",\"fill_alpha\":{\"value\":0.5},\"fill_color\":{\"value\":\"lightgrey\"},\"left_units\":\"screen\",\"level\":\"overlay\",\"line_alpha\":{\"value\":1.0},\"line_color\":{\"value\":\"black\"},\"line_dash\":[4,4],\"line_width\":{\"value\":2},\"render_mode\":\"css\",\"right_units\":\"screen\",\"top_units\":\"screen\"},\"id\":\"65919\",\"type\":\"BoxAnnotation\"},{\"attributes\":{\"data_source\":{\"id\":\"63621\",\"type\":\"ColumnDataSource\"},\"glyph\":{\"id\":\"63670\",\"type\":\"Circle\"},\"hover_glyph\":null,\"muted_glyph\":null,\"nonselection_glyph\":{\"id\":\"63671\",\"type\":\"Circle\"},\"selection_glyph\":null,\"view\":{\"id\":\"63673\",\"type\":\"CDSView\"}},\"id\":\"63672\",\"type\":\"GlyphRenderer\"},{\"attributes\":{},\"id\":\"64854\",\"type\":\"SaveTool\"},{\"attributes\":{},\"id\":\"67155\",\"type\":\"PanTool\"},{\"attributes\":{\"dimension\":1,\"ticker\":{\"id\":\"63638\",\"type\":\"BasicTicker\"}},\"id\":\"63641\",\"type\":\"Grid\"},{\"attributes\":{\"source\":{\"id\":\"63621\",\"type\":\"ColumnDataSource\"}},\"id\":\"63673\",\"type\":\"CDSView\"},{\"attributes\":{\"fill_alpha\":{\"value\":0.1},\"fill_color\":{\"value\":\"#1f77b4\"},\"line_alpha\":{\"value\":0.1},\"line_color\":{\"value\":\"#1f77b4\"},\"size\":{\"field\":\"size\",\"units\":\"screen\"},\"x\":{\"field\":\"sepal_length\"},\"y\":{\"field\":\"sepal_width\"}},\"id\":\"67140\",\"type\":\"Circle\"},{\"attributes\":{\"click_policy\":\"hide\",\"items\":[{\"id\":\"67122\",\"type\":\"LegendItem\"},{\"id\":\"67137\",\"type\":\"LegendItem\"},{\"id\":\"67154\",\"type\":\"LegendItem\"}],\"location\":\"top_left\"},\"id\":\"67121\",\"type\":\"Legend\"},{\"attributes\":{\"fill_alpha\":{\"value\":0.1},\"fill_color\":{\"value\":\"#1f77b4\"},\"line_alpha\":{\"value\":0.1},\"line_color\":{\"value\":\"#1f77b4\"},\"size\":{\"field\":\"size\",\"units\":\"screen\"},\"x\":{\"field\":\"petal_length\"},\"y\":{\"field\":\"petal_width\"}},\"id\":\"63657\",\"type\":\"Circle\"},{\"attributes\":{},\"id\":\"63628\",\"type\":\"LinearScale\"},{\"attributes\":{\"callback\":null,\"data\":{\"color\":[\"blue\",\"blue\",\"blue\",\"blue\",\"blue\",\"blue\",\"blue\",\"blue\",\"blue\",\"blue\",\"blue\",\"blue\",\"blue\",\"blue\",\"blue\",\"blue\",\"blue\",\"blue\",\"blue\",\"blue\",\"blue\",\"blue\",\"blue\",\"blue\",\"blue\",\"blue\",\"blue\",\"blue\",\"blue\",\"blue\",\"blue\",\"blue\",\"blue\",\"blue\",\"blue\",\"blue\",\"blue\",\"blue\",\"blue\",\"blue\",\"blue\",\"blue\",\"blue\",\"blue\",\"blue\",\"blue\",\"blue\",\"blue\",\"blue\",\"blue\"],\"index\":[100,101,102,103,104,105,106,107,108,109,110,111,112,113,114,115,116,117,118,119,120,121,122,123,124,125,126,127,128,129,130,131,132,133,134,135,136,137,138,139,140,141,142,143,144,145,146,147,148,149],\"petal_length\":{\"__ndarray__\":\"AAAAAAAAGEBmZmZmZmYUQJqZmZmZmRdAZmZmZmZmFkAzMzMzMzMXQGZmZmZmZhpAAAAAAAAAEkAzMzMzMzMZQDMzMzMzMxdAZmZmZmZmGEBmZmZmZmYUQDMzMzMzMxVAAAAAAAAAFkAAAAAAAAAUQGZmZmZmZhRAMzMzMzMzFUAAAAAAAAAWQM3MzMzMzBpAmpmZmZmZG0AAAAAAAAAUQM3MzMzMzBZAmpmZmZmZE0DNzMzMzMwaQJqZmZmZmRNAzczMzMzMFkAAAAAAAAAYQDMzMzMzMxNAmpmZmZmZE0BmZmZmZmYWQDMzMzMzMxdAZmZmZmZmGECamZmZmZkZQGZmZmZmZhZAZmZmZmZmFEBmZmZmZmYWQGZmZmZmZhhAZmZmZmZmFkAAAAAAAAAWQDMzMzMzMxNAmpmZmZmZFUBmZmZmZmYWQGZmZmZmZhRAZmZmZmZmFECamZmZmZkXQM3MzMzMzBZAzczMzMzMFEAAAAAAAAAUQM3MzMzMzBRAmpmZmZmZFUBmZmZmZmYUQA==\",\"dtype\":\"float64\",\"shape\":[50]},\"petal_width\":{\"__ndarray__\":\"AAAAAAAABEBmZmZmZmb+P83MzMzMzABAzczMzMzM/D+amZmZmZkBQM3MzMzMzABAMzMzMzMz+z/NzMzMzMz8P83MzMzMzPw/AAAAAAAABEAAAAAAAAAAQGZmZmZmZv4/zczMzMzMAEAAAAAAAAAAQDMzMzMzMwNAZmZmZmZmAkDNzMzMzMz8P5qZmZmZmQFAZmZmZmZmAkAAAAAAAAD4P2ZmZmZmZgJAAAAAAAAAAEAAAAAAAAAAQM3MzMzMzPw/zczMzMzMAEDNzMzMzMz8P83MzMzMzPw/zczMzMzM/D/NzMzMzMwAQJqZmZmZmfk/ZmZmZmZm/j8AAAAAAAAAQJqZmZmZmQFAAAAAAAAA+D9mZmZmZmb2P2ZmZmZmZgJAMzMzMzMzA0DNzMzMzMz8P83MzMzMzPw/zczMzMzMAEAzMzMzMzMDQGZmZmZmZgJAZmZmZmZm/j9mZmZmZmYCQAAAAAAAAARAZmZmZmZmAkBmZmZmZmb+PwAAAAAAAABAZmZmZmZmAkDNzMzMzMz8Pw==\",\"dtype\":\"float64\",\"shape\":[50]},\"sepal_length\":{\"__ndarray__\":\"MzMzMzMzGUAzMzMzMzMXQGZmZmZmZhxAMzMzMzMzGUAAAAAAAAAaQGZmZmZmZh5AmpmZmZmZE0AzMzMzMzMdQM3MzMzMzBpAzczMzMzMHEAAAAAAAAAaQJqZmZmZmRlAMzMzMzMzG0DNzMzMzMwWQDMzMzMzMxdAmpmZmZmZGUAAAAAAAAAaQM3MzMzMzB5AzczMzMzMHkAAAAAAAAAYQJqZmZmZmRtAZmZmZmZmFkDNzMzMzMweQDMzMzMzMxlAzczMzMzMGkDNzMzMzMwcQM3MzMzMzBhAZmZmZmZmGECamZmZmZkZQM3MzMzMzBxAmpmZmZmZHUCamZmZmZkfQJqZmZmZmRlAMzMzMzMzGUBmZmZmZmYYQM3MzMzMzB5AMzMzMzMzGUCamZmZmZkZQAAAAAAAABhAmpmZmZmZG0DNzMzMzMwaQJqZmZmZmRtAMzMzMzMzF0AzMzMzMzMbQM3MzMzMzBpAzczMzMzMGkAzMzMzMzMZQAAAAAAAABpAzczMzMzMGECamZmZmZkXQA==\",\"dtype\":\"float64\",\"shape\":[50]},\"sepal_width\":{\"__ndarray__\":\"ZmZmZmZmCkCamZmZmZkFQAAAAAAAAAhAMzMzMzMzB0AAAAAAAAAIQAAAAAAAAAhAAAAAAAAABEAzMzMzMzMHQAAAAAAAAARAzczMzMzMDECamZmZmZkJQJqZmZmZmQVAAAAAAAAACEAAAAAAAAAEQGZmZmZmZgZAmpmZmZmZCUAAAAAAAAAIQGZmZmZmZg5AzczMzMzMBECamZmZmZkBQJqZmZmZmQlAZmZmZmZmBkBmZmZmZmYGQJqZmZmZmQVAZmZmZmZmCkCamZmZmZkJQGZmZmZmZgZAAAAAAAAACEBmZmZmZmYGQAAAAAAAAAhAZmZmZmZmBkBmZmZmZmYOQGZmZmZmZgZAZmZmZmZmBkDNzMzMzMwEQAAAAAAAAAhAMzMzMzMzC0DNzMzMzMwIQAAAAAAAAAhAzczMzMzMCEDNzMzMzMwIQM3MzMzMzAhAmpmZmZmZBUCamZmZmZkJQGZmZmZmZgpAAAAAAAAACEAAAAAAAAAEQAAAAAAAAAhAMzMzMzMzC0AAAAAAAAAIQA==\",\"dtype\":\"float64\",\"shape\":[50]},\"size\":{\"__ndarray__\":\"AAAAAACAMEAAAAAAAAArQAAAAAAAAC5AAAAAAAAALUAAAAAAAAAuQAAAAAAAAC5AAAAAAAAAKUAAAAAAAAAtQAAAAAAAAClAAAAAAAAAMkAAAAAAAAAwQAAAAAAAACtAAAAAAAAALkAAAAAAAAApQAAAAAAAACxAAAAAAAAAMEAAAAAAAAAuQAAAAAAAADNAAAAAAAAAKkAAAAAAAAAmQAAAAAAAADBAAAAAAAAALEAAAAAAAAAsQAAAAAAAACtAAAAAAACAMEAAAAAAAAAwQAAAAAAAACxAAAAAAAAALkAAAAAAAAAsQAAAAAAAAC5AAAAAAAAALEAAAAAAAAAzQAAAAAAAACxAAAAAAAAALEAAAAAAAAAqQAAAAAAAAC5AAAAAAAAAMUAAAAAAAAAvQAAAAAAAAC5AAAAAAAAAL0AAAAAAAAAvQAAAAAAAAC9AAAAAAAAAK0AAAAAAAAAwQAAAAAAAgDBAAAAAAAAALkAAAAAAAAApQAAAAAAAAC5AAAAAAAAAMUAAAAAAAAAuQA==\",\"dtype\":\"float64\",\"shape\":[50]},\"species\":[\"virginica\",\"virginica\",\"virginica\",\"virginica\",\"virginica\",\"virginica\",\"virginica\",\"virginica\",\"virginica\",\"virginica\",\"virginica\",\"virginica\",\"virginica\",\"virginica\",\"virginica\",\"virginica\",\"virginica\",\"virginica\",\"virginica\",\"virginica\",\"virginica\",\"virginica\",\"virginica\",\"virginica\",\"virginica\",\"virginica\",\"virginica\",\"virginica\",\"virginica\",\"virginica\",\"virginica\",\"virginica\",\"virginica\",\"virginica\",\"virginica\",\"virginica\",\"virginica\",\"virginica\",\"virginica\",\"virginica\",\"virginica\",\"virginica\",\"virginica\",\"virginica\",\"virginica\",\"virginica\",\"virginica\",\"virginica\",\"virginica\",\"virginica\"]},\"selected\":{\"id\":\"64770\",\"type\":\"Selection\"},\"selection_policy\":{\"id\":\"64771\",\"type\":\"UnionRenderers\"}},\"id\":\"63622\",\"type\":\"ColumnDataSource\"},{\"attributes\":{\"active_drag\":\"auto\",\"active_inspect\":\"auto\",\"active_multi\":null,\"active_scroll\":\"auto\",\"active_tap\":\"auto\",\"logo\":null,\"tools\":[{\"id\":\"67155\",\"type\":\"PanTool\"},{\"id\":\"67156\",\"type\":\"ResetTool\"},{\"id\":\"67157\",\"type\":\"WheelZoomTool\"},{\"id\":\"67158\",\"type\":\"BoxZoomTool\"},{\"id\":\"67159\",\"type\":\"SaveTool\"},{\"id\":\"67161\",\"type\":\"HoverTool\"}]},\"id\":\"67102\",\"type\":\"Toolbar\"},{\"attributes\":{\"callback\":null,\"tooltips\":[[\"Species\",\"@species\"],[\"Sepal Width\",\"@sepal_width\"]]},\"id\":\"65926\",\"type\":\"HoverTool\"},{\"attributes\":{\"label\":{\"value\":\"Versicolor\"},\"renderers\":[{\"id\":\"63672\",\"type\":\"GlyphRenderer\"}]},\"id\":\"63683\",\"type\":\"LegendItem\"},{\"attributes\":{\"label\":{\"value\":\"Versicolor\"},\"renderers\":[{\"id\":\"67126\",\"type\":\"GlyphRenderer\"}]},\"id\":\"67137\",\"type\":\"LegendItem\"},{\"attributes\":{\"below\":[{\"id\":\"63632\",\"type\":\"LinearAxis\"}],\"center\":[{\"id\":\"63636\",\"type\":\"Grid\"},{\"id\":\"63641\",\"type\":\"Grid\"},{\"id\":\"63667\",\"type\":\"Legend\"}],\"left\":[{\"id\":\"63637\",\"type\":\"LinearAxis\"}],\"plot_height\":500,\"plot_width\":500,\"renderers\":[{\"id\":\"63658\",\"type\":\"GlyphRenderer\"},{\"id\":\"63672\",\"type\":\"GlyphRenderer\"},{\"id\":\"63687\",\"type\":\"GlyphRenderer\"}],\"title\":{\"id\":\"63661\",\"type\":\"Title\"},\"toolbar\":{\"id\":\"63648\",\"type\":\"Toolbar\"},\"toolbar_location\":\"above\",\"x_range\":{\"id\":\"63624\",\"type\":\"DataRange1d\"},\"x_scale\":{\"id\":\"63628\",\"type\":\"LinearScale\"},\"y_range\":{\"id\":\"63626\",\"type\":\"DataRange1d\"},\"y_scale\":{\"id\":\"63630\",\"type\":\"LinearScale\"}},\"id\":\"63623\",\"subtype\":\"Figure\",\"type\":\"Plot\"},{\"attributes\":{},\"id\":\"63681\",\"type\":\"Selection\"},{\"attributes\":{},\"id\":\"67116\",\"type\":\"BasicTickFormatter\"},{\"attributes\":{\"fill_alpha\":{\"value\":0.2},\"fill_color\":{\"field\":\"color\"},\"line_color\":{\"field\":\"color\"},\"size\":{\"field\":\"size\",\"units\":\"screen\"},\"x\":{\"field\":\"petal_length\"},\"y\":{\"field\":\"petal_width\"}},\"id\":\"63656\",\"type\":\"Circle\"},{\"attributes\":{\"label\":{\"value\":\"Setosa\"},\"renderers\":[{\"id\":\"63658\",\"type\":\"GlyphRenderer\"}]},\"id\":\"63668\",\"type\":\"LegendItem\"},{\"attributes\":{\"axis_label\":\"Petal Width\",\"formatter\":{\"id\":\"63662\",\"type\":\"BasicTickFormatter\"},\"ticker\":{\"id\":\"63638\",\"type\":\"BasicTicker\"}},\"id\":\"63637\",\"type\":\"LinearAxis\"},{\"attributes\":{\"overlay\":{\"id\":\"65919\",\"type\":\"BoxAnnotation\"}},\"id\":\"64853\",\"type\":\"BoxZoomTool\"},{\"attributes\":{\"source\":{\"id\":\"63620\",\"type\":\"ColumnDataSource\"}},\"id\":\"63659\",\"type\":\"CDSView\"},{\"attributes\":{},\"id\":\"63662\",\"type\":\"BasicTickFormatter\"},{\"attributes\":{},\"id\":\"64852\",\"type\":\"WheelZoomTool\"},{\"attributes\":{\"callback\":null,\"data\":{\"color\":[\"green\",\"green\",\"green\",\"green\",\"green\",\"green\",\"green\",\"green\",\"green\",\"green\",\"green\",\"green\",\"green\",\"green\",\"green\",\"green\",\"green\",\"green\",\"green\",\"green\",\"green\",\"green\",\"green\",\"green\",\"green\",\"green\",\"green\",\"green\",\"green\",\"green\",\"green\",\"green\",\"green\",\"green\",\"green\",\"green\",\"green\",\"green\",\"green\",\"green\",\"green\",\"green\",\"green\",\"green\",\"green\",\"green\",\"green\",\"green\",\"green\",\"green\"],\"index\":[50,51,52,53,54,55,56,57,58,59,60,61,62,63,64,65,66,67,68,69,70,71,72,73,74,75,76,77,78,79,80,81,82,83,84,85,86,87,88,89,90,91,92,93,94,95,96,97,98,99],\"petal_length\":{\"__ndarray__\":\"zczMzMzMEkAAAAAAAAASQJqZmZmZmRNAAAAAAAAAEEBmZmZmZmYSQAAAAAAAABJAzczMzMzMEkBmZmZmZmYKQGZmZmZmZhJAMzMzMzMzD0AAAAAAAAAMQM3MzMzMzBBAAAAAAAAAEEDNzMzMzMwSQM3MzMzMzAxAmpmZmZmZEUAAAAAAAAASQGZmZmZmZhBAAAAAAAAAEkAzMzMzMzMPQDMzMzMzMxNAAAAAAAAAEECamZmZmZkTQM3MzMzMzBJAMzMzMzMzEUCamZmZmZkRQDMzMzMzMxNAAAAAAAAAFEAAAAAAAAASQAAAAAAAAAxAZmZmZmZmDkCamZmZmZkNQDMzMzMzMw9AZmZmZmZmFEAAAAAAAAASQAAAAAAAABJAzczMzMzMEkCamZmZmZkRQGZmZmZmZhBAAAAAAAAAEECamZmZmZkRQGZmZmZmZhJAAAAAAAAAEEBmZmZmZmYKQM3MzMzMzBBAzczMzMzMEEDNzMzMzMwQQDMzMzMzMxFAAAAAAAAACEBmZmZmZmYQQA==\",\"dtype\":\"float64\",\"shape\":[50]},\"petal_width\":{\"__ndarray__\":\"ZmZmZmZm9j8AAAAAAAD4PwAAAAAAAPg/zczMzMzM9D8AAAAAAAD4P83MzMzMzPQ/mpmZmZmZ+T8AAAAAAADwP83MzMzMzPQ/ZmZmZmZm9j8AAAAAAADwPwAAAAAAAPg/AAAAAAAA8D9mZmZmZmb2P83MzMzMzPQ/ZmZmZmZm9j8AAAAAAAD4PwAAAAAAAPA/AAAAAAAA+D+amZmZmZnxP83MzMzMzPw/zczMzMzM9D8AAAAAAAD4PzMzMzMzM/M/zczMzMzM9D9mZmZmZmb2P2ZmZmZmZvY/MzMzMzMz+z8AAAAAAAD4PwAAAAAAAPA/mpmZmZmZ8T8AAAAAAADwPzMzMzMzM/M/mpmZmZmZ+T8AAAAAAAD4P5qZmZmZmfk/AAAAAAAA+D/NzMzMzMz0P83MzMzMzPQ/zczMzMzM9D8zMzMzMzPzP2ZmZmZmZvY/MzMzMzMz8z8AAAAAAADwP83MzMzMzPQ/MzMzMzMz8z/NzMzMzMz0P83MzMzMzPQ/mpmZmZmZ8T/NzMzMzMz0Pw==\",\"dtype\":\"float64\",\"shape\":[50]},\"sepal_length\":{\"__ndarray__\":\"AAAAAAAAHECamZmZmZkZQJqZmZmZmRtAAAAAAAAAFkAAAAAAAAAaQM3MzMzMzBZAMzMzMzMzGUCamZmZmZkTQGZmZmZmZhpAzczMzMzMFEAAAAAAAAAUQJqZmZmZmRdAAAAAAAAAGEBmZmZmZmYYQGZmZmZmZhZAzczMzMzMGkBmZmZmZmYWQDMzMzMzMxdAzczMzMzMGEBmZmZmZmYWQJqZmZmZmRdAZmZmZmZmGEAzMzMzMzMZQGZmZmZmZhhAmpmZmZmZGUBmZmZmZmYaQDMzMzMzMxtAzczMzMzMGkAAAAAAAAAYQM3MzMzMzBZAAAAAAAAAFkAAAAAAAAAWQDMzMzMzMxdAAAAAAAAAGECamZmZmZkVQAAAAAAAABhAzczMzMzMGkAzMzMzMzMZQGZmZmZmZhZAAAAAAAAAFkAAAAAAAAAWQGZmZmZmZhhAMzMzMzMzF0AAAAAAAAAUQGZmZmZmZhZAzczMzMzMFkDNzMzMzMwWQM3MzMzMzBhAZmZmZmZmFEDNzMzMzMwWQA==\",\"dtype\":\"float64\",\"shape\":[50]},\"sepal_width\":{\"__ndarray__\":\"mpmZmZmZCUCamZmZmZkJQM3MzMzMzAhAZmZmZmZmAkBmZmZmZmYGQGZmZmZmZgZAZmZmZmZmCkAzMzMzMzMDQDMzMzMzMwdAmpmZmZmZBUAAAAAAAAAAQAAAAAAAAAhAmpmZmZmZAUAzMzMzMzMHQDMzMzMzMwdAzczMzMzMCEAAAAAAAAAIQJqZmZmZmQVAmpmZmZmZAUAAAAAAAAAEQJqZmZmZmQlAZmZmZmZmBkAAAAAAAAAEQGZmZmZmZgZAMzMzMzMzB0AAAAAAAAAIQGZmZmZmZgZAAAAAAAAACEAzMzMzMzMHQM3MzMzMzARAMzMzMzMzA0AzMzMzMzMDQJqZmZmZmQVAmpmZmZmZBUAAAAAAAAAIQDMzMzMzMwtAzczMzMzMCEBmZmZmZmYCQAAAAAAAAAhAAAAAAAAABEDNzMzMzMwEQAAAAAAAAAhAzczMzMzMBEBmZmZmZmYCQJqZmZmZmQVAAAAAAAAACEAzMzMzMzMHQDMzMzMzMwdAAAAAAAAABEBmZmZmZmYGQA==\",\"dtype\":\"float64\",\"shape\":[50]},\"size\":{\"__ndarray__\":\"AAAAAAAAMEAAAAAAAAAwQAAAAAAAAC9AAAAAAAAAJ0AAAAAAAAAsQAAAAAAAACxAAAAAAACAMEAAAAAAAAAoQAAAAAAAAC1AAAAAAAAAK0AAAAAAAAAkQAAAAAAAAC5AAAAAAAAAJkAAAAAAAAAtQAAAAAAAAC1AAAAAAAAAL0AAAAAAAAAuQAAAAAAAACtAAAAAAAAAJkAAAAAAAAApQAAAAAAAADBAAAAAAAAALEAAAAAAAAApQAAAAAAAACxAAAAAAAAALUAAAAAAAAAuQAAAAAAAACxAAAAAAAAALkAAAAAAAAAtQAAAAAAAACpAAAAAAAAAKEAAAAAAAAAoQAAAAAAAACtAAAAAAAAAK0AAAAAAAAAuQAAAAAAAADFAAAAAAAAAL0AAAAAAAAAnQAAAAAAAAC5AAAAAAAAAKUAAAAAAAAAqQAAAAAAAAC5AAAAAAAAAKkAAAAAAAAAnQAAAAAAAACtAAAAAAAAALkAAAAAAAAAtQAAAAAAAAC1AAAAAAAAAKUAAAAAAAAAsQA==\",\"dtype\":\"float64\",\"shape\":[50]},\"species\":[\"versicolor\",\"versicolor\",\"versicolor\",\"versicolor\",\"versicolor\",\"versicolor\",\"versicolor\",\"versicolor\",\"versicolor\",\"versicolor\",\"versicolor\",\"versicolor\",\"versicolor\",\"versicolor\",\"versicolor\",\"versicolor\",\"versicolor\",\"versicolor\",\"versicolor\",\"versicolor\",\"versicolor\",\"versicolor\",\"versicolor\",\"versicolor\",\"versicolor\",\"versicolor\",\"versicolor\",\"versicolor\",\"versicolor\",\"versicolor\",\"versicolor\",\"versicolor\",\"versicolor\",\"versicolor\",\"versicolor\",\"versicolor\",\"versicolor\",\"versicolor\",\"versicolor\",\"versicolor\",\"versicolor\",\"versicolor\",\"versicolor\",\"versicolor\",\"versicolor\",\"versicolor\",\"versicolor\",\"versicolor\",\"versicolor\",\"versicolor\"]},\"selected\":{\"id\":\"63698\",\"type\":\"Selection\"},\"selection_policy\":{\"id\":\"63699\",\"type\":\"UnionRenderers\"}},\"id\":\"63621\",\"type\":\"ColumnDataSource\"},{\"attributes\":{},\"id\":\"64851\",\"type\":\"ResetTool\"},{\"attributes\":{\"callback\":null},\"id\":\"63626\",\"type\":\"DataRange1d\"},{\"attributes\":{\"click_policy\":\"hide\",\"items\":[{\"id\":\"63668\",\"type\":\"LegendItem\"},{\"id\":\"63683\",\"type\":\"LegendItem\"},{\"id\":\"63700\",\"type\":\"LegendItem\"}],\"location\":\"top_left\"},\"id\":\"63667\",\"type\":\"Legend\"},{\"attributes\":{},\"id\":\"64850\",\"type\":\"PanTool\"},{\"attributes\":{},\"id\":\"67156\",\"type\":\"ResetTool\"},{\"attributes\":{\"data_source\":{\"id\":\"63621\",\"type\":\"ColumnDataSource\"},\"glyph\":{\"id\":\"67124\",\"type\":\"Circle\"},\"hover_glyph\":null,\"muted_glyph\":null,\"nonselection_glyph\":{\"id\":\"67125\",\"type\":\"Circle\"},\"selection_glyph\":null,\"view\":{\"id\":\"67127\",\"type\":\"CDSView\"}},\"id\":\"67126\",\"type\":\"GlyphRenderer\"},{\"attributes\":{},\"id\":\"63633\",\"type\":\"BasicTicker\"},{\"attributes\":{},\"id\":\"67118\",\"type\":\"BasicTickFormatter\"},{\"attributes\":{},\"id\":\"63638\",\"type\":\"BasicTicker\"},{\"attributes\":{\"callback\":null},\"id\":\"63624\",\"type\":\"DataRange1d\"},{\"attributes\":{\"axis_label\":\"Petal Length\",\"formatter\":{\"id\":\"63664\",\"type\":\"BasicTickFormatter\"},\"ticker\":{\"id\":\"63633\",\"type\":\"BasicTicker\"}},\"id\":\"63632\",\"type\":\"LinearAxis\"},{\"attributes\":{\"ticker\":{\"id\":\"63633\",\"type\":\"BasicTicker\"}},\"id\":\"63636\",\"type\":\"Grid\"}],\"root_ids\":[\"69556\"]},\"title\":\"Bokeh Application\",\"version\":\"1.3.4\"}};\n",
       "  var render_items = [{\"docid\":\"dcba670a-75cd-44ec-9157-ef89a3d9c8d3\",\"roots\":{\"69556\":\"d854d69d-179b-47b9-ad2d-853083cf3991\"}}];\n",
       "  root.Bokeh.embed.embed_items_notebook(docs_json, render_items);\n",
       "\n",
       "  }\n",
       "  if (root.Bokeh !== undefined) {\n",
       "    embed_document(root);\n",
       "  } else {\n",
       "    var attempts = 0;\n",
       "    var timer = setInterval(function(root) {\n",
       "      if (root.Bokeh !== undefined) {\n",
       "        embed_document(root);\n",
       "        clearInterval(timer);\n",
       "      }\n",
       "      attempts++;\n",
       "      if (attempts > 100) {\n",
       "        console.log(\"Bokeh: ERROR: Unable to run BokehJS code because BokehJS library is missing\");\n",
       "        clearInterval(timer);\n",
       "      }\n",
       "    }, 10, root)\n",
       "  }\n",
       "})(window);"
      ],
      "application/vnd.bokehjs_exec.v0+json": ""
     },
     "metadata": {
      "application/vnd.bokehjs_exec.v0+json": {
       "id": "69556"
      }
     },
     "output_type": "display_data"
    }
   ],
   "source": [
    "from bokeh.layouts import row\n",
    "show(row(p, p2))"
   ]
  },
  {
   "cell_type": "code",
   "execution_count": 191,
   "metadata": {},
   "outputs": [
    {
     "data": {
      "text/html": [
       "\n",
       "\n",
       "\n",
       "\n",
       "\n",
       "\n",
       "  <div class=\"bk-root\" id=\"f22d5b5a-460d-4b71-aa7e-3f75e34f95de\" data-root-id=\"70837\"></div>\n"
      ]
     },
     "metadata": {},
     "output_type": "display_data"
    },
    {
     "data": {
      "application/javascript": [
       "(function(root) {\n",
       "  function embed_document(root) {\n",
       "    \n",
       "  var docs_json = {\"80283f2e-f8ea-4f96-bf94-301eeaac0045\":{\"roots\":{\"references\":[{\"attributes\":{\"children\":[{\"id\":\"70834\",\"type\":\"GridBox\"},{\"id\":\"70836\",\"type\":\"ToolbarBox\"}]},\"id\":\"70837\",\"type\":\"Row\"},{\"attributes\":{},\"id\":\"67082\",\"type\":\"LinearScale\"},{\"attributes\":{},\"id\":\"67084\",\"type\":\"LinearScale\"},{\"attributes\":{\"axis_label\":\"Sepal Length\",\"formatter\":{\"id\":\"67118\",\"type\":\"BasicTickFormatter\"},\"ticker\":{\"id\":\"67087\",\"type\":\"BasicTicker\"}},\"id\":\"67086\",\"type\":\"LinearAxis\"},{\"attributes\":{},\"id\":\"67092\",\"type\":\"BasicTicker\"},{\"attributes\":{},\"id\":\"67087\",\"type\":\"BasicTicker\"},{\"attributes\":{\"ticker\":{\"id\":\"67087\",\"type\":\"BasicTicker\"}},\"id\":\"67090\",\"type\":\"Grid\"},{\"attributes\":{\"source\":{\"id\":\"63622\",\"type\":\"ColumnDataSource\"}},\"id\":\"67142\",\"type\":\"CDSView\"},{\"attributes\":{\"dimension\":1,\"ticker\":{\"id\":\"67092\",\"type\":\"BasicTicker\"}},\"id\":\"67095\",\"type\":\"Grid\"},{\"attributes\":{\"axis_label\":\"Sepal Width\",\"formatter\":{\"id\":\"67116\",\"type\":\"BasicTickFormatter\"},\"ticker\":{\"id\":\"67092\",\"type\":\"BasicTicker\"}},\"id\":\"67091\",\"type\":\"LinearAxis\"},{\"attributes\":{\"fill_alpha\":{\"value\":0.1},\"fill_color\":{\"value\":\"#1f77b4\"},\"line_alpha\":{\"value\":0.1},\"line_color\":{\"value\":\"#1f77b4\"},\"size\":{\"field\":\"size\",\"units\":\"screen\"},\"x\":{\"field\":\"sepal_length\"},\"y\":{\"field\":\"sepal_width\"}},\"id\":\"67111\",\"type\":\"Circle\"},{\"attributes\":{\"data_source\":{\"id\":\"63620\",\"type\":\"ColumnDataSource\"},\"glyph\":{\"id\":\"67110\",\"type\":\"Circle\"},\"hover_glyph\":null,\"muted_glyph\":null,\"nonselection_glyph\":{\"id\":\"67111\",\"type\":\"Circle\"},\"selection_glyph\":null,\"view\":{\"id\":\"67113\",\"type\":\"CDSView\"}},\"id\":\"67112\",\"type\":\"GlyphRenderer\"},{\"attributes\":{\"fill_alpha\":{\"value\":0.2},\"fill_color\":{\"field\":\"color\"},\"line_color\":{\"field\":\"color\"},\"size\":{\"field\":\"size\",\"units\":\"screen\"},\"x\":{\"field\":\"petal_length\"},\"y\":{\"field\":\"petal_width\"}},\"id\":\"63685\",\"type\":\"Circle\"},{\"attributes\":{},\"id\":\"64771\",\"type\":\"UnionRenderers\"},{\"attributes\":{},\"id\":\"64770\",\"type\":\"Selection\"},{\"attributes\":{},\"id\":\"67159\",\"type\":\"SaveTool\"},{\"attributes\":{\"source\":{\"id\":\"63620\",\"type\":\"ColumnDataSource\"}},\"id\":\"67113\",\"type\":\"CDSView\"},{\"attributes\":{\"bottom_units\":\"screen\",\"fill_alpha\":{\"value\":0.5},\"fill_color\":{\"value\":\"lightgrey\"},\"left_units\":\"screen\",\"level\":\"overlay\",\"line_alpha\":{\"value\":1.0},\"line_color\":{\"value\":\"black\"},\"line_dash\":[4,4],\"line_width\":{\"value\":2},\"render_mode\":\"css\",\"right_units\":\"screen\",\"top_units\":\"screen\"},\"id\":\"68241\",\"type\":\"BoxAnnotation\"},{\"attributes\":{\"fill_alpha\":{\"value\":0.1},\"fill_color\":{\"value\":\"#1f77b4\"},\"line_alpha\":{\"value\":0.1},\"line_color\":{\"value\":\"#1f77b4\"},\"size\":{\"field\":\"size\",\"units\":\"screen\"},\"x\":{\"field\":\"sepal_length\"},\"y\":{\"field\":\"sepal_width\"}},\"id\":\"67125\",\"type\":\"Circle\"},{\"attributes\":{\"tools\":[{\"id\":\"64850\",\"type\":\"PanTool\"},{\"id\":\"64851\",\"type\":\"ResetTool\"},{\"id\":\"64852\",\"type\":\"WheelZoomTool\"},{\"id\":\"64853\",\"type\":\"BoxZoomTool\"},{\"id\":\"64854\",\"type\":\"SaveTool\"},{\"id\":\"65926\",\"type\":\"HoverTool\"},{\"id\":\"67155\",\"type\":\"PanTool\"},{\"id\":\"67156\",\"type\":\"ResetTool\"},{\"id\":\"67157\",\"type\":\"WheelZoomTool\"},{\"id\":\"67158\",\"type\":\"BoxZoomTool\"},{\"id\":\"67159\",\"type\":\"SaveTool\"},{\"id\":\"67161\",\"type\":\"HoverTool\"}]},\"id\":\"70835\",\"type\":\"ProxyToolbar\"},{\"attributes\":{\"toolbar\":{\"id\":\"70835\",\"type\":\"ProxyToolbar\"}},\"id\":\"70836\",\"type\":\"ToolbarBox\"},{\"attributes\":{\"fill_alpha\":{\"value\":0.2},\"fill_color\":{\"field\":\"color\"},\"line_color\":{\"field\":\"color\"},\"size\":{\"field\":\"size\",\"units\":\"screen\"},\"x\":{\"field\":\"sepal_length\"},\"y\":{\"field\":\"sepal_width\"}},\"id\":\"67110\",\"type\":\"Circle\"},{\"attributes\":{\"below\":[{\"id\":\"67086\",\"type\":\"LinearAxis\"}],\"center\":[{\"id\":\"67090\",\"type\":\"Grid\"},{\"id\":\"67095\",\"type\":\"Grid\"},{\"id\":\"67121\",\"type\":\"Legend\"}],\"left\":[{\"id\":\"67091\",\"type\":\"LinearAxis\"}],\"plot_height\":500,\"plot_width\":500,\"renderers\":[{\"id\":\"67112\",\"type\":\"GlyphRenderer\"},{\"id\":\"67126\",\"type\":\"GlyphRenderer\"},{\"id\":\"67141\",\"type\":\"GlyphRenderer\"}],\"title\":{\"id\":\"67115\",\"type\":\"Title\"},\"toolbar\":{\"id\":\"67102\",\"type\":\"Toolbar\"},\"toolbar_location\":null,\"x_range\":{\"id\":\"67078\",\"type\":\"DataRange1d\"},\"x_scale\":{\"id\":\"67082\",\"type\":\"LinearScale\"},\"y_range\":{\"id\":\"67080\",\"type\":\"DataRange1d\"},\"y_scale\":{\"id\":\"67084\",\"type\":\"LinearScale\"}},\"id\":\"67077\",\"subtype\":\"Figure\",\"type\":\"Plot\"},{\"attributes\":{\"fill_alpha\":{\"value\":0.2},\"fill_color\":{\"field\":\"color\"},\"line_color\":{\"field\":\"color\"},\"size\":{\"field\":\"size\",\"units\":\"screen\"},\"x\":{\"field\":\"sepal_length\"},\"y\":{\"field\":\"sepal_width\"}},\"id\":\"67124\",\"type\":\"Circle\"},{\"attributes\":{\"text\":\"Sepal plot\"},\"id\":\"67115\",\"type\":\"Title\"},{\"attributes\":{\"callback\":null},\"id\":\"67078\",\"type\":\"DataRange1d\"},{\"attributes\":{},\"id\":\"63699\",\"type\":\"UnionRenderers\"},{\"attributes\":{\"children\":[[{\"id\":\"63623\",\"subtype\":\"Figure\",\"type\":\"Plot\"},0,0],[{\"id\":\"67077\",\"subtype\":\"Figure\",\"type\":\"Plot\"},0,1]]},\"id\":\"70834\",\"type\":\"GridBox\"},{\"attributes\":{\"callback\":null},\"id\":\"67080\",\"type\":\"DataRange1d\"},{\"attributes\":{},\"id\":\"63682\",\"type\":\"UnionRenderers\"},{\"attributes\":{\"callback\":null,\"tooltips\":[[\"Species\",\"@species\"],[\"Sepal Width\",\"@petal_width\"]]},\"id\":\"67161\",\"type\":\"HoverTool\"},{\"attributes\":{\"fill_alpha\":{\"value\":0.1},\"fill_color\":{\"value\":\"#1f77b4\"},\"line_alpha\":{\"value\":0.1},\"line_color\":{\"value\":\"#1f77b4\"},\"size\":{\"field\":\"size\",\"units\":\"screen\"},\"x\":{\"field\":\"petal_length\"},\"y\":{\"field\":\"petal_width\"}},\"id\":\"63686\",\"type\":\"Circle\"},{\"attributes\":{\"fill_alpha\":{\"value\":0.2},\"fill_color\":{\"field\":\"color\"},\"line_color\":{\"field\":\"color\"},\"size\":{\"field\":\"size\",\"units\":\"screen\"},\"x\":{\"field\":\"sepal_length\"},\"y\":{\"field\":\"sepal_width\"}},\"id\":\"67139\",\"type\":\"Circle\"},{\"attributes\":{\"source\":{\"id\":\"63622\",\"type\":\"ColumnDataSource\"}},\"id\":\"63688\",\"type\":\"CDSView\"},{\"attributes\":{\"source\":{\"id\":\"63621\",\"type\":\"ColumnDataSource\"}},\"id\":\"67127\",\"type\":\"CDSView\"},{\"attributes\":{\"data_source\":{\"id\":\"63622\",\"type\":\"ColumnDataSource\"},\"glyph\":{\"id\":\"63685\",\"type\":\"Circle\"},\"hover_glyph\":null,\"muted_glyph\":null,\"nonselection_glyph\":{\"id\":\"63686\",\"type\":\"Circle\"},\"selection_glyph\":null,\"view\":{\"id\":\"63688\",\"type\":\"CDSView\"}},\"id\":\"63687\",\"type\":\"GlyphRenderer\"},{\"attributes\":{\"overlay\":{\"id\":\"68241\",\"type\":\"BoxAnnotation\"}},\"id\":\"67158\",\"type\":\"BoxZoomTool\"},{\"attributes\":{\"active_drag\":\"auto\",\"active_inspect\":\"auto\",\"active_multi\":null,\"active_scroll\":\"auto\",\"active_tap\":\"auto\",\"logo\":null,\"tools\":[{\"id\":\"64850\",\"type\":\"PanTool\"},{\"id\":\"64851\",\"type\":\"ResetTool\"},{\"id\":\"64852\",\"type\":\"WheelZoomTool\"},{\"id\":\"64853\",\"type\":\"BoxZoomTool\"},{\"id\":\"64854\",\"type\":\"SaveTool\"},{\"id\":\"65926\",\"type\":\"HoverTool\"}]},\"id\":\"63648\",\"type\":\"Toolbar\"},{\"attributes\":{\"label\":{\"value\":\"Setosa\"},\"renderers\":[{\"id\":\"67112\",\"type\":\"GlyphRenderer\"}]},\"id\":\"67122\",\"type\":\"LegendItem\"},{\"attributes\":{\"callback\":null,\"data\":{\"color\":[\"red\",\"red\",\"red\",\"red\",\"red\",\"red\",\"red\",\"red\",\"red\",\"red\",\"red\",\"red\",\"red\",\"red\",\"red\",\"red\",\"red\",\"red\",\"red\",\"red\",\"red\",\"red\",\"red\",\"red\",\"red\",\"red\",\"red\",\"red\",\"red\",\"red\",\"red\",\"red\",\"red\",\"red\",\"red\",\"red\",\"red\",\"red\",\"red\",\"red\",\"red\",\"red\",\"red\",\"red\",\"red\",\"red\",\"red\",\"red\",\"red\",\"red\"],\"index\":[0,1,2,3,4,5,6,7,8,9,10,11,12,13,14,15,16,17,18,19,20,21,22,23,24,25,26,27,28,29,30,31,32,33,34,35,36,37,38,39,40,41,42,43,44,45,46,47,48,49],\"petal_length\":{\"__ndarray__\":\"ZmZmZmZm9j9mZmZmZmb2P83MzMzMzPQ/AAAAAAAA+D9mZmZmZmb2PzMzMzMzM/s/ZmZmZmZm9j8AAAAAAAD4P2ZmZmZmZvY/AAAAAAAA+D8AAAAAAAD4P5qZmZmZmfk/ZmZmZmZm9j+amZmZmZnxPzMzMzMzM/M/AAAAAAAA+D/NzMzMzMz0P2ZmZmZmZvY/MzMzMzMz+z8AAAAAAAD4PzMzMzMzM/s/AAAAAAAA+D8AAAAAAADwPzMzMzMzM/s/ZmZmZmZm/j+amZmZmZn5P5qZmZmZmfk/AAAAAAAA+D9mZmZmZmb2P5qZmZmZmfk/mpmZmZmZ+T8AAAAAAAD4PwAAAAAAAPg/ZmZmZmZm9j8AAAAAAAD4PzMzMzMzM/M/zczMzMzM9D9mZmZmZmb2P83MzMzMzPQ/AAAAAAAA+D/NzMzMzMz0P83MzMzMzPQ/zczMzMzM9D+amZmZmZn5P2ZmZmZmZv4/ZmZmZmZm9j+amZmZmZn5P2ZmZmZmZvY/AAAAAAAA+D9mZmZmZmb2Pw==\",\"dtype\":\"float64\",\"shape\":[50]},\"petal_width\":{\"__ndarray__\":\"mpmZmZmZyT+amZmZmZnJP5qZmZmZmck/mpmZmZmZyT+amZmZmZnJP5qZmZmZmdk/MzMzMzMz0z+amZmZmZnJP5qZmZmZmck/mpmZmZmZuT+amZmZmZnJP5qZmZmZmck/mpmZmZmZuT+amZmZmZm5P5qZmZmZmck/mpmZmZmZ2T+amZmZmZnZPzMzMzMzM9M/MzMzMzMz0z8zMzMzMzPTP5qZmZmZmck/mpmZmZmZ2T+amZmZmZnJPwAAAAAAAOA/mpmZmZmZyT+amZmZmZnJP5qZmZmZmdk/mpmZmZmZyT+amZmZmZnJP5qZmZmZmck/mpmZmZmZyT+amZmZmZnZP5qZmZmZmbk/mpmZmZmZyT+amZmZmZnJP5qZmZmZmck/mpmZmZmZyT+amZmZmZm5P5qZmZmZmck/mpmZmZmZyT8zMzMzMzPTPzMzMzMzM9M/mpmZmZmZyT8zMzMzMzPjP5qZmZmZmdk/MzMzMzMz0z+amZmZmZnJP5qZmZmZmck/mpmZmZmZyT+amZmZmZnJPw==\",\"dtype\":\"float64\",\"shape\":[50]},\"sepal_length\":{\"__ndarray__\":\"ZmZmZmZmFECamZmZmZkTQM3MzMzMzBJAZmZmZmZmEkAAAAAAAAAUQJqZmZmZmRVAZmZmZmZmEkAAAAAAAAAUQJqZmZmZmRFAmpmZmZmZE0CamZmZmZkVQDMzMzMzMxNAMzMzMzMzE0AzMzMzMzMRQDMzMzMzMxdAzczMzMzMFkCamZmZmZkVQGZmZmZmZhRAzczMzMzMFkBmZmZmZmYUQJqZmZmZmRVAZmZmZmZmFEBmZmZmZmYSQGZmZmZmZhRAMzMzMzMzE0AAAAAAAAAUQAAAAAAAABRAzczMzMzMFEDNzMzMzMwUQM3MzMzMzBJAMzMzMzMzE0CamZmZmZkVQM3MzMzMzBRAAAAAAAAAFkCamZmZmZkTQAAAAAAAABRAAAAAAAAAFkCamZmZmZkTQJqZmZmZmRFAZmZmZmZmFEAAAAAAAAAUQAAAAAAAABJAmpmZmZmZEUAAAAAAAAAUQGZmZmZmZhRAMzMzMzMzE0BmZmZmZmYUQGZmZmZmZhJAMzMzMzMzFUAAAAAAAAAUQA==\",\"dtype\":\"float64\",\"shape\":[50]},\"sepal_width\":{\"__ndarray__\":\"AAAAAAAADEAAAAAAAAAIQJqZmZmZmQlAzczMzMzMCEDNzMzMzMwMQDMzMzMzMw9AMzMzMzMzC0AzMzMzMzMLQDMzMzMzMwdAzczMzMzMCECamZmZmZkNQDMzMzMzMwtAAAAAAAAACEAAAAAAAAAIQAAAAAAAABBAmpmZmZmZEUAzMzMzMzMPQAAAAAAAAAxAZmZmZmZmDkBmZmZmZmYOQDMzMzMzMwtAmpmZmZmZDUDNzMzMzMwMQGZmZmZmZgpAMzMzMzMzC0AAAAAAAAAIQDMzMzMzMwtAAAAAAAAADEAzMzMzMzMLQJqZmZmZmQlAzczMzMzMCEAzMzMzMzMLQGZmZmZmZhBAzczMzMzMEEDNzMzMzMwIQJqZmZmZmQlAAAAAAAAADEDNzMzMzMwMQAAAAAAAAAhAMzMzMzMzC0AAAAAAAAAMQGZmZmZmZgJAmpmZmZmZCUAAAAAAAAAMQGZmZmZmZg5AAAAAAAAACEBmZmZmZmYOQJqZmZmZmQlAmpmZmZmZDUBmZmZmZmYKQA==\",\"dtype\":\"float64\",\"shape\":[50]},\"size\":{\"__ndarray__\":\"AAAAAACAMUAAAAAAAAAuQAAAAAAAADBAAAAAAAAAL0AAAAAAAAAyQAAAAAAAgDNAAAAAAAAAMUAAAAAAAAAxQAAAAAAAAC1AAAAAAAAAL0AAAAAAAIAyQAAAAAAAADFAAAAAAAAALkAAAAAAAAAuQAAAAAAAADRAAAAAAAAANkAAAAAAAIAzQAAAAAAAgDFAAAAAAAAAM0AAAAAAAAAzQAAAAAAAADFAAAAAAACAMkAAAAAAAAAyQAAAAAAAgDBAAAAAAAAAMUAAAAAAAAAuQAAAAAAAADFAAAAAAACAMUAAAAAAAAAxQAAAAAAAADBAAAAAAAAAL0AAAAAAAAAxQAAAAAAAgDRAAAAAAAAANUAAAAAAAAAvQAAAAAAAADBAAAAAAACAMUAAAAAAAAAyQAAAAAAAAC5AAAAAAAAAMUAAAAAAAIAxQAAAAAAAACdAAAAAAAAAMEAAAAAAAIAxQAAAAAAAADNAAAAAAAAALkAAAAAAAAAzQAAAAAAAADBAAAAAAACAMkAAAAAAAIAwQA==\",\"dtype\":\"float64\",\"shape\":[50]},\"species\":[\"setosa\",\"setosa\",\"setosa\",\"setosa\",\"setosa\",\"setosa\",\"setosa\",\"setosa\",\"setosa\",\"setosa\",\"setosa\",\"setosa\",\"setosa\",\"setosa\",\"setosa\",\"setosa\",\"setosa\",\"setosa\",\"setosa\",\"setosa\",\"setosa\",\"setosa\",\"setosa\",\"setosa\",\"setosa\",\"setosa\",\"setosa\",\"setosa\",\"setosa\",\"setosa\",\"setosa\",\"setosa\",\"setosa\",\"setosa\",\"setosa\",\"setosa\",\"setosa\",\"setosa\",\"setosa\",\"setosa\",\"setosa\",\"setosa\",\"setosa\",\"setosa\",\"setosa\",\"setosa\",\"setosa\",\"setosa\",\"setosa\",\"setosa\"]},\"selected\":{\"id\":\"63681\",\"type\":\"Selection\"},\"selection_policy\":{\"id\":\"63682\",\"type\":\"UnionRenderers\"}},\"id\":\"63620\",\"type\":\"ColumnDataSource\"},{\"attributes\":{\"text\":\"Petal plot\"},\"id\":\"63661\",\"type\":\"Title\"},{\"attributes\":{},\"id\":\"63630\",\"type\":\"LinearScale\"},{\"attributes\":{\"data_source\":{\"id\":\"63620\",\"type\":\"ColumnDataSource\"},\"glyph\":{\"id\":\"63656\",\"type\":\"Circle\"},\"hover_glyph\":null,\"muted_glyph\":null,\"nonselection_glyph\":{\"id\":\"63657\",\"type\":\"Circle\"},\"selection_glyph\":null,\"view\":{\"id\":\"63659\",\"type\":\"CDSView\"}},\"id\":\"63658\",\"type\":\"GlyphRenderer\"},{\"attributes\":{},\"id\":\"67157\",\"type\":\"WheelZoomTool\"},{\"attributes\":{\"label\":{\"value\":\"Virginica\"},\"renderers\":[{\"id\":\"67141\",\"type\":\"GlyphRenderer\"}]},\"id\":\"67154\",\"type\":\"LegendItem\"},{\"attributes\":{},\"id\":\"63664\",\"type\":\"BasicTickFormatter\"},{\"attributes\":{},\"id\":\"63698\",\"type\":\"Selection\"},{\"attributes\":{\"label\":{\"value\":\"Virginica\"},\"renderers\":[{\"id\":\"63687\",\"type\":\"GlyphRenderer\"}]},\"id\":\"63700\",\"type\":\"LegendItem\"},{\"attributes\":{\"data_source\":{\"id\":\"63622\",\"type\":\"ColumnDataSource\"},\"glyph\":{\"id\":\"67139\",\"type\":\"Circle\"},\"hover_glyph\":null,\"muted_glyph\":null,\"nonselection_glyph\":{\"id\":\"67140\",\"type\":\"Circle\"},\"selection_glyph\":null,\"view\":{\"id\":\"67142\",\"type\":\"CDSView\"}},\"id\":\"67141\",\"type\":\"GlyphRenderer\"},{\"attributes\":{\"fill_alpha\":{\"value\":0.2},\"fill_color\":{\"field\":\"color\"},\"line_color\":{\"field\":\"color\"},\"size\":{\"field\":\"size\",\"units\":\"screen\"},\"x\":{\"field\":\"petal_length\"},\"y\":{\"field\":\"petal_width\"}},\"id\":\"63670\",\"type\":\"Circle\"},{\"attributes\":{\"fill_alpha\":{\"value\":0.1},\"fill_color\":{\"value\":\"#1f77b4\"},\"line_alpha\":{\"value\":0.1},\"line_color\":{\"value\":\"#1f77b4\"},\"size\":{\"field\":\"size\",\"units\":\"screen\"},\"x\":{\"field\":\"petal_length\"},\"y\":{\"field\":\"petal_width\"}},\"id\":\"63671\",\"type\":\"Circle\"},{\"attributes\":{\"bottom_units\":\"screen\",\"fill_alpha\":{\"value\":0.5},\"fill_color\":{\"value\":\"lightgrey\"},\"left_units\":\"screen\",\"level\":\"overlay\",\"line_alpha\":{\"value\":1.0},\"line_color\":{\"value\":\"black\"},\"line_dash\":[4,4],\"line_width\":{\"value\":2},\"render_mode\":\"css\",\"right_units\":\"screen\",\"top_units\":\"screen\"},\"id\":\"65919\",\"type\":\"BoxAnnotation\"},{\"attributes\":{\"data_source\":{\"id\":\"63621\",\"type\":\"ColumnDataSource\"},\"glyph\":{\"id\":\"63670\",\"type\":\"Circle\"},\"hover_glyph\":null,\"muted_glyph\":null,\"nonselection_glyph\":{\"id\":\"63671\",\"type\":\"Circle\"},\"selection_glyph\":null,\"view\":{\"id\":\"63673\",\"type\":\"CDSView\"}},\"id\":\"63672\",\"type\":\"GlyphRenderer\"},{\"attributes\":{},\"id\":\"64854\",\"type\":\"SaveTool\"},{\"attributes\":{},\"id\":\"67155\",\"type\":\"PanTool\"},{\"attributes\":{\"dimension\":1,\"ticker\":{\"id\":\"63638\",\"type\":\"BasicTicker\"}},\"id\":\"63641\",\"type\":\"Grid\"},{\"attributes\":{\"source\":{\"id\":\"63621\",\"type\":\"ColumnDataSource\"}},\"id\":\"63673\",\"type\":\"CDSView\"},{\"attributes\":{\"fill_alpha\":{\"value\":0.1},\"fill_color\":{\"value\":\"#1f77b4\"},\"line_alpha\":{\"value\":0.1},\"line_color\":{\"value\":\"#1f77b4\"},\"size\":{\"field\":\"size\",\"units\":\"screen\"},\"x\":{\"field\":\"sepal_length\"},\"y\":{\"field\":\"sepal_width\"}},\"id\":\"67140\",\"type\":\"Circle\"},{\"attributes\":{\"click_policy\":\"hide\",\"items\":[{\"id\":\"67122\",\"type\":\"LegendItem\"},{\"id\":\"67137\",\"type\":\"LegendItem\"},{\"id\":\"67154\",\"type\":\"LegendItem\"}],\"location\":\"top_left\"},\"id\":\"67121\",\"type\":\"Legend\"},{\"attributes\":{\"fill_alpha\":{\"value\":0.1},\"fill_color\":{\"value\":\"#1f77b4\"},\"line_alpha\":{\"value\":0.1},\"line_color\":{\"value\":\"#1f77b4\"},\"size\":{\"field\":\"size\",\"units\":\"screen\"},\"x\":{\"field\":\"petal_length\"},\"y\":{\"field\":\"petal_width\"}},\"id\":\"63657\",\"type\":\"Circle\"},{\"attributes\":{},\"id\":\"63628\",\"type\":\"LinearScale\"},{\"attributes\":{\"callback\":null,\"data\":{\"color\":[\"blue\",\"blue\",\"blue\",\"blue\",\"blue\",\"blue\",\"blue\",\"blue\",\"blue\",\"blue\",\"blue\",\"blue\",\"blue\",\"blue\",\"blue\",\"blue\",\"blue\",\"blue\",\"blue\",\"blue\",\"blue\",\"blue\",\"blue\",\"blue\",\"blue\",\"blue\",\"blue\",\"blue\",\"blue\",\"blue\",\"blue\",\"blue\",\"blue\",\"blue\",\"blue\",\"blue\",\"blue\",\"blue\",\"blue\",\"blue\",\"blue\",\"blue\",\"blue\",\"blue\",\"blue\",\"blue\",\"blue\",\"blue\",\"blue\",\"blue\"],\"index\":[100,101,102,103,104,105,106,107,108,109,110,111,112,113,114,115,116,117,118,119,120,121,122,123,124,125,126,127,128,129,130,131,132,133,134,135,136,137,138,139,140,141,142,143,144,145,146,147,148,149],\"petal_length\":{\"__ndarray__\":\"AAAAAAAAGEBmZmZmZmYUQJqZmZmZmRdAZmZmZmZmFkAzMzMzMzMXQGZmZmZmZhpAAAAAAAAAEkAzMzMzMzMZQDMzMzMzMxdAZmZmZmZmGEBmZmZmZmYUQDMzMzMzMxVAAAAAAAAAFkAAAAAAAAAUQGZmZmZmZhRAMzMzMzMzFUAAAAAAAAAWQM3MzMzMzBpAmpmZmZmZG0AAAAAAAAAUQM3MzMzMzBZAmpmZmZmZE0DNzMzMzMwaQJqZmZmZmRNAzczMzMzMFkAAAAAAAAAYQDMzMzMzMxNAmpmZmZmZE0BmZmZmZmYWQDMzMzMzMxdAZmZmZmZmGECamZmZmZkZQGZmZmZmZhZAZmZmZmZmFEBmZmZmZmYWQGZmZmZmZhhAZmZmZmZmFkAAAAAAAAAWQDMzMzMzMxNAmpmZmZmZFUBmZmZmZmYWQGZmZmZmZhRAZmZmZmZmFECamZmZmZkXQM3MzMzMzBZAzczMzMzMFEAAAAAAAAAUQM3MzMzMzBRAmpmZmZmZFUBmZmZmZmYUQA==\",\"dtype\":\"float64\",\"shape\":[50]},\"petal_width\":{\"__ndarray__\":\"AAAAAAAABEBmZmZmZmb+P83MzMzMzABAzczMzMzM/D+amZmZmZkBQM3MzMzMzABAMzMzMzMz+z/NzMzMzMz8P83MzMzMzPw/AAAAAAAABEAAAAAAAAAAQGZmZmZmZv4/zczMzMzMAEAAAAAAAAAAQDMzMzMzMwNAZmZmZmZmAkDNzMzMzMz8P5qZmZmZmQFAZmZmZmZmAkAAAAAAAAD4P2ZmZmZmZgJAAAAAAAAAAEAAAAAAAAAAQM3MzMzMzPw/zczMzMzMAEDNzMzMzMz8P83MzMzMzPw/zczMzMzM/D/NzMzMzMwAQJqZmZmZmfk/ZmZmZmZm/j8AAAAAAAAAQJqZmZmZmQFAAAAAAAAA+D9mZmZmZmb2P2ZmZmZmZgJAMzMzMzMzA0DNzMzMzMz8P83MzMzMzPw/zczMzMzMAEAzMzMzMzMDQGZmZmZmZgJAZmZmZmZm/j9mZmZmZmYCQAAAAAAAAARAZmZmZmZmAkBmZmZmZmb+PwAAAAAAAABAZmZmZmZmAkDNzMzMzMz8Pw==\",\"dtype\":\"float64\",\"shape\":[50]},\"sepal_length\":{\"__ndarray__\":\"MzMzMzMzGUAzMzMzMzMXQGZmZmZmZhxAMzMzMzMzGUAAAAAAAAAaQGZmZmZmZh5AmpmZmZmZE0AzMzMzMzMdQM3MzMzMzBpAzczMzMzMHEAAAAAAAAAaQJqZmZmZmRlAMzMzMzMzG0DNzMzMzMwWQDMzMzMzMxdAmpmZmZmZGUAAAAAAAAAaQM3MzMzMzB5AzczMzMzMHkAAAAAAAAAYQJqZmZmZmRtAZmZmZmZmFkDNzMzMzMweQDMzMzMzMxlAzczMzMzMGkDNzMzMzMwcQM3MzMzMzBhAZmZmZmZmGECamZmZmZkZQM3MzMzMzBxAmpmZmZmZHUCamZmZmZkfQJqZmZmZmRlAMzMzMzMzGUBmZmZmZmYYQM3MzMzMzB5AMzMzMzMzGUCamZmZmZkZQAAAAAAAABhAmpmZmZmZG0DNzMzMzMwaQJqZmZmZmRtAMzMzMzMzF0AzMzMzMzMbQM3MzMzMzBpAzczMzMzMGkAzMzMzMzMZQAAAAAAAABpAzczMzMzMGECamZmZmZkXQA==\",\"dtype\":\"float64\",\"shape\":[50]},\"sepal_width\":{\"__ndarray__\":\"ZmZmZmZmCkCamZmZmZkFQAAAAAAAAAhAMzMzMzMzB0AAAAAAAAAIQAAAAAAAAAhAAAAAAAAABEAzMzMzMzMHQAAAAAAAAARAzczMzMzMDECamZmZmZkJQJqZmZmZmQVAAAAAAAAACEAAAAAAAAAEQGZmZmZmZgZAmpmZmZmZCUAAAAAAAAAIQGZmZmZmZg5AzczMzMzMBECamZmZmZkBQJqZmZmZmQlAZmZmZmZmBkBmZmZmZmYGQJqZmZmZmQVAZmZmZmZmCkCamZmZmZkJQGZmZmZmZgZAAAAAAAAACEBmZmZmZmYGQAAAAAAAAAhAZmZmZmZmBkBmZmZmZmYOQGZmZmZmZgZAZmZmZmZmBkDNzMzMzMwEQAAAAAAAAAhAMzMzMzMzC0DNzMzMzMwIQAAAAAAAAAhAzczMzMzMCEDNzMzMzMwIQM3MzMzMzAhAmpmZmZmZBUCamZmZmZkJQGZmZmZmZgpAAAAAAAAACEAAAAAAAAAEQAAAAAAAAAhAMzMzMzMzC0AAAAAAAAAIQA==\",\"dtype\":\"float64\",\"shape\":[50]},\"size\":{\"__ndarray__\":\"AAAAAACAMEAAAAAAAAArQAAAAAAAAC5AAAAAAAAALUAAAAAAAAAuQAAAAAAAAC5AAAAAAAAAKUAAAAAAAAAtQAAAAAAAAClAAAAAAAAAMkAAAAAAAAAwQAAAAAAAACtAAAAAAAAALkAAAAAAAAApQAAAAAAAACxAAAAAAAAAMEAAAAAAAAAuQAAAAAAAADNAAAAAAAAAKkAAAAAAAAAmQAAAAAAAADBAAAAAAAAALEAAAAAAAAAsQAAAAAAAACtAAAAAAACAMEAAAAAAAAAwQAAAAAAAACxAAAAAAAAALkAAAAAAAAAsQAAAAAAAAC5AAAAAAAAALEAAAAAAAAAzQAAAAAAAACxAAAAAAAAALEAAAAAAAAAqQAAAAAAAAC5AAAAAAAAAMUAAAAAAAAAvQAAAAAAAAC5AAAAAAAAAL0AAAAAAAAAvQAAAAAAAAC9AAAAAAAAAK0AAAAAAAAAwQAAAAAAAgDBAAAAAAAAALkAAAAAAAAApQAAAAAAAAC5AAAAAAAAAMUAAAAAAAAAuQA==\",\"dtype\":\"float64\",\"shape\":[50]},\"species\":[\"virginica\",\"virginica\",\"virginica\",\"virginica\",\"virginica\",\"virginica\",\"virginica\",\"virginica\",\"virginica\",\"virginica\",\"virginica\",\"virginica\",\"virginica\",\"virginica\",\"virginica\",\"virginica\",\"virginica\",\"virginica\",\"virginica\",\"virginica\",\"virginica\",\"virginica\",\"virginica\",\"virginica\",\"virginica\",\"virginica\",\"virginica\",\"virginica\",\"virginica\",\"virginica\",\"virginica\",\"virginica\",\"virginica\",\"virginica\",\"virginica\",\"virginica\",\"virginica\",\"virginica\",\"virginica\",\"virginica\",\"virginica\",\"virginica\",\"virginica\",\"virginica\",\"virginica\",\"virginica\",\"virginica\",\"virginica\",\"virginica\",\"virginica\"]},\"selected\":{\"id\":\"64770\",\"type\":\"Selection\"},\"selection_policy\":{\"id\":\"64771\",\"type\":\"UnionRenderers\"}},\"id\":\"63622\",\"type\":\"ColumnDataSource\"},{\"attributes\":{\"active_drag\":\"auto\",\"active_inspect\":\"auto\",\"active_multi\":null,\"active_scroll\":\"auto\",\"active_tap\":\"auto\",\"logo\":null,\"tools\":[{\"id\":\"67155\",\"type\":\"PanTool\"},{\"id\":\"67156\",\"type\":\"ResetTool\"},{\"id\":\"67157\",\"type\":\"WheelZoomTool\"},{\"id\":\"67158\",\"type\":\"BoxZoomTool\"},{\"id\":\"67159\",\"type\":\"SaveTool\"},{\"id\":\"67161\",\"type\":\"HoverTool\"}]},\"id\":\"67102\",\"type\":\"Toolbar\"},{\"attributes\":{\"callback\":null,\"tooltips\":[[\"Species\",\"@species\"],[\"Sepal Width\",\"@sepal_width\"]]},\"id\":\"65926\",\"type\":\"HoverTool\"},{\"attributes\":{\"label\":{\"value\":\"Versicolor\"},\"renderers\":[{\"id\":\"63672\",\"type\":\"GlyphRenderer\"}]},\"id\":\"63683\",\"type\":\"LegendItem\"},{\"attributes\":{\"label\":{\"value\":\"Versicolor\"},\"renderers\":[{\"id\":\"67126\",\"type\":\"GlyphRenderer\"}]},\"id\":\"67137\",\"type\":\"LegendItem\"},{\"attributes\":{\"below\":[{\"id\":\"63632\",\"type\":\"LinearAxis\"}],\"center\":[{\"id\":\"63636\",\"type\":\"Grid\"},{\"id\":\"63641\",\"type\":\"Grid\"},{\"id\":\"63667\",\"type\":\"Legend\"}],\"left\":[{\"id\":\"63637\",\"type\":\"LinearAxis\"}],\"plot_height\":500,\"plot_width\":500,\"renderers\":[{\"id\":\"63658\",\"type\":\"GlyphRenderer\"},{\"id\":\"63672\",\"type\":\"GlyphRenderer\"},{\"id\":\"63687\",\"type\":\"GlyphRenderer\"}],\"title\":{\"id\":\"63661\",\"type\":\"Title\"},\"toolbar\":{\"id\":\"63648\",\"type\":\"Toolbar\"},\"toolbar_location\":null,\"x_range\":{\"id\":\"63624\",\"type\":\"DataRange1d\"},\"x_scale\":{\"id\":\"63628\",\"type\":\"LinearScale\"},\"y_range\":{\"id\":\"63626\",\"type\":\"DataRange1d\"},\"y_scale\":{\"id\":\"63630\",\"type\":\"LinearScale\"}},\"id\":\"63623\",\"subtype\":\"Figure\",\"type\":\"Plot\"},{\"attributes\":{},\"id\":\"63681\",\"type\":\"Selection\"},{\"attributes\":{},\"id\":\"67116\",\"type\":\"BasicTickFormatter\"},{\"attributes\":{\"fill_alpha\":{\"value\":0.2},\"fill_color\":{\"field\":\"color\"},\"line_color\":{\"field\":\"color\"},\"size\":{\"field\":\"size\",\"units\":\"screen\"},\"x\":{\"field\":\"petal_length\"},\"y\":{\"field\":\"petal_width\"}},\"id\":\"63656\",\"type\":\"Circle\"},{\"attributes\":{\"label\":{\"value\":\"Setosa\"},\"renderers\":[{\"id\":\"63658\",\"type\":\"GlyphRenderer\"}]},\"id\":\"63668\",\"type\":\"LegendItem\"},{\"attributes\":{\"axis_label\":\"Petal Width\",\"formatter\":{\"id\":\"63662\",\"type\":\"BasicTickFormatter\"},\"ticker\":{\"id\":\"63638\",\"type\":\"BasicTicker\"}},\"id\":\"63637\",\"type\":\"LinearAxis\"},{\"attributes\":{\"overlay\":{\"id\":\"65919\",\"type\":\"BoxAnnotation\"}},\"id\":\"64853\",\"type\":\"BoxZoomTool\"},{\"attributes\":{\"source\":{\"id\":\"63620\",\"type\":\"ColumnDataSource\"}},\"id\":\"63659\",\"type\":\"CDSView\"},{\"attributes\":{},\"id\":\"64852\",\"type\":\"WheelZoomTool\"},{\"attributes\":{},\"id\":\"63662\",\"type\":\"BasicTickFormatter\"},{\"attributes\":{\"callback\":null,\"data\":{\"color\":[\"green\",\"green\",\"green\",\"green\",\"green\",\"green\",\"green\",\"green\",\"green\",\"green\",\"green\",\"green\",\"green\",\"green\",\"green\",\"green\",\"green\",\"green\",\"green\",\"green\",\"green\",\"green\",\"green\",\"green\",\"green\",\"green\",\"green\",\"green\",\"green\",\"green\",\"green\",\"green\",\"green\",\"green\",\"green\",\"green\",\"green\",\"green\",\"green\",\"green\",\"green\",\"green\",\"green\",\"green\",\"green\",\"green\",\"green\",\"green\",\"green\",\"green\"],\"index\":[50,51,52,53,54,55,56,57,58,59,60,61,62,63,64,65,66,67,68,69,70,71,72,73,74,75,76,77,78,79,80,81,82,83,84,85,86,87,88,89,90,91,92,93,94,95,96,97,98,99],\"petal_length\":{\"__ndarray__\":\"zczMzMzMEkAAAAAAAAASQJqZmZmZmRNAAAAAAAAAEEBmZmZmZmYSQAAAAAAAABJAzczMzMzMEkBmZmZmZmYKQGZmZmZmZhJAMzMzMzMzD0AAAAAAAAAMQM3MzMzMzBBAAAAAAAAAEEDNzMzMzMwSQM3MzMzMzAxAmpmZmZmZEUAAAAAAAAASQGZmZmZmZhBAAAAAAAAAEkAzMzMzMzMPQDMzMzMzMxNAAAAAAAAAEECamZmZmZkTQM3MzMzMzBJAMzMzMzMzEUCamZmZmZkRQDMzMzMzMxNAAAAAAAAAFEAAAAAAAAASQAAAAAAAAAxAZmZmZmZmDkCamZmZmZkNQDMzMzMzMw9AZmZmZmZmFEAAAAAAAAASQAAAAAAAABJAzczMzMzMEkCamZmZmZkRQGZmZmZmZhBAAAAAAAAAEECamZmZmZkRQGZmZmZmZhJAAAAAAAAAEEBmZmZmZmYKQM3MzMzMzBBAzczMzMzMEEDNzMzMzMwQQDMzMzMzMxFAAAAAAAAACEBmZmZmZmYQQA==\",\"dtype\":\"float64\",\"shape\":[50]},\"petal_width\":{\"__ndarray__\":\"ZmZmZmZm9j8AAAAAAAD4PwAAAAAAAPg/zczMzMzM9D8AAAAAAAD4P83MzMzMzPQ/mpmZmZmZ+T8AAAAAAADwP83MzMzMzPQ/ZmZmZmZm9j8AAAAAAADwPwAAAAAAAPg/AAAAAAAA8D9mZmZmZmb2P83MzMzMzPQ/ZmZmZmZm9j8AAAAAAAD4PwAAAAAAAPA/AAAAAAAA+D+amZmZmZnxP83MzMzMzPw/zczMzMzM9D8AAAAAAAD4PzMzMzMzM/M/zczMzMzM9D9mZmZmZmb2P2ZmZmZmZvY/MzMzMzMz+z8AAAAAAAD4PwAAAAAAAPA/mpmZmZmZ8T8AAAAAAADwPzMzMzMzM/M/mpmZmZmZ+T8AAAAAAAD4P5qZmZmZmfk/AAAAAAAA+D/NzMzMzMz0P83MzMzMzPQ/zczMzMzM9D8zMzMzMzPzP2ZmZmZmZvY/MzMzMzMz8z8AAAAAAADwP83MzMzMzPQ/MzMzMzMz8z/NzMzMzMz0P83MzMzMzPQ/mpmZmZmZ8T/NzMzMzMz0Pw==\",\"dtype\":\"float64\",\"shape\":[50]},\"sepal_length\":{\"__ndarray__\":\"AAAAAAAAHECamZmZmZkZQJqZmZmZmRtAAAAAAAAAFkAAAAAAAAAaQM3MzMzMzBZAMzMzMzMzGUCamZmZmZkTQGZmZmZmZhpAzczMzMzMFEAAAAAAAAAUQJqZmZmZmRdAAAAAAAAAGEBmZmZmZmYYQGZmZmZmZhZAzczMzMzMGkBmZmZmZmYWQDMzMzMzMxdAzczMzMzMGEBmZmZmZmYWQJqZmZmZmRdAZmZmZmZmGEAzMzMzMzMZQGZmZmZmZhhAmpmZmZmZGUBmZmZmZmYaQDMzMzMzMxtAzczMzMzMGkAAAAAAAAAYQM3MzMzMzBZAAAAAAAAAFkAAAAAAAAAWQDMzMzMzMxdAAAAAAAAAGECamZmZmZkVQAAAAAAAABhAzczMzMzMGkAzMzMzMzMZQGZmZmZmZhZAAAAAAAAAFkAAAAAAAAAWQGZmZmZmZhhAMzMzMzMzF0AAAAAAAAAUQGZmZmZmZhZAzczMzMzMFkDNzMzMzMwWQM3MzMzMzBhAZmZmZmZmFEDNzMzMzMwWQA==\",\"dtype\":\"float64\",\"shape\":[50]},\"sepal_width\":{\"__ndarray__\":\"mpmZmZmZCUCamZmZmZkJQM3MzMzMzAhAZmZmZmZmAkBmZmZmZmYGQGZmZmZmZgZAZmZmZmZmCkAzMzMzMzMDQDMzMzMzMwdAmpmZmZmZBUAAAAAAAAAAQAAAAAAAAAhAmpmZmZmZAUAzMzMzMzMHQDMzMzMzMwdAzczMzMzMCEAAAAAAAAAIQJqZmZmZmQVAmpmZmZmZAUAAAAAAAAAEQJqZmZmZmQlAZmZmZmZmBkAAAAAAAAAEQGZmZmZmZgZAMzMzMzMzB0AAAAAAAAAIQGZmZmZmZgZAAAAAAAAACEAzMzMzMzMHQM3MzMzMzARAMzMzMzMzA0AzMzMzMzMDQJqZmZmZmQVAmpmZmZmZBUAAAAAAAAAIQDMzMzMzMwtAzczMzMzMCEBmZmZmZmYCQAAAAAAAAAhAAAAAAAAABEDNzMzMzMwEQAAAAAAAAAhAzczMzMzMBEBmZmZmZmYCQJqZmZmZmQVAAAAAAAAACEAzMzMzMzMHQDMzMzMzMwdAAAAAAAAABEBmZmZmZmYGQA==\",\"dtype\":\"float64\",\"shape\":[50]},\"size\":{\"__ndarray__\":\"AAAAAAAAMEAAAAAAAAAwQAAAAAAAAC9AAAAAAAAAJ0AAAAAAAAAsQAAAAAAAACxAAAAAAACAMEAAAAAAAAAoQAAAAAAAAC1AAAAAAAAAK0AAAAAAAAAkQAAAAAAAAC5AAAAAAAAAJkAAAAAAAAAtQAAAAAAAAC1AAAAAAAAAL0AAAAAAAAAuQAAAAAAAACtAAAAAAAAAJkAAAAAAAAApQAAAAAAAADBAAAAAAAAALEAAAAAAAAApQAAAAAAAACxAAAAAAAAALUAAAAAAAAAuQAAAAAAAACxAAAAAAAAALkAAAAAAAAAtQAAAAAAAACpAAAAAAAAAKEAAAAAAAAAoQAAAAAAAACtAAAAAAAAAK0AAAAAAAAAuQAAAAAAAADFAAAAAAAAAL0AAAAAAAAAnQAAAAAAAAC5AAAAAAAAAKUAAAAAAAAAqQAAAAAAAAC5AAAAAAAAAKkAAAAAAAAAnQAAAAAAAACtAAAAAAAAALkAAAAAAAAAtQAAAAAAAAC1AAAAAAAAAKUAAAAAAAAAsQA==\",\"dtype\":\"float64\",\"shape\":[50]},\"species\":[\"versicolor\",\"versicolor\",\"versicolor\",\"versicolor\",\"versicolor\",\"versicolor\",\"versicolor\",\"versicolor\",\"versicolor\",\"versicolor\",\"versicolor\",\"versicolor\",\"versicolor\",\"versicolor\",\"versicolor\",\"versicolor\",\"versicolor\",\"versicolor\",\"versicolor\",\"versicolor\",\"versicolor\",\"versicolor\",\"versicolor\",\"versicolor\",\"versicolor\",\"versicolor\",\"versicolor\",\"versicolor\",\"versicolor\",\"versicolor\",\"versicolor\",\"versicolor\",\"versicolor\",\"versicolor\",\"versicolor\",\"versicolor\",\"versicolor\",\"versicolor\",\"versicolor\",\"versicolor\",\"versicolor\",\"versicolor\",\"versicolor\",\"versicolor\",\"versicolor\",\"versicolor\",\"versicolor\",\"versicolor\",\"versicolor\",\"versicolor\"]},\"selected\":{\"id\":\"63698\",\"type\":\"Selection\"},\"selection_policy\":{\"id\":\"63699\",\"type\":\"UnionRenderers\"}},\"id\":\"63621\",\"type\":\"ColumnDataSource\"},{\"attributes\":{},\"id\":\"64851\",\"type\":\"ResetTool\"},{\"attributes\":{\"callback\":null},\"id\":\"63626\",\"type\":\"DataRange1d\"},{\"attributes\":{\"click_policy\":\"hide\",\"items\":[{\"id\":\"63668\",\"type\":\"LegendItem\"},{\"id\":\"63683\",\"type\":\"LegendItem\"},{\"id\":\"63700\",\"type\":\"LegendItem\"}],\"location\":\"top_left\"},\"id\":\"63667\",\"type\":\"Legend\"},{\"attributes\":{},\"id\":\"64850\",\"type\":\"PanTool\"},{\"attributes\":{},\"id\":\"67156\",\"type\":\"ResetTool\"},{\"attributes\":{\"data_source\":{\"id\":\"63621\",\"type\":\"ColumnDataSource\"},\"glyph\":{\"id\":\"67124\",\"type\":\"Circle\"},\"hover_glyph\":null,\"muted_glyph\":null,\"nonselection_glyph\":{\"id\":\"67125\",\"type\":\"Circle\"},\"selection_glyph\":null,\"view\":{\"id\":\"67127\",\"type\":\"CDSView\"}},\"id\":\"67126\",\"type\":\"GlyphRenderer\"},{\"attributes\":{},\"id\":\"63633\",\"type\":\"BasicTicker\"},{\"attributes\":{},\"id\":\"67118\",\"type\":\"BasicTickFormatter\"},{\"attributes\":{},\"id\":\"63638\",\"type\":\"BasicTicker\"},{\"attributes\":{\"callback\":null},\"id\":\"63624\",\"type\":\"DataRange1d\"},{\"attributes\":{\"axis_label\":\"Petal Length\",\"formatter\":{\"id\":\"63664\",\"type\":\"BasicTickFormatter\"},\"ticker\":{\"id\":\"63633\",\"type\":\"BasicTicker\"}},\"id\":\"63632\",\"type\":\"LinearAxis\"},{\"attributes\":{\"ticker\":{\"id\":\"63633\",\"type\":\"BasicTicker\"}},\"id\":\"63636\",\"type\":\"Grid\"}],\"root_ids\":[\"70837\"]},\"title\":\"Bokeh Application\",\"version\":\"1.3.4\"}};\n",
       "  var render_items = [{\"docid\":\"80283f2e-f8ea-4f96-bf94-301eeaac0045\",\"roots\":{\"70837\":\"f22d5b5a-460d-4b71-aa7e-3f75e34f95de\"}}];\n",
       "  root.Bokeh.embed.embed_items_notebook(docs_json, render_items);\n",
       "\n",
       "  }\n",
       "  if (root.Bokeh !== undefined) {\n",
       "    embed_document(root);\n",
       "  } else {\n",
       "    var attempts = 0;\n",
       "    var timer = setInterval(function(root) {\n",
       "      if (root.Bokeh !== undefined) {\n",
       "        embed_document(root);\n",
       "        clearInterval(timer);\n",
       "      }\n",
       "      attempts++;\n",
       "      if (attempts > 100) {\n",
       "        console.log(\"Bokeh: ERROR: Unable to run BokehJS code because BokehJS library is missing\");\n",
       "        clearInterval(timer);\n",
       "      }\n",
       "    }, 10, root)\n",
       "  }\n",
       "})(window);"
      ],
      "application/vnd.bokehjs_exec.v0+json": ""
     },
     "metadata": {
      "application/vnd.bokehjs_exec.v0+json": {
       "id": "70837"
      }
     },
     "output_type": "display_data"
    }
   ],
   "source": [
    "from bokeh.layouts import gridplot\n",
    "layout1 = gridplot([[p, p2]], toolbar_location='right')\n",
    "show(layout1)"
   ]
  },
  {
   "cell_type": "code",
   "execution_count": 192,
   "metadata": {},
   "outputs": [
    {
     "data": {
      "text/html": [
       "\n",
       "\n",
       "\n",
       "\n",
       "\n",
       "\n",
       "  <div class=\"bk-root\" id=\"441e5d34-37ae-400f-836c-98930b8c3132\" data-root-id=\"72138\"></div>\n"
      ]
     },
     "metadata": {},
     "output_type": "display_data"
    },
    {
     "data": {
      "application/javascript": [
       "(function(root) {\n",
       "  function embed_document(root) {\n",
       "    \n",
       "  var docs_json = {\"2d0bdf2c-e297-473b-873e-c61886c5c429\":{\"roots\":{\"references\":[{\"attributes\":{\"children\":[{\"id\":\"72135\",\"type\":\"GridBox\"},{\"id\":\"72137\",\"type\":\"ToolbarBox\"}]},\"id\":\"72138\",\"type\":\"Row\"},{\"attributes\":{},\"id\":\"67082\",\"type\":\"LinearScale\"},{\"attributes\":{},\"id\":\"67084\",\"type\":\"LinearScale\"},{\"attributes\":{\"axis_label\":\"Sepal Length\",\"formatter\":{\"id\":\"67118\",\"type\":\"BasicTickFormatter\"},\"ticker\":{\"id\":\"67087\",\"type\":\"BasicTicker\"}},\"id\":\"67086\",\"type\":\"LinearAxis\"},{\"attributes\":{},\"id\":\"67092\",\"type\":\"BasicTicker\"},{\"attributes\":{},\"id\":\"67087\",\"type\":\"BasicTicker\"},{\"attributes\":{\"ticker\":{\"id\":\"67087\",\"type\":\"BasicTicker\"}},\"id\":\"67090\",\"type\":\"Grid\"},{\"attributes\":{\"source\":{\"id\":\"63622\",\"type\":\"ColumnDataSource\"}},\"id\":\"67142\",\"type\":\"CDSView\"},{\"attributes\":{\"dimension\":1,\"ticker\":{\"id\":\"67092\",\"type\":\"BasicTicker\"}},\"id\":\"67095\",\"type\":\"Grid\"},{\"attributes\":{\"axis_label\":\"Sepal Width\",\"formatter\":{\"id\":\"67116\",\"type\":\"BasicTickFormatter\"},\"ticker\":{\"id\":\"67092\",\"type\":\"BasicTicker\"}},\"id\":\"67091\",\"type\":\"LinearAxis\"},{\"attributes\":{\"fill_alpha\":{\"value\":0.1},\"fill_color\":{\"value\":\"#1f77b4\"},\"line_alpha\":{\"value\":0.1},\"line_color\":{\"value\":\"#1f77b4\"},\"size\":{\"field\":\"size\",\"units\":\"screen\"},\"x\":{\"field\":\"sepal_length\"},\"y\":{\"field\":\"sepal_width\"}},\"id\":\"67111\",\"type\":\"Circle\"},{\"attributes\":{\"data_source\":{\"id\":\"63620\",\"type\":\"ColumnDataSource\"},\"glyph\":{\"id\":\"67110\",\"type\":\"Circle\"},\"hover_glyph\":null,\"muted_glyph\":null,\"nonselection_glyph\":{\"id\":\"67111\",\"type\":\"Circle\"},\"selection_glyph\":null,\"view\":{\"id\":\"67113\",\"type\":\"CDSView\"}},\"id\":\"67112\",\"type\":\"GlyphRenderer\"},{\"attributes\":{\"toolbar\":{\"id\":\"72136\",\"type\":\"ProxyToolbar\"}},\"id\":\"72137\",\"type\":\"ToolbarBox\"},{\"attributes\":{\"fill_alpha\":{\"value\":0.2},\"fill_color\":{\"field\":\"color\"},\"line_color\":{\"field\":\"color\"},\"size\":{\"field\":\"size\",\"units\":\"screen\"},\"x\":{\"field\":\"petal_length\"},\"y\":{\"field\":\"petal_width\"}},\"id\":\"63685\",\"type\":\"Circle\"},{\"attributes\":{},\"id\":\"64771\",\"type\":\"UnionRenderers\"},{\"attributes\":{},\"id\":\"64770\",\"type\":\"Selection\"},{\"attributes\":{},\"id\":\"67159\",\"type\":\"SaveTool\"},{\"attributes\":{\"source\":{\"id\":\"63620\",\"type\":\"ColumnDataSource\"}},\"id\":\"67113\",\"type\":\"CDSView\"},{\"attributes\":{\"bottom_units\":\"screen\",\"fill_alpha\":{\"value\":0.5},\"fill_color\":{\"value\":\"lightgrey\"},\"left_units\":\"screen\",\"level\":\"overlay\",\"line_alpha\":{\"value\":1.0},\"line_color\":{\"value\":\"black\"},\"line_dash\":[4,4],\"line_width\":{\"value\":2},\"render_mode\":\"css\",\"right_units\":\"screen\",\"top_units\":\"screen\"},\"id\":\"68241\",\"type\":\"BoxAnnotation\"},{\"attributes\":{\"fill_alpha\":{\"value\":0.1},\"fill_color\":{\"value\":\"#1f77b4\"},\"line_alpha\":{\"value\":0.1},\"line_color\":{\"value\":\"#1f77b4\"},\"size\":{\"field\":\"size\",\"units\":\"screen\"},\"x\":{\"field\":\"sepal_length\"},\"y\":{\"field\":\"sepal_width\"}},\"id\":\"67125\",\"type\":\"Circle\"},{\"attributes\":{\"fill_alpha\":{\"value\":0.2},\"fill_color\":{\"field\":\"color\"},\"line_color\":{\"field\":\"color\"},\"size\":{\"field\":\"size\",\"units\":\"screen\"},\"x\":{\"field\":\"sepal_length\"},\"y\":{\"field\":\"sepal_width\"}},\"id\":\"67110\",\"type\":\"Circle\"},{\"attributes\":{\"below\":[{\"id\":\"67086\",\"type\":\"LinearAxis\"}],\"center\":[{\"id\":\"67090\",\"type\":\"Grid\"},{\"id\":\"67095\",\"type\":\"Grid\"},{\"id\":\"67121\",\"type\":\"Legend\"}],\"left\":[{\"id\":\"67091\",\"type\":\"LinearAxis\"}],\"plot_height\":500,\"plot_width\":500,\"renderers\":[{\"id\":\"67112\",\"type\":\"GlyphRenderer\"},{\"id\":\"67126\",\"type\":\"GlyphRenderer\"},{\"id\":\"67141\",\"type\":\"GlyphRenderer\"}],\"title\":{\"id\":\"67115\",\"type\":\"Title\"},\"toolbar\":{\"id\":\"67102\",\"type\":\"Toolbar\"},\"toolbar_location\":null,\"x_range\":{\"id\":\"67078\",\"type\":\"DataRange1d\"},\"x_scale\":{\"id\":\"67082\",\"type\":\"LinearScale\"},\"y_range\":{\"id\":\"67080\",\"type\":\"DataRange1d\"},\"y_scale\":{\"id\":\"67084\",\"type\":\"LinearScale\"}},\"id\":\"67077\",\"subtype\":\"Figure\",\"type\":\"Plot\"},{\"attributes\":{\"children\":[[{\"id\":\"63623\",\"subtype\":\"Figure\",\"type\":\"Plot\"},0,0],[{\"id\":\"67077\",\"subtype\":\"Figure\",\"type\":\"Plot\"},1,1]]},\"id\":\"72135\",\"type\":\"GridBox\"},{\"attributes\":{\"fill_alpha\":{\"value\":0.2},\"fill_color\":{\"field\":\"color\"},\"line_color\":{\"field\":\"color\"},\"size\":{\"field\":\"size\",\"units\":\"screen\"},\"x\":{\"field\":\"sepal_length\"},\"y\":{\"field\":\"sepal_width\"}},\"id\":\"67124\",\"type\":\"Circle\"},{\"attributes\":{\"text\":\"Sepal plot\"},\"id\":\"67115\",\"type\":\"Title\"},{\"attributes\":{\"callback\":null},\"id\":\"67078\",\"type\":\"DataRange1d\"},{\"attributes\":{},\"id\":\"63699\",\"type\":\"UnionRenderers\"},{\"attributes\":{\"callback\":null},\"id\":\"67080\",\"type\":\"DataRange1d\"},{\"attributes\":{},\"id\":\"63682\",\"type\":\"UnionRenderers\"},{\"attributes\":{\"callback\":null,\"tooltips\":[[\"Species\",\"@species\"],[\"Sepal Width\",\"@petal_width\"]]},\"id\":\"67161\",\"type\":\"HoverTool\"},{\"attributes\":{\"fill_alpha\":{\"value\":0.1},\"fill_color\":{\"value\":\"#1f77b4\"},\"line_alpha\":{\"value\":0.1},\"line_color\":{\"value\":\"#1f77b4\"},\"size\":{\"field\":\"size\",\"units\":\"screen\"},\"x\":{\"field\":\"petal_length\"},\"y\":{\"field\":\"petal_width\"}},\"id\":\"63686\",\"type\":\"Circle\"},{\"attributes\":{\"fill_alpha\":{\"value\":0.2},\"fill_color\":{\"field\":\"color\"},\"line_color\":{\"field\":\"color\"},\"size\":{\"field\":\"size\",\"units\":\"screen\"},\"x\":{\"field\":\"sepal_length\"},\"y\":{\"field\":\"sepal_width\"}},\"id\":\"67139\",\"type\":\"Circle\"},{\"attributes\":{\"source\":{\"id\":\"63622\",\"type\":\"ColumnDataSource\"}},\"id\":\"63688\",\"type\":\"CDSView\"},{\"attributes\":{\"source\":{\"id\":\"63621\",\"type\":\"ColumnDataSource\"}},\"id\":\"67127\",\"type\":\"CDSView\"},{\"attributes\":{\"data_source\":{\"id\":\"63622\",\"type\":\"ColumnDataSource\"},\"glyph\":{\"id\":\"63685\",\"type\":\"Circle\"},\"hover_glyph\":null,\"muted_glyph\":null,\"nonselection_glyph\":{\"id\":\"63686\",\"type\":\"Circle\"},\"selection_glyph\":null,\"view\":{\"id\":\"63688\",\"type\":\"CDSView\"}},\"id\":\"63687\",\"type\":\"GlyphRenderer\"},{\"attributes\":{\"overlay\":{\"id\":\"68241\",\"type\":\"BoxAnnotation\"}},\"id\":\"67158\",\"type\":\"BoxZoomTool\"},{\"attributes\":{\"active_drag\":\"auto\",\"active_inspect\":\"auto\",\"active_multi\":null,\"active_scroll\":\"auto\",\"active_tap\":\"auto\",\"logo\":null,\"tools\":[{\"id\":\"64850\",\"type\":\"PanTool\"},{\"id\":\"64851\",\"type\":\"ResetTool\"},{\"id\":\"64852\",\"type\":\"WheelZoomTool\"},{\"id\":\"64853\",\"type\":\"BoxZoomTool\"},{\"id\":\"64854\",\"type\":\"SaveTool\"},{\"id\":\"65926\",\"type\":\"HoverTool\"}]},\"id\":\"63648\",\"type\":\"Toolbar\"},{\"attributes\":{\"label\":{\"value\":\"Setosa\"},\"renderers\":[{\"id\":\"67112\",\"type\":\"GlyphRenderer\"}]},\"id\":\"67122\",\"type\":\"LegendItem\"},{\"attributes\":{\"callback\":null,\"data\":{\"color\":[\"red\",\"red\",\"red\",\"red\",\"red\",\"red\",\"red\",\"red\",\"red\",\"red\",\"red\",\"red\",\"red\",\"red\",\"red\",\"red\",\"red\",\"red\",\"red\",\"red\",\"red\",\"red\",\"red\",\"red\",\"red\",\"red\",\"red\",\"red\",\"red\",\"red\",\"red\",\"red\",\"red\",\"red\",\"red\",\"red\",\"red\",\"red\",\"red\",\"red\",\"red\",\"red\",\"red\",\"red\",\"red\",\"red\",\"red\",\"red\",\"red\",\"red\"],\"index\":[0,1,2,3,4,5,6,7,8,9,10,11,12,13,14,15,16,17,18,19,20,21,22,23,24,25,26,27,28,29,30,31,32,33,34,35,36,37,38,39,40,41,42,43,44,45,46,47,48,49],\"petal_length\":{\"__ndarray__\":\"ZmZmZmZm9j9mZmZmZmb2P83MzMzMzPQ/AAAAAAAA+D9mZmZmZmb2PzMzMzMzM/s/ZmZmZmZm9j8AAAAAAAD4P2ZmZmZmZvY/AAAAAAAA+D8AAAAAAAD4P5qZmZmZmfk/ZmZmZmZm9j+amZmZmZnxPzMzMzMzM/M/AAAAAAAA+D/NzMzMzMz0P2ZmZmZmZvY/MzMzMzMz+z8AAAAAAAD4PzMzMzMzM/s/AAAAAAAA+D8AAAAAAADwPzMzMzMzM/s/ZmZmZmZm/j+amZmZmZn5P5qZmZmZmfk/AAAAAAAA+D9mZmZmZmb2P5qZmZmZmfk/mpmZmZmZ+T8AAAAAAAD4PwAAAAAAAPg/ZmZmZmZm9j8AAAAAAAD4PzMzMzMzM/M/zczMzMzM9D9mZmZmZmb2P83MzMzMzPQ/AAAAAAAA+D/NzMzMzMz0P83MzMzMzPQ/zczMzMzM9D+amZmZmZn5P2ZmZmZmZv4/ZmZmZmZm9j+amZmZmZn5P2ZmZmZmZvY/AAAAAAAA+D9mZmZmZmb2Pw==\",\"dtype\":\"float64\",\"shape\":[50]},\"petal_width\":{\"__ndarray__\":\"mpmZmZmZyT+amZmZmZnJP5qZmZmZmck/mpmZmZmZyT+amZmZmZnJP5qZmZmZmdk/MzMzMzMz0z+amZmZmZnJP5qZmZmZmck/mpmZmZmZuT+amZmZmZnJP5qZmZmZmck/mpmZmZmZuT+amZmZmZm5P5qZmZmZmck/mpmZmZmZ2T+amZmZmZnZPzMzMzMzM9M/MzMzMzMz0z8zMzMzMzPTP5qZmZmZmck/mpmZmZmZ2T+amZmZmZnJPwAAAAAAAOA/mpmZmZmZyT+amZmZmZnJP5qZmZmZmdk/mpmZmZmZyT+amZmZmZnJP5qZmZmZmck/mpmZmZmZyT+amZmZmZnZP5qZmZmZmbk/mpmZmZmZyT+amZmZmZnJP5qZmZmZmck/mpmZmZmZyT+amZmZmZm5P5qZmZmZmck/mpmZmZmZyT8zMzMzMzPTPzMzMzMzM9M/mpmZmZmZyT8zMzMzMzPjP5qZmZmZmdk/MzMzMzMz0z+amZmZmZnJP5qZmZmZmck/mpmZmZmZyT+amZmZmZnJPw==\",\"dtype\":\"float64\",\"shape\":[50]},\"sepal_length\":{\"__ndarray__\":\"ZmZmZmZmFECamZmZmZkTQM3MzMzMzBJAZmZmZmZmEkAAAAAAAAAUQJqZmZmZmRVAZmZmZmZmEkAAAAAAAAAUQJqZmZmZmRFAmpmZmZmZE0CamZmZmZkVQDMzMzMzMxNAMzMzMzMzE0AzMzMzMzMRQDMzMzMzMxdAzczMzMzMFkCamZmZmZkVQGZmZmZmZhRAzczMzMzMFkBmZmZmZmYUQJqZmZmZmRVAZmZmZmZmFEBmZmZmZmYSQGZmZmZmZhRAMzMzMzMzE0AAAAAAAAAUQAAAAAAAABRAzczMzMzMFEDNzMzMzMwUQM3MzMzMzBJAMzMzMzMzE0CamZmZmZkVQM3MzMzMzBRAAAAAAAAAFkCamZmZmZkTQAAAAAAAABRAAAAAAAAAFkCamZmZmZkTQJqZmZmZmRFAZmZmZmZmFEAAAAAAAAAUQAAAAAAAABJAmpmZmZmZEUAAAAAAAAAUQGZmZmZmZhRAMzMzMzMzE0BmZmZmZmYUQGZmZmZmZhJAMzMzMzMzFUAAAAAAAAAUQA==\",\"dtype\":\"float64\",\"shape\":[50]},\"sepal_width\":{\"__ndarray__\":\"AAAAAAAADEAAAAAAAAAIQJqZmZmZmQlAzczMzMzMCEDNzMzMzMwMQDMzMzMzMw9AMzMzMzMzC0AzMzMzMzMLQDMzMzMzMwdAzczMzMzMCECamZmZmZkNQDMzMzMzMwtAAAAAAAAACEAAAAAAAAAIQAAAAAAAABBAmpmZmZmZEUAzMzMzMzMPQAAAAAAAAAxAZmZmZmZmDkBmZmZmZmYOQDMzMzMzMwtAmpmZmZmZDUDNzMzMzMwMQGZmZmZmZgpAMzMzMzMzC0AAAAAAAAAIQDMzMzMzMwtAAAAAAAAADEAzMzMzMzMLQJqZmZmZmQlAzczMzMzMCEAzMzMzMzMLQGZmZmZmZhBAzczMzMzMEEDNzMzMzMwIQJqZmZmZmQlAAAAAAAAADEDNzMzMzMwMQAAAAAAAAAhAMzMzMzMzC0AAAAAAAAAMQGZmZmZmZgJAmpmZmZmZCUAAAAAAAAAMQGZmZmZmZg5AAAAAAAAACEBmZmZmZmYOQJqZmZmZmQlAmpmZmZmZDUBmZmZmZmYKQA==\",\"dtype\":\"float64\",\"shape\":[50]},\"size\":{\"__ndarray__\":\"AAAAAACAMUAAAAAAAAAuQAAAAAAAADBAAAAAAAAAL0AAAAAAAAAyQAAAAAAAgDNAAAAAAAAAMUAAAAAAAAAxQAAAAAAAAC1AAAAAAAAAL0AAAAAAAIAyQAAAAAAAADFAAAAAAAAALkAAAAAAAAAuQAAAAAAAADRAAAAAAAAANkAAAAAAAIAzQAAAAAAAgDFAAAAAAAAAM0AAAAAAAAAzQAAAAAAAADFAAAAAAACAMkAAAAAAAAAyQAAAAAAAgDBAAAAAAAAAMUAAAAAAAAAuQAAAAAAAADFAAAAAAACAMUAAAAAAAAAxQAAAAAAAADBAAAAAAAAAL0AAAAAAAAAxQAAAAAAAgDRAAAAAAAAANUAAAAAAAAAvQAAAAAAAADBAAAAAAACAMUAAAAAAAAAyQAAAAAAAAC5AAAAAAAAAMUAAAAAAAIAxQAAAAAAAACdAAAAAAAAAMEAAAAAAAIAxQAAAAAAAADNAAAAAAAAALkAAAAAAAAAzQAAAAAAAADBAAAAAAACAMkAAAAAAAIAwQA==\",\"dtype\":\"float64\",\"shape\":[50]},\"species\":[\"setosa\",\"setosa\",\"setosa\",\"setosa\",\"setosa\",\"setosa\",\"setosa\",\"setosa\",\"setosa\",\"setosa\",\"setosa\",\"setosa\",\"setosa\",\"setosa\",\"setosa\",\"setosa\",\"setosa\",\"setosa\",\"setosa\",\"setosa\",\"setosa\",\"setosa\",\"setosa\",\"setosa\",\"setosa\",\"setosa\",\"setosa\",\"setosa\",\"setosa\",\"setosa\",\"setosa\",\"setosa\",\"setosa\",\"setosa\",\"setosa\",\"setosa\",\"setosa\",\"setosa\",\"setosa\",\"setosa\",\"setosa\",\"setosa\",\"setosa\",\"setosa\",\"setosa\",\"setosa\",\"setosa\",\"setosa\",\"setosa\",\"setosa\"]},\"selected\":{\"id\":\"63681\",\"type\":\"Selection\"},\"selection_policy\":{\"id\":\"63682\",\"type\":\"UnionRenderers\"}},\"id\":\"63620\",\"type\":\"ColumnDataSource\"},{\"attributes\":{\"text\":\"Petal plot\"},\"id\":\"63661\",\"type\":\"Title\"},{\"attributes\":{},\"id\":\"63630\",\"type\":\"LinearScale\"},{\"attributes\":{\"data_source\":{\"id\":\"63620\",\"type\":\"ColumnDataSource\"},\"glyph\":{\"id\":\"63656\",\"type\":\"Circle\"},\"hover_glyph\":null,\"muted_glyph\":null,\"nonselection_glyph\":{\"id\":\"63657\",\"type\":\"Circle\"},\"selection_glyph\":null,\"view\":{\"id\":\"63659\",\"type\":\"CDSView\"}},\"id\":\"63658\",\"type\":\"GlyphRenderer\"},{\"attributes\":{},\"id\":\"67157\",\"type\":\"WheelZoomTool\"},{\"attributes\":{\"label\":{\"value\":\"Virginica\"},\"renderers\":[{\"id\":\"67141\",\"type\":\"GlyphRenderer\"}]},\"id\":\"67154\",\"type\":\"LegendItem\"},{\"attributes\":{},\"id\":\"63664\",\"type\":\"BasicTickFormatter\"},{\"attributes\":{},\"id\":\"63698\",\"type\":\"Selection\"},{\"attributes\":{\"label\":{\"value\":\"Virginica\"},\"renderers\":[{\"id\":\"63687\",\"type\":\"GlyphRenderer\"}]},\"id\":\"63700\",\"type\":\"LegendItem\"},{\"attributes\":{\"data_source\":{\"id\":\"63622\",\"type\":\"ColumnDataSource\"},\"glyph\":{\"id\":\"67139\",\"type\":\"Circle\"},\"hover_glyph\":null,\"muted_glyph\":null,\"nonselection_glyph\":{\"id\":\"67140\",\"type\":\"Circle\"},\"selection_glyph\":null,\"view\":{\"id\":\"67142\",\"type\":\"CDSView\"}},\"id\":\"67141\",\"type\":\"GlyphRenderer\"},{\"attributes\":{\"fill_alpha\":{\"value\":0.2},\"fill_color\":{\"field\":\"color\"},\"line_color\":{\"field\":\"color\"},\"size\":{\"field\":\"size\",\"units\":\"screen\"},\"x\":{\"field\":\"petal_length\"},\"y\":{\"field\":\"petal_width\"}},\"id\":\"63670\",\"type\":\"Circle\"},{\"attributes\":{\"fill_alpha\":{\"value\":0.1},\"fill_color\":{\"value\":\"#1f77b4\"},\"line_alpha\":{\"value\":0.1},\"line_color\":{\"value\":\"#1f77b4\"},\"size\":{\"field\":\"size\",\"units\":\"screen\"},\"x\":{\"field\":\"petal_length\"},\"y\":{\"field\":\"petal_width\"}},\"id\":\"63671\",\"type\":\"Circle\"},{\"attributes\":{\"bottom_units\":\"screen\",\"fill_alpha\":{\"value\":0.5},\"fill_color\":{\"value\":\"lightgrey\"},\"left_units\":\"screen\",\"level\":\"overlay\",\"line_alpha\":{\"value\":1.0},\"line_color\":{\"value\":\"black\"},\"line_dash\":[4,4],\"line_width\":{\"value\":2},\"render_mode\":\"css\",\"right_units\":\"screen\",\"top_units\":\"screen\"},\"id\":\"65919\",\"type\":\"BoxAnnotation\"},{\"attributes\":{\"data_source\":{\"id\":\"63621\",\"type\":\"ColumnDataSource\"},\"glyph\":{\"id\":\"63670\",\"type\":\"Circle\"},\"hover_glyph\":null,\"muted_glyph\":null,\"nonselection_glyph\":{\"id\":\"63671\",\"type\":\"Circle\"},\"selection_glyph\":null,\"view\":{\"id\":\"63673\",\"type\":\"CDSView\"}},\"id\":\"63672\",\"type\":\"GlyphRenderer\"},{\"attributes\":{},\"id\":\"64854\",\"type\":\"SaveTool\"},{\"attributes\":{},\"id\":\"67155\",\"type\":\"PanTool\"},{\"attributes\":{\"dimension\":1,\"ticker\":{\"id\":\"63638\",\"type\":\"BasicTicker\"}},\"id\":\"63641\",\"type\":\"Grid\"},{\"attributes\":{\"source\":{\"id\":\"63621\",\"type\":\"ColumnDataSource\"}},\"id\":\"63673\",\"type\":\"CDSView\"},{\"attributes\":{\"fill_alpha\":{\"value\":0.1},\"fill_color\":{\"value\":\"#1f77b4\"},\"line_alpha\":{\"value\":0.1},\"line_color\":{\"value\":\"#1f77b4\"},\"size\":{\"field\":\"size\",\"units\":\"screen\"},\"x\":{\"field\":\"sepal_length\"},\"y\":{\"field\":\"sepal_width\"}},\"id\":\"67140\",\"type\":\"Circle\"},{\"attributes\":{\"click_policy\":\"hide\",\"items\":[{\"id\":\"67122\",\"type\":\"LegendItem\"},{\"id\":\"67137\",\"type\":\"LegendItem\"},{\"id\":\"67154\",\"type\":\"LegendItem\"}],\"location\":\"top_left\"},\"id\":\"67121\",\"type\":\"Legend\"},{\"attributes\":{\"fill_alpha\":{\"value\":0.1},\"fill_color\":{\"value\":\"#1f77b4\"},\"line_alpha\":{\"value\":0.1},\"line_color\":{\"value\":\"#1f77b4\"},\"size\":{\"field\":\"size\",\"units\":\"screen\"},\"x\":{\"field\":\"petal_length\"},\"y\":{\"field\":\"petal_width\"}},\"id\":\"63657\",\"type\":\"Circle\"},{\"attributes\":{},\"id\":\"63628\",\"type\":\"LinearScale\"},{\"attributes\":{\"callback\":null,\"data\":{\"color\":[\"blue\",\"blue\",\"blue\",\"blue\",\"blue\",\"blue\",\"blue\",\"blue\",\"blue\",\"blue\",\"blue\",\"blue\",\"blue\",\"blue\",\"blue\",\"blue\",\"blue\",\"blue\",\"blue\",\"blue\",\"blue\",\"blue\",\"blue\",\"blue\",\"blue\",\"blue\",\"blue\",\"blue\",\"blue\",\"blue\",\"blue\",\"blue\",\"blue\",\"blue\",\"blue\",\"blue\",\"blue\",\"blue\",\"blue\",\"blue\",\"blue\",\"blue\",\"blue\",\"blue\",\"blue\",\"blue\",\"blue\",\"blue\",\"blue\",\"blue\"],\"index\":[100,101,102,103,104,105,106,107,108,109,110,111,112,113,114,115,116,117,118,119,120,121,122,123,124,125,126,127,128,129,130,131,132,133,134,135,136,137,138,139,140,141,142,143,144,145,146,147,148,149],\"petal_length\":{\"__ndarray__\":\"AAAAAAAAGEBmZmZmZmYUQJqZmZmZmRdAZmZmZmZmFkAzMzMzMzMXQGZmZmZmZhpAAAAAAAAAEkAzMzMzMzMZQDMzMzMzMxdAZmZmZmZmGEBmZmZmZmYUQDMzMzMzMxVAAAAAAAAAFkAAAAAAAAAUQGZmZmZmZhRAMzMzMzMzFUAAAAAAAAAWQM3MzMzMzBpAmpmZmZmZG0AAAAAAAAAUQM3MzMzMzBZAmpmZmZmZE0DNzMzMzMwaQJqZmZmZmRNAzczMzMzMFkAAAAAAAAAYQDMzMzMzMxNAmpmZmZmZE0BmZmZmZmYWQDMzMzMzMxdAZmZmZmZmGECamZmZmZkZQGZmZmZmZhZAZmZmZmZmFEBmZmZmZmYWQGZmZmZmZhhAZmZmZmZmFkAAAAAAAAAWQDMzMzMzMxNAmpmZmZmZFUBmZmZmZmYWQGZmZmZmZhRAZmZmZmZmFECamZmZmZkXQM3MzMzMzBZAzczMzMzMFEAAAAAAAAAUQM3MzMzMzBRAmpmZmZmZFUBmZmZmZmYUQA==\",\"dtype\":\"float64\",\"shape\":[50]},\"petal_width\":{\"__ndarray__\":\"AAAAAAAABEBmZmZmZmb+P83MzMzMzABAzczMzMzM/D+amZmZmZkBQM3MzMzMzABAMzMzMzMz+z/NzMzMzMz8P83MzMzMzPw/AAAAAAAABEAAAAAAAAAAQGZmZmZmZv4/zczMzMzMAEAAAAAAAAAAQDMzMzMzMwNAZmZmZmZmAkDNzMzMzMz8P5qZmZmZmQFAZmZmZmZmAkAAAAAAAAD4P2ZmZmZmZgJAAAAAAAAAAEAAAAAAAAAAQM3MzMzMzPw/zczMzMzMAEDNzMzMzMz8P83MzMzMzPw/zczMzMzM/D/NzMzMzMwAQJqZmZmZmfk/ZmZmZmZm/j8AAAAAAAAAQJqZmZmZmQFAAAAAAAAA+D9mZmZmZmb2P2ZmZmZmZgJAMzMzMzMzA0DNzMzMzMz8P83MzMzMzPw/zczMzMzMAEAzMzMzMzMDQGZmZmZmZgJAZmZmZmZm/j9mZmZmZmYCQAAAAAAAAARAZmZmZmZmAkBmZmZmZmb+PwAAAAAAAABAZmZmZmZmAkDNzMzMzMz8Pw==\",\"dtype\":\"float64\",\"shape\":[50]},\"sepal_length\":{\"__ndarray__\":\"MzMzMzMzGUAzMzMzMzMXQGZmZmZmZhxAMzMzMzMzGUAAAAAAAAAaQGZmZmZmZh5AmpmZmZmZE0AzMzMzMzMdQM3MzMzMzBpAzczMzMzMHEAAAAAAAAAaQJqZmZmZmRlAMzMzMzMzG0DNzMzMzMwWQDMzMzMzMxdAmpmZmZmZGUAAAAAAAAAaQM3MzMzMzB5AzczMzMzMHkAAAAAAAAAYQJqZmZmZmRtAZmZmZmZmFkDNzMzMzMweQDMzMzMzMxlAzczMzMzMGkDNzMzMzMwcQM3MzMzMzBhAZmZmZmZmGECamZmZmZkZQM3MzMzMzBxAmpmZmZmZHUCamZmZmZkfQJqZmZmZmRlAMzMzMzMzGUBmZmZmZmYYQM3MzMzMzB5AMzMzMzMzGUCamZmZmZkZQAAAAAAAABhAmpmZmZmZG0DNzMzMzMwaQJqZmZmZmRtAMzMzMzMzF0AzMzMzMzMbQM3MzMzMzBpAzczMzMzMGkAzMzMzMzMZQAAAAAAAABpAzczMzMzMGECamZmZmZkXQA==\",\"dtype\":\"float64\",\"shape\":[50]},\"sepal_width\":{\"__ndarray__\":\"ZmZmZmZmCkCamZmZmZkFQAAAAAAAAAhAMzMzMzMzB0AAAAAAAAAIQAAAAAAAAAhAAAAAAAAABEAzMzMzMzMHQAAAAAAAAARAzczMzMzMDECamZmZmZkJQJqZmZmZmQVAAAAAAAAACEAAAAAAAAAEQGZmZmZmZgZAmpmZmZmZCUAAAAAAAAAIQGZmZmZmZg5AzczMzMzMBECamZmZmZkBQJqZmZmZmQlAZmZmZmZmBkBmZmZmZmYGQJqZmZmZmQVAZmZmZmZmCkCamZmZmZkJQGZmZmZmZgZAAAAAAAAACEBmZmZmZmYGQAAAAAAAAAhAZmZmZmZmBkBmZmZmZmYOQGZmZmZmZgZAZmZmZmZmBkDNzMzMzMwEQAAAAAAAAAhAMzMzMzMzC0DNzMzMzMwIQAAAAAAAAAhAzczMzMzMCEDNzMzMzMwIQM3MzMzMzAhAmpmZmZmZBUCamZmZmZkJQGZmZmZmZgpAAAAAAAAACEAAAAAAAAAEQAAAAAAAAAhAMzMzMzMzC0AAAAAAAAAIQA==\",\"dtype\":\"float64\",\"shape\":[50]},\"size\":{\"__ndarray__\":\"AAAAAACAMEAAAAAAAAArQAAAAAAAAC5AAAAAAAAALUAAAAAAAAAuQAAAAAAAAC5AAAAAAAAAKUAAAAAAAAAtQAAAAAAAAClAAAAAAAAAMkAAAAAAAAAwQAAAAAAAACtAAAAAAAAALkAAAAAAAAApQAAAAAAAACxAAAAAAAAAMEAAAAAAAAAuQAAAAAAAADNAAAAAAAAAKkAAAAAAAAAmQAAAAAAAADBAAAAAAAAALEAAAAAAAAAsQAAAAAAAACtAAAAAAACAMEAAAAAAAAAwQAAAAAAAACxAAAAAAAAALkAAAAAAAAAsQAAAAAAAAC5AAAAAAAAALEAAAAAAAAAzQAAAAAAAACxAAAAAAAAALEAAAAAAAAAqQAAAAAAAAC5AAAAAAAAAMUAAAAAAAAAvQAAAAAAAAC5AAAAAAAAAL0AAAAAAAAAvQAAAAAAAAC9AAAAAAAAAK0AAAAAAAAAwQAAAAAAAgDBAAAAAAAAALkAAAAAAAAApQAAAAAAAAC5AAAAAAAAAMUAAAAAAAAAuQA==\",\"dtype\":\"float64\",\"shape\":[50]},\"species\":[\"virginica\",\"virginica\",\"virginica\",\"virginica\",\"virginica\",\"virginica\",\"virginica\",\"virginica\",\"virginica\",\"virginica\",\"virginica\",\"virginica\",\"virginica\",\"virginica\",\"virginica\",\"virginica\",\"virginica\",\"virginica\",\"virginica\",\"virginica\",\"virginica\",\"virginica\",\"virginica\",\"virginica\",\"virginica\",\"virginica\",\"virginica\",\"virginica\",\"virginica\",\"virginica\",\"virginica\",\"virginica\",\"virginica\",\"virginica\",\"virginica\",\"virginica\",\"virginica\",\"virginica\",\"virginica\",\"virginica\",\"virginica\",\"virginica\",\"virginica\",\"virginica\",\"virginica\",\"virginica\",\"virginica\",\"virginica\",\"virginica\",\"virginica\"]},\"selected\":{\"id\":\"64770\",\"type\":\"Selection\"},\"selection_policy\":{\"id\":\"64771\",\"type\":\"UnionRenderers\"}},\"id\":\"63622\",\"type\":\"ColumnDataSource\"},{\"attributes\":{\"active_drag\":\"auto\",\"active_inspect\":\"auto\",\"active_multi\":null,\"active_scroll\":\"auto\",\"active_tap\":\"auto\",\"logo\":null,\"tools\":[{\"id\":\"67155\",\"type\":\"PanTool\"},{\"id\":\"67156\",\"type\":\"ResetTool\"},{\"id\":\"67157\",\"type\":\"WheelZoomTool\"},{\"id\":\"67158\",\"type\":\"BoxZoomTool\"},{\"id\":\"67159\",\"type\":\"SaveTool\"},{\"id\":\"67161\",\"type\":\"HoverTool\"}]},\"id\":\"67102\",\"type\":\"Toolbar\"},{\"attributes\":{\"callback\":null,\"tooltips\":[[\"Species\",\"@species\"],[\"Sepal Width\",\"@sepal_width\"]]},\"id\":\"65926\",\"type\":\"HoverTool\"},{\"attributes\":{\"label\":{\"value\":\"Versicolor\"},\"renderers\":[{\"id\":\"63672\",\"type\":\"GlyphRenderer\"}]},\"id\":\"63683\",\"type\":\"LegendItem\"},{\"attributes\":{\"label\":{\"value\":\"Versicolor\"},\"renderers\":[{\"id\":\"67126\",\"type\":\"GlyphRenderer\"}]},\"id\":\"67137\",\"type\":\"LegendItem\"},{\"attributes\":{\"below\":[{\"id\":\"63632\",\"type\":\"LinearAxis\"}],\"center\":[{\"id\":\"63636\",\"type\":\"Grid\"},{\"id\":\"63641\",\"type\":\"Grid\"},{\"id\":\"63667\",\"type\":\"Legend\"}],\"left\":[{\"id\":\"63637\",\"type\":\"LinearAxis\"}],\"plot_height\":500,\"plot_width\":500,\"renderers\":[{\"id\":\"63658\",\"type\":\"GlyphRenderer\"},{\"id\":\"63672\",\"type\":\"GlyphRenderer\"},{\"id\":\"63687\",\"type\":\"GlyphRenderer\"}],\"title\":{\"id\":\"63661\",\"type\":\"Title\"},\"toolbar\":{\"id\":\"63648\",\"type\":\"Toolbar\"},\"toolbar_location\":null,\"x_range\":{\"id\":\"63624\",\"type\":\"DataRange1d\"},\"x_scale\":{\"id\":\"63628\",\"type\":\"LinearScale\"},\"y_range\":{\"id\":\"63626\",\"type\":\"DataRange1d\"},\"y_scale\":{\"id\":\"63630\",\"type\":\"LinearScale\"}},\"id\":\"63623\",\"subtype\":\"Figure\",\"type\":\"Plot\"},{\"attributes\":{},\"id\":\"63681\",\"type\":\"Selection\"},{\"attributes\":{},\"id\":\"67116\",\"type\":\"BasicTickFormatter\"},{\"attributes\":{\"fill_alpha\":{\"value\":0.2},\"fill_color\":{\"field\":\"color\"},\"line_color\":{\"field\":\"color\"},\"size\":{\"field\":\"size\",\"units\":\"screen\"},\"x\":{\"field\":\"petal_length\"},\"y\":{\"field\":\"petal_width\"}},\"id\":\"63656\",\"type\":\"Circle\"},{\"attributes\":{\"label\":{\"value\":\"Setosa\"},\"renderers\":[{\"id\":\"63658\",\"type\":\"GlyphRenderer\"}]},\"id\":\"63668\",\"type\":\"LegendItem\"},{\"attributes\":{\"axis_label\":\"Petal Width\",\"formatter\":{\"id\":\"63662\",\"type\":\"BasicTickFormatter\"},\"ticker\":{\"id\":\"63638\",\"type\":\"BasicTicker\"}},\"id\":\"63637\",\"type\":\"LinearAxis\"},{\"attributes\":{\"overlay\":{\"id\":\"65919\",\"type\":\"BoxAnnotation\"}},\"id\":\"64853\",\"type\":\"BoxZoomTool\"},{\"attributes\":{\"source\":{\"id\":\"63620\",\"type\":\"ColumnDataSource\"}},\"id\":\"63659\",\"type\":\"CDSView\"},{\"attributes\":{},\"id\":\"64852\",\"type\":\"WheelZoomTool\"},{\"attributes\":{},\"id\":\"63662\",\"type\":\"BasicTickFormatter\"},{\"attributes\":{\"callback\":null,\"data\":{\"color\":[\"green\",\"green\",\"green\",\"green\",\"green\",\"green\",\"green\",\"green\",\"green\",\"green\",\"green\",\"green\",\"green\",\"green\",\"green\",\"green\",\"green\",\"green\",\"green\",\"green\",\"green\",\"green\",\"green\",\"green\",\"green\",\"green\",\"green\",\"green\",\"green\",\"green\",\"green\",\"green\",\"green\",\"green\",\"green\",\"green\",\"green\",\"green\",\"green\",\"green\",\"green\",\"green\",\"green\",\"green\",\"green\",\"green\",\"green\",\"green\",\"green\",\"green\"],\"index\":[50,51,52,53,54,55,56,57,58,59,60,61,62,63,64,65,66,67,68,69,70,71,72,73,74,75,76,77,78,79,80,81,82,83,84,85,86,87,88,89,90,91,92,93,94,95,96,97,98,99],\"petal_length\":{\"__ndarray__\":\"zczMzMzMEkAAAAAAAAASQJqZmZmZmRNAAAAAAAAAEEBmZmZmZmYSQAAAAAAAABJAzczMzMzMEkBmZmZmZmYKQGZmZmZmZhJAMzMzMzMzD0AAAAAAAAAMQM3MzMzMzBBAAAAAAAAAEEDNzMzMzMwSQM3MzMzMzAxAmpmZmZmZEUAAAAAAAAASQGZmZmZmZhBAAAAAAAAAEkAzMzMzMzMPQDMzMzMzMxNAAAAAAAAAEECamZmZmZkTQM3MzMzMzBJAMzMzMzMzEUCamZmZmZkRQDMzMzMzMxNAAAAAAAAAFEAAAAAAAAASQAAAAAAAAAxAZmZmZmZmDkCamZmZmZkNQDMzMzMzMw9AZmZmZmZmFEAAAAAAAAASQAAAAAAAABJAzczMzMzMEkCamZmZmZkRQGZmZmZmZhBAAAAAAAAAEECamZmZmZkRQGZmZmZmZhJAAAAAAAAAEEBmZmZmZmYKQM3MzMzMzBBAzczMzMzMEEDNzMzMzMwQQDMzMzMzMxFAAAAAAAAACEBmZmZmZmYQQA==\",\"dtype\":\"float64\",\"shape\":[50]},\"petal_width\":{\"__ndarray__\":\"ZmZmZmZm9j8AAAAAAAD4PwAAAAAAAPg/zczMzMzM9D8AAAAAAAD4P83MzMzMzPQ/mpmZmZmZ+T8AAAAAAADwP83MzMzMzPQ/ZmZmZmZm9j8AAAAAAADwPwAAAAAAAPg/AAAAAAAA8D9mZmZmZmb2P83MzMzMzPQ/ZmZmZmZm9j8AAAAAAAD4PwAAAAAAAPA/AAAAAAAA+D+amZmZmZnxP83MzMzMzPw/zczMzMzM9D8AAAAAAAD4PzMzMzMzM/M/zczMzMzM9D9mZmZmZmb2P2ZmZmZmZvY/MzMzMzMz+z8AAAAAAAD4PwAAAAAAAPA/mpmZmZmZ8T8AAAAAAADwPzMzMzMzM/M/mpmZmZmZ+T8AAAAAAAD4P5qZmZmZmfk/AAAAAAAA+D/NzMzMzMz0P83MzMzMzPQ/zczMzMzM9D8zMzMzMzPzP2ZmZmZmZvY/MzMzMzMz8z8AAAAAAADwP83MzMzMzPQ/MzMzMzMz8z/NzMzMzMz0P83MzMzMzPQ/mpmZmZmZ8T/NzMzMzMz0Pw==\",\"dtype\":\"float64\",\"shape\":[50]},\"sepal_length\":{\"__ndarray__\":\"AAAAAAAAHECamZmZmZkZQJqZmZmZmRtAAAAAAAAAFkAAAAAAAAAaQM3MzMzMzBZAMzMzMzMzGUCamZmZmZkTQGZmZmZmZhpAzczMzMzMFEAAAAAAAAAUQJqZmZmZmRdAAAAAAAAAGEBmZmZmZmYYQGZmZmZmZhZAzczMzMzMGkBmZmZmZmYWQDMzMzMzMxdAzczMzMzMGEBmZmZmZmYWQJqZmZmZmRdAZmZmZmZmGEAzMzMzMzMZQGZmZmZmZhhAmpmZmZmZGUBmZmZmZmYaQDMzMzMzMxtAzczMzMzMGkAAAAAAAAAYQM3MzMzMzBZAAAAAAAAAFkAAAAAAAAAWQDMzMzMzMxdAAAAAAAAAGECamZmZmZkVQAAAAAAAABhAzczMzMzMGkAzMzMzMzMZQGZmZmZmZhZAAAAAAAAAFkAAAAAAAAAWQGZmZmZmZhhAMzMzMzMzF0AAAAAAAAAUQGZmZmZmZhZAzczMzMzMFkDNzMzMzMwWQM3MzMzMzBhAZmZmZmZmFEDNzMzMzMwWQA==\",\"dtype\":\"float64\",\"shape\":[50]},\"sepal_width\":{\"__ndarray__\":\"mpmZmZmZCUCamZmZmZkJQM3MzMzMzAhAZmZmZmZmAkBmZmZmZmYGQGZmZmZmZgZAZmZmZmZmCkAzMzMzMzMDQDMzMzMzMwdAmpmZmZmZBUAAAAAAAAAAQAAAAAAAAAhAmpmZmZmZAUAzMzMzMzMHQDMzMzMzMwdAzczMzMzMCEAAAAAAAAAIQJqZmZmZmQVAmpmZmZmZAUAAAAAAAAAEQJqZmZmZmQlAZmZmZmZmBkAAAAAAAAAEQGZmZmZmZgZAMzMzMzMzB0AAAAAAAAAIQGZmZmZmZgZAAAAAAAAACEAzMzMzMzMHQM3MzMzMzARAMzMzMzMzA0AzMzMzMzMDQJqZmZmZmQVAmpmZmZmZBUAAAAAAAAAIQDMzMzMzMwtAzczMzMzMCEBmZmZmZmYCQAAAAAAAAAhAAAAAAAAABEDNzMzMzMwEQAAAAAAAAAhAzczMzMzMBEBmZmZmZmYCQJqZmZmZmQVAAAAAAAAACEAzMzMzMzMHQDMzMzMzMwdAAAAAAAAABEBmZmZmZmYGQA==\",\"dtype\":\"float64\",\"shape\":[50]},\"size\":{\"__ndarray__\":\"AAAAAAAAMEAAAAAAAAAwQAAAAAAAAC9AAAAAAAAAJ0AAAAAAAAAsQAAAAAAAACxAAAAAAACAMEAAAAAAAAAoQAAAAAAAAC1AAAAAAAAAK0AAAAAAAAAkQAAAAAAAAC5AAAAAAAAAJkAAAAAAAAAtQAAAAAAAAC1AAAAAAAAAL0AAAAAAAAAuQAAAAAAAACtAAAAAAAAAJkAAAAAAAAApQAAAAAAAADBAAAAAAAAALEAAAAAAAAApQAAAAAAAACxAAAAAAAAALUAAAAAAAAAuQAAAAAAAACxAAAAAAAAALkAAAAAAAAAtQAAAAAAAACpAAAAAAAAAKEAAAAAAAAAoQAAAAAAAACtAAAAAAAAAK0AAAAAAAAAuQAAAAAAAADFAAAAAAAAAL0AAAAAAAAAnQAAAAAAAAC5AAAAAAAAAKUAAAAAAAAAqQAAAAAAAAC5AAAAAAAAAKkAAAAAAAAAnQAAAAAAAACtAAAAAAAAALkAAAAAAAAAtQAAAAAAAAC1AAAAAAAAAKUAAAAAAAAAsQA==\",\"dtype\":\"float64\",\"shape\":[50]},\"species\":[\"versicolor\",\"versicolor\",\"versicolor\",\"versicolor\",\"versicolor\",\"versicolor\",\"versicolor\",\"versicolor\",\"versicolor\",\"versicolor\",\"versicolor\",\"versicolor\",\"versicolor\",\"versicolor\",\"versicolor\",\"versicolor\",\"versicolor\",\"versicolor\",\"versicolor\",\"versicolor\",\"versicolor\",\"versicolor\",\"versicolor\",\"versicolor\",\"versicolor\",\"versicolor\",\"versicolor\",\"versicolor\",\"versicolor\",\"versicolor\",\"versicolor\",\"versicolor\",\"versicolor\",\"versicolor\",\"versicolor\",\"versicolor\",\"versicolor\",\"versicolor\",\"versicolor\",\"versicolor\",\"versicolor\",\"versicolor\",\"versicolor\",\"versicolor\",\"versicolor\",\"versicolor\",\"versicolor\",\"versicolor\",\"versicolor\",\"versicolor\"]},\"selected\":{\"id\":\"63698\",\"type\":\"Selection\"},\"selection_policy\":{\"id\":\"63699\",\"type\":\"UnionRenderers\"}},\"id\":\"63621\",\"type\":\"ColumnDataSource\"},{\"attributes\":{},\"id\":\"64851\",\"type\":\"ResetTool\"},{\"attributes\":{\"callback\":null},\"id\":\"63626\",\"type\":\"DataRange1d\"},{\"attributes\":{\"tools\":[{\"id\":\"64850\",\"type\":\"PanTool\"},{\"id\":\"64851\",\"type\":\"ResetTool\"},{\"id\":\"64852\",\"type\":\"WheelZoomTool\"},{\"id\":\"64853\",\"type\":\"BoxZoomTool\"},{\"id\":\"64854\",\"type\":\"SaveTool\"},{\"id\":\"65926\",\"type\":\"HoverTool\"},{\"id\":\"67155\",\"type\":\"PanTool\"},{\"id\":\"67156\",\"type\":\"ResetTool\"},{\"id\":\"67157\",\"type\":\"WheelZoomTool\"},{\"id\":\"67158\",\"type\":\"BoxZoomTool\"},{\"id\":\"67159\",\"type\":\"SaveTool\"},{\"id\":\"67161\",\"type\":\"HoverTool\"}]},\"id\":\"72136\",\"type\":\"ProxyToolbar\"},{\"attributes\":{\"click_policy\":\"hide\",\"items\":[{\"id\":\"63668\",\"type\":\"LegendItem\"},{\"id\":\"63683\",\"type\":\"LegendItem\"},{\"id\":\"63700\",\"type\":\"LegendItem\"}],\"location\":\"top_left\"},\"id\":\"63667\",\"type\":\"Legend\"},{\"attributes\":{},\"id\":\"64850\",\"type\":\"PanTool\"},{\"attributes\":{},\"id\":\"67156\",\"type\":\"ResetTool\"},{\"attributes\":{\"data_source\":{\"id\":\"63621\",\"type\":\"ColumnDataSource\"},\"glyph\":{\"id\":\"67124\",\"type\":\"Circle\"},\"hover_glyph\":null,\"muted_glyph\":null,\"nonselection_glyph\":{\"id\":\"67125\",\"type\":\"Circle\"},\"selection_glyph\":null,\"view\":{\"id\":\"67127\",\"type\":\"CDSView\"}},\"id\":\"67126\",\"type\":\"GlyphRenderer\"},{\"attributes\":{},\"id\":\"63633\",\"type\":\"BasicTicker\"},{\"attributes\":{},\"id\":\"67118\",\"type\":\"BasicTickFormatter\"},{\"attributes\":{},\"id\":\"63638\",\"type\":\"BasicTicker\"},{\"attributes\":{\"callback\":null},\"id\":\"63624\",\"type\":\"DataRange1d\"},{\"attributes\":{\"axis_label\":\"Petal Length\",\"formatter\":{\"id\":\"63664\",\"type\":\"BasicTickFormatter\"},\"ticker\":{\"id\":\"63633\",\"type\":\"BasicTicker\"}},\"id\":\"63632\",\"type\":\"LinearAxis\"},{\"attributes\":{\"ticker\":{\"id\":\"63633\",\"type\":\"BasicTicker\"}},\"id\":\"63636\",\"type\":\"Grid\"}],\"root_ids\":[\"72138\"]},\"title\":\"Bokeh Application\",\"version\":\"1.3.4\"}};\n",
       "  var render_items = [{\"docid\":\"2d0bdf2c-e297-473b-873e-c61886c5c429\",\"roots\":{\"72138\":\"441e5d34-37ae-400f-836c-98930b8c3132\"}}];\n",
       "  root.Bokeh.embed.embed_items_notebook(docs_json, render_items);\n",
       "\n",
       "  }\n",
       "  if (root.Bokeh !== undefined) {\n",
       "    embed_document(root);\n",
       "  } else {\n",
       "    var attempts = 0;\n",
       "    var timer = setInterval(function(root) {\n",
       "      if (root.Bokeh !== undefined) {\n",
       "        embed_document(root);\n",
       "        clearInterval(timer);\n",
       "      }\n",
       "      attempts++;\n",
       "      if (attempts > 100) {\n",
       "        console.log(\"Bokeh: ERROR: Unable to run BokehJS code because BokehJS library is missing\");\n",
       "        clearInterval(timer);\n",
       "      }\n",
       "    }, 10, root)\n",
       "  }\n",
       "})(window);"
      ],
      "application/vnd.bokehjs_exec.v0+json": ""
     },
     "metadata": {
      "application/vnd.bokehjs_exec.v0+json": {
       "id": "72138"
      }
     },
     "output_type": "display_data"
    }
   ],
   "source": [
    "layout2 = gridplot([[p, None],[None,p2]], toolbar_location='right')\n",
    "show(layout2)"
   ]
  },
  {
   "cell_type": "code",
   "execution_count": 193,
   "metadata": {},
   "outputs": [
    {
     "data": {
      "text/html": [
       "\n",
       "\n",
       "\n",
       "\n",
       "\n",
       "\n",
       "  <div class=\"bk-root\" id=\"ab4675de-cfbf-4c1e-8c82-6ccae44a198f\" data-root-id=\"73430\"></div>\n"
      ]
     },
     "metadata": {},
     "output_type": "display_data"
    },
    {
     "data": {
      "application/javascript": [
       "(function(root) {\n",
       "  function embed_document(root) {\n",
       "    \n",
       "  var docs_json = {\"a0391122-47c5-4b2c-93ff-ac0536d214c8\":{\"roots\":{\"references\":[{\"attributes\":{\"callback\":null,\"tabs\":[{\"id\":\"73428\",\"type\":\"Panel\"},{\"id\":\"73429\",\"type\":\"Panel\"}]},\"id\":\"73430\",\"type\":\"Tabs\"},{\"attributes\":{},\"id\":\"67082\",\"type\":\"LinearScale\"},{\"attributes\":{},\"id\":\"67084\",\"type\":\"LinearScale\"},{\"attributes\":{\"axis_label\":\"Sepal Length\",\"formatter\":{\"id\":\"67118\",\"type\":\"BasicTickFormatter\"},\"ticker\":{\"id\":\"67087\",\"type\":\"BasicTicker\"}},\"id\":\"67086\",\"type\":\"LinearAxis\"},{\"attributes\":{},\"id\":\"67092\",\"type\":\"BasicTicker\"},{\"attributes\":{},\"id\":\"67087\",\"type\":\"BasicTicker\"},{\"attributes\":{\"ticker\":{\"id\":\"67087\",\"type\":\"BasicTicker\"}},\"id\":\"67090\",\"type\":\"Grid\"},{\"attributes\":{\"source\":{\"id\":\"63622\",\"type\":\"ColumnDataSource\"}},\"id\":\"67142\",\"type\":\"CDSView\"},{\"attributes\":{\"dimension\":1,\"ticker\":{\"id\":\"67092\",\"type\":\"BasicTicker\"}},\"id\":\"67095\",\"type\":\"Grid\"},{\"attributes\":{\"axis_label\":\"Sepal Width\",\"formatter\":{\"id\":\"67116\",\"type\":\"BasicTickFormatter\"},\"ticker\":{\"id\":\"67092\",\"type\":\"BasicTicker\"}},\"id\":\"67091\",\"type\":\"LinearAxis\"},{\"attributes\":{\"fill_alpha\":{\"value\":0.1},\"fill_color\":{\"value\":\"#1f77b4\"},\"line_alpha\":{\"value\":0.1},\"line_color\":{\"value\":\"#1f77b4\"},\"size\":{\"field\":\"size\",\"units\":\"screen\"},\"x\":{\"field\":\"sepal_length\"},\"y\":{\"field\":\"sepal_width\"}},\"id\":\"67111\",\"type\":\"Circle\"},{\"attributes\":{\"child\":{\"id\":\"63623\",\"subtype\":\"Figure\",\"type\":\"Plot\"},\"title\":\"Petal\"},\"id\":\"73428\",\"type\":\"Panel\"},{\"attributes\":{\"data_source\":{\"id\":\"63620\",\"type\":\"ColumnDataSource\"},\"glyph\":{\"id\":\"67110\",\"type\":\"Circle\"},\"hover_glyph\":null,\"muted_glyph\":null,\"nonselection_glyph\":{\"id\":\"67111\",\"type\":\"Circle\"},\"selection_glyph\":null,\"view\":{\"id\":\"67113\",\"type\":\"CDSView\"}},\"id\":\"67112\",\"type\":\"GlyphRenderer\"},{\"attributes\":{\"fill_alpha\":{\"value\":0.2},\"fill_color\":{\"field\":\"color\"},\"line_color\":{\"field\":\"color\"},\"size\":{\"field\":\"size\",\"units\":\"screen\"},\"x\":{\"field\":\"petal_length\"},\"y\":{\"field\":\"petal_width\"}},\"id\":\"63685\",\"type\":\"Circle\"},{\"attributes\":{},\"id\":\"64771\",\"type\":\"UnionRenderers\"},{\"attributes\":{},\"id\":\"64770\",\"type\":\"Selection\"},{\"attributes\":{},\"id\":\"67159\",\"type\":\"SaveTool\"},{\"attributes\":{\"source\":{\"id\":\"63620\",\"type\":\"ColumnDataSource\"}},\"id\":\"67113\",\"type\":\"CDSView\"},{\"attributes\":{\"bottom_units\":\"screen\",\"fill_alpha\":{\"value\":0.5},\"fill_color\":{\"value\":\"lightgrey\"},\"left_units\":\"screen\",\"level\":\"overlay\",\"line_alpha\":{\"value\":1.0},\"line_color\":{\"value\":\"black\"},\"line_dash\":[4,4],\"line_width\":{\"value\":2},\"render_mode\":\"css\",\"right_units\":\"screen\",\"top_units\":\"screen\"},\"id\":\"68241\",\"type\":\"BoxAnnotation\"},{\"attributes\":{\"child\":{\"id\":\"67077\",\"subtype\":\"Figure\",\"type\":\"Plot\"},\"title\":\"Sepal\"},\"id\":\"73429\",\"type\":\"Panel\"},{\"attributes\":{\"fill_alpha\":{\"value\":0.1},\"fill_color\":{\"value\":\"#1f77b4\"},\"line_alpha\":{\"value\":0.1},\"line_color\":{\"value\":\"#1f77b4\"},\"size\":{\"field\":\"size\",\"units\":\"screen\"},\"x\":{\"field\":\"sepal_length\"},\"y\":{\"field\":\"sepal_width\"}},\"id\":\"67125\",\"type\":\"Circle\"},{\"attributes\":{\"fill_alpha\":{\"value\":0.2},\"fill_color\":{\"field\":\"color\"},\"line_color\":{\"field\":\"color\"},\"size\":{\"field\":\"size\",\"units\":\"screen\"},\"x\":{\"field\":\"sepal_length\"},\"y\":{\"field\":\"sepal_width\"}},\"id\":\"67110\",\"type\":\"Circle\"},{\"attributes\":{\"below\":[{\"id\":\"67086\",\"type\":\"LinearAxis\"}],\"center\":[{\"id\":\"67090\",\"type\":\"Grid\"},{\"id\":\"67095\",\"type\":\"Grid\"},{\"id\":\"67121\",\"type\":\"Legend\"}],\"left\":[{\"id\":\"67091\",\"type\":\"LinearAxis\"}],\"plot_height\":500,\"plot_width\":500,\"renderers\":[{\"id\":\"67112\",\"type\":\"GlyphRenderer\"},{\"id\":\"67126\",\"type\":\"GlyphRenderer\"},{\"id\":\"67141\",\"type\":\"GlyphRenderer\"}],\"title\":{\"id\":\"67115\",\"type\":\"Title\"},\"toolbar\":{\"id\":\"67102\",\"type\":\"Toolbar\"},\"toolbar_location\":null,\"x_range\":{\"id\":\"67078\",\"type\":\"DataRange1d\"},\"x_scale\":{\"id\":\"67082\",\"type\":\"LinearScale\"},\"y_range\":{\"id\":\"67080\",\"type\":\"DataRange1d\"},\"y_scale\":{\"id\":\"67084\",\"type\":\"LinearScale\"}},\"id\":\"67077\",\"subtype\":\"Figure\",\"type\":\"Plot\"},{\"attributes\":{\"fill_alpha\":{\"value\":0.2},\"fill_color\":{\"field\":\"color\"},\"line_color\":{\"field\":\"color\"},\"size\":{\"field\":\"size\",\"units\":\"screen\"},\"x\":{\"field\":\"sepal_length\"},\"y\":{\"field\":\"sepal_width\"}},\"id\":\"67124\",\"type\":\"Circle\"},{\"attributes\":{\"text\":\"Sepal plot\"},\"id\":\"67115\",\"type\":\"Title\"},{\"attributes\":{\"callback\":null},\"id\":\"67078\",\"type\":\"DataRange1d\"},{\"attributes\":{},\"id\":\"63699\",\"type\":\"UnionRenderers\"},{\"attributes\":{\"callback\":null},\"id\":\"67080\",\"type\":\"DataRange1d\"},{\"attributes\":{},\"id\":\"63682\",\"type\":\"UnionRenderers\"},{\"attributes\":{\"callback\":null,\"tooltips\":[[\"Species\",\"@species\"],[\"Sepal Width\",\"@petal_width\"]]},\"id\":\"67161\",\"type\":\"HoverTool\"},{\"attributes\":{\"fill_alpha\":{\"value\":0.1},\"fill_color\":{\"value\":\"#1f77b4\"},\"line_alpha\":{\"value\":0.1},\"line_color\":{\"value\":\"#1f77b4\"},\"size\":{\"field\":\"size\",\"units\":\"screen\"},\"x\":{\"field\":\"petal_length\"},\"y\":{\"field\":\"petal_width\"}},\"id\":\"63686\",\"type\":\"Circle\"},{\"attributes\":{\"fill_alpha\":{\"value\":0.2},\"fill_color\":{\"field\":\"color\"},\"line_color\":{\"field\":\"color\"},\"size\":{\"field\":\"size\",\"units\":\"screen\"},\"x\":{\"field\":\"sepal_length\"},\"y\":{\"field\":\"sepal_width\"}},\"id\":\"67139\",\"type\":\"Circle\"},{\"attributes\":{\"source\":{\"id\":\"63622\",\"type\":\"ColumnDataSource\"}},\"id\":\"63688\",\"type\":\"CDSView\"},{\"attributes\":{\"source\":{\"id\":\"63621\",\"type\":\"ColumnDataSource\"}},\"id\":\"67127\",\"type\":\"CDSView\"},{\"attributes\":{\"data_source\":{\"id\":\"63622\",\"type\":\"ColumnDataSource\"},\"glyph\":{\"id\":\"63685\",\"type\":\"Circle\"},\"hover_glyph\":null,\"muted_glyph\":null,\"nonselection_glyph\":{\"id\":\"63686\",\"type\":\"Circle\"},\"selection_glyph\":null,\"view\":{\"id\":\"63688\",\"type\":\"CDSView\"}},\"id\":\"63687\",\"type\":\"GlyphRenderer\"},{\"attributes\":{\"overlay\":{\"id\":\"68241\",\"type\":\"BoxAnnotation\"}},\"id\":\"67158\",\"type\":\"BoxZoomTool\"},{\"attributes\":{\"active_drag\":\"auto\",\"active_inspect\":\"auto\",\"active_multi\":null,\"active_scroll\":\"auto\",\"active_tap\":\"auto\",\"logo\":null,\"tools\":[{\"id\":\"64850\",\"type\":\"PanTool\"},{\"id\":\"64851\",\"type\":\"ResetTool\"},{\"id\":\"64852\",\"type\":\"WheelZoomTool\"},{\"id\":\"64853\",\"type\":\"BoxZoomTool\"},{\"id\":\"64854\",\"type\":\"SaveTool\"},{\"id\":\"65926\",\"type\":\"HoverTool\"}]},\"id\":\"63648\",\"type\":\"Toolbar\"},{\"attributes\":{\"label\":{\"value\":\"Setosa\"},\"renderers\":[{\"id\":\"67112\",\"type\":\"GlyphRenderer\"}]},\"id\":\"67122\",\"type\":\"LegendItem\"},{\"attributes\":{\"callback\":null,\"data\":{\"color\":[\"red\",\"red\",\"red\",\"red\",\"red\",\"red\",\"red\",\"red\",\"red\",\"red\",\"red\",\"red\",\"red\",\"red\",\"red\",\"red\",\"red\",\"red\",\"red\",\"red\",\"red\",\"red\",\"red\",\"red\",\"red\",\"red\",\"red\",\"red\",\"red\",\"red\",\"red\",\"red\",\"red\",\"red\",\"red\",\"red\",\"red\",\"red\",\"red\",\"red\",\"red\",\"red\",\"red\",\"red\",\"red\",\"red\",\"red\",\"red\",\"red\",\"red\"],\"index\":[0,1,2,3,4,5,6,7,8,9,10,11,12,13,14,15,16,17,18,19,20,21,22,23,24,25,26,27,28,29,30,31,32,33,34,35,36,37,38,39,40,41,42,43,44,45,46,47,48,49],\"petal_length\":{\"__ndarray__\":\"ZmZmZmZm9j9mZmZmZmb2P83MzMzMzPQ/AAAAAAAA+D9mZmZmZmb2PzMzMzMzM/s/ZmZmZmZm9j8AAAAAAAD4P2ZmZmZmZvY/AAAAAAAA+D8AAAAAAAD4P5qZmZmZmfk/ZmZmZmZm9j+amZmZmZnxPzMzMzMzM/M/AAAAAAAA+D/NzMzMzMz0P2ZmZmZmZvY/MzMzMzMz+z8AAAAAAAD4PzMzMzMzM/s/AAAAAAAA+D8AAAAAAADwPzMzMzMzM/s/ZmZmZmZm/j+amZmZmZn5P5qZmZmZmfk/AAAAAAAA+D9mZmZmZmb2P5qZmZmZmfk/mpmZmZmZ+T8AAAAAAAD4PwAAAAAAAPg/ZmZmZmZm9j8AAAAAAAD4PzMzMzMzM/M/zczMzMzM9D9mZmZmZmb2P83MzMzMzPQ/AAAAAAAA+D/NzMzMzMz0P83MzMzMzPQ/zczMzMzM9D+amZmZmZn5P2ZmZmZmZv4/ZmZmZmZm9j+amZmZmZn5P2ZmZmZmZvY/AAAAAAAA+D9mZmZmZmb2Pw==\",\"dtype\":\"float64\",\"shape\":[50]},\"petal_width\":{\"__ndarray__\":\"mpmZmZmZyT+amZmZmZnJP5qZmZmZmck/mpmZmZmZyT+amZmZmZnJP5qZmZmZmdk/MzMzMzMz0z+amZmZmZnJP5qZmZmZmck/mpmZmZmZuT+amZmZmZnJP5qZmZmZmck/mpmZmZmZuT+amZmZmZm5P5qZmZmZmck/mpmZmZmZ2T+amZmZmZnZPzMzMzMzM9M/MzMzMzMz0z8zMzMzMzPTP5qZmZmZmck/mpmZmZmZ2T+amZmZmZnJPwAAAAAAAOA/mpmZmZmZyT+amZmZmZnJP5qZmZmZmdk/mpmZmZmZyT+amZmZmZnJP5qZmZmZmck/mpmZmZmZyT+amZmZmZnZP5qZmZmZmbk/mpmZmZmZyT+amZmZmZnJP5qZmZmZmck/mpmZmZmZyT+amZmZmZm5P5qZmZmZmck/mpmZmZmZyT8zMzMzMzPTPzMzMzMzM9M/mpmZmZmZyT8zMzMzMzPjP5qZmZmZmdk/MzMzMzMz0z+amZmZmZnJP5qZmZmZmck/mpmZmZmZyT+amZmZmZnJPw==\",\"dtype\":\"float64\",\"shape\":[50]},\"sepal_length\":{\"__ndarray__\":\"ZmZmZmZmFECamZmZmZkTQM3MzMzMzBJAZmZmZmZmEkAAAAAAAAAUQJqZmZmZmRVAZmZmZmZmEkAAAAAAAAAUQJqZmZmZmRFAmpmZmZmZE0CamZmZmZkVQDMzMzMzMxNAMzMzMzMzE0AzMzMzMzMRQDMzMzMzMxdAzczMzMzMFkCamZmZmZkVQGZmZmZmZhRAzczMzMzMFkBmZmZmZmYUQJqZmZmZmRVAZmZmZmZmFEBmZmZmZmYSQGZmZmZmZhRAMzMzMzMzE0AAAAAAAAAUQAAAAAAAABRAzczMzMzMFEDNzMzMzMwUQM3MzMzMzBJAMzMzMzMzE0CamZmZmZkVQM3MzMzMzBRAAAAAAAAAFkCamZmZmZkTQAAAAAAAABRAAAAAAAAAFkCamZmZmZkTQJqZmZmZmRFAZmZmZmZmFEAAAAAAAAAUQAAAAAAAABJAmpmZmZmZEUAAAAAAAAAUQGZmZmZmZhRAMzMzMzMzE0BmZmZmZmYUQGZmZmZmZhJAMzMzMzMzFUAAAAAAAAAUQA==\",\"dtype\":\"float64\",\"shape\":[50]},\"sepal_width\":{\"__ndarray__\":\"AAAAAAAADEAAAAAAAAAIQJqZmZmZmQlAzczMzMzMCEDNzMzMzMwMQDMzMzMzMw9AMzMzMzMzC0AzMzMzMzMLQDMzMzMzMwdAzczMzMzMCECamZmZmZkNQDMzMzMzMwtAAAAAAAAACEAAAAAAAAAIQAAAAAAAABBAmpmZmZmZEUAzMzMzMzMPQAAAAAAAAAxAZmZmZmZmDkBmZmZmZmYOQDMzMzMzMwtAmpmZmZmZDUDNzMzMzMwMQGZmZmZmZgpAMzMzMzMzC0AAAAAAAAAIQDMzMzMzMwtAAAAAAAAADEAzMzMzMzMLQJqZmZmZmQlAzczMzMzMCEAzMzMzMzMLQGZmZmZmZhBAzczMzMzMEEDNzMzMzMwIQJqZmZmZmQlAAAAAAAAADEDNzMzMzMwMQAAAAAAAAAhAMzMzMzMzC0AAAAAAAAAMQGZmZmZmZgJAmpmZmZmZCUAAAAAAAAAMQGZmZmZmZg5AAAAAAAAACEBmZmZmZmYOQJqZmZmZmQlAmpmZmZmZDUBmZmZmZmYKQA==\",\"dtype\":\"float64\",\"shape\":[50]},\"size\":{\"__ndarray__\":\"AAAAAACAMUAAAAAAAAAuQAAAAAAAADBAAAAAAAAAL0AAAAAAAAAyQAAAAAAAgDNAAAAAAAAAMUAAAAAAAAAxQAAAAAAAAC1AAAAAAAAAL0AAAAAAAIAyQAAAAAAAADFAAAAAAAAALkAAAAAAAAAuQAAAAAAAADRAAAAAAAAANkAAAAAAAIAzQAAAAAAAgDFAAAAAAAAAM0AAAAAAAAAzQAAAAAAAADFAAAAAAACAMkAAAAAAAAAyQAAAAAAAgDBAAAAAAAAAMUAAAAAAAAAuQAAAAAAAADFAAAAAAACAMUAAAAAAAAAxQAAAAAAAADBAAAAAAAAAL0AAAAAAAAAxQAAAAAAAgDRAAAAAAAAANUAAAAAAAAAvQAAAAAAAADBAAAAAAACAMUAAAAAAAAAyQAAAAAAAAC5AAAAAAAAAMUAAAAAAAIAxQAAAAAAAACdAAAAAAAAAMEAAAAAAAIAxQAAAAAAAADNAAAAAAAAALkAAAAAAAAAzQAAAAAAAADBAAAAAAACAMkAAAAAAAIAwQA==\",\"dtype\":\"float64\",\"shape\":[50]},\"species\":[\"setosa\",\"setosa\",\"setosa\",\"setosa\",\"setosa\",\"setosa\",\"setosa\",\"setosa\",\"setosa\",\"setosa\",\"setosa\",\"setosa\",\"setosa\",\"setosa\",\"setosa\",\"setosa\",\"setosa\",\"setosa\",\"setosa\",\"setosa\",\"setosa\",\"setosa\",\"setosa\",\"setosa\",\"setosa\",\"setosa\",\"setosa\",\"setosa\",\"setosa\",\"setosa\",\"setosa\",\"setosa\",\"setosa\",\"setosa\",\"setosa\",\"setosa\",\"setosa\",\"setosa\",\"setosa\",\"setosa\",\"setosa\",\"setosa\",\"setosa\",\"setosa\",\"setosa\",\"setosa\",\"setosa\",\"setosa\",\"setosa\",\"setosa\"]},\"selected\":{\"id\":\"63681\",\"type\":\"Selection\"},\"selection_policy\":{\"id\":\"63682\",\"type\":\"UnionRenderers\"}},\"id\":\"63620\",\"type\":\"ColumnDataSource\"},{\"attributes\":{\"text\":\"Petal plot\"},\"id\":\"63661\",\"type\":\"Title\"},{\"attributes\":{},\"id\":\"63630\",\"type\":\"LinearScale\"},{\"attributes\":{\"data_source\":{\"id\":\"63620\",\"type\":\"ColumnDataSource\"},\"glyph\":{\"id\":\"63656\",\"type\":\"Circle\"},\"hover_glyph\":null,\"muted_glyph\":null,\"nonselection_glyph\":{\"id\":\"63657\",\"type\":\"Circle\"},\"selection_glyph\":null,\"view\":{\"id\":\"63659\",\"type\":\"CDSView\"}},\"id\":\"63658\",\"type\":\"GlyphRenderer\"},{\"attributes\":{},\"id\":\"67157\",\"type\":\"WheelZoomTool\"},{\"attributes\":{\"label\":{\"value\":\"Virginica\"},\"renderers\":[{\"id\":\"67141\",\"type\":\"GlyphRenderer\"}]},\"id\":\"67154\",\"type\":\"LegendItem\"},{\"attributes\":{},\"id\":\"63664\",\"type\":\"BasicTickFormatter\"},{\"attributes\":{},\"id\":\"63698\",\"type\":\"Selection\"},{\"attributes\":{\"label\":{\"value\":\"Virginica\"},\"renderers\":[{\"id\":\"63687\",\"type\":\"GlyphRenderer\"}]},\"id\":\"63700\",\"type\":\"LegendItem\"},{\"attributes\":{\"data_source\":{\"id\":\"63622\",\"type\":\"ColumnDataSource\"},\"glyph\":{\"id\":\"67139\",\"type\":\"Circle\"},\"hover_glyph\":null,\"muted_glyph\":null,\"nonselection_glyph\":{\"id\":\"67140\",\"type\":\"Circle\"},\"selection_glyph\":null,\"view\":{\"id\":\"67142\",\"type\":\"CDSView\"}},\"id\":\"67141\",\"type\":\"GlyphRenderer\"},{\"attributes\":{\"fill_alpha\":{\"value\":0.2},\"fill_color\":{\"field\":\"color\"},\"line_color\":{\"field\":\"color\"},\"size\":{\"field\":\"size\",\"units\":\"screen\"},\"x\":{\"field\":\"petal_length\"},\"y\":{\"field\":\"petal_width\"}},\"id\":\"63670\",\"type\":\"Circle\"},{\"attributes\":{\"fill_alpha\":{\"value\":0.1},\"fill_color\":{\"value\":\"#1f77b4\"},\"line_alpha\":{\"value\":0.1},\"line_color\":{\"value\":\"#1f77b4\"},\"size\":{\"field\":\"size\",\"units\":\"screen\"},\"x\":{\"field\":\"petal_length\"},\"y\":{\"field\":\"petal_width\"}},\"id\":\"63671\",\"type\":\"Circle\"},{\"attributes\":{\"bottom_units\":\"screen\",\"fill_alpha\":{\"value\":0.5},\"fill_color\":{\"value\":\"lightgrey\"},\"left_units\":\"screen\",\"level\":\"overlay\",\"line_alpha\":{\"value\":1.0},\"line_color\":{\"value\":\"black\"},\"line_dash\":[4,4],\"line_width\":{\"value\":2},\"render_mode\":\"css\",\"right_units\":\"screen\",\"top_units\":\"screen\"},\"id\":\"65919\",\"type\":\"BoxAnnotation\"},{\"attributes\":{\"data_source\":{\"id\":\"63621\",\"type\":\"ColumnDataSource\"},\"glyph\":{\"id\":\"63670\",\"type\":\"Circle\"},\"hover_glyph\":null,\"muted_glyph\":null,\"nonselection_glyph\":{\"id\":\"63671\",\"type\":\"Circle\"},\"selection_glyph\":null,\"view\":{\"id\":\"63673\",\"type\":\"CDSView\"}},\"id\":\"63672\",\"type\":\"GlyphRenderer\"},{\"attributes\":{},\"id\":\"64854\",\"type\":\"SaveTool\"},{\"attributes\":{},\"id\":\"67155\",\"type\":\"PanTool\"},{\"attributes\":{\"dimension\":1,\"ticker\":{\"id\":\"63638\",\"type\":\"BasicTicker\"}},\"id\":\"63641\",\"type\":\"Grid\"},{\"attributes\":{\"source\":{\"id\":\"63621\",\"type\":\"ColumnDataSource\"}},\"id\":\"63673\",\"type\":\"CDSView\"},{\"attributes\":{\"fill_alpha\":{\"value\":0.1},\"fill_color\":{\"value\":\"#1f77b4\"},\"line_alpha\":{\"value\":0.1},\"line_color\":{\"value\":\"#1f77b4\"},\"size\":{\"field\":\"size\",\"units\":\"screen\"},\"x\":{\"field\":\"sepal_length\"},\"y\":{\"field\":\"sepal_width\"}},\"id\":\"67140\",\"type\":\"Circle\"},{\"attributes\":{\"click_policy\":\"hide\",\"items\":[{\"id\":\"67122\",\"type\":\"LegendItem\"},{\"id\":\"67137\",\"type\":\"LegendItem\"},{\"id\":\"67154\",\"type\":\"LegendItem\"}],\"location\":\"top_left\"},\"id\":\"67121\",\"type\":\"Legend\"},{\"attributes\":{\"fill_alpha\":{\"value\":0.1},\"fill_color\":{\"value\":\"#1f77b4\"},\"line_alpha\":{\"value\":0.1},\"line_color\":{\"value\":\"#1f77b4\"},\"size\":{\"field\":\"size\",\"units\":\"screen\"},\"x\":{\"field\":\"petal_length\"},\"y\":{\"field\":\"petal_width\"}},\"id\":\"63657\",\"type\":\"Circle\"},{\"attributes\":{},\"id\":\"63628\",\"type\":\"LinearScale\"},{\"attributes\":{\"callback\":null,\"data\":{\"color\":[\"blue\",\"blue\",\"blue\",\"blue\",\"blue\",\"blue\",\"blue\",\"blue\",\"blue\",\"blue\",\"blue\",\"blue\",\"blue\",\"blue\",\"blue\",\"blue\",\"blue\",\"blue\",\"blue\",\"blue\",\"blue\",\"blue\",\"blue\",\"blue\",\"blue\",\"blue\",\"blue\",\"blue\",\"blue\",\"blue\",\"blue\",\"blue\",\"blue\",\"blue\",\"blue\",\"blue\",\"blue\",\"blue\",\"blue\",\"blue\",\"blue\",\"blue\",\"blue\",\"blue\",\"blue\",\"blue\",\"blue\",\"blue\",\"blue\",\"blue\"],\"index\":[100,101,102,103,104,105,106,107,108,109,110,111,112,113,114,115,116,117,118,119,120,121,122,123,124,125,126,127,128,129,130,131,132,133,134,135,136,137,138,139,140,141,142,143,144,145,146,147,148,149],\"petal_length\":{\"__ndarray__\":\"AAAAAAAAGEBmZmZmZmYUQJqZmZmZmRdAZmZmZmZmFkAzMzMzMzMXQGZmZmZmZhpAAAAAAAAAEkAzMzMzMzMZQDMzMzMzMxdAZmZmZmZmGEBmZmZmZmYUQDMzMzMzMxVAAAAAAAAAFkAAAAAAAAAUQGZmZmZmZhRAMzMzMzMzFUAAAAAAAAAWQM3MzMzMzBpAmpmZmZmZG0AAAAAAAAAUQM3MzMzMzBZAmpmZmZmZE0DNzMzMzMwaQJqZmZmZmRNAzczMzMzMFkAAAAAAAAAYQDMzMzMzMxNAmpmZmZmZE0BmZmZmZmYWQDMzMzMzMxdAZmZmZmZmGECamZmZmZkZQGZmZmZmZhZAZmZmZmZmFEBmZmZmZmYWQGZmZmZmZhhAZmZmZmZmFkAAAAAAAAAWQDMzMzMzMxNAmpmZmZmZFUBmZmZmZmYWQGZmZmZmZhRAZmZmZmZmFECamZmZmZkXQM3MzMzMzBZAzczMzMzMFEAAAAAAAAAUQM3MzMzMzBRAmpmZmZmZFUBmZmZmZmYUQA==\",\"dtype\":\"float64\",\"shape\":[50]},\"petal_width\":{\"__ndarray__\":\"AAAAAAAABEBmZmZmZmb+P83MzMzMzABAzczMzMzM/D+amZmZmZkBQM3MzMzMzABAMzMzMzMz+z/NzMzMzMz8P83MzMzMzPw/AAAAAAAABEAAAAAAAAAAQGZmZmZmZv4/zczMzMzMAEAAAAAAAAAAQDMzMzMzMwNAZmZmZmZmAkDNzMzMzMz8P5qZmZmZmQFAZmZmZmZmAkAAAAAAAAD4P2ZmZmZmZgJAAAAAAAAAAEAAAAAAAAAAQM3MzMzMzPw/zczMzMzMAEDNzMzMzMz8P83MzMzMzPw/zczMzMzM/D/NzMzMzMwAQJqZmZmZmfk/ZmZmZmZm/j8AAAAAAAAAQJqZmZmZmQFAAAAAAAAA+D9mZmZmZmb2P2ZmZmZmZgJAMzMzMzMzA0DNzMzMzMz8P83MzMzMzPw/zczMzMzMAEAzMzMzMzMDQGZmZmZmZgJAZmZmZmZm/j9mZmZmZmYCQAAAAAAAAARAZmZmZmZmAkBmZmZmZmb+PwAAAAAAAABAZmZmZmZmAkDNzMzMzMz8Pw==\",\"dtype\":\"float64\",\"shape\":[50]},\"sepal_length\":{\"__ndarray__\":\"MzMzMzMzGUAzMzMzMzMXQGZmZmZmZhxAMzMzMzMzGUAAAAAAAAAaQGZmZmZmZh5AmpmZmZmZE0AzMzMzMzMdQM3MzMzMzBpAzczMzMzMHEAAAAAAAAAaQJqZmZmZmRlAMzMzMzMzG0DNzMzMzMwWQDMzMzMzMxdAmpmZmZmZGUAAAAAAAAAaQM3MzMzMzB5AzczMzMzMHkAAAAAAAAAYQJqZmZmZmRtAZmZmZmZmFkDNzMzMzMweQDMzMzMzMxlAzczMzMzMGkDNzMzMzMwcQM3MzMzMzBhAZmZmZmZmGECamZmZmZkZQM3MzMzMzBxAmpmZmZmZHUCamZmZmZkfQJqZmZmZmRlAMzMzMzMzGUBmZmZmZmYYQM3MzMzMzB5AMzMzMzMzGUCamZmZmZkZQAAAAAAAABhAmpmZmZmZG0DNzMzMzMwaQJqZmZmZmRtAMzMzMzMzF0AzMzMzMzMbQM3MzMzMzBpAzczMzMzMGkAzMzMzMzMZQAAAAAAAABpAzczMzMzMGECamZmZmZkXQA==\",\"dtype\":\"float64\",\"shape\":[50]},\"sepal_width\":{\"__ndarray__\":\"ZmZmZmZmCkCamZmZmZkFQAAAAAAAAAhAMzMzMzMzB0AAAAAAAAAIQAAAAAAAAAhAAAAAAAAABEAzMzMzMzMHQAAAAAAAAARAzczMzMzMDECamZmZmZkJQJqZmZmZmQVAAAAAAAAACEAAAAAAAAAEQGZmZmZmZgZAmpmZmZmZCUAAAAAAAAAIQGZmZmZmZg5AzczMzMzMBECamZmZmZkBQJqZmZmZmQlAZmZmZmZmBkBmZmZmZmYGQJqZmZmZmQVAZmZmZmZmCkCamZmZmZkJQGZmZmZmZgZAAAAAAAAACEBmZmZmZmYGQAAAAAAAAAhAZmZmZmZmBkBmZmZmZmYOQGZmZmZmZgZAZmZmZmZmBkDNzMzMzMwEQAAAAAAAAAhAMzMzMzMzC0DNzMzMzMwIQAAAAAAAAAhAzczMzMzMCEDNzMzMzMwIQM3MzMzMzAhAmpmZmZmZBUCamZmZmZkJQGZmZmZmZgpAAAAAAAAACEAAAAAAAAAEQAAAAAAAAAhAMzMzMzMzC0AAAAAAAAAIQA==\",\"dtype\":\"float64\",\"shape\":[50]},\"size\":{\"__ndarray__\":\"AAAAAACAMEAAAAAAAAArQAAAAAAAAC5AAAAAAAAALUAAAAAAAAAuQAAAAAAAAC5AAAAAAAAAKUAAAAAAAAAtQAAAAAAAAClAAAAAAAAAMkAAAAAAAAAwQAAAAAAAACtAAAAAAAAALkAAAAAAAAApQAAAAAAAACxAAAAAAAAAMEAAAAAAAAAuQAAAAAAAADNAAAAAAAAAKkAAAAAAAAAmQAAAAAAAADBAAAAAAAAALEAAAAAAAAAsQAAAAAAAACtAAAAAAACAMEAAAAAAAAAwQAAAAAAAACxAAAAAAAAALkAAAAAAAAAsQAAAAAAAAC5AAAAAAAAALEAAAAAAAAAzQAAAAAAAACxAAAAAAAAALEAAAAAAAAAqQAAAAAAAAC5AAAAAAAAAMUAAAAAAAAAvQAAAAAAAAC5AAAAAAAAAL0AAAAAAAAAvQAAAAAAAAC9AAAAAAAAAK0AAAAAAAAAwQAAAAAAAgDBAAAAAAAAALkAAAAAAAAApQAAAAAAAAC5AAAAAAAAAMUAAAAAAAAAuQA==\",\"dtype\":\"float64\",\"shape\":[50]},\"species\":[\"virginica\",\"virginica\",\"virginica\",\"virginica\",\"virginica\",\"virginica\",\"virginica\",\"virginica\",\"virginica\",\"virginica\",\"virginica\",\"virginica\",\"virginica\",\"virginica\",\"virginica\",\"virginica\",\"virginica\",\"virginica\",\"virginica\",\"virginica\",\"virginica\",\"virginica\",\"virginica\",\"virginica\",\"virginica\",\"virginica\",\"virginica\",\"virginica\",\"virginica\",\"virginica\",\"virginica\",\"virginica\",\"virginica\",\"virginica\",\"virginica\",\"virginica\",\"virginica\",\"virginica\",\"virginica\",\"virginica\",\"virginica\",\"virginica\",\"virginica\",\"virginica\",\"virginica\",\"virginica\",\"virginica\",\"virginica\",\"virginica\",\"virginica\"]},\"selected\":{\"id\":\"64770\",\"type\":\"Selection\"},\"selection_policy\":{\"id\":\"64771\",\"type\":\"UnionRenderers\"}},\"id\":\"63622\",\"type\":\"ColumnDataSource\"},{\"attributes\":{\"active_drag\":\"auto\",\"active_inspect\":\"auto\",\"active_multi\":null,\"active_scroll\":\"auto\",\"active_tap\":\"auto\",\"logo\":null,\"tools\":[{\"id\":\"67155\",\"type\":\"PanTool\"},{\"id\":\"67156\",\"type\":\"ResetTool\"},{\"id\":\"67157\",\"type\":\"WheelZoomTool\"},{\"id\":\"67158\",\"type\":\"BoxZoomTool\"},{\"id\":\"67159\",\"type\":\"SaveTool\"},{\"id\":\"67161\",\"type\":\"HoverTool\"}]},\"id\":\"67102\",\"type\":\"Toolbar\"},{\"attributes\":{\"callback\":null,\"tooltips\":[[\"Species\",\"@species\"],[\"Sepal Width\",\"@sepal_width\"]]},\"id\":\"65926\",\"type\":\"HoverTool\"},{\"attributes\":{\"label\":{\"value\":\"Versicolor\"},\"renderers\":[{\"id\":\"63672\",\"type\":\"GlyphRenderer\"}]},\"id\":\"63683\",\"type\":\"LegendItem\"},{\"attributes\":{\"label\":{\"value\":\"Versicolor\"},\"renderers\":[{\"id\":\"67126\",\"type\":\"GlyphRenderer\"}]},\"id\":\"67137\",\"type\":\"LegendItem\"},{\"attributes\":{\"below\":[{\"id\":\"63632\",\"type\":\"LinearAxis\"}],\"center\":[{\"id\":\"63636\",\"type\":\"Grid\"},{\"id\":\"63641\",\"type\":\"Grid\"},{\"id\":\"63667\",\"type\":\"Legend\"}],\"left\":[{\"id\":\"63637\",\"type\":\"LinearAxis\"}],\"plot_height\":500,\"plot_width\":500,\"renderers\":[{\"id\":\"63658\",\"type\":\"GlyphRenderer\"},{\"id\":\"63672\",\"type\":\"GlyphRenderer\"},{\"id\":\"63687\",\"type\":\"GlyphRenderer\"}],\"title\":{\"id\":\"63661\",\"type\":\"Title\"},\"toolbar\":{\"id\":\"63648\",\"type\":\"Toolbar\"},\"toolbar_location\":null,\"x_range\":{\"id\":\"63624\",\"type\":\"DataRange1d\"},\"x_scale\":{\"id\":\"63628\",\"type\":\"LinearScale\"},\"y_range\":{\"id\":\"63626\",\"type\":\"DataRange1d\"},\"y_scale\":{\"id\":\"63630\",\"type\":\"LinearScale\"}},\"id\":\"63623\",\"subtype\":\"Figure\",\"type\":\"Plot\"},{\"attributes\":{},\"id\":\"63681\",\"type\":\"Selection\"},{\"attributes\":{},\"id\":\"67116\",\"type\":\"BasicTickFormatter\"},{\"attributes\":{\"fill_alpha\":{\"value\":0.2},\"fill_color\":{\"field\":\"color\"},\"line_color\":{\"field\":\"color\"},\"size\":{\"field\":\"size\",\"units\":\"screen\"},\"x\":{\"field\":\"petal_length\"},\"y\":{\"field\":\"petal_width\"}},\"id\":\"63656\",\"type\":\"Circle\"},{\"attributes\":{\"label\":{\"value\":\"Setosa\"},\"renderers\":[{\"id\":\"63658\",\"type\":\"GlyphRenderer\"}]},\"id\":\"63668\",\"type\":\"LegendItem\"},{\"attributes\":{\"axis_label\":\"Petal Width\",\"formatter\":{\"id\":\"63662\",\"type\":\"BasicTickFormatter\"},\"ticker\":{\"id\":\"63638\",\"type\":\"BasicTicker\"}},\"id\":\"63637\",\"type\":\"LinearAxis\"},{\"attributes\":{\"overlay\":{\"id\":\"65919\",\"type\":\"BoxAnnotation\"}},\"id\":\"64853\",\"type\":\"BoxZoomTool\"},{\"attributes\":{\"source\":{\"id\":\"63620\",\"type\":\"ColumnDataSource\"}},\"id\":\"63659\",\"type\":\"CDSView\"},{\"attributes\":{},\"id\":\"63662\",\"type\":\"BasicTickFormatter\"},{\"attributes\":{},\"id\":\"64852\",\"type\":\"WheelZoomTool\"},{\"attributes\":{\"callback\":null,\"data\":{\"color\":[\"green\",\"green\",\"green\",\"green\",\"green\",\"green\",\"green\",\"green\",\"green\",\"green\",\"green\",\"green\",\"green\",\"green\",\"green\",\"green\",\"green\",\"green\",\"green\",\"green\",\"green\",\"green\",\"green\",\"green\",\"green\",\"green\",\"green\",\"green\",\"green\",\"green\",\"green\",\"green\",\"green\",\"green\",\"green\",\"green\",\"green\",\"green\",\"green\",\"green\",\"green\",\"green\",\"green\",\"green\",\"green\",\"green\",\"green\",\"green\",\"green\",\"green\"],\"index\":[50,51,52,53,54,55,56,57,58,59,60,61,62,63,64,65,66,67,68,69,70,71,72,73,74,75,76,77,78,79,80,81,82,83,84,85,86,87,88,89,90,91,92,93,94,95,96,97,98,99],\"petal_length\":{\"__ndarray__\":\"zczMzMzMEkAAAAAAAAASQJqZmZmZmRNAAAAAAAAAEEBmZmZmZmYSQAAAAAAAABJAzczMzMzMEkBmZmZmZmYKQGZmZmZmZhJAMzMzMzMzD0AAAAAAAAAMQM3MzMzMzBBAAAAAAAAAEEDNzMzMzMwSQM3MzMzMzAxAmpmZmZmZEUAAAAAAAAASQGZmZmZmZhBAAAAAAAAAEkAzMzMzMzMPQDMzMzMzMxNAAAAAAAAAEECamZmZmZkTQM3MzMzMzBJAMzMzMzMzEUCamZmZmZkRQDMzMzMzMxNAAAAAAAAAFEAAAAAAAAASQAAAAAAAAAxAZmZmZmZmDkCamZmZmZkNQDMzMzMzMw9AZmZmZmZmFEAAAAAAAAASQAAAAAAAABJAzczMzMzMEkCamZmZmZkRQGZmZmZmZhBAAAAAAAAAEECamZmZmZkRQGZmZmZmZhJAAAAAAAAAEEBmZmZmZmYKQM3MzMzMzBBAzczMzMzMEEDNzMzMzMwQQDMzMzMzMxFAAAAAAAAACEBmZmZmZmYQQA==\",\"dtype\":\"float64\",\"shape\":[50]},\"petal_width\":{\"__ndarray__\":\"ZmZmZmZm9j8AAAAAAAD4PwAAAAAAAPg/zczMzMzM9D8AAAAAAAD4P83MzMzMzPQ/mpmZmZmZ+T8AAAAAAADwP83MzMzMzPQ/ZmZmZmZm9j8AAAAAAADwPwAAAAAAAPg/AAAAAAAA8D9mZmZmZmb2P83MzMzMzPQ/ZmZmZmZm9j8AAAAAAAD4PwAAAAAAAPA/AAAAAAAA+D+amZmZmZnxP83MzMzMzPw/zczMzMzM9D8AAAAAAAD4PzMzMzMzM/M/zczMzMzM9D9mZmZmZmb2P2ZmZmZmZvY/MzMzMzMz+z8AAAAAAAD4PwAAAAAAAPA/mpmZmZmZ8T8AAAAAAADwPzMzMzMzM/M/mpmZmZmZ+T8AAAAAAAD4P5qZmZmZmfk/AAAAAAAA+D/NzMzMzMz0P83MzMzMzPQ/zczMzMzM9D8zMzMzMzPzP2ZmZmZmZvY/MzMzMzMz8z8AAAAAAADwP83MzMzMzPQ/MzMzMzMz8z/NzMzMzMz0P83MzMzMzPQ/mpmZmZmZ8T/NzMzMzMz0Pw==\",\"dtype\":\"float64\",\"shape\":[50]},\"sepal_length\":{\"__ndarray__\":\"AAAAAAAAHECamZmZmZkZQJqZmZmZmRtAAAAAAAAAFkAAAAAAAAAaQM3MzMzMzBZAMzMzMzMzGUCamZmZmZkTQGZmZmZmZhpAzczMzMzMFEAAAAAAAAAUQJqZmZmZmRdAAAAAAAAAGEBmZmZmZmYYQGZmZmZmZhZAzczMzMzMGkBmZmZmZmYWQDMzMzMzMxdAzczMzMzMGEBmZmZmZmYWQJqZmZmZmRdAZmZmZmZmGEAzMzMzMzMZQGZmZmZmZhhAmpmZmZmZGUBmZmZmZmYaQDMzMzMzMxtAzczMzMzMGkAAAAAAAAAYQM3MzMzMzBZAAAAAAAAAFkAAAAAAAAAWQDMzMzMzMxdAAAAAAAAAGECamZmZmZkVQAAAAAAAABhAzczMzMzMGkAzMzMzMzMZQGZmZmZmZhZAAAAAAAAAFkAAAAAAAAAWQGZmZmZmZhhAMzMzMzMzF0AAAAAAAAAUQGZmZmZmZhZAzczMzMzMFkDNzMzMzMwWQM3MzMzMzBhAZmZmZmZmFEDNzMzMzMwWQA==\",\"dtype\":\"float64\",\"shape\":[50]},\"sepal_width\":{\"__ndarray__\":\"mpmZmZmZCUCamZmZmZkJQM3MzMzMzAhAZmZmZmZmAkBmZmZmZmYGQGZmZmZmZgZAZmZmZmZmCkAzMzMzMzMDQDMzMzMzMwdAmpmZmZmZBUAAAAAAAAAAQAAAAAAAAAhAmpmZmZmZAUAzMzMzMzMHQDMzMzMzMwdAzczMzMzMCEAAAAAAAAAIQJqZmZmZmQVAmpmZmZmZAUAAAAAAAAAEQJqZmZmZmQlAZmZmZmZmBkAAAAAAAAAEQGZmZmZmZgZAMzMzMzMzB0AAAAAAAAAIQGZmZmZmZgZAAAAAAAAACEAzMzMzMzMHQM3MzMzMzARAMzMzMzMzA0AzMzMzMzMDQJqZmZmZmQVAmpmZmZmZBUAAAAAAAAAIQDMzMzMzMwtAzczMzMzMCEBmZmZmZmYCQAAAAAAAAAhAAAAAAAAABEDNzMzMzMwEQAAAAAAAAAhAzczMzMzMBEBmZmZmZmYCQJqZmZmZmQVAAAAAAAAACEAzMzMzMzMHQDMzMzMzMwdAAAAAAAAABEBmZmZmZmYGQA==\",\"dtype\":\"float64\",\"shape\":[50]},\"size\":{\"__ndarray__\":\"AAAAAAAAMEAAAAAAAAAwQAAAAAAAAC9AAAAAAAAAJ0AAAAAAAAAsQAAAAAAAACxAAAAAAACAMEAAAAAAAAAoQAAAAAAAAC1AAAAAAAAAK0AAAAAAAAAkQAAAAAAAAC5AAAAAAAAAJkAAAAAAAAAtQAAAAAAAAC1AAAAAAAAAL0AAAAAAAAAuQAAAAAAAACtAAAAAAAAAJkAAAAAAAAApQAAAAAAAADBAAAAAAAAALEAAAAAAAAApQAAAAAAAACxAAAAAAAAALUAAAAAAAAAuQAAAAAAAACxAAAAAAAAALkAAAAAAAAAtQAAAAAAAACpAAAAAAAAAKEAAAAAAAAAoQAAAAAAAACtAAAAAAAAAK0AAAAAAAAAuQAAAAAAAADFAAAAAAAAAL0AAAAAAAAAnQAAAAAAAAC5AAAAAAAAAKUAAAAAAAAAqQAAAAAAAAC5AAAAAAAAAKkAAAAAAAAAnQAAAAAAAACtAAAAAAAAALkAAAAAAAAAtQAAAAAAAAC1AAAAAAAAAKUAAAAAAAAAsQA==\",\"dtype\":\"float64\",\"shape\":[50]},\"species\":[\"versicolor\",\"versicolor\",\"versicolor\",\"versicolor\",\"versicolor\",\"versicolor\",\"versicolor\",\"versicolor\",\"versicolor\",\"versicolor\",\"versicolor\",\"versicolor\",\"versicolor\",\"versicolor\",\"versicolor\",\"versicolor\",\"versicolor\",\"versicolor\",\"versicolor\",\"versicolor\",\"versicolor\",\"versicolor\",\"versicolor\",\"versicolor\",\"versicolor\",\"versicolor\",\"versicolor\",\"versicolor\",\"versicolor\",\"versicolor\",\"versicolor\",\"versicolor\",\"versicolor\",\"versicolor\",\"versicolor\",\"versicolor\",\"versicolor\",\"versicolor\",\"versicolor\",\"versicolor\",\"versicolor\",\"versicolor\",\"versicolor\",\"versicolor\",\"versicolor\",\"versicolor\",\"versicolor\",\"versicolor\",\"versicolor\",\"versicolor\"]},\"selected\":{\"id\":\"63698\",\"type\":\"Selection\"},\"selection_policy\":{\"id\":\"63699\",\"type\":\"UnionRenderers\"}},\"id\":\"63621\",\"type\":\"ColumnDataSource\"},{\"attributes\":{},\"id\":\"64851\",\"type\":\"ResetTool\"},{\"attributes\":{\"callback\":null},\"id\":\"63626\",\"type\":\"DataRange1d\"},{\"attributes\":{\"click_policy\":\"hide\",\"items\":[{\"id\":\"63668\",\"type\":\"LegendItem\"},{\"id\":\"63683\",\"type\":\"LegendItem\"},{\"id\":\"63700\",\"type\":\"LegendItem\"}],\"location\":\"top_left\"},\"id\":\"63667\",\"type\":\"Legend\"},{\"attributes\":{},\"id\":\"64850\",\"type\":\"PanTool\"},{\"attributes\":{},\"id\":\"67156\",\"type\":\"ResetTool\"},{\"attributes\":{\"data_source\":{\"id\":\"63621\",\"type\":\"ColumnDataSource\"},\"glyph\":{\"id\":\"67124\",\"type\":\"Circle\"},\"hover_glyph\":null,\"muted_glyph\":null,\"nonselection_glyph\":{\"id\":\"67125\",\"type\":\"Circle\"},\"selection_glyph\":null,\"view\":{\"id\":\"67127\",\"type\":\"CDSView\"}},\"id\":\"67126\",\"type\":\"GlyphRenderer\"},{\"attributes\":{},\"id\":\"63633\",\"type\":\"BasicTicker\"},{\"attributes\":{},\"id\":\"67118\",\"type\":\"BasicTickFormatter\"},{\"attributes\":{},\"id\":\"63638\",\"type\":\"BasicTicker\"},{\"attributes\":{\"callback\":null},\"id\":\"63624\",\"type\":\"DataRange1d\"},{\"attributes\":{\"axis_label\":\"Petal Length\",\"formatter\":{\"id\":\"63664\",\"type\":\"BasicTickFormatter\"},\"ticker\":{\"id\":\"63633\",\"type\":\"BasicTicker\"}},\"id\":\"63632\",\"type\":\"LinearAxis\"},{\"attributes\":{\"ticker\":{\"id\":\"63633\",\"type\":\"BasicTicker\"}},\"id\":\"63636\",\"type\":\"Grid\"}],\"root_ids\":[\"73430\"]},\"title\":\"Bokeh Application\",\"version\":\"1.3.4\"}};\n",
       "  var render_items = [{\"docid\":\"a0391122-47c5-4b2c-93ff-ac0536d214c8\",\"roots\":{\"73430\":\"ab4675de-cfbf-4c1e-8c82-6ccae44a198f\"}}];\n",
       "  root.Bokeh.embed.embed_items_notebook(docs_json, render_items);\n",
       "\n",
       "  }\n",
       "  if (root.Bokeh !== undefined) {\n",
       "    embed_document(root);\n",
       "  } else {\n",
       "    var attempts = 0;\n",
       "    var timer = setInterval(function(root) {\n",
       "      if (root.Bokeh !== undefined) {\n",
       "        embed_document(root);\n",
       "        clearInterval(timer);\n",
       "      }\n",
       "      attempts++;\n",
       "      if (attempts > 100) {\n",
       "        console.log(\"Bokeh: ERROR: Unable to run BokehJS code because BokehJS library is missing\");\n",
       "        clearInterval(timer);\n",
       "      }\n",
       "    }, 10, root)\n",
       "  }\n",
       "})(window);"
      ],
      "application/vnd.bokehjs_exec.v0+json": ""
     },
     "metadata": {
      "application/vnd.bokehjs_exec.v0+json": {
       "id": "73430"
      }
     },
     "output_type": "display_data"
    }
   ],
   "source": [
    "from bokeh.models.widgets import Tabs, Panel\n",
    "# Create two panels\n",
    "panel1 = Panel(child=p, title='Petal')\n",
    "panel2 = Panel(child=p2, title='Sepal')\n",
    "# Assign the panels to Tabs\n",
    "tabs = Tabs(tabs=[panel1, panel2])\n",
    "\n",
    "# Show the tabbed layout\n",
    "show(tabs)"
   ]
  },
  {
   "cell_type": "markdown",
   "metadata": {},
   "source": [
    "### Step 11: Selecting Data Points"
   ]
  },
  {
   "cell_type": "code",
   "execution_count": 194,
   "metadata": {},
   "outputs": [
    {
     "data": {
      "text/html": [
       "\n",
       "\n",
       "\n",
       "\n",
       "\n",
       "\n",
       "  <div class=\"bk-root\" id=\"c40df63c-f06a-4a57-98b5-3c518185b62e\" data-root-id=\"74740\"></div>\n"
      ]
     },
     "metadata": {},
     "output_type": "display_data"
    },
    {
     "data": {
      "application/javascript": [
       "(function(root) {\n",
       "  function embed_document(root) {\n",
       "    \n",
       "  var docs_json = {\"a8ae9c75-48df-48b1-98d5-85afc51929c3\":{\"roots\":{\"references\":[{\"attributes\":{\"below\":[{\"id\":\"74751\",\"type\":\"LinearAxis\"}],\"center\":[{\"id\":\"74755\",\"type\":\"Grid\"},{\"id\":\"74760\",\"type\":\"Grid\"},{\"id\":\"74786\",\"type\":\"Legend\"}],\"left\":[{\"id\":\"74756\",\"type\":\"LinearAxis\"}],\"plot_height\":500,\"plot_width\":500,\"renderers\":[{\"id\":\"74776\",\"type\":\"GlyphRenderer\"},{\"id\":\"74792\",\"type\":\"GlyphRenderer\"},{\"id\":\"74809\",\"type\":\"GlyphRenderer\"}],\"title\":{\"id\":\"74741\",\"type\":\"Title\"},\"toolbar\":{\"id\":\"74766\",\"type\":\"Toolbar\"},\"toolbar_location\":\"above\",\"x_range\":{\"id\":\"74743\",\"type\":\"DataRange1d\"},\"x_scale\":{\"id\":\"74747\",\"type\":\"LinearScale\"},\"y_range\":{\"id\":\"74745\",\"type\":\"DataRange1d\"},\"y_scale\":{\"id\":\"74749\",\"type\":\"LinearScale\"}},\"id\":\"74740\",\"subtype\":\"Figure\",\"type\":\"Plot\"},{\"attributes\":{\"data_source\":{\"id\":\"63622\",\"type\":\"ColumnDataSource\"},\"glyph\":{\"id\":\"74806\",\"type\":\"Circle\"},\"hover_glyph\":null,\"muted_glyph\":null,\"nonselection_glyph\":{\"id\":\"74807\",\"type\":\"Circle\"},\"selection_glyph\":{\"id\":\"74808\",\"type\":\"Circle\"},\"view\":{\"id\":\"74810\",\"type\":\"CDSView\"}},\"id\":\"74809\",\"type\":\"GlyphRenderer\"},{\"attributes\":{},\"id\":\"64771\",\"type\":\"UnionRenderers\"},{\"attributes\":{\"axis_label\":\"Petal Width\",\"formatter\":{\"id\":\"74779\",\"type\":\"BasicTickFormatter\"},\"ticker\":{\"id\":\"74757\",\"type\":\"BasicTicker\"}},\"id\":\"74756\",\"type\":\"LinearAxis\"},{\"attributes\":{},\"id\":\"74765\",\"type\":\"ResetTool\"},{\"attributes\":{\"label\":{\"value\":\"Virginica\"},\"renderers\":[{\"id\":\"74809\",\"type\":\"GlyphRenderer\"}]},\"id\":\"74823\",\"type\":\"LegendItem\"},{\"attributes\":{\"source\":{\"id\":\"63622\",\"type\":\"ColumnDataSource\"}},\"id\":\"74810\",\"type\":\"CDSView\"},{\"attributes\":{},\"id\":\"63682\",\"type\":\"UnionRenderers\"},{\"attributes\":{\"callback\":null,\"data\":{\"color\":[\"blue\",\"blue\",\"blue\",\"blue\",\"blue\",\"blue\",\"blue\",\"blue\",\"blue\",\"blue\",\"blue\",\"blue\",\"blue\",\"blue\",\"blue\",\"blue\",\"blue\",\"blue\",\"blue\",\"blue\",\"blue\",\"blue\",\"blue\",\"blue\",\"blue\",\"blue\",\"blue\",\"blue\",\"blue\",\"blue\",\"blue\",\"blue\",\"blue\",\"blue\",\"blue\",\"blue\",\"blue\",\"blue\",\"blue\",\"blue\",\"blue\",\"blue\",\"blue\",\"blue\",\"blue\",\"blue\",\"blue\",\"blue\",\"blue\",\"blue\"],\"index\":[100,101,102,103,104,105,106,107,108,109,110,111,112,113,114,115,116,117,118,119,120,121,122,123,124,125,126,127,128,129,130,131,132,133,134,135,136,137,138,139,140,141,142,143,144,145,146,147,148,149],\"petal_length\":{\"__ndarray__\":\"AAAAAAAAGEBmZmZmZmYUQJqZmZmZmRdAZmZmZmZmFkAzMzMzMzMXQGZmZmZmZhpAAAAAAAAAEkAzMzMzMzMZQDMzMzMzMxdAZmZmZmZmGEBmZmZmZmYUQDMzMzMzMxVAAAAAAAAAFkAAAAAAAAAUQGZmZmZmZhRAMzMzMzMzFUAAAAAAAAAWQM3MzMzMzBpAmpmZmZmZG0AAAAAAAAAUQM3MzMzMzBZAmpmZmZmZE0DNzMzMzMwaQJqZmZmZmRNAzczMzMzMFkAAAAAAAAAYQDMzMzMzMxNAmpmZmZmZE0BmZmZmZmYWQDMzMzMzMxdAZmZmZmZmGECamZmZmZkZQGZmZmZmZhZAZmZmZmZmFEBmZmZmZmYWQGZmZmZmZhhAZmZmZmZmFkAAAAAAAAAWQDMzMzMzMxNAmpmZmZmZFUBmZmZmZmYWQGZmZmZmZhRAZmZmZmZmFECamZmZmZkXQM3MzMzMzBZAzczMzMzMFEAAAAAAAAAUQM3MzMzMzBRAmpmZmZmZFUBmZmZmZmYUQA==\",\"dtype\":\"float64\",\"shape\":[50]},\"petal_width\":{\"__ndarray__\":\"AAAAAAAABEBmZmZmZmb+P83MzMzMzABAzczMzMzM/D+amZmZmZkBQM3MzMzMzABAMzMzMzMz+z/NzMzMzMz8P83MzMzMzPw/AAAAAAAABEAAAAAAAAAAQGZmZmZmZv4/zczMzMzMAEAAAAAAAAAAQDMzMzMzMwNAZmZmZmZmAkDNzMzMzMz8P5qZmZmZmQFAZmZmZmZmAkAAAAAAAAD4P2ZmZmZmZgJAAAAAAAAAAEAAAAAAAAAAQM3MzMzMzPw/zczMzMzMAEDNzMzMzMz8P83MzMzMzPw/zczMzMzM/D/NzMzMzMwAQJqZmZmZmfk/ZmZmZmZm/j8AAAAAAAAAQJqZmZmZmQFAAAAAAAAA+D9mZmZmZmb2P2ZmZmZmZgJAMzMzMzMzA0DNzMzMzMz8P83MzMzMzPw/zczMzMzMAEAzMzMzMzMDQGZmZmZmZgJAZmZmZmZm/j9mZmZmZmYCQAAAAAAAAARAZmZmZmZmAkBmZmZmZmb+PwAAAAAAAABAZmZmZmZmAkDNzMzMzMz8Pw==\",\"dtype\":\"float64\",\"shape\":[50]},\"sepal_length\":{\"__ndarray__\":\"MzMzMzMzGUAzMzMzMzMXQGZmZmZmZhxAMzMzMzMzGUAAAAAAAAAaQGZmZmZmZh5AmpmZmZmZE0AzMzMzMzMdQM3MzMzMzBpAzczMzMzMHEAAAAAAAAAaQJqZmZmZmRlAMzMzMzMzG0DNzMzMzMwWQDMzMzMzMxdAmpmZmZmZGUAAAAAAAAAaQM3MzMzMzB5AzczMzMzMHkAAAAAAAAAYQJqZmZmZmRtAZmZmZmZmFkDNzMzMzMweQDMzMzMzMxlAzczMzMzMGkDNzMzMzMwcQM3MzMzMzBhAZmZmZmZmGECamZmZmZkZQM3MzMzMzBxAmpmZmZmZHUCamZmZmZkfQJqZmZmZmRlAMzMzMzMzGUBmZmZmZmYYQM3MzMzMzB5AMzMzMzMzGUCamZmZmZkZQAAAAAAAABhAmpmZmZmZG0DNzMzMzMwaQJqZmZmZmRtAMzMzMzMzF0AzMzMzMzMbQM3MzMzMzBpAzczMzMzMGkAzMzMzMzMZQAAAAAAAABpAzczMzMzMGECamZmZmZkXQA==\",\"dtype\":\"float64\",\"shape\":[50]},\"sepal_width\":{\"__ndarray__\":\"ZmZmZmZmCkCamZmZmZkFQAAAAAAAAAhAMzMzMzMzB0AAAAAAAAAIQAAAAAAAAAhAAAAAAAAABEAzMzMzMzMHQAAAAAAAAARAzczMzMzMDECamZmZmZkJQJqZmZmZmQVAAAAAAAAACEAAAAAAAAAEQGZmZmZmZgZAmpmZmZmZCUAAAAAAAAAIQGZmZmZmZg5AzczMzMzMBECamZmZmZkBQJqZmZmZmQlAZmZmZmZmBkBmZmZmZmYGQJqZmZmZmQVAZmZmZmZmCkCamZmZmZkJQGZmZmZmZgZAAAAAAAAACEBmZmZmZmYGQAAAAAAAAAhAZmZmZmZmBkBmZmZmZmYOQGZmZmZmZgZAZmZmZmZmBkDNzMzMzMwEQAAAAAAAAAhAMzMzMzMzC0DNzMzMzMwIQAAAAAAAAAhAzczMzMzMCEDNzMzMzMwIQM3MzMzMzAhAmpmZmZmZBUCamZmZmZkJQGZmZmZmZgpAAAAAAAAACEAAAAAAAAAEQAAAAAAAAAhAMzMzMzMzC0AAAAAAAAAIQA==\",\"dtype\":\"float64\",\"shape\":[50]},\"size\":{\"__ndarray__\":\"AAAAAACAMEAAAAAAAAArQAAAAAAAAC5AAAAAAAAALUAAAAAAAAAuQAAAAAAAAC5AAAAAAAAAKUAAAAAAAAAtQAAAAAAAAClAAAAAAAAAMkAAAAAAAAAwQAAAAAAAACtAAAAAAAAALkAAAAAAAAApQAAAAAAAACxAAAAAAAAAMEAAAAAAAAAuQAAAAAAAADNAAAAAAAAAKkAAAAAAAAAmQAAAAAAAADBAAAAAAAAALEAAAAAAAAAsQAAAAAAAACtAAAAAAACAMEAAAAAAAAAwQAAAAAAAACxAAAAAAAAALkAAAAAAAAAsQAAAAAAAAC5AAAAAAAAALEAAAAAAAAAzQAAAAAAAACxAAAAAAAAALEAAAAAAAAAqQAAAAAAAAC5AAAAAAAAAMUAAAAAAAAAvQAAAAAAAAC5AAAAAAAAAL0AAAAAAAAAvQAAAAAAAAC9AAAAAAAAAK0AAAAAAAAAwQAAAAAAAgDBAAAAAAAAALkAAAAAAAAApQAAAAAAAAC5AAAAAAAAAMUAAAAAAAAAuQA==\",\"dtype\":\"float64\",\"shape\":[50]},\"species\":[\"virginica\",\"virginica\",\"virginica\",\"virginica\",\"virginica\",\"virginica\",\"virginica\",\"virginica\",\"virginica\",\"virginica\",\"virginica\",\"virginica\",\"virginica\",\"virginica\",\"virginica\",\"virginica\",\"virginica\",\"virginica\",\"virginica\",\"virginica\",\"virginica\",\"virginica\",\"virginica\",\"virginica\",\"virginica\",\"virginica\",\"virginica\",\"virginica\",\"virginica\",\"virginica\",\"virginica\",\"virginica\",\"virginica\",\"virginica\",\"virginica\",\"virginica\",\"virginica\",\"virginica\",\"virginica\",\"virginica\",\"virginica\",\"virginica\",\"virginica\",\"virginica\",\"virginica\",\"virginica\",\"virginica\",\"virginica\",\"virginica\",\"virginica\"]},\"selected\":{\"id\":\"64770\",\"type\":\"Selection\"},\"selection_policy\":{\"id\":\"64771\",\"type\":\"UnionRenderers\"}},\"id\":\"63622\",\"type\":\"ColumnDataSource\"},{\"attributes\":{\"callback\":null},\"id\":\"74745\",\"type\":\"DataRange1d\"},{\"attributes\":{},\"id\":\"74779\",\"type\":\"BasicTickFormatter\"},{\"attributes\":{},\"id\":\"64770\",\"type\":\"Selection\"},{\"attributes\":{},\"id\":\"74749\",\"type\":\"LinearScale\"},{\"attributes\":{\"data_source\":{\"id\":\"63621\",\"type\":\"ColumnDataSource\"},\"glyph\":{\"id\":\"74789\",\"type\":\"Circle\"},\"hover_glyph\":null,\"muted_glyph\":null,\"nonselection_glyph\":{\"id\":\"74790\",\"type\":\"Circle\"},\"selection_glyph\":{\"id\":\"74791\",\"type\":\"Circle\"},\"view\":{\"id\":\"74793\",\"type\":\"CDSView\"}},\"id\":\"74792\",\"type\":\"GlyphRenderer\"},{\"attributes\":{\"source\":{\"id\":\"63620\",\"type\":\"ColumnDataSource\"}},\"id\":\"74777\",\"type\":\"CDSView\"},{\"attributes\":{\"fill_alpha\":{\"value\":0.2},\"fill_color\":{\"field\":\"color\"},\"line_color\":{\"field\":\"color\"},\"size\":{\"field\":\"size\",\"units\":\"screen\"},\"x\":{\"field\":\"petal_length\"},\"y\":{\"field\":\"petal_width\"}},\"id\":\"74789\",\"type\":\"Circle\"},{\"attributes\":{},\"id\":\"63681\",\"type\":\"Selection\"},{\"attributes\":{\"axis_label\":\"Petal Length\",\"formatter\":{\"id\":\"74781\",\"type\":\"BasicTickFormatter\"},\"ticker\":{\"id\":\"74752\",\"type\":\"BasicTicker\"}},\"id\":\"74751\",\"type\":\"LinearAxis\"},{\"attributes\":{\"data_source\":{\"id\":\"63620\",\"type\":\"ColumnDataSource\"},\"glyph\":{\"id\":\"74773\",\"type\":\"Circle\"},\"hover_glyph\":null,\"muted_glyph\":null,\"nonselection_glyph\":{\"id\":\"74774\",\"type\":\"Circle\"},\"selection_glyph\":{\"id\":\"74775\",\"type\":\"Circle\"},\"view\":{\"id\":\"74777\",\"type\":\"CDSView\"}},\"id\":\"74776\",\"type\":\"GlyphRenderer\"},{\"attributes\":{},\"id\":\"74752\",\"type\":\"BasicTicker\"},{\"attributes\":{\"ticker\":{\"id\":\"74752\",\"type\":\"BasicTicker\"}},\"id\":\"74755\",\"type\":\"Grid\"},{\"attributes\":{\"click_policy\":\"hide\",\"items\":[{\"id\":\"74787\",\"type\":\"LegendItem\"},{\"id\":\"74804\",\"type\":\"LegendItem\"},{\"id\":\"74823\",\"type\":\"LegendItem\"}],\"location\":\"top_left\"},\"id\":\"74786\",\"type\":\"Legend\"},{\"attributes\":{\"bottom_units\":\"screen\",\"fill_alpha\":{\"value\":0.5},\"fill_color\":{\"value\":\"lightgrey\"},\"left_units\":\"screen\",\"level\":\"overlay\",\"line_alpha\":{\"value\":1.0},\"line_color\":{\"value\":\"black\"},\"line_dash\":[4,4],\"line_width\":{\"value\":2},\"render_mode\":\"css\",\"right_units\":\"screen\",\"top_units\":\"screen\"},\"id\":\"74783\",\"type\":\"BoxAnnotation\"},{\"attributes\":{},\"id\":\"74781\",\"type\":\"BasicTickFormatter\"},{\"attributes\":{},\"id\":\"74757\",\"type\":\"BasicTicker\"},{\"attributes\":{\"callback\":null,\"data\":{\"color\":[\"green\",\"green\",\"green\",\"green\",\"green\",\"green\",\"green\",\"green\",\"green\",\"green\",\"green\",\"green\",\"green\",\"green\",\"green\",\"green\",\"green\",\"green\",\"green\",\"green\",\"green\",\"green\",\"green\",\"green\",\"green\",\"green\",\"green\",\"green\",\"green\",\"green\",\"green\",\"green\",\"green\",\"green\",\"green\",\"green\",\"green\",\"green\",\"green\",\"green\",\"green\",\"green\",\"green\",\"green\",\"green\",\"green\",\"green\",\"green\",\"green\",\"green\"],\"index\":[50,51,52,53,54,55,56,57,58,59,60,61,62,63,64,65,66,67,68,69,70,71,72,73,74,75,76,77,78,79,80,81,82,83,84,85,86,87,88,89,90,91,92,93,94,95,96,97,98,99],\"petal_length\":{\"__ndarray__\":\"zczMzMzMEkAAAAAAAAASQJqZmZmZmRNAAAAAAAAAEEBmZmZmZmYSQAAAAAAAABJAzczMzMzMEkBmZmZmZmYKQGZmZmZmZhJAMzMzMzMzD0AAAAAAAAAMQM3MzMzMzBBAAAAAAAAAEEDNzMzMzMwSQM3MzMzMzAxAmpmZmZmZEUAAAAAAAAASQGZmZmZmZhBAAAAAAAAAEkAzMzMzMzMPQDMzMzMzMxNAAAAAAAAAEECamZmZmZkTQM3MzMzMzBJAMzMzMzMzEUCamZmZmZkRQDMzMzMzMxNAAAAAAAAAFEAAAAAAAAASQAAAAAAAAAxAZmZmZmZmDkCamZmZmZkNQDMzMzMzMw9AZmZmZmZmFEAAAAAAAAASQAAAAAAAABJAzczMzMzMEkCamZmZmZkRQGZmZmZmZhBAAAAAAAAAEECamZmZmZkRQGZmZmZmZhJAAAAAAAAAEEBmZmZmZmYKQM3MzMzMzBBAzczMzMzMEEDNzMzMzMwQQDMzMzMzMxFAAAAAAAAACEBmZmZmZmYQQA==\",\"dtype\":\"float64\",\"shape\":[50]},\"petal_width\":{\"__ndarray__\":\"ZmZmZmZm9j8AAAAAAAD4PwAAAAAAAPg/zczMzMzM9D8AAAAAAAD4P83MzMzMzPQ/mpmZmZmZ+T8AAAAAAADwP83MzMzMzPQ/ZmZmZmZm9j8AAAAAAADwPwAAAAAAAPg/AAAAAAAA8D9mZmZmZmb2P83MzMzMzPQ/ZmZmZmZm9j8AAAAAAAD4PwAAAAAAAPA/AAAAAAAA+D+amZmZmZnxP83MzMzMzPw/zczMzMzM9D8AAAAAAAD4PzMzMzMzM/M/zczMzMzM9D9mZmZmZmb2P2ZmZmZmZvY/MzMzMzMz+z8AAAAAAAD4PwAAAAAAAPA/mpmZmZmZ8T8AAAAAAADwPzMzMzMzM/M/mpmZmZmZ+T8AAAAAAAD4P5qZmZmZmfk/AAAAAAAA+D/NzMzMzMz0P83MzMzMzPQ/zczMzMzM9D8zMzMzMzPzP2ZmZmZmZvY/MzMzMzMz8z8AAAAAAADwP83MzMzMzPQ/MzMzMzMz8z/NzMzMzMz0P83MzMzMzPQ/mpmZmZmZ8T/NzMzMzMz0Pw==\",\"dtype\":\"float64\",\"shape\":[50]},\"sepal_length\":{\"__ndarray__\":\"AAAAAAAAHECamZmZmZkZQJqZmZmZmRtAAAAAAAAAFkAAAAAAAAAaQM3MzMzMzBZAMzMzMzMzGUCamZmZmZkTQGZmZmZmZhpAzczMzMzMFEAAAAAAAAAUQJqZmZmZmRdAAAAAAAAAGEBmZmZmZmYYQGZmZmZmZhZAzczMzMzMGkBmZmZmZmYWQDMzMzMzMxdAzczMzMzMGEBmZmZmZmYWQJqZmZmZmRdAZmZmZmZmGEAzMzMzMzMZQGZmZmZmZhhAmpmZmZmZGUBmZmZmZmYaQDMzMzMzMxtAzczMzMzMGkAAAAAAAAAYQM3MzMzMzBZAAAAAAAAAFkAAAAAAAAAWQDMzMzMzMxdAAAAAAAAAGECamZmZmZkVQAAAAAAAABhAzczMzMzMGkAzMzMzMzMZQGZmZmZmZhZAAAAAAAAAFkAAAAAAAAAWQGZmZmZmZhhAMzMzMzMzF0AAAAAAAAAUQGZmZmZmZhZAzczMzMzMFkDNzMzMzMwWQM3MzMzMzBhAZmZmZmZmFEDNzMzMzMwWQA==\",\"dtype\":\"float64\",\"shape\":[50]},\"sepal_width\":{\"__ndarray__\":\"mpmZmZmZCUCamZmZmZkJQM3MzMzMzAhAZmZmZmZmAkBmZmZmZmYGQGZmZmZmZgZAZmZmZmZmCkAzMzMzMzMDQDMzMzMzMwdAmpmZmZmZBUAAAAAAAAAAQAAAAAAAAAhAmpmZmZmZAUAzMzMzMzMHQDMzMzMzMwdAzczMzMzMCEAAAAAAAAAIQJqZmZmZmQVAmpmZmZmZAUAAAAAAAAAEQJqZmZmZmQlAZmZmZmZmBkAAAAAAAAAEQGZmZmZmZgZAMzMzMzMzB0AAAAAAAAAIQGZmZmZmZgZAAAAAAAAACEAzMzMzMzMHQM3MzMzMzARAMzMzMzMzA0AzMzMzMzMDQJqZmZmZmQVAmpmZmZmZBUAAAAAAAAAIQDMzMzMzMwtAzczMzMzMCEBmZmZmZmYCQAAAAAAAAAhAAAAAAAAABEDNzMzMzMwEQAAAAAAAAAhAzczMzMzMBEBmZmZmZmYCQJqZmZmZmQVAAAAAAAAACEAzMzMzMzMHQDMzMzMzMwdAAAAAAAAABEBmZmZmZmYGQA==\",\"dtype\":\"float64\",\"shape\":[50]},\"size\":{\"__ndarray__\":\"AAAAAAAAMEAAAAAAAAAwQAAAAAAAAC9AAAAAAAAAJ0AAAAAAAAAsQAAAAAAAACxAAAAAAACAMEAAAAAAAAAoQAAAAAAAAC1AAAAAAAAAK0AAAAAAAAAkQAAAAAAAAC5AAAAAAAAAJkAAAAAAAAAtQAAAAAAAAC1AAAAAAAAAL0AAAAAAAAAuQAAAAAAAACtAAAAAAAAAJkAAAAAAAAApQAAAAAAAADBAAAAAAAAALEAAAAAAAAApQAAAAAAAACxAAAAAAAAALUAAAAAAAAAuQAAAAAAAACxAAAAAAAAALkAAAAAAAAAtQAAAAAAAACpAAAAAAAAAKEAAAAAAAAAoQAAAAAAAACtAAAAAAAAAK0AAAAAAAAAuQAAAAAAAADFAAAAAAAAAL0AAAAAAAAAnQAAAAAAAAC5AAAAAAAAAKUAAAAAAAAAqQAAAAAAAAC5AAAAAAAAAKkAAAAAAAAAnQAAAAAAAACtAAAAAAAAALkAAAAAAAAAtQAAAAAAAAC1AAAAAAAAAKUAAAAAAAAAsQA==\",\"dtype\":\"float64\",\"shape\":[50]},\"species\":[\"versicolor\",\"versicolor\",\"versicolor\",\"versicolor\",\"versicolor\",\"versicolor\",\"versicolor\",\"versicolor\",\"versicolor\",\"versicolor\",\"versicolor\",\"versicolor\",\"versicolor\",\"versicolor\",\"versicolor\",\"versicolor\",\"versicolor\",\"versicolor\",\"versicolor\",\"versicolor\",\"versicolor\",\"versicolor\",\"versicolor\",\"versicolor\",\"versicolor\",\"versicolor\",\"versicolor\",\"versicolor\",\"versicolor\",\"versicolor\",\"versicolor\",\"versicolor\",\"versicolor\",\"versicolor\",\"versicolor\",\"versicolor\",\"versicolor\",\"versicolor\",\"versicolor\",\"versicolor\",\"versicolor\",\"versicolor\",\"versicolor\",\"versicolor\",\"versicolor\",\"versicolor\",\"versicolor\",\"versicolor\",\"versicolor\",\"versicolor\"]},\"selected\":{\"id\":\"63698\",\"type\":\"Selection\"},\"selection_policy\":{\"id\":\"63699\",\"type\":\"UnionRenderers\"}},\"id\":\"63621\",\"type\":\"ColumnDataSource\"},{\"attributes\":{\"dimension\":1,\"ticker\":{\"id\":\"74757\",\"type\":\"BasicTicker\"}},\"id\":\"74760\",\"type\":\"Grid\"},{\"attributes\":{\"callback\":null,\"data\":{\"color\":[\"red\",\"red\",\"red\",\"red\",\"red\",\"red\",\"red\",\"red\",\"red\",\"red\",\"red\",\"red\",\"red\",\"red\",\"red\",\"red\",\"red\",\"red\",\"red\",\"red\",\"red\",\"red\",\"red\",\"red\",\"red\",\"red\",\"red\",\"red\",\"red\",\"red\",\"red\",\"red\",\"red\",\"red\",\"red\",\"red\",\"red\",\"red\",\"red\",\"red\",\"red\",\"red\",\"red\",\"red\",\"red\",\"red\",\"red\",\"red\",\"red\",\"red\"],\"index\":[0,1,2,3,4,5,6,7,8,9,10,11,12,13,14,15,16,17,18,19,20,21,22,23,24,25,26,27,28,29,30,31,32,33,34,35,36,37,38,39,40,41,42,43,44,45,46,47,48,49],\"petal_length\":{\"__ndarray__\":\"ZmZmZmZm9j9mZmZmZmb2P83MzMzMzPQ/AAAAAAAA+D9mZmZmZmb2PzMzMzMzM/s/ZmZmZmZm9j8AAAAAAAD4P2ZmZmZmZvY/AAAAAAAA+D8AAAAAAAD4P5qZmZmZmfk/ZmZmZmZm9j+amZmZmZnxPzMzMzMzM/M/AAAAAAAA+D/NzMzMzMz0P2ZmZmZmZvY/MzMzMzMz+z8AAAAAAAD4PzMzMzMzM/s/AAAAAAAA+D8AAAAAAADwPzMzMzMzM/s/ZmZmZmZm/j+amZmZmZn5P5qZmZmZmfk/AAAAAAAA+D9mZmZmZmb2P5qZmZmZmfk/mpmZmZmZ+T8AAAAAAAD4PwAAAAAAAPg/ZmZmZmZm9j8AAAAAAAD4PzMzMzMzM/M/zczMzMzM9D9mZmZmZmb2P83MzMzMzPQ/AAAAAAAA+D/NzMzMzMz0P83MzMzMzPQ/zczMzMzM9D+amZmZmZn5P2ZmZmZmZv4/ZmZmZmZm9j+amZmZmZn5P2ZmZmZmZvY/AAAAAAAA+D9mZmZmZmb2Pw==\",\"dtype\":\"float64\",\"shape\":[50]},\"petal_width\":{\"__ndarray__\":\"mpmZmZmZyT+amZmZmZnJP5qZmZmZmck/mpmZmZmZyT+amZmZmZnJP5qZmZmZmdk/MzMzMzMz0z+amZmZmZnJP5qZmZmZmck/mpmZmZmZuT+amZmZmZnJP5qZmZmZmck/mpmZmZmZuT+amZmZmZm5P5qZmZmZmck/mpmZmZmZ2T+amZmZmZnZPzMzMzMzM9M/MzMzMzMz0z8zMzMzMzPTP5qZmZmZmck/mpmZmZmZ2T+amZmZmZnJPwAAAAAAAOA/mpmZmZmZyT+amZmZmZnJP5qZmZmZmdk/mpmZmZmZyT+amZmZmZnJP5qZmZmZmck/mpmZmZmZyT+amZmZmZnZP5qZmZmZmbk/mpmZmZmZyT+amZmZmZnJP5qZmZmZmck/mpmZmZmZyT+amZmZmZm5P5qZmZmZmck/mpmZmZmZyT8zMzMzMzPTPzMzMzMzM9M/mpmZmZmZyT8zMzMzMzPjP5qZmZmZmdk/MzMzMzMz0z+amZmZmZnJP5qZmZmZmck/mpmZmZmZyT+amZmZmZnJPw==\",\"dtype\":\"float64\",\"shape\":[50]},\"sepal_length\":{\"__ndarray__\":\"ZmZmZmZmFECamZmZmZkTQM3MzMzMzBJAZmZmZmZmEkAAAAAAAAAUQJqZmZmZmRVAZmZmZmZmEkAAAAAAAAAUQJqZmZmZmRFAmpmZmZmZE0CamZmZmZkVQDMzMzMzMxNAMzMzMzMzE0AzMzMzMzMRQDMzMzMzMxdAzczMzMzMFkCamZmZmZkVQGZmZmZmZhRAzczMzMzMFkBmZmZmZmYUQJqZmZmZmRVAZmZmZmZmFEBmZmZmZmYSQGZmZmZmZhRAMzMzMzMzE0AAAAAAAAAUQAAAAAAAABRAzczMzMzMFEDNzMzMzMwUQM3MzMzMzBJAMzMzMzMzE0CamZmZmZkVQM3MzMzMzBRAAAAAAAAAFkCamZmZmZkTQAAAAAAAABRAAAAAAAAAFkCamZmZmZkTQJqZmZmZmRFAZmZmZmZmFEAAAAAAAAAUQAAAAAAAABJAmpmZmZmZEUAAAAAAAAAUQGZmZmZmZhRAMzMzMzMzE0BmZmZmZmYUQGZmZmZmZhJAMzMzMzMzFUAAAAAAAAAUQA==\",\"dtype\":\"float64\",\"shape\":[50]},\"sepal_width\":{\"__ndarray__\":\"AAAAAAAADEAAAAAAAAAIQJqZmZmZmQlAzczMzMzMCEDNzMzMzMwMQDMzMzMzMw9AMzMzMzMzC0AzMzMzMzMLQDMzMzMzMwdAzczMzMzMCECamZmZmZkNQDMzMzMzMwtAAAAAAAAACEAAAAAAAAAIQAAAAAAAABBAmpmZmZmZEUAzMzMzMzMPQAAAAAAAAAxAZmZmZmZmDkBmZmZmZmYOQDMzMzMzMwtAmpmZmZmZDUDNzMzMzMwMQGZmZmZmZgpAMzMzMzMzC0AAAAAAAAAIQDMzMzMzMwtAAAAAAAAADEAzMzMzMzMLQJqZmZmZmQlAzczMzMzMCEAzMzMzMzMLQGZmZmZmZhBAzczMzMzMEEDNzMzMzMwIQJqZmZmZmQlAAAAAAAAADEDNzMzMzMwMQAAAAAAAAAhAMzMzMzMzC0AAAAAAAAAMQGZmZmZmZgJAmpmZmZmZCUAAAAAAAAAMQGZmZmZmZg5AAAAAAAAACEBmZmZmZmYOQJqZmZmZmQlAmpmZmZmZDUBmZmZmZmYKQA==\",\"dtype\":\"float64\",\"shape\":[50]},\"size\":{\"__ndarray__\":\"AAAAAACAMUAAAAAAAAAuQAAAAAAAADBAAAAAAAAAL0AAAAAAAAAyQAAAAAAAgDNAAAAAAAAAMUAAAAAAAAAxQAAAAAAAAC1AAAAAAAAAL0AAAAAAAIAyQAAAAAAAADFAAAAAAAAALkAAAAAAAAAuQAAAAAAAADRAAAAAAAAANkAAAAAAAIAzQAAAAAAAgDFAAAAAAAAAM0AAAAAAAAAzQAAAAAAAADFAAAAAAACAMkAAAAAAAAAyQAAAAAAAgDBAAAAAAAAAMUAAAAAAAAAuQAAAAAAAADFAAAAAAACAMUAAAAAAAAAxQAAAAAAAADBAAAAAAAAAL0AAAAAAAAAxQAAAAAAAgDRAAAAAAAAANUAAAAAAAAAvQAAAAAAAADBAAAAAAACAMUAAAAAAAAAyQAAAAAAAAC5AAAAAAAAAMUAAAAAAAIAxQAAAAAAAACdAAAAAAAAAMEAAAAAAAIAxQAAAAAAAADNAAAAAAAAALkAAAAAAAAAzQAAAAAAAADBAAAAAAACAMkAAAAAAAIAwQA==\",\"dtype\":\"float64\",\"shape\":[50]},\"species\":[\"setosa\",\"setosa\",\"setosa\",\"setosa\",\"setosa\",\"setosa\",\"setosa\",\"setosa\",\"setosa\",\"setosa\",\"setosa\",\"setosa\",\"setosa\",\"setosa\",\"setosa\",\"setosa\",\"setosa\",\"setosa\",\"setosa\",\"setosa\",\"setosa\",\"setosa\",\"setosa\",\"setosa\",\"setosa\",\"setosa\",\"setosa\",\"setosa\",\"setosa\",\"setosa\",\"setosa\",\"setosa\",\"setosa\",\"setosa\",\"setosa\",\"setosa\",\"setosa\",\"setosa\",\"setosa\",\"setosa\",\"setosa\",\"setosa\",\"setosa\",\"setosa\",\"setosa\",\"setosa\",\"setosa\",\"setosa\",\"setosa\",\"setosa\"]},\"selected\":{\"id\":\"63681\",\"type\":\"Selection\"},\"selection_policy\":{\"id\":\"63682\",\"type\":\"UnionRenderers\"}},\"id\":\"63620\",\"type\":\"ColumnDataSource\"},{\"attributes\":{\"fill_alpha\":{\"value\":0.2},\"fill_color\":{\"field\":\"color\"},\"line_color\":{\"field\":\"color\"},\"size\":{\"field\":\"size\",\"units\":\"screen\"},\"x\":{\"field\":\"petal_length\"},\"y\":{\"field\":\"petal_width\"}},\"id\":\"74806\",\"type\":\"Circle\"},{\"attributes\":{\"fill_alpha\":{\"value\":0.5},\"fill_color\":{\"value\":\"lightgrey\"},\"level\":\"overlay\",\"line_alpha\":{\"value\":1.0},\"line_color\":{\"value\":\"black\"},\"line_dash\":[4,4],\"line_width\":{\"value\":2},\"xs_units\":\"screen\",\"ys_units\":\"screen\"},\"id\":\"74784\",\"type\":\"PolyAnnotation\"},{\"attributes\":{\"fill_color\":{\"value\":\"deepskyblue\"},\"line_color\":{\"value\":\"deepskyblue\"},\"size\":{\"field\":\"size\",\"units\":\"screen\"},\"x\":{\"field\":\"petal_length\"},\"y\":{\"field\":\"petal_width\"}},\"id\":\"74791\",\"type\":\"Circle\"},{\"attributes\":{\"fill_alpha\":{\"value\":0.3},\"fill_color\":{\"value\":\"lightgray\"},\"line_alpha\":{\"value\":0.3},\"line_color\":{\"value\":\"lightgray\"},\"size\":{\"field\":\"size\",\"units\":\"screen\"},\"x\":{\"field\":\"petal_length\"},\"y\":{\"field\":\"petal_width\"}},\"id\":\"74790\",\"type\":\"Circle\"},{\"attributes\":{\"fill_color\":{\"value\":\"deepskyblue\"},\"line_color\":{\"value\":\"deepskyblue\"},\"size\":{\"field\":\"size\",\"units\":\"screen\"},\"x\":{\"field\":\"petal_length\"},\"y\":{\"field\":\"petal_width\"}},\"id\":\"74775\",\"type\":\"Circle\"},{\"attributes\":{\"fill_alpha\":{\"value\":0.5},\"fill_color\":{\"value\":\"lightgrey\"},\"level\":\"overlay\",\"line_alpha\":{\"value\":1.0},\"line_color\":{\"value\":\"black\"},\"line_dash\":[4,4],\"line_width\":{\"value\":2},\"xs_units\":\"screen\",\"ys_units\":\"screen\"},\"id\":\"74785\",\"type\":\"PolyAnnotation\"},{\"attributes\":{\"active_drag\":\"auto\",\"active_inspect\":\"auto\",\"active_multi\":null,\"active_scroll\":\"auto\",\"active_tap\":\"auto\",\"logo\":null,\"tools\":[{\"id\":\"74761\",\"type\":\"BoxSelectTool\"},{\"id\":\"74762\",\"type\":\"LassoSelectTool\"},{\"id\":\"74763\",\"type\":\"PolySelectTool\"},{\"id\":\"74764\",\"type\":\"TapTool\"},{\"id\":\"74765\",\"type\":\"ResetTool\"}]},\"id\":\"74766\",\"type\":\"Toolbar\"},{\"attributes\":{\"label\":{\"value\":\"Setosa\"},\"renderers\":[{\"id\":\"74776\",\"type\":\"GlyphRenderer\"}]},\"id\":\"74787\",\"type\":\"LegendItem\"},{\"attributes\":{\"label\":{\"value\":\"Versicolor\"},\"renderers\":[{\"id\":\"74792\",\"type\":\"GlyphRenderer\"}]},\"id\":\"74804\",\"type\":\"LegendItem\"},{\"attributes\":{\"callback\":null,\"overlay\":{\"id\":\"74783\",\"type\":\"BoxAnnotation\"}},\"id\":\"74761\",\"type\":\"BoxSelectTool\"},{\"attributes\":{\"fill_alpha\":{\"value\":0.2},\"fill_color\":{\"field\":\"color\"},\"line_color\":{\"field\":\"color\"},\"size\":{\"field\":\"size\",\"units\":\"screen\"},\"x\":{\"field\":\"petal_length\"},\"y\":{\"field\":\"petal_width\"}},\"id\":\"74773\",\"type\":\"Circle\"},{\"attributes\":{\"fill_alpha\":{\"value\":0.3},\"fill_color\":{\"value\":\"lightgray\"},\"line_alpha\":{\"value\":0.3},\"line_color\":{\"value\":\"lightgray\"},\"size\":{\"field\":\"size\",\"units\":\"screen\"},\"x\":{\"field\":\"petal_length\"},\"y\":{\"field\":\"petal_width\"}},\"id\":\"74807\",\"type\":\"Circle\"},{\"attributes\":{},\"id\":\"63698\",\"type\":\"Selection\"},{\"attributes\":{\"fill_alpha\":{\"value\":0.3},\"fill_color\":{\"value\":\"lightgray\"},\"line_alpha\":{\"value\":0.3},\"line_color\":{\"value\":\"lightgray\"},\"size\":{\"field\":\"size\",\"units\":\"screen\"},\"x\":{\"field\":\"petal_length\"},\"y\":{\"field\":\"petal_width\"}},\"id\":\"74774\",\"type\":\"Circle\"},{\"attributes\":{\"callback\":null,\"overlay\":{\"id\":\"74784\",\"type\":\"PolyAnnotation\"}},\"id\":\"74762\",\"type\":\"LassoSelectTool\"},{\"attributes\":{\"callback\":null},\"id\":\"74764\",\"type\":\"TapTool\"},{\"attributes\":{\"source\":{\"id\":\"63621\",\"type\":\"ColumnDataSource\"}},\"id\":\"74793\",\"type\":\"CDSView\"},{\"attributes\":{\"text\":\"Petal Plot\"},\"id\":\"74741\",\"type\":\"Title\"},{\"attributes\":{\"callback\":null,\"overlay\":{\"id\":\"74785\",\"type\":\"PolyAnnotation\"}},\"id\":\"74763\",\"type\":\"PolySelectTool\"},{\"attributes\":{\"fill_color\":{\"value\":\"deepskyblue\"},\"line_color\":{\"value\":\"deepskyblue\"},\"size\":{\"field\":\"size\",\"units\":\"screen\"},\"x\":{\"field\":\"petal_length\"},\"y\":{\"field\":\"petal_width\"}},\"id\":\"74808\",\"type\":\"Circle\"},{\"attributes\":{},\"id\":\"74747\",\"type\":\"LinearScale\"},{\"attributes\":{},\"id\":\"63699\",\"type\":\"UnionRenderers\"},{\"attributes\":{\"callback\":null},\"id\":\"74743\",\"type\":\"DataRange1d\"}],\"root_ids\":[\"74740\"]},\"title\":\"Bokeh Application\",\"version\":\"1.3.4\"}};\n",
       "  var render_items = [{\"docid\":\"a8ae9c75-48df-48b1-98d5-85afc51929c3\",\"roots\":{\"74740\":\"c40df63c-f06a-4a57-98b5-3c518185b62e\"}}];\n",
       "  root.Bokeh.embed.embed_items_notebook(docs_json, render_items);\n",
       "\n",
       "  }\n",
       "  if (root.Bokeh !== undefined) {\n",
       "    embed_document(root);\n",
       "  } else {\n",
       "    var attempts = 0;\n",
       "    var timer = setInterval(function(root) {\n",
       "      if (root.Bokeh !== undefined) {\n",
       "        embed_document(root);\n",
       "        clearInterval(timer);\n",
       "      }\n",
       "      attempts++;\n",
       "      if (attempts > 100) {\n",
       "        console.log(\"Bokeh: ERROR: Unable to run BokehJS code because BokehJS library is missing\");\n",
       "        clearInterval(timer);\n",
       "      }\n",
       "    }, 10, root)\n",
       "  }\n",
       "})(window);"
      ],
      "application/vnd.bokehjs_exec.v0+json": ""
     },
     "metadata": {
      "application/vnd.bokehjs_exec.v0+json": {
       "id": "74740"
      }
     },
     "output_type": "display_data"
    }
   ],
   "source": [
    "select_tools = ['box_select', 'lasso_select', 'poly_select', 'tap', 'reset']\n",
    "p = figure(height=500,width=500,x_axis_label='Petal Length',y_axis_label=\"Petal Width\"\n",
    "           ,title=\"Petal Plot\",toolbar_location='above',tools=select_tools)\n",
    "p.circle(x=\"petal_length\", y=\"petal_width\", size='size', fill_alpha=0.2, \n",
    "color=\"color\", legend='Setosa', source=setosa,selection_color='deepskyblue',\n",
    "           nonselection_color='lightgray',\n",
    "           nonselection_alpha=0.3)\n",
    "\n",
    "p.circle(x=\"petal_length\", y=\"petal_width\", size='size', fill_alpha=0.2, \n",
    "color=\"color\", legend='Versicolor', source=versicolor,selection_color='deepskyblue',\n",
    "           nonselection_color='lightgray',\n",
    "           nonselection_alpha=0.3)\n",
    "\n",
    "p.circle(x=\"petal_length\", y=\"petal_width\", size='size', fill_alpha=0.2,\n",
    "color=\"color\", legend='Virginica', source=virginica,selection_color='deepskyblue',\n",
    "           nonselection_color='lightgray',\n",
    "           nonselection_alpha=0.3)\n",
    "p.legend.location = 'top_left'\n",
    "p.legend.click_policy='hide'\n",
    "\n",
    "p.toolbar.logo = None\n",
    "show(p)"
   ]
  },
  {
   "cell_type": "code",
   "execution_count": null,
   "metadata": {},
   "outputs": [],
   "source": []
  }
 ],
 "metadata": {
  "kernelspec": {
   "display_name": "Python 3",
   "language": "python",
   "name": "python3"
  },
  "language_info": {
   "codemirror_mode": {
    "name": "ipython",
    "version": 3
   },
   "file_extension": ".py",
   "mimetype": "text/x-python",
   "name": "python",
   "nbconvert_exporter": "python",
   "pygments_lexer": "ipython3",
   "version": "3.7.4"
  }
 },
 "nbformat": 4,
 "nbformat_minor": 2
}
